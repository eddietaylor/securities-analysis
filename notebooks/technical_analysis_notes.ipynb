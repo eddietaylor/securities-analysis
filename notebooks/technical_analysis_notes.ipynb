{
 "cells": [
  {
   "cell_type": "markdown",
   "metadata": {},
   "source": [
    "# Technical Analysis Key Concepts Notes\n",
    "Source: https://www.investopedia.com/terms/t/technical-analysis-of-stocks-and-trends.asp"
   ]
  },
  {
   "cell_type": "markdown",
   "metadata": {},
   "source": [
    "### Dow Theory\n",
    "The market is in an upward trend if an average is above a recent high and then is even accompanied by another average going up.\n",
    "\n",
    "#### DJIA \n",
    "Dow Jones Industrial Average is a weighted index of the MARKET PRICE of the 30 largest companies on the NYSE. All of these stocks are \"Blue-Chip\" companies (large market capitalizations and stable earnings history). Other index funds try to replicate its performance because these companies are bellweathers for things to come. \n",
    "\n",
    "#### Dow Theory Cont.\n",
    "Dow believed that the stock market was an overall indicator of business conditions within the economy.\n",
    "How the theory works:\n",
    "\n",
    "1.) THE MARKET DISCOUNTS EVERYTHING\n",
    "Dow theory operates on the efficient markets hypothesis making it antithetical to behavioral economics. Management competence, earnings potential, and competitive advantage are all priced into the market. \n",
    "\n",
    "2.) THERE ARE THREE TYPES OF TRENDS IN THE MARKET\n",
    "Primary trends last 1 year or more, such as a Bull or Bear Market. Within these trends, there are secondary trends (3 weeks to 3 months), often against the primary trends, such as Pullbacks within a Bull Market or a Rally within a Bear Market. Minor trends last less than three weeks and are largely noise. \n",
    "\n",
    "3.) PRIMARY TRENDS HAVE THREE PHASES\n",
    "Within a Bull Market, we have the Accumulation phase, the Public Participation phase, and the Excess phase. In a Bear Market, we have the Distribution phase, the Public Participation phase, and the Panic phase. \n",
    "\n",
    "4.) INDICES MUST CONFIRM EACH OTHER\n",
    "For Dow, this meant that different indices or market averages had to be consistent with one another. If the DJIA was going up and the DJTA was too, this was an indication of a coming trend. Conversely, if the indices were headed in opposite directions, no trend would be coming.\n",
    "\n",
    "5.) VOLUME MUST ALSO CONFIRM THE TREND\n",
    "Volume should increase if the price is moving in the direction of the primary trend. e.g. In a Bull Market, volume should increase as the price increases and decrease when pullbacks occur. If the volume went up during a pullback, it might be an indication of a trend reversal. \n",
    "\n",
    "6.) TRENDS GO ON UNTIL THERE IS A CLEAR REVERSAL\n",
    "Reversals in a primary trends can be confused for secondary trends. Difficult to determine whether an upswing in a bear market is a reversal or a short-lived rally, for example. Much like Newton's first law (object in motion tends to stay in motion). A reversal is truly verified when the local peaks and local troughs have reversed trends. Market no longer rises to higher lows and highs or market no longer falls to lower highs and lows. \n",
    "\n",
    "Dow relied on the CLOSING prices and ignored intraday movements. Another idea from Dow theory is Line Ranges, or trading ranges. "
   ]
  },
  {
   "cell_type": "markdown",
   "metadata": {},
   "source": [
    "### Support and Resistance\n",
    "Essentially look at the levels beyond which the price does not pass. Can also be a trendline (where the support or resistance is trending in a certain direction). Traders are very confident in these levels and volume will actually increase when the price travels in their vicinity (evidence of further irrationality in the markets!). \n",
    "\n",
    "Also, Round Numbers! Psychologically, inexperienced traders buy stocks at whole numbers so there tends to be support and resistance levels here. Or even investment banks set sell orders at certain prices and this creates a resistance level, unless there is a significant opposing buying volume. \n",
    "\n",
    "Moving averages indicate the level of support in an uptrend and the level of resistance in a downtrend! \n",
    "\n",
    "Number of touches to a support or resistance zone adds credance to its significance. \n",
    "\n",
    "Also, a massive price acceleration adds credance to it.\n",
    "\n",
    "High volume also inidicates levels of support or resistance because traders will want to buy and sell there again to break even. \n",
    "\n",
    "If the levels have been tested over a long time, this also adds strength to them. "
   ]
  },
  {
   "cell_type": "markdown",
   "metadata": {},
   "source": [
    "### Support and Resistance Cont.\n",
    "Support is essentially where people tend to enter into a stock! Its like an impulse of valuing a certain stock! Lowest lows.\n",
    "Likewise, Resistance is where people tend to exit and sell! Highest highs. For both of them you can simply draw with the naked eye, or you can use moving averages and bands. "
   ]
  },
  {
   "cell_type": "markdown",
   "metadata": {},
   "source": [
    "### Pullbacks\n",
    "Moderate drop during an uptrend. pullbacks are temporary. Traders are taking their profit. Good time to enter. How to differentiate from reversals? Reversals involve some change to a company's fundamentals. Look at various indicators and fundamentals. Different timescales may indicate different things. "
   ]
  },
  {
   "cell_type": "markdown",
   "metadata": {},
   "source": [
    "### Breakout\n",
    "Price breaks past resistance level or support level. If there is high volume, lends more support to a breakout. Typically do stop-loss order at the other side of level to where you expect the price to go. For example, a breakout above the resistance level would make a trader buy in and create a stop loss order below that resistance level. "
   ]
  },
  {
   "cell_type": "markdown",
   "metadata": {},
   "source": [
    "### Reversal\n",
    "Price trend changes direction. Happens at different time scales. "
   ]
  },
  {
   "cell_type": "markdown",
   "metadata": {},
   "source": [
    "### Overbought / Oversold\n",
    "Security is trading above its intrinsic value. Many investors use P/E ratio while traders use Relative Strength Index (RSI) or Bollinger bands. RSI measures the power behind recent price movements (14 days). High RSI (~70) along with touching upper Bollinger band probably means its overbought. Low RSI (~30). Technical indicators essentially tell you if the price is high relative to recent price range. "
   ]
  },
  {
   "cell_type": "markdown",
   "metadata": {},
   "source": [
    "### Relative Strength\n",
    "A strategy used in momentum investing and in identifying value stocks. The focus is on investing in stocks which have outperformed a relevant benchmark. E.g. invest in technology stocks which have outperformed the Nasdaq composite index or stocks which are outperforming the S&P 500 index. \n",
    "\n",
    "Goal of value investing is to buy low and sell high. Goal of relative strength investing is to buy high and sell even higher. \n",
    "\n",
    "relative strength investing is most effective during stable times and dangerous during unstable ones (yesterdays investment darlings can suddenly become shunned) "
   ]
  },
  {
   "cell_type": "markdown",
   "metadata": {},
   "source": [
    "### Candlesticks\n",
    "\n",
    "A filled candle means the close was lower than the open during that specific period. A hollow candle means the close was higher than the open. A green candle means the close was higher than the previous period's close. A red candle means the close was lower than the previous period's close. There are trading patterns with candlesticks. "
   ]
  },
  {
   "cell_type": "markdown",
   "metadata": {},
   "source": [
    "### Volume\n",
    "Amount of an asset that changes hands over a time period. More volume means more liquid. Very important indicator! 60% of trading volume in US markets due to high-frequency traders and index funds. Only 10% due to fundamental analysts. "
   ]
  },
  {
   "cell_type": "markdown",
   "metadata": {},
   "source": [
    "### Gap\n",
    "Price rises or falls from previous days close with no trading. Typically caused by some news that triggers a wave of investors. Different types of gaps (can look up)"
   ]
  },
  {
   "cell_type": "code",
   "execution_count": null,
   "metadata": {},
   "outputs": [],
   "source": []
  }
 ],
 "metadata": {
  "kernelspec": {
   "display_name": "Python 3",
   "language": "python",
   "name": "python3"
  },
  "language_info": {
   "codemirror_mode": {
    "name": "ipython",
    "version": 3
   },
   "file_extension": ".py",
   "mimetype": "text/x-python",
   "name": "python",
   "nbconvert_exporter": "python",
   "pygments_lexer": "ipython3",
   "version": "3.7.6"
  }
 },
 "nbformat": 4,
 "nbformat_minor": 2
}
