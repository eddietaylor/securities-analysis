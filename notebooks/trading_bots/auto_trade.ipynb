{
 "cells": [
  {
   "cell_type": "markdown",
   "metadata": {},
   "source": [
    "# **Automated Trading Operations**"
   ]
  },
  {
   "cell_type": "code",
   "execution_count": 1,
   "metadata": {},
   "outputs": [
    {
     "ename": "ModuleNotFoundError",
     "evalue": "No module named 'tpqoa'",
     "output_type": "error",
     "traceback": [
      "\u001b[1;31m---------------------------------------------------------------------------\u001b[0m",
      "\u001b[1;31mModuleNotFoundError\u001b[0m                       Traceback (most recent call last)",
      "\u001b[1;32m~\\AppData\\Local\\Temp/ipykernel_15052/3832413741.py\u001b[0m in \u001b[0;36m<module>\u001b[1;34m\u001b[0m\n\u001b[0;32m      7\u001b[0m \u001b[1;32mimport\u001b[0m \u001b[0mscipy\u001b[0m\u001b[1;33m.\u001b[0m\u001b[0mstats\u001b[0m \u001b[1;32mas\u001b[0m \u001b[0mscs\u001b[0m\u001b[1;33m\u001b[0m\u001b[1;33m\u001b[0m\u001b[0m\n\u001b[0;32m      8\u001b[0m \u001b[1;32mimport\u001b[0m \u001b[0mpickle\u001b[0m\u001b[1;33m\u001b[0m\u001b[1;33m\u001b[0m\u001b[0m\n\u001b[1;32m----> 9\u001b[1;33m \u001b[1;32mimport\u001b[0m \u001b[0mtpqoa\u001b[0m\u001b[1;33m\u001b[0m\u001b[1;33m\u001b[0m\u001b[0m\n\u001b[0m",
      "\u001b[1;31mModuleNotFoundError\u001b[0m: No module named 'tpqoa'"
     ]
    }
   ],
   "source": [
    "import pandas as pd\n",
    "import numpy as np\n",
    "from sklearn.metrics import accuracy_score\n",
    "from sklearn.tree import DecisionTreeClassifier\n",
    "from sklearn.ensemble import AdaBoostClassifier\n",
    "import matplotlib.pyplot as plt\n",
    "import scipy.stats as scs\n",
    "import pickle\n",
    "import tpqoa"
   ]
  },
  {
   "cell_type": "markdown",
   "metadata": {},
   "source": [
    "### **Capital Management 101: Kelly Criterion**"
   ]
  },
  {
   "cell_type": "markdown",
   "metadata": {},
   "source": [
    "-The Kelly criterion (also known as the scientific gambling method) is a formula which helps investors and gamblers size their bets\n",
    "\n",
    "-It is valid when the expected returns are known...\n",
    "\n",
    "-The Kelly criterion is found by optimizing the expected value of the logarithm of wealth, equivalent to maximizing the expected geometric growth rate\n",
    "\n",
    "$$ K\\% = W - \\frac{1-W}{R} $$\n",
    "\n",
    "Where $K$ is the Kelly percentage, $W$ is the winning probability, and $R$ is the win/loss ratio (average gain over average loss. *fractional odds* in the UK)\n",
    "\n",
    "The investment relative form is:\n",
    "\n",
    "$$ f^* = \\frac{p}{a} - \\frac{q}{b} $$\n",
    "\n",
    "Where $f^*$ is the fraction of the assets to position in the security, $p$ is the probability that the security will increase in value, $q$ is the probability that the security will decrease in value, $a$ is the fraction that is lost in a negative outcome (i.e. the security price falling 1%, then $a$=.01), and $b$ is the fraction that is gained in a positive outcome\n",
    "\n",
    "-Note that these quantities are not known, but estimated! So it is recommended for risk averse investors to invest a certain fraction of Kelly. \n",
    "\n",
    "-For stock investments, assume geometric Brownian motion (also known as exponential brownian motion) and maximize the single period log returns w.r.t fraction invested. You arrive at:\n",
    "\n",
    "$$ f^* = \\frac{\\mu - r}{\\sigma^2} $$\n",
    "\n",
    "Where $\\mu$ is the average log gross return, $r$ is the risk-free rate, and $\\sigma$ is the std of the gross returns. See Stock Investments section of: https://en.wikipedia.org/wiki/Kelly_criterion"
   ]
  },
  {
   "cell_type": "code",
   "execution_count": 57,
   "metadata": {},
   "outputs": [
    {
     "name": "stdout",
     "output_type": "stream",
     "text": [
      "CPU times: total: 0 ns\n",
      "Wall time: 0 ns\n"
     ]
    },
    {
     "data": {
      "text/html": [
       "<div>\n",
       "<style scoped>\n",
       "    .dataframe tbody tr th:only-of-type {\n",
       "        vertical-align: middle;\n",
       "    }\n",
       "\n",
       "    .dataframe tbody tr th {\n",
       "        vertical-align: top;\n",
       "    }\n",
       "\n",
       "    .dataframe thead th {\n",
       "        text-align: right;\n",
       "    }\n",
       "</style>\n",
       "<table border=\"1\" class=\"dataframe\">\n",
       "  <thead>\n",
       "    <tr style=\"text-align: right;\">\n",
       "      <th></th>\n",
       "      <th>o</th>\n",
       "      <th>h</th>\n",
       "      <th>l</th>\n",
       "      <th>c</th>\n",
       "      <th>volume</th>\n",
       "      <th>complete</th>\n",
       "    </tr>\n",
       "    <tr>\n",
       "      <th>time</th>\n",
       "      <th></th>\n",
       "      <th></th>\n",
       "      <th></th>\n",
       "      <th></th>\n",
       "      <th></th>\n",
       "      <th></th>\n",
       "    </tr>\n",
       "  </thead>\n",
       "  <tbody>\n",
       "    <tr>\n",
       "      <th>2020-06-12 20:10:00</th>\n",
       "      <td>1.12572</td>\n",
       "      <td>1.12593</td>\n",
       "      <td>1.12532</td>\n",
       "      <td>1.12568</td>\n",
       "      <td>221</td>\n",
       "      <td>True</td>\n",
       "    </tr>\n",
       "    <tr>\n",
       "      <th>2020-06-12 20:20:00</th>\n",
       "      <td>1.12569</td>\n",
       "      <td>1.12578</td>\n",
       "      <td>1.12532</td>\n",
       "      <td>1.12558</td>\n",
       "      <td>163</td>\n",
       "      <td>True</td>\n",
       "    </tr>\n",
       "    <tr>\n",
       "      <th>2020-06-12 20:30:00</th>\n",
       "      <td>1.12560</td>\n",
       "      <td>1.12573</td>\n",
       "      <td>1.12534</td>\n",
       "      <td>1.12543</td>\n",
       "      <td>192</td>\n",
       "      <td>True</td>\n",
       "    </tr>\n",
       "    <tr>\n",
       "      <th>2020-06-12 20:40:00</th>\n",
       "      <td>1.12544</td>\n",
       "      <td>1.12594</td>\n",
       "      <td>1.12528</td>\n",
       "      <td>1.12542</td>\n",
       "      <td>219</td>\n",
       "      <td>True</td>\n",
       "    </tr>\n",
       "    <tr>\n",
       "      <th>2020-06-12 20:50:00</th>\n",
       "      <td>1.12544</td>\n",
       "      <td>1.12624</td>\n",
       "      <td>1.12541</td>\n",
       "      <td>1.12554</td>\n",
       "      <td>296</td>\n",
       "      <td>True</td>\n",
       "    </tr>\n",
       "  </tbody>\n",
       "</table>\n",
       "</div>"
      ],
      "text/plain": [
       "                           o        h        l        c  volume  complete\n",
       "time                                                                     \n",
       "2020-06-12 20:10:00  1.12572  1.12593  1.12532  1.12568     221      True\n",
       "2020-06-12 20:20:00  1.12569  1.12578  1.12532  1.12558     163      True\n",
       "2020-06-12 20:30:00  1.12560  1.12573  1.12534  1.12543     192      True\n",
       "2020-06-12 20:40:00  1.12544  1.12594  1.12528  1.12542     219      True\n",
       "2020-06-12 20:50:00  1.12544  1.12624  1.12541  1.12554     296      True"
      ]
     },
     "execution_count": 57,
     "metadata": {},
     "output_type": "execute_result"
    }
   ],
   "source": [
    "%time\n",
    "api = tpqoa.tpqoa('../../data/keys.cfg')\n",
    "instrument = 'EUR_USD'\n",
    "\n",
    "raw = api.get_history(instrument,\n",
    "                    start='2020-06-08',\n",
    "                    end='2020-06-13',\n",
    "                    granularity='M10',\n",
    "                    price='M')\n",
    "raw.tail()"
   ]
  },
  {
   "cell_type": "code",
   "execution_count": 58,
   "metadata": {},
   "outputs": [
    {
     "name": "stdout",
     "output_type": "stream",
     "text": [
      "<class 'pandas.core.frame.DataFrame'>\n",
      "DatetimeIndex: 701 entries, 2020-06-08 00:00:00 to 2020-06-12 20:50:00\n",
      "Data columns (total 6 columns):\n",
      " #   Column    Non-Null Count  Dtype  \n",
      "---  ------    --------------  -----  \n",
      " 0   o         701 non-null    float64\n",
      " 1   h         701 non-null    float64\n",
      " 2   l         701 non-null    float64\n",
      " 3   c         701 non-null    float64\n",
      " 4   volume    701 non-null    int64  \n",
      " 5   complete  701 non-null    bool   \n",
      "dtypes: bool(1), float64(4), int64(1)\n",
      "memory usage: 33.5 KB\n"
     ]
    }
   ],
   "source": [
    "raw.info()"
   ]
  },
  {
   "cell_type": "markdown",
   "metadata": {},
   "source": [
    "### **Bid-Ask Spread Calculation**"
   ]
  },
  {
   "cell_type": "code",
   "execution_count": 59,
   "metadata": {},
   "outputs": [
    {
     "data": {
      "text/plain": [
       "-0.0005446687480155511"
      ]
     },
     "execution_count": 59,
     "metadata": {},
     "output_type": "execute_result"
    }
   ],
   "source": [
    "# see https://en.wikipedia.org/wiki/Bid%E2%80%93ask_spread for calculations of bid-ask spread\n",
    "\n",
    "bid = api.get_history(instrument,\n",
    "                    start='2020-06-08',\n",
    "                    end='2020-06-13',\n",
    "                    granularity='M10',\n",
    "                    price='B')\n",
    "ask = api.get_history(instrument,\n",
    "                    start='2020-06-08',\n",
    "                    end='2020-06-13',\n",
    "                    granularity='M10',\n",
    "                    price='A')\n",
    "((ask['l'] - bid['h'])  / raw['h']).mean()"
   ]
  },
  {
   "cell_type": "code",
   "execution_count": 60,
   "metadata": {},
   "outputs": [],
   "source": [
    "# specify the average bid ask spread\n",
    "# not sure how hilpisch arrived at this lower value than the one above\n",
    "spread = .00012\n",
    "\n",
    "# mean closing price\n",
    "mean = raw['c'].mean()\n",
    "\n",
    "# average proportional transaction cost\n",
    "ptc = spread / mean"
   ]
  },
  {
   "cell_type": "markdown",
   "metadata": {},
   "source": [
    "### **Feature Engineering**"
   ]
  },
  {
   "cell_type": "code",
   "execution_count": 61,
   "metadata": {},
   "outputs": [
    {
     "data": {
      "text/html": [
       "<div>\n",
       "<style scoped>\n",
       "    .dataframe tbody tr th:only-of-type {\n",
       "        vertical-align: middle;\n",
       "    }\n",
       "\n",
       "    .dataframe tbody tr th {\n",
       "        vertical-align: top;\n",
       "    }\n",
       "\n",
       "    .dataframe thead th {\n",
       "        text-align: right;\n",
       "    }\n",
       "</style>\n",
       "<table border=\"1\" class=\"dataframe\">\n",
       "  <thead>\n",
       "    <tr style=\"text-align: right;\">\n",
       "      <th></th>\n",
       "      <th>EUR_USD</th>\n",
       "      <th>log_returns</th>\n",
       "      <th>vol</th>\n",
       "      <th>mom</th>\n",
       "      <th>sma</th>\n",
       "      <th>min</th>\n",
       "      <th>max</th>\n",
       "      <th>log_returns_lag_1</th>\n",
       "      <th>log_returns_lag_2</th>\n",
       "      <th>log_returns_lag_3</th>\n",
       "      <th>...</th>\n",
       "      <th>min_lag_4</th>\n",
       "      <th>min_lag_5</th>\n",
       "      <th>min_lag_6</th>\n",
       "      <th>max_lag_1</th>\n",
       "      <th>max_lag_2</th>\n",
       "      <th>max_lag_3</th>\n",
       "      <th>max_lag_4</th>\n",
       "      <th>max_lag_5</th>\n",
       "      <th>max_lag_6</th>\n",
       "      <th>direction</th>\n",
       "    </tr>\n",
       "    <tr>\n",
       "      <th>time</th>\n",
       "      <th></th>\n",
       "      <th></th>\n",
       "      <th></th>\n",
       "      <th></th>\n",
       "      <th></th>\n",
       "      <th></th>\n",
       "      <th></th>\n",
       "      <th></th>\n",
       "      <th></th>\n",
       "      <th></th>\n",
       "      <th></th>\n",
       "      <th></th>\n",
       "      <th></th>\n",
       "      <th></th>\n",
       "      <th></th>\n",
       "      <th></th>\n",
       "      <th></th>\n",
       "      <th></th>\n",
       "      <th></th>\n",
       "      <th></th>\n",
       "      <th></th>\n",
       "    </tr>\n",
       "  </thead>\n",
       "  <tbody>\n",
       "    <tr>\n",
       "      <th>2020-06-08 04:20:00</th>\n",
       "      <td>1.12897</td>\n",
       "      <td>-0.000115</td>\n",
       "      <td>0.000303</td>\n",
       "      <td>-1.0</td>\n",
       "      <td>1.129240</td>\n",
       "      <td>1.12874</td>\n",
       "      <td>1.12962</td>\n",
       "      <td>0.000097</td>\n",
       "      <td>0.000018</td>\n",
       "      <td>-0.000452</td>\n",
       "      <td>...</td>\n",
       "      <td>1.12874</td>\n",
       "      <td>1.12874</td>\n",
       "      <td>1.12874</td>\n",
       "      <td>1.12980</td>\n",
       "      <td>1.12980</td>\n",
       "      <td>1.13071</td>\n",
       "      <td>1.13071</td>\n",
       "      <td>1.13117</td>\n",
       "      <td>1.13117</td>\n",
       "      <td>-1</td>\n",
       "    </tr>\n",
       "    <tr>\n",
       "      <th>2020-06-08 04:30:00</th>\n",
       "      <td>1.12900</td>\n",
       "      <td>0.000027</td>\n",
       "      <td>0.000254</td>\n",
       "      <td>1.0</td>\n",
       "      <td>1.129242</td>\n",
       "      <td>1.12874</td>\n",
       "      <td>1.12962</td>\n",
       "      <td>-0.000115</td>\n",
       "      <td>0.000097</td>\n",
       "      <td>0.000018</td>\n",
       "      <td>...</td>\n",
       "      <td>1.12874</td>\n",
       "      <td>1.12874</td>\n",
       "      <td>1.12874</td>\n",
       "      <td>1.12962</td>\n",
       "      <td>1.12980</td>\n",
       "      <td>1.12980</td>\n",
       "      <td>1.13071</td>\n",
       "      <td>1.13071</td>\n",
       "      <td>1.13117</td>\n",
       "      <td>1</td>\n",
       "    </tr>\n",
       "    <tr>\n",
       "      <th>2020-06-08 04:40:00</th>\n",
       "      <td>1.12884</td>\n",
       "      <td>-0.000142</td>\n",
       "      <td>0.000240</td>\n",
       "      <td>-1.0</td>\n",
       "      <td>1.129215</td>\n",
       "      <td>1.12874</td>\n",
       "      <td>1.12962</td>\n",
       "      <td>0.000027</td>\n",
       "      <td>-0.000115</td>\n",
       "      <td>0.000097</td>\n",
       "      <td>...</td>\n",
       "      <td>1.12874</td>\n",
       "      <td>1.12874</td>\n",
       "      <td>1.12874</td>\n",
       "      <td>1.12962</td>\n",
       "      <td>1.12962</td>\n",
       "      <td>1.12980</td>\n",
       "      <td>1.12980</td>\n",
       "      <td>1.13071</td>\n",
       "      <td>1.13071</td>\n",
       "      <td>-1</td>\n",
       "    </tr>\n",
       "    <tr>\n",
       "      <th>2020-06-08 04:50:00</th>\n",
       "      <td>1.12888</td>\n",
       "      <td>0.000035</td>\n",
       "      <td>0.000203</td>\n",
       "      <td>1.0</td>\n",
       "      <td>1.129222</td>\n",
       "      <td>1.12884</td>\n",
       "      <td>1.12962</td>\n",
       "      <td>-0.000142</td>\n",
       "      <td>0.000027</td>\n",
       "      <td>-0.000115</td>\n",
       "      <td>...</td>\n",
       "      <td>1.12874</td>\n",
       "      <td>1.12874</td>\n",
       "      <td>1.12874</td>\n",
       "      <td>1.12962</td>\n",
       "      <td>1.12962</td>\n",
       "      <td>1.12962</td>\n",
       "      <td>1.12980</td>\n",
       "      <td>1.12980</td>\n",
       "      <td>1.13071</td>\n",
       "      <td>1</td>\n",
       "    </tr>\n",
       "    <tr>\n",
       "      <th>2020-06-08 05:00:00</th>\n",
       "      <td>1.12870</td>\n",
       "      <td>-0.000159</td>\n",
       "      <td>0.000187</td>\n",
       "      <td>-1.0</td>\n",
       "      <td>1.129199</td>\n",
       "      <td>1.12870</td>\n",
       "      <td>1.12962</td>\n",
       "      <td>0.000035</td>\n",
       "      <td>-0.000142</td>\n",
       "      <td>0.000027</td>\n",
       "      <td>...</td>\n",
       "      <td>1.12874</td>\n",
       "      <td>1.12874</td>\n",
       "      <td>1.12874</td>\n",
       "      <td>1.12962</td>\n",
       "      <td>1.12962</td>\n",
       "      <td>1.12962</td>\n",
       "      <td>1.12962</td>\n",
       "      <td>1.12980</td>\n",
       "      <td>1.12980</td>\n",
       "      <td>-1</td>\n",
       "    </tr>\n",
       "  </tbody>\n",
       "</table>\n",
       "<p>5 rows × 44 columns</p>\n",
       "</div>"
      ],
      "text/plain": [
       "                     EUR_USD  log_returns       vol  mom       sma      min  \\\n",
       "time                                                                          \n",
       "2020-06-08 04:20:00  1.12897    -0.000115  0.000303 -1.0  1.129240  1.12874   \n",
       "2020-06-08 04:30:00  1.12900     0.000027  0.000254  1.0  1.129242  1.12874   \n",
       "2020-06-08 04:40:00  1.12884    -0.000142  0.000240 -1.0  1.129215  1.12874   \n",
       "2020-06-08 04:50:00  1.12888     0.000035  0.000203  1.0  1.129222  1.12884   \n",
       "2020-06-08 05:00:00  1.12870    -0.000159  0.000187 -1.0  1.129199  1.12870   \n",
       "\n",
       "                         max  log_returns_lag_1  log_returns_lag_2  \\\n",
       "time                                                                 \n",
       "2020-06-08 04:20:00  1.12962           0.000097           0.000018   \n",
       "2020-06-08 04:30:00  1.12962          -0.000115           0.000097   \n",
       "2020-06-08 04:40:00  1.12962           0.000027          -0.000115   \n",
       "2020-06-08 04:50:00  1.12962          -0.000142           0.000027   \n",
       "2020-06-08 05:00:00  1.12962           0.000035          -0.000142   \n",
       "\n",
       "                     log_returns_lag_3  ...  min_lag_4  min_lag_5  min_lag_6  \\\n",
       "time                                    ...                                    \n",
       "2020-06-08 04:20:00          -0.000452  ...    1.12874    1.12874    1.12874   \n",
       "2020-06-08 04:30:00           0.000018  ...    1.12874    1.12874    1.12874   \n",
       "2020-06-08 04:40:00           0.000097  ...    1.12874    1.12874    1.12874   \n",
       "2020-06-08 04:50:00          -0.000115  ...    1.12874    1.12874    1.12874   \n",
       "2020-06-08 05:00:00           0.000027  ...    1.12874    1.12874    1.12874   \n",
       "\n",
       "                     max_lag_1  max_lag_2  max_lag_3  max_lag_4  max_lag_5  \\\n",
       "time                                                                         \n",
       "2020-06-08 04:20:00    1.12980    1.12980    1.13071    1.13071    1.13117   \n",
       "2020-06-08 04:30:00    1.12962    1.12980    1.12980    1.13071    1.13071   \n",
       "2020-06-08 04:40:00    1.12962    1.12962    1.12980    1.12980    1.13071   \n",
       "2020-06-08 04:50:00    1.12962    1.12962    1.12962    1.12980    1.12980   \n",
       "2020-06-08 05:00:00    1.12962    1.12962    1.12962    1.12962    1.12980   \n",
       "\n",
       "                     max_lag_6  direction  \n",
       "time                                       \n",
       "2020-06-08 04:20:00    1.13117         -1  \n",
       "2020-06-08 04:30:00    1.13117          1  \n",
       "2020-06-08 04:40:00    1.13071         -1  \n",
       "2020-06-08 04:50:00    1.13071          1  \n",
       "2020-06-08 05:00:00    1.12980         -1  \n",
       "\n",
       "[5 rows x 44 columns]"
      ]
     },
     "execution_count": 61,
     "metadata": {},
     "output_type": "execute_result"
    }
   ],
   "source": [
    "# market movement prediction strategy\n",
    "\n",
    "data = pd.DataFrame(raw['c'])\n",
    "data.columns = [instrument,]\n",
    "\n",
    "# feature engineering\n",
    "# create some moving averages, stds, and min/max\n",
    "# keep in mind, you can use numpy functionality when all of the data in a\n",
    "# pandas dataframe are numeric! \n",
    "\n",
    "# log gross returns (you lose first n number of shifts of the dataframe rows)\n",
    "data['log_returns'] = np.log(data / data.shift(1))\n",
    "window = 20\n",
    "# rolling std (you lose first n window size of the dataframe rows)\n",
    "data['vol'] = data['log_returns'].rolling(window).std()\n",
    "# sign of rolling mean\n",
    "data['mom'] = np.sign(data['log_returns'].rolling(window).mean())\n",
    "# rolling mean of the price (a validation of technical analysis)\n",
    "data['sma'] = data[instrument].rolling(window).mean()\n",
    "# rolling min and max\n",
    "data['min'] = data[instrument].rolling(window).min()\n",
    "data['max'] = data[instrument].rolling(window).max()\n",
    "data.dropna(inplace=True)\n",
    "data.head()\n",
    "\n",
    "# lag the data\n",
    "lags = 6\n",
    "features = ['log_returns', 'vol', 'mom', 'sma', 'min', 'max']\n",
    "\n",
    "cols = []\n",
    "for f in features:\n",
    "    for lag in range(1, lags + 1):\n",
    "        col = f\"{f}_lag_{lag}\"\n",
    "        data[col] = data[f].shift(lag)\n",
    "        cols.append(col)\n",
    "\n",
    "data.dropna(inplace=True)\n",
    "# define the target variable\n",
    "data['direction'] = np.where(data['log_returns'] > 0, 1, -1)\n",
    "\n",
    "data.head()"
   ]
  },
  {
   "cell_type": "code",
   "execution_count": 62,
   "metadata": {},
   "outputs": [
    {
     "name": "stdout",
     "output_type": "stream",
     "text": [
      "<class 'pandas.core.frame.DataFrame'>\n",
      "DatetimeIndex: 675 entries, 2020-06-08 04:20:00 to 2020-06-12 20:50:00\n",
      "Data columns (total 44 columns):\n",
      " #   Column             Non-Null Count  Dtype  \n",
      "---  ------             --------------  -----  \n",
      " 0   EUR_USD            675 non-null    float64\n",
      " 1   log_returns        675 non-null    float64\n",
      " 2   vol                675 non-null    float64\n",
      " 3   mom                675 non-null    float64\n",
      " 4   sma                675 non-null    float64\n",
      " 5   min                675 non-null    float64\n",
      " 6   max                675 non-null    float64\n",
      " 7   log_returns_lag_1  675 non-null    float64\n",
      " 8   log_returns_lag_2  675 non-null    float64\n",
      " 9   log_returns_lag_3  675 non-null    float64\n",
      " 10  log_returns_lag_4  675 non-null    float64\n",
      " 11  log_returns_lag_5  675 non-null    float64\n",
      " 12  log_returns_lag_6  675 non-null    float64\n",
      " 13  vol_lag_1          675 non-null    float64\n",
      " 14  vol_lag_2          675 non-null    float64\n",
      " 15  vol_lag_3          675 non-null    float64\n",
      " 16  vol_lag_4          675 non-null    float64\n",
      " 17  vol_lag_5          675 non-null    float64\n",
      " 18  vol_lag_6          675 non-null    float64\n",
      " 19  mom_lag_1          675 non-null    float64\n",
      " 20  mom_lag_2          675 non-null    float64\n",
      " 21  mom_lag_3          675 non-null    float64\n",
      " 22  mom_lag_4          675 non-null    float64\n",
      " 23  mom_lag_5          675 non-null    float64\n",
      " 24  mom_lag_6          675 non-null    float64\n",
      " 25  sma_lag_1          675 non-null    float64\n",
      " 26  sma_lag_2          675 non-null    float64\n",
      " 27  sma_lag_3          675 non-null    float64\n",
      " 28  sma_lag_4          675 non-null    float64\n",
      " 29  sma_lag_5          675 non-null    float64\n",
      " 30  sma_lag_6          675 non-null    float64\n",
      " 31  min_lag_1          675 non-null    float64\n",
      " 32  min_lag_2          675 non-null    float64\n",
      " 33  min_lag_3          675 non-null    float64\n",
      " 34  min_lag_4          675 non-null    float64\n",
      " 35  min_lag_5          675 non-null    float64\n",
      " 36  min_lag_6          675 non-null    float64\n",
      " 37  max_lag_1          675 non-null    float64\n",
      " 38  max_lag_2          675 non-null    float64\n",
      " 39  max_lag_3          675 non-null    float64\n",
      " 40  max_lag_4          675 non-null    float64\n",
      " 41  max_lag_5          675 non-null    float64\n",
      " 42  max_lag_6          675 non-null    float64\n",
      " 43  direction          675 non-null    int32  \n",
      "dtypes: float64(43), int32(1)\n",
      "memory usage: 234.7 KB\n"
     ]
    }
   ],
   "source": [
    "data.info()"
   ]
  },
  {
   "cell_type": "code",
   "execution_count": 63,
   "metadata": {},
   "outputs": [
    {
     "data": {
      "text/plain": [
       "AdaBoostClassifier(base_estimator=DecisionTreeClassifier(max_depth=2,\n",
       "                                                         min_samples_leaf=15,\n",
       "                                                         random_state=100),\n",
       "                   n_estimators=15, random_state=100)"
      ]
     },
     "execution_count": 63,
     "metadata": {},
     "output_type": "execute_result"
    }
   ],
   "source": [
    "n_estimators=15\n",
    "random_state=100\n",
    "max_depth=2\n",
    "min_samples_leaf=15\n",
    "subsample=0.33\n",
    "\n",
    "dtc = DecisionTreeClassifier(random_state=random_state,\n",
    "                            max_depth=max_depth,\n",
    "                            min_samples_leaf=min_samples_leaf)\n",
    "\n",
    "# default base estimator of adaboost is the decision tree\n",
    "model = AdaBoostClassifier(base_estimator=dtc,\n",
    "                          n_estimators=n_estimators,\n",
    "                          random_state=random_state)\n",
    "\n",
    "# train, test split (70%)\n",
    "split = int(len(data) * 0.7)\n",
    "\n",
    "train = data.iloc[:split].copy()\n",
    "\n",
    "mu, std = train.mean(), train.std()\n",
    "\n",
    "# normalize training dataset\n",
    "train_ = (train - mu) / std\n",
    "\n",
    "# lets just train on the lagged features. \n",
    "# take non normalized target variable \n",
    "# because the normalization turns it into \n",
    "# a continuous variable\n",
    "model.fit(train_[cols], train['direction'])\n"
   ]
  },
  {
   "cell_type": "code",
   "execution_count": 70,
   "metadata": {},
   "outputs": [
    {
     "data": {
      "text/plain": [
       "array([-1,  1, -1, -1, -1,  1, -1,  1,  1,  1, -1,  1,  1,  1,  1, -1, -1,\n",
       "        1,  1,  1, -1, -1,  1,  1, -1, -1,  1,  1, -1,  1,  1, -1, -1,  1,\n",
       "       -1, -1,  1, -1,  1, -1,  1,  1, -1, -1,  1,  1, -1,  1, -1, -1, -1,\n",
       "        1,  1, -1,  1, -1,  1, -1, -1,  1,  1, -1,  1, -1,  1, -1, -1,  1,\n",
       "        1, -1,  1, -1, -1, -1,  1,  1,  1,  1,  1, -1,  1,  1,  1, -1,  1,\n",
       "       -1, -1, -1, -1, -1, -1,  1, -1, -1, -1, -1, -1,  1,  1,  1, -1, -1,\n",
       "        1,  1,  1,  1,  1, -1, -1, -1,  1, -1,  1,  1,  1,  1,  1,  1, -1,\n",
       "       -1, -1, -1, -1,  1, -1, -1, -1, -1,  1, -1, -1,  1,  1,  1,  1,  1,\n",
       "       -1, -1, -1, -1, -1,  1, -1,  1,  1, -1, -1,  1,  1,  1,  1,  1, -1,\n",
       "        1, -1, -1, -1, -1, -1, -1,  1,  1,  1, -1,  1,  1, -1,  1, -1, -1,\n",
       "       -1, -1, -1,  1,  1, -1, -1,  1,  1, -1,  1,  1,  1, -1, -1,  1,  1,\n",
       "        1,  1,  1,  1,  1,  1, -1,  1,  1,  1, -1,  1,  1,  1, -1,  1, -1,\n",
       "       -1, -1,  1, -1,  1,  1, -1, -1, -1, -1, -1, -1, -1, -1,  1, -1,  1,\n",
       "        1,  1,  1,  1,  1, -1, -1, -1,  1, -1, -1, -1, -1,  1,  1, -1, -1,\n",
       "       -1, -1, -1,  1,  1,  1, -1,  1, -1,  1, -1,  1, -1,  1, -1, -1,  1,\n",
       "       -1, -1, -1, -1,  1,  1,  1,  1,  1, -1, -1, -1, -1, -1, -1, -1, -1,\n",
       "       -1,  1, -1,  1,  1, -1, -1, -1, -1, -1,  1, -1, -1,  1,  1, -1, -1,\n",
       "        1, -1,  1,  1,  1, -1,  1, -1,  1, -1,  1, -1, -1, -1, -1,  1, -1,\n",
       "       -1,  1,  1,  1,  1,  1,  1, -1,  1,  1, -1,  1,  1,  1,  1,  1,  1,\n",
       "        1,  1,  1,  1,  1,  1, -1, -1, -1, -1, -1, -1, -1, -1,  1, -1,  1,\n",
       "       -1, -1, -1, -1, -1, -1,  1,  1, -1, -1, -1, -1,  1,  1,  1,  1,  1,\n",
       "       -1,  1,  1, -1, -1,  1,  1, -1,  1,  1,  1,  1,  1,  1, -1,  1,  1,\n",
       "       -1,  1, -1, -1, -1, -1, -1, -1, -1, -1, -1,  1,  1, -1,  1, -1, -1,\n",
       "       -1, -1, -1, -1, -1,  1,  1,  1,  1,  1, -1, -1, -1, -1, -1,  1,  1,\n",
       "       -1,  1, -1,  1, -1, -1,  1,  1,  1, -1, -1,  1, -1, -1,  1, -1, -1,\n",
       "       -1,  1, -1, -1, -1, -1,  1,  1,  1,  1,  1, -1, -1,  1, -1, -1,  1,\n",
       "        1, -1,  1,  1,  1,  1,  1,  1,  1, -1,  1,  1,  1, -1,  1, -1,  1,\n",
       "       -1,  1, -1,  1, -1, -1, -1, -1, -1,  1, -1,  1, -1])"
      ]
     },
     "execution_count": 70,
     "metadata": {},
     "output_type": "execute_result"
    }
   ],
   "source": [
    "# sklearn classifiers don't necessarily care if your labels are {0,1} or {-1,1}\n",
    "model.predict(train_[cols])"
   ]
  },
  {
   "cell_type": "code",
   "execution_count": null,
   "metadata": {},
   "outputs": [],
   "source": [
    "# lets look at the fraction of correctly identified market movements \n",
    "# (From a financial trading standpoint, this is the hit ratio: the number\n",
    "# of winning trades compared to all trades)\n",
    "# in the context of Kelly, greater than 50% indicates an edge\n",
    "# the hit ratio is only one side of the coin of a successful trading bot\n",
    "# the other concerns geting the transaction costs right, and the largest \n",
    "# market movements right! \n",
    "\n",
    "# on training set\n",
    "print(f\"Accuracy of boosting classifier on training set: {accuracy_score(train['direction'], model.predict(train_[cols]))}\")\n",
    "\n",
    "# on test set\n",
    "test = data.iloc[split:].copy()\n",
    "\n",
    "test_ = (test - mu) / std\n",
    "\n",
    "print(f\"Accuracy of boosting classifier on test set: {accuracy_score(test['direction'], model.predict(test_[cols]))}\")"
   ]
  },
  {
   "cell_type": "code",
   "execution_count": null,
   "metadata": {},
   "outputs": [],
   "source": [
    "# visualizing the trading strategy on the hold-out set\n",
    "\n",
    "test['position'] = model.predict(test_[cols])\n",
    "test['strategy'] = test['position'] * test['log_returns']\n",
    "\n",
    "# the number of trades\n",
    "sum(test['strategy'].diff() != 0)\n",
    "\n",
    "# strategy minus transaction costs\n",
    "test['strategy_tc'] = np.where(test['position'].diff() != 0,\n",
    "                                test['strategy'] - ptc,\n",
    "                                test['strategy'])\n",
    "\n",
    "# plot\n",
    "test[['log_returns', 'strategy', 'strategy_tc']].cumsum().apply(np.exp).plot(figsize=(10, 6))\n"
   ]
  },
  {
   "cell_type": "markdown",
   "metadata": {},
   "source": [
    "### **Optimal Leverage**"
   ]
  },
  {
   "cell_type": "code",
   "execution_count": null,
   "metadata": {},
   "outputs": [],
   "source": [
    "# first annualize the average of the log returns\n",
    "\n",
    "# multiple by number of 10 minute intervals in that week (len(data)) then\n",
    "# by the number of weeks in a year\n",
    "mean = test[['log_returns', 'strategy_tc']].mean() * len(data) * 52\n",
    "var = test[['log_returns', 'strategy_tc']].var() * len(data) * 52\n",
    "\n",
    "print(f\"Kelly criterion: \\n{mean / var}\")\n",
    "print(f\".5 Kelly criterion: \\n{0.5 * mean / var}\")\n",
    "\n",
    "# thats a leverage of 50:1 which is doable on Oanda"
   ]
  },
  {
   "cell_type": "code",
   "execution_count": null,
   "metadata": {},
   "outputs": [],
   "source": [
    "# plot strategies with the leverages\n",
    "\n",
    "to_plot = ['log_returns', 'strategy_tc']\n",
    "\n",
    "for lev in [10, 20, 30, 40, 50]:\n",
    "    label = f\"lev_strategy_tc_{lev}\"\n",
    "    # this is multplying the lever by log returns! Not exactly accurate I think\n",
    "    # These returns are actually with respect to your equity, so I think it makes sense\n",
    "    test[label] = test['strategy_tc'] * lev\n",
    "    to_plot.append(label)\n",
    "\n",
    "test[to_plot].cumsum().apply(np.exp).plot(figsize=(10, 6))\n",
    "\n"
   ]
  },
  {
   "cell_type": "code",
   "execution_count": null,
   "metadata": {},
   "outputs": [],
   "source": [
    "# The largest dip at about 3:00 pm\n",
    "test['lev_strategy_tc_50'].cumsum().apply(np.exp).min()\n",
    "\n",
    "# so you lost 20% of your account equity ($1000)\n",
    "# this would not trigger a margin call, I believe"
   ]
  },
  {
   "cell_type": "code",
   "execution_count": null,
   "metadata": {},
   "outputs": [],
   "source": [
    "# when you actually do the cumulative returns at that minimum,\n",
    "# its actually worse since in the calculation above, we multiplied\n",
    "# the lever by the log returns (should be multiplied by gross returns)\n",
    "# still don't think it would have triggered a margin call though. \n",
    "250000 * test['strategy_tc'].cumsum().apply(np.exp).min() - 250000"
   ]
  },
  {
   "cell_type": "code",
   "execution_count": null,
   "metadata": {},
   "outputs": [],
   "source": [
    "# zooming in on the buy and hold and the non-levered strategy\n",
    "# The effect of the transaction costs are probably underestimated too\n",
    "# since they are also multipled by the log returns\n",
    "test[['log_returns', 'strategy_tc']].cumsum().apply(np.exp).plot(figsize=(10, 6))"
   ]
  },
  {
   "cell_type": "markdown",
   "metadata": {},
   "source": [
    "### **Risk Analysis**"
   ]
  },
  {
   "cell_type": "code",
   "execution_count": null,
   "metadata": {},
   "outputs": [],
   "source": [
    "pd.set_option('display.max_rows', 100)\n",
    "# lets look at maximum drawdown (largest loss (dip) after a recent high) and longest maximum drawdown (longest period that the strategy needs to get back to a recent high)\n",
    "\n",
    "# we were actually analyzing the max drawdown right above to see what would happen with the margin call\n",
    "# possibility\n",
    "\n",
    "# lets assume that there are no adjustments with regard to the equity over time, no matter the performance\n",
    "\n",
    "# this is truly your net worth, since the leveraged amount is a liability\n",
    "equity = 5000\n",
    "lev_strat = 'lev_strategy_tc_50'\n",
    "\n",
    "risk = pd.DataFrame(test[lev_strat])\n",
    "\n",
    "risk['equity'] = risk[lev_strat].cumsum().apply(np.exp) * equity\n",
    "risk['cummax'] = risk['equity'].cummax()\n",
    "risk['drawdown'] = risk['cummax'] - risk['equity']\n",
    "print(f\"Max drawdown for {lev_strat} is: {risk['drawdown'].max()} \\n and this occurs at {risk['drawdown'].idxmax()}\")\n",
    "# as you can see by the plot below, this is due to the later drawdown\n",
    "# when our equity is already trending up. The earlier drawdown is what \n",
    "# we're afraid of! \n",
    "risk.head()"
   ]
  },
  {
   "cell_type": "code",
   "execution_count": null,
   "metadata": {},
   "outputs": [],
   "source": [
    "# plotting your net worth here\n",
    "risk['equity'].plot(figsize=(10, 6))"
   ]
  },
  {
   "cell_type": "code",
   "execution_count": null,
   "metadata": {},
   "outputs": [],
   "source": [
    "# longest drawdown time\n",
    "# a new high is characterized by a drawdown of 0\n",
    "\n",
    "temp = risk['drawdown'][risk['drawdown'] == 0]\n",
    "# essentially subtract array of n = 2 : end highs and arragy of n = 1 : end - 1\n",
    "periods = (temp.index[1:].to_pydatetime() - temp.index[:-1].to_pydatetime())\n",
    "t_per = periods.max()\n",
    "print(f\"Longest drawdown is: {np.round(t_per.seconds / 60 / 60, 2)} hours\")\n",
    "\n",
    "risk[['equity', 'cummax']].plot(figsize=(10, 6))\n",
    "plt.axvline(risk['drawdown'].idxmax(), c='r', alpha=0.5)"
   ]
  },
  {
   "cell_type": "markdown",
   "metadata": {},
   "source": [
    "### **Value at Risk**"
   ]
  },
  {
   "cell_type": "markdown",
   "metadata": {},
   "source": [
    "- when you want to look at the odds of losing greater than or equal to a certain amount at the left tail of the PnL distribution\n",
    "\n",
    "- What are the worst case scenarios and what are their odds? \n",
    "\n",
    "- The left tail of the PnL distribution is highly unlikely, but what loss values occupy that space? What is the 1st percentile, 3rd percentile, and 5th percentile of your PnL density function? \n",
    "\n",
    "-e.g. 95% VaR of $1 million means there is a 5% chance of losing this amount or greater. is the odds of losing an amount greater than or equal to the value at the 5th percentile of the PnL PDF"
   ]
  },
  {
   "cell_type": "code",
   "execution_count": null,
   "metadata": {},
   "outputs": [],
   "source": [
    "# percentiles\n",
    "percs = [.01, .1, 1., 2.5, 5.0, 10.0]\n",
    "\n",
    "risk['log_returns'] = np.log(risk['equity'] / risk['equity'].shift(1))\n",
    "\n",
    "VaR = scs.scoreatpercentile(equity * risk['log_returns'], percs)\n",
    "\n",
    "def print_var():\n",
    "    print(f\"Confidence Interval     Value-at-Risk\")\n",
    "    print(33 * '-')\n",
    "    for pair in zip(percs, VaR):\n",
    "        print(f\"{100 - pair[0]}      {-pair[1]}\")\n",
    "\n",
    "print_var()\n",
    "\n",
    "\n",
    "# this is not taking the lever into account!!! multiply the bottom\n",
    "# VaR by 20!!!!!\n",
    "# these are you worst possible losses in one bar (in this case 10 minutes)"
   ]
  },
  {
   "cell_type": "code",
   "execution_count": null,
   "metadata": {},
   "outputs": [],
   "source": [
    "risk.head()"
   ]
  },
  {
   "cell_type": "code",
   "execution_count": null,
   "metadata": {},
   "outputs": [],
   "source": [
    "# downsample from minute bars to hour bars\n",
    "# take the last datapoint for the hour datapoints\n",
    "hourly = risk.resample('1H', label='right').last()\n",
    "# need to recalculate log returns for new time frequency\n",
    "hourly['log_returns'] = np.log(hourly['equity'] /hourly['equity'].shift(1))\n",
    "VaR = scs.scoreatpercentile(equity * hourly['log_returns'], percs)\n",
    "print_var()\n",
    "# again multiply bottom by lever!!!\n",
    "# obviously, the worst case losses increase as you consider a longer time span"
   ]
  },
  {
   "cell_type": "markdown",
   "metadata": {},
   "source": [
    "### **Save the Model**"
   ]
  },
  {
   "cell_type": "code",
   "execution_count": null,
   "metadata": {},
   "outputs": [],
   "source": [
    "# once we're good with the backtesting, capital management, and risk management analysis,\n",
    "# we can go ahead and save the model, as well as other import information \n",
    "\n",
    "algorithm = {'model': model, 'mu': mu, 'std': std}\n",
    "# 'wb' means write to binary\n",
    "pickle.dump(algorithm, open('../../data/algorithm.pkl', 'wb'))"
   ]
  },
  {
   "cell_type": "markdown",
   "metadata": {},
   "source": [
    "### **Online Algorithm**"
   ]
  },
  {
   "cell_type": "markdown",
   "metadata": {},
   "source": [
    "-In practice, when deploying the trading algorithm in financial markets, it must consume data piece by piece as it arrives to predict the direction of the market movement for the next time interval\n",
    "\n",
    "-Now we are going to transform the *offline* algorithm into an *online* algorithm\n",
    "\n",
    "  - To do this, we must address processing the *tick data* in real time, *resampling* to the appropriate bar length, *predicting* over the relevant time interval, and *ordering* given the current position and prediction (signal)"
   ]
  },
  {
   "cell_type": "code",
   "execution_count": 73,
   "metadata": {},
   "outputs": [
    {
     "data": {
      "text/plain": [
       "AdaBoostClassifier(base_estimator=DecisionTreeClassifier(max_depth=2,\n",
       "                                                         min_samples_leaf=15,\n",
       "                                                         random_state=100),\n",
       "                   n_estimators=15, random_state=100)"
      ]
     },
     "execution_count": 73,
     "metadata": {},
     "output_type": "execute_result"
    }
   ],
   "source": [
    "# load pickle file in read binary mode\n",
    "algorithm = pickle.load(open('../../data/algorithm.pkl', 'rb'))\n",
    "\n",
    "algorithm['model']"
   ]
  },
  {
   "cell_type": "markdown",
   "metadata": {},
   "source": [
    "### **Validating Data Length After Resampling, Windowing, and Lagging**\n",
    "\n",
    "Still have some unanswered questions"
   ]
  },
  {
   "cell_type": "code",
   "execution_count": 55,
   "metadata": {},
   "outputs": [
    {
     "name": "stdout",
     "output_type": "stream",
     "text": [
      "tail of raw is:                            c\n",
      "time                        \n",
      "2020-06-08 13:30:00  1.13032\n",
      "2020-06-08 13:40:00  1.13162\n",
      "2020-06-08 13:50:00  1.13097\n",
      "2020-06-08 14:00:00  1.13046\n",
      "2020-06-08 14:10:00  1.13051\n",
      "2020-06-08 14:20:00  1.13082\n",
      "2020-06-08 14:30:00  1.12979\n",
      "2020-06-08 14:40:00  1.12994\n",
      "2020-06-08 14:50:00  1.13009\n",
      "2020-06-08 15:00:00  1.13033\n",
      "tail of raw after resample and taking last:                            c\n",
      "time                        \n",
      "2020-06-08 12:00:00  1.12764\n",
      "2020-06-08 13:00:00  1.12940\n",
      "2020-06-08 14:00:00  1.13097\n",
      "2020-06-08 15:00:00  1.13009\n",
      "2020-06-08 16:00:00  1.13033\n",
      "tail of raw after resample, taking last, and ffill:                            c\n",
      "time                        \n",
      "2020-06-08 12:00:00  1.12764\n",
      "2020-06-08 13:00:00  1.12940\n",
      "2020-06-08 14:00:00  1.13097\n",
      "2020-06-08 15:00:00  1.13009\n",
      "2020-06-08 16:00:00  1.13033\n",
      "head of raw after resample and taking last:                            c\n",
      "time                        \n",
      "2020-06-08 01:00:00  1.12976\n",
      "2020-06-08 02:00:00  1.12933\n",
      "2020-06-08 03:00:00  1.12894\n",
      "2020-06-08 04:00:00  1.12897\n",
      "2020-06-08 05:00:00  1.12888\n",
      "head of raw after resample, taking last, and ffill:                            c\n",
      "time                        \n",
      "2020-06-08 01:00:00  1.12976\n",
      "2020-06-08 02:00:00  1.12933\n",
      "2020-06-08 03:00:00  1.12894\n",
      "2020-06-08 04:00:00  1.12897\n",
      "2020-06-08 05:00:00  1.12888\n"
     ]
    }
   ],
   "source": [
    "raw_investigate = raw.iloc[:91][['c']]\n",
    "print(f\"tail of raw is: {raw_investigate[-10:]}\")\n",
    "# look at resampling before lagging and windowing\n",
    "raw_resample = raw_investigate.resample('1H', label='right') #.last().ffill().iloc[:-1]\n",
    "print(f\"tail of raw after resample and taking last: {raw_resample.last().tail()}\")\n",
    "print(f\"tail of raw after resample, taking last, and ffill: {raw_resample.last().ffill().tail()}\")\n",
    "\n",
    "print(f\"head of raw after resample and taking last: {raw_resample.last().head()}\")\n",
    "print(f\"head of raw after resample, taking last, and ffill: {raw_resample.last().ffill().head()}\")\n",
    "\n",
    "# not sure what ffill is for!!!"
   ]
  },
  {
   "cell_type": "code",
   "execution_count": 48,
   "metadata": {},
   "outputs": [
    {
     "name": "stdout",
     "output_type": "stream",
     "text": [
      "tail of raw is:                            c\n",
      "time                        \n",
      "2020-06-08 14:20:00  1.13082\n",
      "2020-06-08 14:30:00  1.12979\n",
      "2020-06-08 14:40:00  1.12994\n",
      "2020-06-08 14:50:00  1.13009\n",
      "2020-06-08 15:00:00  1.13033\n",
      "length of raw_resample is 15\n",
      "tail after resampling                            c\n",
      "time                        \n",
      "2020-06-08 11:00:00  1.12712\n",
      "2020-06-08 12:00:00  1.12764\n",
      "2020-06-08 13:00:00  1.12940\n",
      "2020-06-08 14:00:00  1.13097\n",
      "2020-06-08 15:00:00  1.13009\n",
      "length of raw1 is: 15\n",
      "length of raw1_mov is 15\n",
      "data after moving average: \n",
      " time\n",
      "2020-06-08 11:00:00         NaN\n",
      "2020-06-08 12:00:00         NaN\n",
      "2020-06-08 13:00:00         NaN\n",
      "2020-06-08 14:00:00    1.129240\n",
      "2020-06-08 15:00:00    1.129264\n",
      "Freq: H, Name: c, dtype: float64\n",
      "length of raw3_lag is 15\n"
     ]
    },
    {
     "data": {
      "text/plain": [
       "time\n",
       "2020-06-08 11:00:00        NaN\n",
       "2020-06-08 12:00:00        NaN\n",
       "2020-06-08 13:00:00        NaN\n",
       "2020-06-08 14:00:00        NaN\n",
       "2020-06-08 15:00:00    1.12924\n",
       "Freq: H, Name: c, dtype: float64"
      ]
     },
     "execution_count": 48,
     "metadata": {},
     "output_type": "execute_result"
    }
   ],
   "source": [
    "raw_investigate = raw.iloc[:91][['c']]\n",
    "print(f\"tail of raw is: {raw_investigate.tail()}\")\n",
    "# look at resampling before lagging and windowing\n",
    "raw_resample = raw_investigate.resample('1H', label='right').last().ffill().iloc[:-1]\n",
    "print(f\"length of raw_resample is {len(raw_resample)}\")\n",
    "print(f\"tail after resampling {raw_resample.tail()}\")\n",
    "\n",
    "raw1 = raw_resample.copy()\n",
    "print(f\"length of raw1 is: {len(raw1)}\")\n",
    "raw1_mov = raw1['c'].rolling(14).mean()\n",
    "print(f\"length of raw1_mov is {len(raw1_mov)}\")\n",
    "print(f\"data after moving average: \\n {raw1_mov.tail()}\")\n",
    "\n",
    "# raw2 = raw[:15].copy()\n",
    "# print(f\"length of raw2 is: {len(raw2)}\")\n",
    "# raw2_lag = raw2['c'].shift(14)\n",
    "# print(f\"length of raw2_lag is {len(raw2_lag)}\")\n",
    "# raw2_lag.tail()\n",
    "\n",
    "# look at lagging after windowing\n",
    "raw3_lag = raw1_mov.shift(1)\n",
    "print(f\"length of raw3_lag is {len(raw3_lag)}\")\n",
    "raw3_lag.tail()\n",
    "\n"
   ]
  },
  {
   "cell_type": "code",
   "execution_count": 158,
   "metadata": {},
   "outputs": [],
   "source": [
    "class MLTrader(tpqoa.tpqoa):\n",
    "    def __init__(self, config_file, algorithm):\n",
    "        # this is simply using method from base class\n",
    "        # see: https://github.com/yhilpisch/tpqoa/blob/master/tpqoa/tpqoa.py\n",
    "        super(MLTrader, self).__init__(config_file)\n",
    "        # all of these can be parameters of the class instantiation\n",
    "        # but in this simple example, they are hard coded\n",
    "        # THESE PARAMETERS SHOULD MATCH WHAT YOU USED DURING\n",
    "        # BACKTESTING!!!\n",
    "        self.model = algorithm['model']\n",
    "        self.mu = algorithm['mu']\n",
    "        self.std = algorithm['std']\n",
    "        # our trading capital\n",
    "        self.units = 100000\n",
    "        # initial position is none\n",
    "        self.position = 0\n",
    "        # two second bars\n",
    "        self.bar = '1s'\n",
    "        # window from moving averages and min/maxes\n",
    "        self.window = 20\n",
    "        # number of lags for lagged features\n",
    "        self.lags = 6\n",
    "        # window size snips off (window size - 1) from beginning of data\n",
    "        # lag forward snipss off (lag) from beginning of data\n",
    "        # But you have one datapoint with (lags + window) length of data!\n",
    "        # +1 makes it so that first order is placed after a short while\n",
    "        self.min_length = self.lags + self.window + 1\n",
    "        # features to lag\n",
    "        self.features = ['log_returns', 'vol', 'mom', 'sma', 'min', 'max']\n",
    "        self.raw_data = pd.DataFrame()\n",
    "    \n",
    "    # same as above feature engineering!\n",
    "    def prepare_features(self):\n",
    "        self.data['log_returns'] = np.log(\n",
    "            self.data['mid'] / self.data['mid'].shift(1))\n",
    "        self.data['vol'] = self.data['log_returns'].rolling(self.window).std()\n",
    "        self.data['mom'] = np.sign(\n",
    "            self.data['log_returns'].rolling(self.window).mean())\n",
    "        self.data['sma'] = self.data['mid'].rolling(self.window).mean()\n",
    "        self.data['min'] = self.data['mid'].rolling(self.window).min()\n",
    "        self.data['max'] = self.data['mid'].rolling(self.window).max()\n",
    "        self.data.dropna(inplace=True)\n",
    "        # only normalize input features\n",
    "        self.data[self.features] -= self.mu\n",
    "        self.data[self.features] /= self.std\n",
    "        self.cols = []\n",
    "        for f in self.features:\n",
    "            for lag in range(1, self.lags + 1):\n",
    "                col = f'{f}_lag_{lag}'\n",
    "                self.data[col] = self.data[f].shift(lag)\n",
    "                self.cols.append(col)\n",
    "\n",
    "    def on_success(self, time, bid, ask):\n",
    "        # This on success method essentially is given the streaming\n",
    "        # bid and ask data from the stream_data method.\n",
    "        # see https://github.com/yhilpisch/tpqoa/blob/master/tpqoa/tpqoa.py\n",
    "        print(self.ticks, 20 * ' ', end='\\r')\n",
    "        df = pd.DataFrame({'bid': float(bid), 'ask': float(ask)},\n",
    "                          index=[pd.Timestamp(time).tz_localize(None)])\n",
    "        #print(df.tail())\n",
    "        self.raw_data = pd.concat([self.raw_data, df])\n",
    "        #print(self.raw_data.tail())\n",
    "        # the bucket is labelled by the right bin edge\n",
    "        # the default side of the bin which is closed is the left side\n",
    "        # (tilt your head to the right and look at the dataframe\n",
    "        #  and that is the orientation we're talking about)\n",
    "        # see above validation cells and documentation\n",
    "        self.data = self.raw_data.resample(\n",
    "            self.bar, label='right').last().ffill()\n",
    "        self.data = self.data.iloc[:-1]\n",
    "        print(f\"min_length is: {self.min_length}\")\n",
    "        print(f\"length of data is: {len(self.data)}\")\n",
    "        print(self.data.tail())\n",
    "        if len(self.data) > self.min_length:\n",
    "            #logger_monitor('NUMBER OF TICKS: {} | '.format(self.ticks) +\n",
    "            #               'NUMBER OF BARS: {}'.format(self.min_length))\n",
    "            # incrementing min_length to wait for next resampled bar to come in\n",
    "            self.min_length += 1\n",
    "            self.data['mid'] = (self.data['bid'] + self.data['ask']) / 2\n",
    "            self.prepare_features()\n",
    "            # take the lagged features, their last value, then reshape.\n",
    "            # essentially you take the last observation (this becomes a pandas series),\n",
    "            # you convert it to the numpy array with .values, and then you reshape it \n",
    "            # to a 2D array because this is what the model expects\n",
    "            features = self.data[self.cols].iloc[-1].values.reshape(1, -1)\n",
    "            #print(features)\n",
    "            # algo strategy signal\n",
    "            signal = self.model.predict(features)[0]\n",
    "            # try simple moving average to see if this is working \n",
    "            #print(f\"mid price is: {self.data['mid'].tail()}\")\n",
    "            #signal = np.sign(\n",
    "            #np.log(\n",
    "            #self.data['mid'] / self.data['mid'].shift(1)).rolling(self.window).mean()).iloc[-1]\n",
    "            #print(self.data['mom'])\n",
    "            print(f\"Signal is: {signal}\")\n",
    "            # logs and sends major financial information\n",
    "            #logger_monitor('MOST RECENT DATA\\n' +\n",
    "            #               str(self.data[self.cols].tail()),\n",
    "            #               False)\n",
    "            #logger_monitor('features:\\n' + str(features) + '\\n' +\n",
    "            #               'position: ' + str(self.position) + '\\n' +\n",
    "            #               'signal:   ' + str(signal), False)\n",
    "            if self.position in [0, -1] and signal == 1:  # going long?\n",
    "                # we take (1 - position) units because this accounts for\n",
    "                # case where we were short (position = -1) so we have to \n",
    "                # both close it out and go long (2 * units)\n",
    "                order = self.create_order(self.stream_instrument,\n",
    "                                          units=(1 - self.position) *\n",
    "                                          self.units,\n",
    "                                          suppress=True, ret=True)\n",
    "                #self.report_trade('LONG', order)\n",
    "                print('Long', order)\n",
    "                self.position = 1\n",
    "            elif self.position in [0, 1] and signal == -1:  # going short?\n",
    "                order = self.create_order(self.stream_instrument,\n",
    "                                          units=-(1 + self.position) *\n",
    "                                          self.units,\n",
    "                                          suppress=True, ret=True)\n",
    "                #self.report_trade('SHORT', order)\n",
    "                print('Long', order)\n",
    "                self.position = -1\n",
    "            else:  # no trade\n",
    "                print('*** NO TRADE PLACED ***')\n",
    "                #logger_monitor('*** NO TRADE PLACED ***')\n",
    "            print('*** END OF CYCLE ***\\n\\n', False, False)\n",
    "            #logger_monitor('*** END OF CYCLE ***\\n\\n', False, False)"
   ]
  },
  {
   "cell_type": "code",
   "execution_count": 159,
   "metadata": {},
   "outputs": [],
   "source": [
    "mlt = MLTrader('../../data/keys.cfg', algorithm)"
   ]
  },
  {
   "cell_type": "code",
   "execution_count": 160,
   "metadata": {},
   "outputs": [
    {
     "name": "stdout",
     "output_type": "stream",
     "text": [
      "min_length is: 27     \n",
      "length of data is: 0\n",
      "Empty DataFrame\n",
      "Columns: [bid, ask]\n",
      "Index: []\n",
      "min_length is: 27     \n",
      "length of data is: 4\n",
      "                         bid      ask\n",
      "2022-03-28 02:34:07  1.09568  1.09584\n",
      "2022-03-28 02:34:08  1.09568  1.09584\n",
      "2022-03-28 02:34:09  1.09568  1.09584\n",
      "2022-03-28 02:34:10  1.09568  1.09584\n",
      "min_length is: 27     \n",
      "length of data is: 6\n",
      "                         bid      ask\n",
      "2022-03-28 02:34:08  1.09568  1.09584\n",
      "2022-03-28 02:34:09  1.09568  1.09584\n",
      "2022-03-28 02:34:10  1.09568  1.09584\n",
      "2022-03-28 02:34:11  1.09569  1.09583\n",
      "2022-03-28 02:34:12  1.09569  1.09583\n",
      "min_length is: 27     \n",
      "length of data is: 8\n",
      "                         bid      ask\n",
      "2022-03-28 02:34:10  1.09568  1.09584\n",
      "2022-03-28 02:34:11  1.09569  1.09583\n",
      "2022-03-28 02:34:12  1.09569  1.09583\n",
      "2022-03-28 02:34:13  1.09569  1.09583\n",
      "2022-03-28 02:34:14  1.09569  1.09583\n",
      "min_length is: 27     \n",
      "length of data is: 11\n",
      "                         bid      ask\n",
      "2022-03-28 02:34:13  1.09569  1.09583\n",
      "2022-03-28 02:34:14  1.09569  1.09583\n",
      "2022-03-28 02:34:15  1.09568  1.09584\n",
      "2022-03-28 02:34:16  1.09568  1.09584\n",
      "2022-03-28 02:34:17  1.09568  1.09584\n",
      "min_length is: 27     \n",
      "length of data is: 13\n",
      "                         bid      ask\n",
      "2022-03-28 02:34:15  1.09568  1.09584\n",
      "2022-03-28 02:34:16  1.09568  1.09584\n",
      "2022-03-28 02:34:17  1.09568  1.09584\n",
      "2022-03-28 02:34:18  1.09570  1.09584\n",
      "2022-03-28 02:34:19  1.09570  1.09584\n",
      "min_length is: 27     \n",
      "length of data is: 13\n",
      "                         bid      ask\n",
      "2022-03-28 02:34:15  1.09568  1.09584\n",
      "2022-03-28 02:34:16  1.09568  1.09584\n",
      "2022-03-28 02:34:17  1.09568  1.09584\n",
      "2022-03-28 02:34:18  1.09570  1.09584\n",
      "2022-03-28 02:34:19  1.09570  1.09584\n",
      "min_length is: 27     \n",
      "length of data is: 15\n",
      "                         bid      ask\n",
      "2022-03-28 02:34:17  1.09568  1.09584\n",
      "2022-03-28 02:34:18  1.09570  1.09584\n",
      "2022-03-28 02:34:19  1.09570  1.09584\n",
      "2022-03-28 02:34:20  1.09570  1.09584\n",
      "2022-03-28 02:34:21  1.09570  1.09584\n",
      "min_length is: 27     \n",
      "length of data is: 16\n",
      "                         bid      ask\n",
      "2022-03-28 02:34:18  1.09570  1.09584\n",
      "2022-03-28 02:34:19  1.09570  1.09584\n",
      "2022-03-28 02:34:20  1.09570  1.09584\n",
      "2022-03-28 02:34:21  1.09570  1.09584\n",
      "2022-03-28 02:34:22  1.09571  1.09586\n",
      "min_length is: 27      \n",
      "length of data is: 16\n",
      "                         bid      ask\n",
      "2022-03-28 02:34:18  1.09570  1.09584\n",
      "2022-03-28 02:34:19  1.09570  1.09584\n",
      "2022-03-28 02:34:20  1.09570  1.09584\n",
      "2022-03-28 02:34:21  1.09570  1.09584\n",
      "2022-03-28 02:34:22  1.09571  1.09586\n",
      "min_length is: 27      \n",
      "length of data is: 16\n",
      "                         bid      ask\n",
      "2022-03-28 02:34:18  1.09570  1.09584\n",
      "2022-03-28 02:34:19  1.09570  1.09584\n",
      "2022-03-28 02:34:20  1.09570  1.09584\n",
      "2022-03-28 02:34:21  1.09570  1.09584\n",
      "2022-03-28 02:34:22  1.09571  1.09586\n",
      "min_length is: 27      \n",
      "length of data is: 16\n",
      "                         bid      ask\n",
      "2022-03-28 02:34:18  1.09570  1.09584\n",
      "2022-03-28 02:34:19  1.09570  1.09584\n",
      "2022-03-28 02:34:20  1.09570  1.09584\n",
      "2022-03-28 02:34:21  1.09570  1.09584\n",
      "2022-03-28 02:34:22  1.09571  1.09586\n",
      "min_length is: 27      \n",
      "length of data is: 19\n",
      "                         bid      ask\n",
      "2022-03-28 02:34:21  1.09570  1.09584\n",
      "2022-03-28 02:34:22  1.09571  1.09586\n",
      "2022-03-28 02:34:23  1.09572  1.09588\n",
      "2022-03-28 02:34:24  1.09572  1.09588\n",
      "2022-03-28 02:34:25  1.09572  1.09588\n",
      "min_length is: 27      \n",
      "length of data is: 20\n",
      "                         bid      ask\n",
      "2022-03-28 02:34:22  1.09571  1.09586\n",
      "2022-03-28 02:34:23  1.09572  1.09588\n",
      "2022-03-28 02:34:24  1.09572  1.09588\n",
      "2022-03-28 02:34:25  1.09572  1.09588\n",
      "2022-03-28 02:34:26  1.09571  1.09589\n",
      "min_length is: 27      \n",
      "length of data is: 20\n",
      "                         bid      ask\n",
      "2022-03-28 02:34:22  1.09571  1.09586\n",
      "2022-03-28 02:34:23  1.09572  1.09588\n",
      "2022-03-28 02:34:24  1.09572  1.09588\n",
      "2022-03-28 02:34:25  1.09572  1.09588\n",
      "2022-03-28 02:34:26  1.09571  1.09589\n",
      "min_length is: 27      \n",
      "length of data is: 20\n",
      "                         bid      ask\n",
      "2022-03-28 02:34:22  1.09571  1.09586\n",
      "2022-03-28 02:34:23  1.09572  1.09588\n",
      "2022-03-28 02:34:24  1.09572  1.09588\n",
      "2022-03-28 02:34:25  1.09572  1.09588\n",
      "2022-03-28 02:34:26  1.09571  1.09589\n",
      "min_length is: 27      \n",
      "length of data is: 21\n",
      "                         bid      ask\n",
      "2022-03-28 02:34:23  1.09572  1.09588\n",
      "2022-03-28 02:34:24  1.09572  1.09588\n",
      "2022-03-28 02:34:25  1.09572  1.09588\n",
      "2022-03-28 02:34:26  1.09571  1.09589\n",
      "2022-03-28 02:34:27  1.09571  1.09587\n",
      "min_length is: 27      \n",
      "length of data is: 22\n",
      "                         bid      ask\n",
      "2022-03-28 02:34:24  1.09572  1.09588\n",
      "2022-03-28 02:34:25  1.09572  1.09588\n",
      "2022-03-28 02:34:26  1.09571  1.09589\n",
      "2022-03-28 02:34:27  1.09571  1.09587\n",
      "2022-03-28 02:34:28  1.09571  1.09586\n",
      "min_length is: 27      \n",
      "length of data is: 24\n",
      "                         bid      ask\n",
      "2022-03-28 02:34:26  1.09571  1.09589\n",
      "2022-03-28 02:34:27  1.09571  1.09587\n",
      "2022-03-28 02:34:28  1.09571  1.09586\n",
      "2022-03-28 02:34:29  1.09572  1.09586\n",
      "2022-03-28 02:34:30  1.09572  1.09586\n",
      "min_length is: 27      \n",
      "length of data is: 25\n",
      "                         bid      ask\n",
      "2022-03-28 02:34:27  1.09571  1.09587\n",
      "2022-03-28 02:34:28  1.09571  1.09586\n",
      "2022-03-28 02:34:29  1.09572  1.09586\n",
      "2022-03-28 02:34:30  1.09572  1.09586\n",
      "2022-03-28 02:34:31  1.09571  1.09585\n",
      "min_length is: 27      \n",
      "length of data is: 26\n",
      "                         bid      ask\n",
      "2022-03-28 02:34:28  1.09571  1.09586\n",
      "2022-03-28 02:34:29  1.09572  1.09586\n",
      "2022-03-28 02:34:30  1.09572  1.09586\n",
      "2022-03-28 02:34:31  1.09571  1.09585\n",
      "2022-03-28 02:34:32  1.09570  1.09586\n",
      "min_length is: 27      \n",
      "length of data is: 26\n",
      "                         bid      ask\n",
      "2022-03-28 02:34:28  1.09571  1.09586\n",
      "2022-03-28 02:34:29  1.09572  1.09586\n",
      "2022-03-28 02:34:30  1.09572  1.09586\n",
      "2022-03-28 02:34:31  1.09571  1.09585\n",
      "2022-03-28 02:34:32  1.09570  1.09586\n",
      "min_length is: 27      \n",
      "length of data is: 27\n",
      "                         bid      ask\n",
      "2022-03-28 02:34:29  1.09572  1.09586\n",
      "2022-03-28 02:34:30  1.09572  1.09586\n",
      "2022-03-28 02:34:31  1.09571  1.09585\n",
      "2022-03-28 02:34:32  1.09570  1.09586\n",
      "2022-03-28 02:34:33  1.09567  1.09584\n",
      "min_length is: 27      \n",
      "length of data is: 28\n",
      "                         bid      ask\n",
      "2022-03-28 02:34:30  1.09572  1.09586\n",
      "2022-03-28 02:34:31  1.09571  1.09585\n",
      "2022-03-28 02:34:32  1.09570  1.09586\n",
      "2022-03-28 02:34:33  1.09567  1.09584\n",
      "2022-03-28 02:34:34  1.09568  1.09583\n",
      "Signal is: 1\n"
     ]
    },
    {
     "name": "stderr",
     "output_type": "stream",
     "text": [
      "C:\\Users\\Eddie\\anaconda3\\envs\\securities-analysis\\lib\\site-packages\\sklearn\\base.py:450: UserWarning: X does not have valid feature names, but AdaBoostClassifier was fitted with feature names\n",
      "  warnings.warn(\n"
     ]
    },
    {
     "name": "stdout",
     "output_type": "stream",
     "text": [
      "Long {'id': '123', 'time': '2022-03-28T02:34:34.922607538Z', 'userID': 21798954, 'accountID': '101-001-21798954-001', 'batchID': '122', 'requestID': '42942834006954515', 'type': 'ORDER_FILL', 'orderID': '122', 'instrument': 'EUR_USD', 'units': '100000.0', 'gainQuoteHomeConversionFactor': '1.0', 'lossQuoteHomeConversionFactor': '1.0', 'price': 1.09584, 'fullVWAP': 1.09584, 'fullPrice': {'type': 'PRICE', 'bids': [{'price': 1.09567, 'liquidity': '10000000'}], 'asks': [{'price': 1.09584, 'liquidity': '10000000'}], 'closeoutBid': 1.09567, 'closeoutAsk': 1.09584}, 'reason': 'MARKET_ORDER', 'pl': '0.0', 'financing': '0.0', 'commission': '0.0', 'guaranteedExecutionFee': '0.0', 'accountBalance': '99699.911', 'tradeOpened': {'tradeID': '123', 'units': '100000.0', 'price': 1.09584, 'guaranteedExecutionFee': '0.0', 'halfSpreadCost': '8.5', 'initialMarginRequired': '2191.52'}, 'halfSpreadCost': '8.5'}\n",
      "*** END OF CYCLE ***\n",
      "\n",
      " False False\n",
      "min_length is: 28      \n",
      "length of data is: 28\n",
      "                         bid      ask\n",
      "2022-03-28 02:34:30  1.09572  1.09586\n",
      "2022-03-28 02:34:31  1.09571  1.09585\n",
      "2022-03-28 02:34:32  1.09570  1.09586\n",
      "2022-03-28 02:34:33  1.09567  1.09584\n",
      "2022-03-28 02:34:34  1.09568  1.09583\n",
      "min_length is: 28      \n",
      "length of data is: 30\n",
      "                         bid      ask\n",
      "2022-03-28 02:34:32  1.09570  1.09586\n",
      "2022-03-28 02:34:33  1.09567  1.09584\n",
      "2022-03-28 02:34:34  1.09568  1.09583\n",
      "2022-03-28 02:34:35  1.09567  1.09584\n",
      "2022-03-28 02:34:36  1.09567  1.09584\n",
      "Signal is: 1\n",
      "*** NO TRADE PLACED ***\n",
      "*** END OF CYCLE ***\n",
      "\n",
      " False False\n"
     ]
    },
    {
     "name": "stderr",
     "output_type": "stream",
     "text": [
      "C:\\Users\\Eddie\\anaconda3\\envs\\securities-analysis\\lib\\site-packages\\sklearn\\base.py:450: UserWarning: X does not have valid feature names, but AdaBoostClassifier was fitted with feature names\n",
      "  warnings.warn(\n"
     ]
    },
    {
     "name": "stdout",
     "output_type": "stream",
     "text": [
      "min_length is: 29      \n",
      "length of data is: 31\n",
      "                         bid      ask\n",
      "2022-03-28 02:34:33  1.09567  1.09584\n",
      "2022-03-28 02:34:34  1.09568  1.09583\n",
      "2022-03-28 02:34:35  1.09567  1.09584\n",
      "2022-03-28 02:34:36  1.09567  1.09584\n",
      "2022-03-28 02:34:37  1.09569  1.09584\n",
      "Signal is: 1\n",
      "*** NO TRADE PLACED ***\n",
      "*** END OF CYCLE ***\n",
      "\n",
      " False False\n"
     ]
    },
    {
     "name": "stderr",
     "output_type": "stream",
     "text": [
      "C:\\Users\\Eddie\\anaconda3\\envs\\securities-analysis\\lib\\site-packages\\sklearn\\base.py:450: UserWarning: X does not have valid feature names, but AdaBoostClassifier was fitted with feature names\n",
      "  warnings.warn(\n"
     ]
    },
    {
     "name": "stdout",
     "output_type": "stream",
     "text": [
      "min_length is: 30      \n",
      "length of data is: 31\n",
      "                         bid      ask\n",
      "2022-03-28 02:34:33  1.09567  1.09584\n",
      "2022-03-28 02:34:34  1.09568  1.09583\n",
      "2022-03-28 02:34:35  1.09567  1.09584\n",
      "2022-03-28 02:34:36  1.09567  1.09584\n",
      "2022-03-28 02:34:37  1.09569  1.09584\n",
      "Signal is: 1\n",
      "*** NO TRADE PLACED ***\n",
      "*** END OF CYCLE ***\n",
      "\n",
      " False False\n"
     ]
    },
    {
     "name": "stderr",
     "output_type": "stream",
     "text": [
      "C:\\Users\\Eddie\\anaconda3\\envs\\securities-analysis\\lib\\site-packages\\sklearn\\base.py:450: UserWarning: X does not have valid feature names, but AdaBoostClassifier was fitted with feature names\n",
      "  warnings.warn(\n"
     ]
    },
    {
     "name": "stdout",
     "output_type": "stream",
     "text": [
      "min_length is: 31      \n",
      "length of data is: 32\n",
      "                         bid      ask\n",
      "2022-03-28 02:34:34  1.09568  1.09583\n",
      "2022-03-28 02:34:35  1.09567  1.09584\n",
      "2022-03-28 02:34:36  1.09567  1.09584\n",
      "2022-03-28 02:34:37  1.09569  1.09584\n",
      "2022-03-28 02:34:38  1.09569  1.09584\n",
      "Signal is: 1\n",
      "*** NO TRADE PLACED ***\n",
      "*** END OF CYCLE ***\n",
      "\n",
      " False False\n"
     ]
    },
    {
     "name": "stderr",
     "output_type": "stream",
     "text": [
      "C:\\Users\\Eddie\\anaconda3\\envs\\securities-analysis\\lib\\site-packages\\sklearn\\base.py:450: UserWarning: X does not have valid feature names, but AdaBoostClassifier was fitted with feature names\n",
      "  warnings.warn(\n"
     ]
    },
    {
     "name": "stdout",
     "output_type": "stream",
     "text": [
      "min_length is: 32      \n",
      "length of data is: 33\n",
      "                         bid      ask\n",
      "2022-03-28 02:34:35  1.09567  1.09584\n",
      "2022-03-28 02:34:36  1.09567  1.09584\n",
      "2022-03-28 02:34:37  1.09569  1.09584\n",
      "2022-03-28 02:34:38  1.09569  1.09584\n",
      "2022-03-28 02:34:39  1.09568  1.09584\n",
      "Signal is: 1\n",
      "*** NO TRADE PLACED ***\n",
      "*** END OF CYCLE ***\n",
      "\n",
      " False False\n"
     ]
    },
    {
     "name": "stderr",
     "output_type": "stream",
     "text": [
      "C:\\Users\\Eddie\\anaconda3\\envs\\securities-analysis\\lib\\site-packages\\sklearn\\base.py:450: UserWarning: X does not have valid feature names, but AdaBoostClassifier was fitted with feature names\n",
      "  warnings.warn(\n"
     ]
    },
    {
     "name": "stdout",
     "output_type": "stream",
     "text": [
      "min_length is: 33      \n",
      "length of data is: 35\n",
      "                         bid      ask\n",
      "2022-03-28 02:34:37  1.09569  1.09584\n",
      "2022-03-28 02:34:38  1.09569  1.09584\n",
      "2022-03-28 02:34:39  1.09568  1.09584\n",
      "2022-03-28 02:34:40  1.09568  1.09584\n",
      "2022-03-28 02:34:41  1.09568  1.09584\n",
      "Signal is: 1\n",
      "*** NO TRADE PLACED ***\n",
      "*** END OF CYCLE ***\n",
      "\n",
      " False False\n"
     ]
    },
    {
     "name": "stderr",
     "output_type": "stream",
     "text": [
      "C:\\Users\\Eddie\\anaconda3\\envs\\securities-analysis\\lib\\site-packages\\sklearn\\base.py:450: UserWarning: X does not have valid feature names, but AdaBoostClassifier was fitted with feature names\n",
      "  warnings.warn(\n"
     ]
    },
    {
     "name": "stdout",
     "output_type": "stream",
     "text": [
      "min_length is: 34      \n",
      "length of data is: 36\n",
      "                         bid      ask\n",
      "2022-03-28 02:34:38  1.09569  1.09584\n",
      "2022-03-28 02:34:39  1.09568  1.09584\n",
      "2022-03-28 02:34:40  1.09568  1.09584\n",
      "2022-03-28 02:34:41  1.09568  1.09584\n",
      "2022-03-28 02:34:42  1.09573  1.09588\n",
      "Signal is: 1\n",
      "*** NO TRADE PLACED ***\n",
      "*** END OF CYCLE ***\n",
      "\n",
      " False False\n"
     ]
    },
    {
     "name": "stderr",
     "output_type": "stream",
     "text": [
      "C:\\Users\\Eddie\\anaconda3\\envs\\securities-analysis\\lib\\site-packages\\sklearn\\base.py:450: UserWarning: X does not have valid feature names, but AdaBoostClassifier was fitted with feature names\n",
      "  warnings.warn(\n"
     ]
    },
    {
     "name": "stdout",
     "output_type": "stream",
     "text": [
      "min_length is: 35      \n",
      "length of data is: 38\n",
      "                         bid      ask\n",
      "2022-03-28 02:34:40  1.09568  1.09584\n",
      "2022-03-28 02:34:41  1.09568  1.09584\n",
      "2022-03-28 02:34:42  1.09573  1.09588\n",
      "2022-03-28 02:34:43  1.09569  1.09586\n",
      "2022-03-28 02:34:44  1.09569  1.09586\n",
      "Signal is: 1\n",
      "*** NO TRADE PLACED ***\n",
      "*** END OF CYCLE ***\n",
      "\n",
      " False False\n"
     ]
    },
    {
     "name": "stderr",
     "output_type": "stream",
     "text": [
      "C:\\Users\\Eddie\\anaconda3\\envs\\securities-analysis\\lib\\site-packages\\sklearn\\base.py:450: UserWarning: X does not have valid feature names, but AdaBoostClassifier was fitted with feature names\n",
      "  warnings.warn(\n"
     ]
    },
    {
     "name": "stdout",
     "output_type": "stream",
     "text": [
      "min_length is: 36      \n",
      "length of data is: 38\n",
      "                         bid      ask\n",
      "2022-03-28 02:34:40  1.09568  1.09584\n",
      "2022-03-28 02:34:41  1.09568  1.09584\n",
      "2022-03-28 02:34:42  1.09573  1.09588\n",
      "2022-03-28 02:34:43  1.09569  1.09586\n",
      "2022-03-28 02:34:44  1.09569  1.09586\n",
      "Signal is: 1\n",
      "*** NO TRADE PLACED ***\n",
      "*** END OF CYCLE ***\n",
      "\n",
      " False False\n"
     ]
    },
    {
     "name": "stderr",
     "output_type": "stream",
     "text": [
      "C:\\Users\\Eddie\\anaconda3\\envs\\securities-analysis\\lib\\site-packages\\sklearn\\base.py:450: UserWarning: X does not have valid feature names, but AdaBoostClassifier was fitted with feature names\n",
      "  warnings.warn(\n"
     ]
    },
    {
     "name": "stdout",
     "output_type": "stream",
     "text": [
      "min_length is: 37      \n",
      "length of data is: 39\n",
      "                         bid      ask\n",
      "2022-03-28 02:34:41  1.09568  1.09584\n",
      "2022-03-28 02:34:42  1.09573  1.09588\n",
      "2022-03-28 02:34:43  1.09569  1.09586\n",
      "2022-03-28 02:34:44  1.09569  1.09586\n",
      "2022-03-28 02:34:45  1.09571  1.09588\n",
      "Signal is: 1\n",
      "*** NO TRADE PLACED ***\n",
      "*** END OF CYCLE ***\n",
      "\n",
      " False False\n"
     ]
    },
    {
     "name": "stderr",
     "output_type": "stream",
     "text": [
      "C:\\Users\\Eddie\\anaconda3\\envs\\securities-analysis\\lib\\site-packages\\sklearn\\base.py:450: UserWarning: X does not have valid feature names, but AdaBoostClassifier was fitted with feature names\n",
      "  warnings.warn(\n"
     ]
    },
    {
     "name": "stdout",
     "output_type": "stream",
     "text": [
      "min_length is: 38      \n",
      "length of data is: 40\n",
      "                         bid      ask\n",
      "2022-03-28 02:34:42  1.09573  1.09588\n",
      "2022-03-28 02:34:43  1.09569  1.09586\n",
      "2022-03-28 02:34:44  1.09569  1.09586\n",
      "2022-03-28 02:34:45  1.09571  1.09588\n",
      "2022-03-28 02:34:46  1.09571  1.09587\n",
      "Signal is: 1\n",
      "*** NO TRADE PLACED ***\n",
      "*** END OF CYCLE ***\n",
      "\n",
      " False False\n"
     ]
    },
    {
     "name": "stderr",
     "output_type": "stream",
     "text": [
      "C:\\Users\\Eddie\\anaconda3\\envs\\securities-analysis\\lib\\site-packages\\sklearn\\base.py:450: UserWarning: X does not have valid feature names, but AdaBoostClassifier was fitted with feature names\n",
      "  warnings.warn(\n"
     ]
    },
    {
     "name": "stdout",
     "output_type": "stream",
     "text": [
      "min_length is: 39      \n",
      "length of data is: 40\n",
      "                         bid      ask\n",
      "2022-03-28 02:34:42  1.09573  1.09588\n",
      "2022-03-28 02:34:43  1.09569  1.09586\n",
      "2022-03-28 02:34:44  1.09569  1.09586\n",
      "2022-03-28 02:34:45  1.09571  1.09588\n",
      "2022-03-28 02:34:46  1.09571  1.09587\n",
      "Signal is: 1\n",
      "*** NO TRADE PLACED ***\n",
      "*** END OF CYCLE ***\n",
      "\n",
      " False False\n"
     ]
    },
    {
     "name": "stderr",
     "output_type": "stream",
     "text": [
      "C:\\Users\\Eddie\\anaconda3\\envs\\securities-analysis\\lib\\site-packages\\sklearn\\base.py:450: UserWarning: X does not have valid feature names, but AdaBoostClassifier was fitted with feature names\n",
      "  warnings.warn(\n"
     ]
    },
    {
     "name": "stdout",
     "output_type": "stream",
     "text": [
      "min_length is: 40      \n",
      "length of data is: 42\n",
      "                         bid      ask\n",
      "2022-03-28 02:34:44  1.09569  1.09586\n",
      "2022-03-28 02:34:45  1.09571  1.09588\n",
      "2022-03-28 02:34:46  1.09571  1.09587\n",
      "2022-03-28 02:34:47  1.09571  1.09587\n",
      "2022-03-28 02:34:48  1.09571  1.09587\n",
      "Signal is: 1\n",
      "*** NO TRADE PLACED ***\n",
      "*** END OF CYCLE ***\n",
      "\n",
      " False False\n"
     ]
    },
    {
     "name": "stderr",
     "output_type": "stream",
     "text": [
      "C:\\Users\\Eddie\\anaconda3\\envs\\securities-analysis\\lib\\site-packages\\sklearn\\base.py:450: UserWarning: X does not have valid feature names, but AdaBoostClassifier was fitted with feature names\n",
      "  warnings.warn(\n"
     ]
    },
    {
     "name": "stdout",
     "output_type": "stream",
     "text": [
      "min_length is: 41      \n",
      "length of data is: 44\n",
      "                         bid      ask\n",
      "2022-03-28 02:34:46  1.09571  1.09587\n",
      "2022-03-28 02:34:47  1.09571  1.09587\n",
      "2022-03-28 02:34:48  1.09571  1.09587\n",
      "2022-03-28 02:34:49  1.09570  1.09587\n",
      "2022-03-28 02:34:50  1.09570  1.09587\n",
      "Signal is: 1\n",
      "*** NO TRADE PLACED ***\n",
      "*** END OF CYCLE ***\n",
      "\n",
      " False False\n"
     ]
    },
    {
     "name": "stderr",
     "output_type": "stream",
     "text": [
      "C:\\Users\\Eddie\\anaconda3\\envs\\securities-analysis\\lib\\site-packages\\sklearn\\base.py:450: UserWarning: X does not have valid feature names, but AdaBoostClassifier was fitted with feature names\n",
      "  warnings.warn(\n"
     ]
    },
    {
     "name": "stdout",
     "output_type": "stream",
     "text": [
      "min_length is: 42      \n",
      "length of data is: 47\n",
      "                         bid      ask\n",
      "2022-03-28 02:34:49  1.09570  1.09587\n",
      "2022-03-28 02:34:50  1.09570  1.09587\n",
      "2022-03-28 02:34:51  1.09566  1.09583\n",
      "2022-03-28 02:34:52  1.09566  1.09583\n",
      "2022-03-28 02:34:53  1.09566  1.09583\n",
      "Signal is: 1\n",
      "*** NO TRADE PLACED ***\n",
      "*** END OF CYCLE ***\n",
      "\n",
      " False False\n"
     ]
    },
    {
     "name": "stderr",
     "output_type": "stream",
     "text": [
      "C:\\Users\\Eddie\\anaconda3\\envs\\securities-analysis\\lib\\site-packages\\sklearn\\base.py:450: UserWarning: X does not have valid feature names, but AdaBoostClassifier was fitted with feature names\n",
      "  warnings.warn(\n"
     ]
    },
    {
     "name": "stdout",
     "output_type": "stream",
     "text": [
      "min_length is: 43      \n",
      "length of data is: 47\n",
      "                         bid      ask\n",
      "2022-03-28 02:34:49  1.09570  1.09587\n",
      "2022-03-28 02:34:50  1.09570  1.09587\n",
      "2022-03-28 02:34:51  1.09566  1.09583\n",
      "2022-03-28 02:34:52  1.09566  1.09583\n",
      "2022-03-28 02:34:53  1.09566  1.09583\n",
      "Signal is: 1\n",
      "*** NO TRADE PLACED ***\n",
      "*** END OF CYCLE ***\n",
      "\n",
      " False False\n"
     ]
    },
    {
     "name": "stderr",
     "output_type": "stream",
     "text": [
      "C:\\Users\\Eddie\\anaconda3\\envs\\securities-analysis\\lib\\site-packages\\sklearn\\base.py:450: UserWarning: X does not have valid feature names, but AdaBoostClassifier was fitted with feature names\n",
      "  warnings.warn(\n"
     ]
    },
    {
     "name": "stdout",
     "output_type": "stream",
     "text": [
      "min_length is: 44      \n",
      "length of data is: 47\n",
      "                         bid      ask\n",
      "2022-03-28 02:34:49  1.09570  1.09587\n",
      "2022-03-28 02:34:50  1.09570  1.09587\n",
      "2022-03-28 02:34:51  1.09566  1.09583\n",
      "2022-03-28 02:34:52  1.09566  1.09583\n",
      "2022-03-28 02:34:53  1.09566  1.09583\n",
      "Signal is: 1\n",
      "*** NO TRADE PLACED ***\n",
      "*** END OF CYCLE ***\n",
      "\n",
      " False False\n"
     ]
    },
    {
     "name": "stderr",
     "output_type": "stream",
     "text": [
      "C:\\Users\\Eddie\\anaconda3\\envs\\securities-analysis\\lib\\site-packages\\sklearn\\base.py:450: UserWarning: X does not have valid feature names, but AdaBoostClassifier was fitted with feature names\n",
      "  warnings.warn(\n"
     ]
    },
    {
     "name": "stdout",
     "output_type": "stream",
     "text": [
      "min_length is: 45      \n",
      "length of data is: 48\n",
      "                         bid      ask\n",
      "2022-03-28 02:34:50  1.09570  1.09587\n",
      "2022-03-28 02:34:51  1.09566  1.09583\n",
      "2022-03-28 02:34:52  1.09566  1.09583\n",
      "2022-03-28 02:34:53  1.09566  1.09583\n",
      "2022-03-28 02:34:54  1.09566  1.09583\n",
      "Signal is: 1\n",
      "*** NO TRADE PLACED ***\n",
      "*** END OF CYCLE ***\n",
      "\n",
      " False False\n"
     ]
    },
    {
     "name": "stderr",
     "output_type": "stream",
     "text": [
      "C:\\Users\\Eddie\\anaconda3\\envs\\securities-analysis\\lib\\site-packages\\sklearn\\base.py:450: UserWarning: X does not have valid feature names, but AdaBoostClassifier was fitted with feature names\n",
      "  warnings.warn(\n"
     ]
    },
    {
     "name": "stdout",
     "output_type": "stream",
     "text": [
      "min_length is: 46      \n",
      "length of data is: 55\n",
      "                         bid      ask\n",
      "2022-03-28 02:34:57  1.09567  1.09583\n",
      "2022-03-28 02:34:58  1.09567  1.09583\n",
      "2022-03-28 02:34:59  1.09567  1.09583\n",
      "2022-03-28 02:35:00  1.09567  1.09583\n",
      "2022-03-28 02:35:01  1.09567  1.09583\n",
      "Signal is: 1\n",
      "*** NO TRADE PLACED ***\n",
      "*** END OF CYCLE ***\n",
      "\n",
      " False False\n"
     ]
    },
    {
     "name": "stderr",
     "output_type": "stream",
     "text": [
      "C:\\Users\\Eddie\\anaconda3\\envs\\securities-analysis\\lib\\site-packages\\sklearn\\base.py:450: UserWarning: X does not have valid feature names, but AdaBoostClassifier was fitted with feature names\n",
      "  warnings.warn(\n"
     ]
    },
    {
     "name": "stdout",
     "output_type": "stream",
     "text": [
      "min_length is: 47      \n",
      "length of data is: 55\n",
      "                         bid      ask\n",
      "2022-03-28 02:34:57  1.09567  1.09583\n",
      "2022-03-28 02:34:58  1.09567  1.09583\n",
      "2022-03-28 02:34:59  1.09567  1.09583\n",
      "2022-03-28 02:35:00  1.09567  1.09583\n",
      "2022-03-28 02:35:01  1.09567  1.09583\n",
      "Signal is: 1\n",
      "*** NO TRADE PLACED ***\n",
      "*** END OF CYCLE ***\n",
      "\n",
      " False False\n"
     ]
    },
    {
     "name": "stderr",
     "output_type": "stream",
     "text": [
      "C:\\Users\\Eddie\\anaconda3\\envs\\securities-analysis\\lib\\site-packages\\sklearn\\base.py:450: UserWarning: X does not have valid feature names, but AdaBoostClassifier was fitted with feature names\n",
      "  warnings.warn(\n"
     ]
    },
    {
     "name": "stdout",
     "output_type": "stream",
     "text": [
      "min_length is: 48      \n",
      "length of data is: 57\n",
      "                         bid      ask\n",
      "2022-03-28 02:34:59  1.09567  1.09583\n",
      "2022-03-28 02:35:00  1.09567  1.09583\n",
      "2022-03-28 02:35:01  1.09567  1.09583\n",
      "2022-03-28 02:35:02  1.09566  1.09583\n",
      "2022-03-28 02:35:03  1.09566  1.09583\n",
      "Signal is: 1\n",
      "*** NO TRADE PLACED ***\n",
      "*** END OF CYCLE ***\n",
      "\n",
      " False False\n"
     ]
    },
    {
     "name": "stderr",
     "output_type": "stream",
     "text": [
      "C:\\Users\\Eddie\\anaconda3\\envs\\securities-analysis\\lib\\site-packages\\sklearn\\base.py:450: UserWarning: X does not have valid feature names, but AdaBoostClassifier was fitted with feature names\n",
      "  warnings.warn(\n"
     ]
    },
    {
     "name": "stdout",
     "output_type": "stream",
     "text": [
      "min_length is: 49      \n",
      "length of data is: 57\n",
      "                         bid      ask\n",
      "2022-03-28 02:34:59  1.09567  1.09583\n",
      "2022-03-28 02:35:00  1.09567  1.09583\n",
      "2022-03-28 02:35:01  1.09567  1.09583\n",
      "2022-03-28 02:35:02  1.09566  1.09583\n",
      "2022-03-28 02:35:03  1.09566  1.09583\n",
      "Signal is: 1\n",
      "*** NO TRADE PLACED ***\n",
      "*** END OF CYCLE ***\n",
      "\n",
      " False False\n"
     ]
    },
    {
     "name": "stderr",
     "output_type": "stream",
     "text": [
      "C:\\Users\\Eddie\\anaconda3\\envs\\securities-analysis\\lib\\site-packages\\sklearn\\base.py:450: UserWarning: X does not have valid feature names, but AdaBoostClassifier was fitted with feature names\n",
      "  warnings.warn(\n"
     ]
    },
    {
     "name": "stdout",
     "output_type": "stream",
     "text": [
      "min_length is: 50      \n",
      "length of data is: 58\n",
      "                         bid      ask\n",
      "2022-03-28 02:35:00  1.09567  1.09583\n",
      "2022-03-28 02:35:01  1.09567  1.09583\n",
      "2022-03-28 02:35:02  1.09566  1.09583\n",
      "2022-03-28 02:35:03  1.09566  1.09583\n",
      "2022-03-28 02:35:04  1.09566  1.09584\n",
      "Signal is: 1\n",
      "*** NO TRADE PLACED ***\n",
      "*** END OF CYCLE ***\n",
      "\n",
      " False False\n"
     ]
    },
    {
     "name": "stderr",
     "output_type": "stream",
     "text": [
      "C:\\Users\\Eddie\\anaconda3\\envs\\securities-analysis\\lib\\site-packages\\sklearn\\base.py:450: UserWarning: X does not have valid feature names, but AdaBoostClassifier was fitted with feature names\n",
      "  warnings.warn(\n"
     ]
    },
    {
     "name": "stdout",
     "output_type": "stream",
     "text": [
      "min_length is: 51      \n",
      "length of data is: 58\n",
      "                         bid      ask\n",
      "2022-03-28 02:35:00  1.09567  1.09583\n",
      "2022-03-28 02:35:01  1.09567  1.09583\n",
      "2022-03-28 02:35:02  1.09566  1.09583\n",
      "2022-03-28 02:35:03  1.09566  1.09583\n",
      "2022-03-28 02:35:04  1.09566  1.09584\n",
      "Signal is: 1\n",
      "*** NO TRADE PLACED ***\n",
      "*** END OF CYCLE ***\n",
      "\n",
      " False False\n"
     ]
    },
    {
     "name": "stderr",
     "output_type": "stream",
     "text": [
      "C:\\Users\\Eddie\\anaconda3\\envs\\securities-analysis\\lib\\site-packages\\sklearn\\base.py:450: UserWarning: X does not have valid feature names, but AdaBoostClassifier was fitted with feature names\n",
      "  warnings.warn(\n"
     ]
    },
    {
     "name": "stdout",
     "output_type": "stream",
     "text": [
      "min_length is: 52      \n",
      "length of data is: 59\n",
      "                         bid      ask\n",
      "2022-03-28 02:35:01  1.09567  1.09583\n",
      "2022-03-28 02:35:02  1.09566  1.09583\n",
      "2022-03-28 02:35:03  1.09566  1.09583\n",
      "2022-03-28 02:35:04  1.09566  1.09584\n",
      "2022-03-28 02:35:05  1.09563  1.09581\n",
      "Signal is: 1\n",
      "*** NO TRADE PLACED ***\n",
      "*** END OF CYCLE ***\n",
      "\n",
      " False False\n"
     ]
    },
    {
     "name": "stderr",
     "output_type": "stream",
     "text": [
      "C:\\Users\\Eddie\\anaconda3\\envs\\securities-analysis\\lib\\site-packages\\sklearn\\base.py:450: UserWarning: X does not have valid feature names, but AdaBoostClassifier was fitted with feature names\n",
      "  warnings.warn(\n"
     ]
    },
    {
     "name": "stdout",
     "output_type": "stream",
     "text": [
      "min_length is: 53      \n",
      "length of data is: 60\n",
      "                         bid      ask\n",
      "2022-03-28 02:35:02  1.09566  1.09583\n",
      "2022-03-28 02:35:03  1.09566  1.09583\n",
      "2022-03-28 02:35:04  1.09566  1.09584\n",
      "2022-03-28 02:35:05  1.09563  1.09581\n",
      "2022-03-28 02:35:06  1.09562  1.09581\n",
      "Signal is: 1\n",
      "*** NO TRADE PLACED ***\n",
      "*** END OF CYCLE ***\n",
      "\n",
      " False False\n"
     ]
    },
    {
     "name": "stderr",
     "output_type": "stream",
     "text": [
      "C:\\Users\\Eddie\\anaconda3\\envs\\securities-analysis\\lib\\site-packages\\sklearn\\base.py:450: UserWarning: X does not have valid feature names, but AdaBoostClassifier was fitted with feature names\n",
      "  warnings.warn(\n"
     ]
    },
    {
     "name": "stdout",
     "output_type": "stream",
     "text": [
      "min_length is: 54      \n",
      "length of data is: 61\n",
      "                         bid      ask\n",
      "2022-03-28 02:35:03  1.09566  1.09583\n",
      "2022-03-28 02:35:04  1.09566  1.09584\n",
      "2022-03-28 02:35:05  1.09563  1.09581\n",
      "2022-03-28 02:35:06  1.09562  1.09581\n",
      "2022-03-28 02:35:07  1.09561  1.09580\n",
      "Signal is: 1\n",
      "*** NO TRADE PLACED ***\n",
      "*** END OF CYCLE ***\n",
      "\n",
      " False False\n"
     ]
    },
    {
     "name": "stderr",
     "output_type": "stream",
     "text": [
      "C:\\Users\\Eddie\\anaconda3\\envs\\securities-analysis\\lib\\site-packages\\sklearn\\base.py:450: UserWarning: X does not have valid feature names, but AdaBoostClassifier was fitted with feature names\n",
      "  warnings.warn(\n"
     ]
    },
    {
     "name": "stdout",
     "output_type": "stream",
     "text": [
      "min_length is: 55      \n",
      "length of data is: 63\n",
      "                         bid      ask\n",
      "2022-03-28 02:35:05  1.09563  1.09581\n",
      "2022-03-28 02:35:06  1.09562  1.09581\n",
      "2022-03-28 02:35:07  1.09561  1.09580\n",
      "2022-03-28 02:35:08  1.09562  1.09580\n",
      "2022-03-28 02:35:09  1.09562  1.09580\n",
      "Signal is: 1\n",
      "*** NO TRADE PLACED ***\n",
      "*** END OF CYCLE ***\n",
      "\n",
      " False False\n"
     ]
    },
    {
     "name": "stderr",
     "output_type": "stream",
     "text": [
      "C:\\Users\\Eddie\\anaconda3\\envs\\securities-analysis\\lib\\site-packages\\sklearn\\base.py:450: UserWarning: X does not have valid feature names, but AdaBoostClassifier was fitted with feature names\n",
      "  warnings.warn(\n"
     ]
    },
    {
     "name": "stdout",
     "output_type": "stream",
     "text": [
      "min_length is: 56      \n",
      "length of data is: 63\n",
      "                         bid      ask\n",
      "2022-03-28 02:35:05  1.09563  1.09581\n",
      "2022-03-28 02:35:06  1.09562  1.09581\n",
      "2022-03-28 02:35:07  1.09561  1.09580\n",
      "2022-03-28 02:35:08  1.09562  1.09580\n",
      "2022-03-28 02:35:09  1.09562  1.09580\n",
      "Signal is: 1\n",
      "*** NO TRADE PLACED ***\n",
      "*** END OF CYCLE ***\n",
      "\n",
      " False False\n"
     ]
    },
    {
     "name": "stderr",
     "output_type": "stream",
     "text": [
      "C:\\Users\\Eddie\\anaconda3\\envs\\securities-analysis\\lib\\site-packages\\sklearn\\base.py:450: UserWarning: X does not have valid feature names, but AdaBoostClassifier was fitted with feature names\n",
      "  warnings.warn(\n"
     ]
    },
    {
     "name": "stdout",
     "output_type": "stream",
     "text": [
      "min_length is: 57      \n",
      "length of data is: 64\n",
      "                         bid      ask\n",
      "2022-03-28 02:35:06  1.09562  1.09581\n",
      "2022-03-28 02:35:07  1.09561  1.09580\n",
      "2022-03-28 02:35:08  1.09562  1.09580\n",
      "2022-03-28 02:35:09  1.09562  1.09580\n",
      "2022-03-28 02:35:10  1.09561  1.09581\n",
      "Signal is: 1\n",
      "*** NO TRADE PLACED ***\n",
      "*** END OF CYCLE ***\n",
      "\n",
      " False False\n"
     ]
    },
    {
     "name": "stderr",
     "output_type": "stream",
     "text": [
      "C:\\Users\\Eddie\\anaconda3\\envs\\securities-analysis\\lib\\site-packages\\sklearn\\base.py:450: UserWarning: X does not have valid feature names, but AdaBoostClassifier was fitted with feature names\n",
      "  warnings.warn(\n"
     ]
    },
    {
     "name": "stdout",
     "output_type": "stream",
     "text": [
      "min_length is: 58      \n",
      "length of data is: 64\n",
      "                         bid      ask\n",
      "2022-03-28 02:35:06  1.09562  1.09581\n",
      "2022-03-28 02:35:07  1.09561  1.09580\n",
      "2022-03-28 02:35:08  1.09562  1.09580\n",
      "2022-03-28 02:35:09  1.09562  1.09580\n",
      "2022-03-28 02:35:10  1.09561  1.09581\n",
      "Signal is: 1\n",
      "*** NO TRADE PLACED ***\n",
      "*** END OF CYCLE ***\n",
      "\n",
      " False False\n"
     ]
    },
    {
     "name": "stderr",
     "output_type": "stream",
     "text": [
      "C:\\Users\\Eddie\\anaconda3\\envs\\securities-analysis\\lib\\site-packages\\sklearn\\base.py:450: UserWarning: X does not have valid feature names, but AdaBoostClassifier was fitted with feature names\n",
      "  warnings.warn(\n"
     ]
    },
    {
     "name": "stdout",
     "output_type": "stream",
     "text": [
      "min_length is: 59      \n",
      "length of data is: 65\n",
      "                         bid      ask\n",
      "2022-03-28 02:35:07  1.09561  1.09580\n",
      "2022-03-28 02:35:08  1.09562  1.09580\n",
      "2022-03-28 02:35:09  1.09562  1.09580\n",
      "2022-03-28 02:35:10  1.09561  1.09581\n",
      "2022-03-28 02:35:11  1.09561  1.09580\n",
      "Signal is: 1\n",
      "*** NO TRADE PLACED ***\n",
      "*** END OF CYCLE ***\n",
      "\n",
      " False False\n"
     ]
    },
    {
     "name": "stderr",
     "output_type": "stream",
     "text": [
      "C:\\Users\\Eddie\\anaconda3\\envs\\securities-analysis\\lib\\site-packages\\sklearn\\base.py:450: UserWarning: X does not have valid feature names, but AdaBoostClassifier was fitted with feature names\n",
      "  warnings.warn(\n"
     ]
    },
    {
     "name": "stdout",
     "output_type": "stream",
     "text": [
      "min_length is: 60      \n",
      "length of data is: 65\n",
      "                         bid      ask\n",
      "2022-03-28 02:35:07  1.09561  1.09580\n",
      "2022-03-28 02:35:08  1.09562  1.09580\n",
      "2022-03-28 02:35:09  1.09562  1.09580\n",
      "2022-03-28 02:35:10  1.09561  1.09581\n",
      "2022-03-28 02:35:11  1.09561  1.09580\n",
      "Signal is: 1\n",
      "*** NO TRADE PLACED ***\n",
      "*** END OF CYCLE ***\n",
      "\n",
      " False False\n"
     ]
    },
    {
     "name": "stderr",
     "output_type": "stream",
     "text": [
      "C:\\Users\\Eddie\\anaconda3\\envs\\securities-analysis\\lib\\site-packages\\sklearn\\base.py:450: UserWarning: X does not have valid feature names, but AdaBoostClassifier was fitted with feature names\n",
      "  warnings.warn(\n"
     ]
    },
    {
     "name": "stdout",
     "output_type": "stream",
     "text": [
      "min_length is: 61      \n",
      "length of data is: 66\n",
      "                         bid      ask\n",
      "2022-03-28 02:35:08  1.09562  1.09580\n",
      "2022-03-28 02:35:09  1.09562  1.09580\n",
      "2022-03-28 02:35:10  1.09561  1.09581\n",
      "2022-03-28 02:35:11  1.09561  1.09580\n",
      "2022-03-28 02:35:12  1.09560  1.09579\n",
      "Signal is: 1\n",
      "*** NO TRADE PLACED ***\n",
      "*** END OF CYCLE ***\n",
      "\n",
      " False False\n"
     ]
    },
    {
     "name": "stderr",
     "output_type": "stream",
     "text": [
      "C:\\Users\\Eddie\\anaconda3\\envs\\securities-analysis\\lib\\site-packages\\sklearn\\base.py:450: UserWarning: X does not have valid feature names, but AdaBoostClassifier was fitted with feature names\n",
      "  warnings.warn(\n"
     ]
    },
    {
     "name": "stdout",
     "output_type": "stream",
     "text": [
      "min_length is: 62      \n",
      "length of data is: 66\n",
      "                         bid      ask\n",
      "2022-03-28 02:35:08  1.09562  1.09580\n",
      "2022-03-28 02:35:09  1.09562  1.09580\n",
      "2022-03-28 02:35:10  1.09561  1.09581\n",
      "2022-03-28 02:35:11  1.09561  1.09580\n",
      "2022-03-28 02:35:12  1.09560  1.09579\n",
      "Signal is: 1\n",
      "*** NO TRADE PLACED ***\n",
      "*** END OF CYCLE ***\n",
      "\n",
      " False False\n"
     ]
    },
    {
     "name": "stderr",
     "output_type": "stream",
     "text": [
      "C:\\Users\\Eddie\\anaconda3\\envs\\securities-analysis\\lib\\site-packages\\sklearn\\base.py:450: UserWarning: X does not have valid feature names, but AdaBoostClassifier was fitted with feature names\n",
      "  warnings.warn(\n"
     ]
    },
    {
     "name": "stdout",
     "output_type": "stream",
     "text": [
      "min_length is: 63      \n",
      "length of data is: 68\n",
      "                         bid      ask\n",
      "2022-03-28 02:35:10  1.09561  1.09581\n",
      "2022-03-28 02:35:11  1.09561  1.09580\n",
      "2022-03-28 02:35:12  1.09560  1.09579\n",
      "2022-03-28 02:35:13  1.09561  1.09580\n",
      "2022-03-28 02:35:14  1.09561  1.09580\n",
      "Signal is: 1\n",
      "*** NO TRADE PLACED ***\n",
      "*** END OF CYCLE ***\n",
      "\n",
      " False False\n"
     ]
    },
    {
     "name": "stderr",
     "output_type": "stream",
     "text": [
      "C:\\Users\\Eddie\\anaconda3\\envs\\securities-analysis\\lib\\site-packages\\sklearn\\base.py:450: UserWarning: X does not have valid feature names, but AdaBoostClassifier was fitted with feature names\n",
      "  warnings.warn(\n"
     ]
    },
    {
     "name": "stdout",
     "output_type": "stream",
     "text": [
      "min_length is: 64      \n",
      "length of data is: 70\n",
      "                         bid      ask\n",
      "2022-03-28 02:35:12  1.09560  1.09579\n",
      "2022-03-28 02:35:13  1.09561  1.09580\n",
      "2022-03-28 02:35:14  1.09561  1.09580\n",
      "2022-03-28 02:35:15  1.09562  1.09579\n",
      "2022-03-28 02:35:16  1.09562  1.09579\n",
      "Signal is: 1\n",
      "*** NO TRADE PLACED ***\n",
      "*** END OF CYCLE ***\n",
      "\n",
      " False False\n"
     ]
    },
    {
     "name": "stderr",
     "output_type": "stream",
     "text": [
      "C:\\Users\\Eddie\\anaconda3\\envs\\securities-analysis\\lib\\site-packages\\sklearn\\base.py:450: UserWarning: X does not have valid feature names, but AdaBoostClassifier was fitted with feature names\n",
      "  warnings.warn(\n"
     ]
    },
    {
     "name": "stdout",
     "output_type": "stream",
     "text": [
      "min_length is: 65      \n",
      "length of data is: 72\n",
      "                         bid      ask\n",
      "2022-03-28 02:35:14  1.09561  1.09580\n",
      "2022-03-28 02:35:15  1.09562  1.09579\n",
      "2022-03-28 02:35:16  1.09562  1.09579\n",
      "2022-03-28 02:35:17  1.09561  1.09579\n",
      "2022-03-28 02:35:18  1.09561  1.09579\n",
      "Signal is: 1\n",
      "*** NO TRADE PLACED ***\n",
      "*** END OF CYCLE ***\n",
      "\n",
      " False False\n"
     ]
    },
    {
     "name": "stderr",
     "output_type": "stream",
     "text": [
      "C:\\Users\\Eddie\\anaconda3\\envs\\securities-analysis\\lib\\site-packages\\sklearn\\base.py:450: UserWarning: X does not have valid feature names, but AdaBoostClassifier was fitted with feature names\n",
      "  warnings.warn(\n"
     ]
    },
    {
     "name": "stdout",
     "output_type": "stream",
     "text": [
      "min_length is: 66      \n",
      "length of data is: 73\n",
      "                         bid      ask\n",
      "2022-03-28 02:35:15  1.09562  1.09579\n",
      "2022-03-28 02:35:16  1.09562  1.09579\n",
      "2022-03-28 02:35:17  1.09561  1.09579\n",
      "2022-03-28 02:35:18  1.09561  1.09579\n",
      "2022-03-28 02:35:19  1.09562  1.09579\n",
      "Signal is: 1\n",
      "*** NO TRADE PLACED ***\n",
      "*** END OF CYCLE ***\n",
      "\n",
      " False False\n"
     ]
    },
    {
     "name": "stderr",
     "output_type": "stream",
     "text": [
      "C:\\Users\\Eddie\\anaconda3\\envs\\securities-analysis\\lib\\site-packages\\sklearn\\base.py:450: UserWarning: X does not have valid feature names, but AdaBoostClassifier was fitted with feature names\n",
      "  warnings.warn(\n"
     ]
    },
    {
     "name": "stdout",
     "output_type": "stream",
     "text": [
      "min_length is: 67      \n",
      "length of data is: 74\n",
      "                         bid      ask\n",
      "2022-03-28 02:35:16  1.09562  1.09579\n",
      "2022-03-28 02:35:17  1.09561  1.09579\n",
      "2022-03-28 02:35:18  1.09561  1.09579\n",
      "2022-03-28 02:35:19  1.09562  1.09579\n",
      "2022-03-28 02:35:20  1.09561  1.09580\n",
      "Signal is: 1\n",
      "*** NO TRADE PLACED ***\n",
      "*** END OF CYCLE ***\n",
      "\n",
      " False False\n"
     ]
    },
    {
     "name": "stderr",
     "output_type": "stream",
     "text": [
      "C:\\Users\\Eddie\\anaconda3\\envs\\securities-analysis\\lib\\site-packages\\sklearn\\base.py:450: UserWarning: X does not have valid feature names, but AdaBoostClassifier was fitted with feature names\n",
      "  warnings.warn(\n"
     ]
    },
    {
     "name": "stdout",
     "output_type": "stream",
     "text": [
      "min_length is: 68      \n",
      "length of data is: 77\n",
      "                         bid      ask\n",
      "2022-03-28 02:35:19  1.09562  1.09579\n",
      "2022-03-28 02:35:20  1.09561  1.09580\n",
      "2022-03-28 02:35:21  1.09562  1.09579\n",
      "2022-03-28 02:35:22  1.09562  1.09579\n",
      "2022-03-28 02:35:23  1.09562  1.09579\n",
      "Signal is: 1\n",
      "*** NO TRADE PLACED ***\n",
      "*** END OF CYCLE ***\n",
      "\n",
      " False False\n"
     ]
    },
    {
     "name": "stderr",
     "output_type": "stream",
     "text": [
      "C:\\Users\\Eddie\\anaconda3\\envs\\securities-analysis\\lib\\site-packages\\sklearn\\base.py:450: UserWarning: X does not have valid feature names, but AdaBoostClassifier was fitted with feature names\n",
      "  warnings.warn(\n"
     ]
    },
    {
     "name": "stdout",
     "output_type": "stream",
     "text": [
      "min_length is: 69      \n",
      "length of data is: 77\n",
      "                         bid      ask\n",
      "2022-03-28 02:35:19  1.09562  1.09579\n",
      "2022-03-28 02:35:20  1.09561  1.09580\n",
      "2022-03-28 02:35:21  1.09562  1.09579\n",
      "2022-03-28 02:35:22  1.09562  1.09579\n",
      "2022-03-28 02:35:23  1.09562  1.09579\n",
      "Signal is: 1\n",
      "*** NO TRADE PLACED ***\n",
      "*** END OF CYCLE ***\n",
      "\n",
      " False False\n"
     ]
    },
    {
     "name": "stderr",
     "output_type": "stream",
     "text": [
      "C:\\Users\\Eddie\\anaconda3\\envs\\securities-analysis\\lib\\site-packages\\sklearn\\base.py:450: UserWarning: X does not have valid feature names, but AdaBoostClassifier was fitted with feature names\n",
      "  warnings.warn(\n"
     ]
    },
    {
     "name": "stdout",
     "output_type": "stream",
     "text": [
      "min_length is: 70      \n",
      "length of data is: 78\n",
      "                         bid      ask\n",
      "2022-03-28 02:35:20  1.09561  1.09580\n",
      "2022-03-28 02:35:21  1.09562  1.09579\n",
      "2022-03-28 02:35:22  1.09562  1.09579\n",
      "2022-03-28 02:35:23  1.09562  1.09579\n",
      "2022-03-28 02:35:24  1.09571  1.09587\n",
      "Signal is: 1\n",
      "*** NO TRADE PLACED ***\n",
      "*** END OF CYCLE ***\n",
      "\n",
      " False False\n"
     ]
    },
    {
     "name": "stderr",
     "output_type": "stream",
     "text": [
      "C:\\Users\\Eddie\\anaconda3\\envs\\securities-analysis\\lib\\site-packages\\sklearn\\base.py:450: UserWarning: X does not have valid feature names, but AdaBoostClassifier was fitted with feature names\n",
      "  warnings.warn(\n"
     ]
    },
    {
     "name": "stdout",
     "output_type": "stream",
     "text": [
      "min_length is: 71      \n",
      "length of data is: 78\n",
      "                         bid      ask\n",
      "2022-03-28 02:35:20  1.09561  1.09580\n",
      "2022-03-28 02:35:21  1.09562  1.09579\n",
      "2022-03-28 02:35:22  1.09562  1.09579\n",
      "2022-03-28 02:35:23  1.09562  1.09579\n",
      "2022-03-28 02:35:24  1.09571  1.09587\n",
      "Signal is: 1\n",
      "*** NO TRADE PLACED ***\n",
      "*** END OF CYCLE ***\n",
      "\n",
      " False False\n"
     ]
    },
    {
     "name": "stderr",
     "output_type": "stream",
     "text": [
      "C:\\Users\\Eddie\\anaconda3\\envs\\securities-analysis\\lib\\site-packages\\sklearn\\base.py:450: UserWarning: X does not have valid feature names, but AdaBoostClassifier was fitted with feature names\n",
      "  warnings.warn(\n"
     ]
    },
    {
     "name": "stdout",
     "output_type": "stream",
     "text": [
      "min_length is: 72      \n",
      "length of data is: 79\n",
      "                         bid      ask\n",
      "2022-03-28 02:35:21  1.09562  1.09579\n",
      "2022-03-28 02:35:22  1.09562  1.09579\n",
      "2022-03-28 02:35:23  1.09562  1.09579\n",
      "2022-03-28 02:35:24  1.09571  1.09587\n",
      "2022-03-28 02:35:25  1.09572  1.09589\n",
      "Signal is: 1\n",
      "*** NO TRADE PLACED ***\n",
      "*** END OF CYCLE ***\n",
      "\n",
      " False False\n"
     ]
    },
    {
     "name": "stderr",
     "output_type": "stream",
     "text": [
      "C:\\Users\\Eddie\\anaconda3\\envs\\securities-analysis\\lib\\site-packages\\sklearn\\base.py:450: UserWarning: X does not have valid feature names, but AdaBoostClassifier was fitted with feature names\n",
      "  warnings.warn(\n"
     ]
    },
    {
     "name": "stdout",
     "output_type": "stream",
     "text": [
      "min_length is: 73      \n",
      "length of data is: 79\n",
      "                         bid      ask\n",
      "2022-03-28 02:35:21  1.09562  1.09579\n",
      "2022-03-28 02:35:22  1.09562  1.09579\n",
      "2022-03-28 02:35:23  1.09562  1.09579\n",
      "2022-03-28 02:35:24  1.09571  1.09587\n",
      "2022-03-28 02:35:25  1.09572  1.09589\n",
      "Signal is: 1\n",
      "*** NO TRADE PLACED ***\n",
      "*** END OF CYCLE ***\n",
      "\n",
      " False False\n"
     ]
    },
    {
     "name": "stderr",
     "output_type": "stream",
     "text": [
      "C:\\Users\\Eddie\\anaconda3\\envs\\securities-analysis\\lib\\site-packages\\sklearn\\base.py:450: UserWarning: X does not have valid feature names, but AdaBoostClassifier was fitted with feature names\n",
      "  warnings.warn(\n"
     ]
    },
    {
     "name": "stdout",
     "output_type": "stream",
     "text": [
      "min_length is: 74      \n",
      "length of data is: 80\n",
      "                         bid      ask\n",
      "2022-03-28 02:35:22  1.09562  1.09579\n",
      "2022-03-28 02:35:23  1.09562  1.09579\n",
      "2022-03-28 02:35:24  1.09571  1.09587\n",
      "2022-03-28 02:35:25  1.09572  1.09589\n",
      "2022-03-28 02:35:26  1.09570  1.09588\n",
      "Signal is: 1\n",
      "*** NO TRADE PLACED ***\n",
      "*** END OF CYCLE ***\n",
      "\n",
      " False False\n"
     ]
    },
    {
     "name": "stderr",
     "output_type": "stream",
     "text": [
      "C:\\Users\\Eddie\\anaconda3\\envs\\securities-analysis\\lib\\site-packages\\sklearn\\base.py:450: UserWarning: X does not have valid feature names, but AdaBoostClassifier was fitted with feature names\n",
      "  warnings.warn(\n"
     ]
    },
    {
     "name": "stdout",
     "output_type": "stream",
     "text": [
      "min_length is: 75      \n",
      "length of data is: 85\n",
      "                         bid      ask\n",
      "2022-03-28 02:35:27  1.09572  1.09589\n",
      "2022-03-28 02:35:28  1.09572  1.09589\n",
      "2022-03-28 02:35:29  1.09572  1.09589\n",
      "2022-03-28 02:35:30  1.09572  1.09589\n",
      "2022-03-28 02:35:31  1.09572  1.09589\n",
      "Signal is: 1\n",
      "*** NO TRADE PLACED ***\n",
      "*** END OF CYCLE ***\n",
      "\n",
      " False False\n"
     ]
    },
    {
     "name": "stderr",
     "output_type": "stream",
     "text": [
      "C:\\Users\\Eddie\\anaconda3\\envs\\securities-analysis\\lib\\site-packages\\sklearn\\base.py:450: UserWarning: X does not have valid feature names, but AdaBoostClassifier was fitted with feature names\n",
      "  warnings.warn(\n"
     ]
    },
    {
     "name": "stdout",
     "output_type": "stream",
     "text": [
      "min_length is: 76      \n",
      "length of data is: 87\n",
      "                         bid      ask\n",
      "2022-03-28 02:35:29  1.09572  1.09589\n",
      "2022-03-28 02:35:30  1.09572  1.09589\n",
      "2022-03-28 02:35:31  1.09572  1.09589\n",
      "2022-03-28 02:35:32  1.09570  1.09589\n",
      "2022-03-28 02:35:33  1.09570  1.09589\n",
      "Signal is: 1\n",
      "*** NO TRADE PLACED ***\n",
      "*** END OF CYCLE ***\n",
      "\n",
      " False False\n"
     ]
    },
    {
     "name": "stderr",
     "output_type": "stream",
     "text": [
      "C:\\Users\\Eddie\\anaconda3\\envs\\securities-analysis\\lib\\site-packages\\sklearn\\base.py:450: UserWarning: X does not have valid feature names, but AdaBoostClassifier was fitted with feature names\n",
      "  warnings.warn(\n"
     ]
    },
    {
     "name": "stdout",
     "output_type": "stream",
     "text": [
      "min_length is: 77      \n",
      "length of data is: 88\n",
      "                         bid      ask\n",
      "2022-03-28 02:35:30  1.09572  1.09589\n",
      "2022-03-28 02:35:31  1.09572  1.09589\n",
      "2022-03-28 02:35:32  1.09570  1.09589\n",
      "2022-03-28 02:35:33  1.09570  1.09589\n",
      "2022-03-28 02:35:34  1.09570  1.09589\n",
      "Signal is: 1\n",
      "*** NO TRADE PLACED ***\n",
      "*** END OF CYCLE ***\n",
      "\n",
      " False False\n"
     ]
    },
    {
     "name": "stderr",
     "output_type": "stream",
     "text": [
      "C:\\Users\\Eddie\\anaconda3\\envs\\securities-analysis\\lib\\site-packages\\sklearn\\base.py:450: UserWarning: X does not have valid feature names, but AdaBoostClassifier was fitted with feature names\n",
      "  warnings.warn(\n"
     ]
    },
    {
     "name": "stdout",
     "output_type": "stream",
     "text": [
      "min_length is: 78      \n",
      "length of data is: 89\n",
      "                         bid      ask\n",
      "2022-03-28 02:35:31  1.09572  1.09589\n",
      "2022-03-28 02:35:32  1.09570  1.09589\n",
      "2022-03-28 02:35:33  1.09570  1.09589\n",
      "2022-03-28 02:35:34  1.09570  1.09589\n",
      "2022-03-28 02:35:35  1.09571  1.09588\n",
      "Signal is: 1\n",
      "*** NO TRADE PLACED ***\n",
      "*** END OF CYCLE ***\n",
      "\n",
      " False False\n"
     ]
    },
    {
     "name": "stderr",
     "output_type": "stream",
     "text": [
      "C:\\Users\\Eddie\\anaconda3\\envs\\securities-analysis\\lib\\site-packages\\sklearn\\base.py:450: UserWarning: X does not have valid feature names, but AdaBoostClassifier was fitted with feature names\n",
      "  warnings.warn(\n"
     ]
    },
    {
     "name": "stdout",
     "output_type": "stream",
     "text": [
      "min_length is: 79      \n",
      "length of data is: 90\n",
      "                         bid      ask\n",
      "2022-03-28 02:35:32  1.09570  1.09589\n",
      "2022-03-28 02:35:33  1.09570  1.09589\n",
      "2022-03-28 02:35:34  1.09570  1.09589\n",
      "2022-03-28 02:35:35  1.09571  1.09588\n",
      "2022-03-28 02:35:36  1.09570  1.09588\n",
      "Signal is: 1\n",
      "*** NO TRADE PLACED ***\n",
      "*** END OF CYCLE ***\n",
      "\n",
      " False False\n"
     ]
    },
    {
     "name": "stderr",
     "output_type": "stream",
     "text": [
      "C:\\Users\\Eddie\\anaconda3\\envs\\securities-analysis\\lib\\site-packages\\sklearn\\base.py:450: UserWarning: X does not have valid feature names, but AdaBoostClassifier was fitted with feature names\n",
      "  warnings.warn(\n"
     ]
    },
    {
     "name": "stdout",
     "output_type": "stream",
     "text": [
      "min_length is: 80      \n",
      "length of data is: 91\n",
      "                         bid      ask\n",
      "2022-03-28 02:35:33  1.09570  1.09589\n",
      "2022-03-28 02:35:34  1.09570  1.09589\n",
      "2022-03-28 02:35:35  1.09571  1.09588\n",
      "2022-03-28 02:35:36  1.09570  1.09588\n",
      "2022-03-28 02:35:37  1.09570  1.09588\n",
      "Signal is: 1\n",
      "*** NO TRADE PLACED ***\n",
      "*** END OF CYCLE ***\n",
      "\n",
      " False False\n"
     ]
    },
    {
     "name": "stderr",
     "output_type": "stream",
     "text": [
      "C:\\Users\\Eddie\\anaconda3\\envs\\securities-analysis\\lib\\site-packages\\sklearn\\base.py:450: UserWarning: X does not have valid feature names, but AdaBoostClassifier was fitted with feature names\n",
      "  warnings.warn(\n"
     ]
    },
    {
     "name": "stdout",
     "output_type": "stream",
     "text": [
      "min_length is: 81      \n",
      "length of data is: 93\n",
      "                         bid      ask\n",
      "2022-03-28 02:35:35  1.09571  1.09588\n",
      "2022-03-28 02:35:36  1.09570  1.09588\n",
      "2022-03-28 02:35:37  1.09570  1.09588\n",
      "2022-03-28 02:35:38  1.09571  1.09589\n",
      "2022-03-28 02:35:39  1.09571  1.09589\n",
      "Signal is: 1\n",
      "*** NO TRADE PLACED ***\n",
      "*** END OF CYCLE ***\n",
      "\n",
      " False False\n"
     ]
    },
    {
     "name": "stderr",
     "output_type": "stream",
     "text": [
      "C:\\Users\\Eddie\\anaconda3\\envs\\securities-analysis\\lib\\site-packages\\sklearn\\base.py:450: UserWarning: X does not have valid feature names, but AdaBoostClassifier was fitted with feature names\n",
      "  warnings.warn(\n"
     ]
    },
    {
     "name": "stdout",
     "output_type": "stream",
     "text": [
      "min_length is: 82      \n",
      "length of data is: 94\n",
      "                         bid      ask\n",
      "2022-03-28 02:35:36  1.09570  1.09588\n",
      "2022-03-28 02:35:37  1.09570  1.09588\n",
      "2022-03-28 02:35:38  1.09571  1.09589\n",
      "2022-03-28 02:35:39  1.09571  1.09589\n",
      "2022-03-28 02:35:40  1.09571  1.09589\n",
      "Signal is: 1\n",
      "*** NO TRADE PLACED ***\n",
      "*** END OF CYCLE ***\n",
      "\n",
      " False False\n"
     ]
    },
    {
     "name": "stderr",
     "output_type": "stream",
     "text": [
      "C:\\Users\\Eddie\\anaconda3\\envs\\securities-analysis\\lib\\site-packages\\sklearn\\base.py:450: UserWarning: X does not have valid feature names, but AdaBoostClassifier was fitted with feature names\n",
      "  warnings.warn(\n"
     ]
    },
    {
     "name": "stdout",
     "output_type": "stream",
     "text": [
      "min_length is: 83      \n",
      "length of data is: 94\n",
      "                         bid      ask\n",
      "2022-03-28 02:35:36  1.09570  1.09588\n",
      "2022-03-28 02:35:37  1.09570  1.09588\n",
      "2022-03-28 02:35:38  1.09571  1.09589\n",
      "2022-03-28 02:35:39  1.09571  1.09589\n",
      "2022-03-28 02:35:40  1.09571  1.09589\n",
      "Signal is: 1\n",
      "*** NO TRADE PLACED ***\n",
      "*** END OF CYCLE ***\n",
      "\n",
      " False False\n"
     ]
    },
    {
     "name": "stderr",
     "output_type": "stream",
     "text": [
      "C:\\Users\\Eddie\\anaconda3\\envs\\securities-analysis\\lib\\site-packages\\sklearn\\base.py:450: UserWarning: X does not have valid feature names, but AdaBoostClassifier was fitted with feature names\n",
      "  warnings.warn(\n"
     ]
    },
    {
     "name": "stdout",
     "output_type": "stream",
     "text": [
      "min_length is: 84      \n",
      "length of data is: 96\n",
      "                         bid      ask\n",
      "2022-03-28 02:35:38  1.09571  1.09589\n",
      "2022-03-28 02:35:39  1.09571  1.09589\n",
      "2022-03-28 02:35:40  1.09571  1.09589\n",
      "2022-03-28 02:35:41  1.09570  1.09588\n",
      "2022-03-28 02:35:42  1.09570  1.09588\n",
      "Signal is: 1\n",
      "*** NO TRADE PLACED ***\n",
      "*** END OF CYCLE ***\n",
      "\n",
      " False False\n"
     ]
    },
    {
     "name": "stderr",
     "output_type": "stream",
     "text": [
      "C:\\Users\\Eddie\\anaconda3\\envs\\securities-analysis\\lib\\site-packages\\sklearn\\base.py:450: UserWarning: X does not have valid feature names, but AdaBoostClassifier was fitted with feature names\n",
      "  warnings.warn(\n"
     ]
    },
    {
     "name": "stdout",
     "output_type": "stream",
     "text": [
      "min_length is: 85      \n",
      "length of data is: 97\n",
      "                         bid      ask\n",
      "2022-03-28 02:35:39  1.09571  1.09589\n",
      "2022-03-28 02:35:40  1.09571  1.09589\n",
      "2022-03-28 02:35:41  1.09570  1.09588\n",
      "2022-03-28 02:35:42  1.09570  1.09588\n",
      "2022-03-28 02:35:43  1.09568  1.09585\n",
      "Signal is: 1\n",
      "*** NO TRADE PLACED ***\n",
      "*** END OF CYCLE ***\n",
      "\n",
      " False False\n"
     ]
    },
    {
     "name": "stderr",
     "output_type": "stream",
     "text": [
      "C:\\Users\\Eddie\\anaconda3\\envs\\securities-analysis\\lib\\site-packages\\sklearn\\base.py:450: UserWarning: X does not have valid feature names, but AdaBoostClassifier was fitted with feature names\n",
      "  warnings.warn(\n"
     ]
    },
    {
     "name": "stdout",
     "output_type": "stream",
     "text": [
      "min_length is: 86      \n",
      "length of data is: 98\n",
      "                         bid      ask\n",
      "2022-03-28 02:35:40  1.09571  1.09589\n",
      "2022-03-28 02:35:41  1.09570  1.09588\n",
      "2022-03-28 02:35:42  1.09570  1.09588\n",
      "2022-03-28 02:35:43  1.09568  1.09585\n",
      "2022-03-28 02:35:44  1.09566  1.09586\n",
      "Signal is: 1\n",
      "*** NO TRADE PLACED ***\n",
      "*** END OF CYCLE ***\n",
      "\n",
      " False False\n"
     ]
    },
    {
     "name": "stderr",
     "output_type": "stream",
     "text": [
      "C:\\Users\\Eddie\\anaconda3\\envs\\securities-analysis\\lib\\site-packages\\sklearn\\base.py:450: UserWarning: X does not have valid feature names, but AdaBoostClassifier was fitted with feature names\n",
      "  warnings.warn(\n"
     ]
    },
    {
     "name": "stdout",
     "output_type": "stream",
     "text": [
      "min_length is: 87      \n",
      "length of data is: 99\n",
      "                         bid      ask\n",
      "2022-03-28 02:35:41  1.09570  1.09588\n",
      "2022-03-28 02:35:42  1.09570  1.09588\n",
      "2022-03-28 02:35:43  1.09568  1.09585\n",
      "2022-03-28 02:35:44  1.09566  1.09586\n",
      "2022-03-28 02:35:45  1.09567  1.09585\n",
      "Signal is: 1\n",
      "*** NO TRADE PLACED ***\n",
      "*** END OF CYCLE ***\n",
      "\n",
      " False False\n"
     ]
    },
    {
     "name": "stderr",
     "output_type": "stream",
     "text": [
      "C:\\Users\\Eddie\\anaconda3\\envs\\securities-analysis\\lib\\site-packages\\sklearn\\base.py:450: UserWarning: X does not have valid feature names, but AdaBoostClassifier was fitted with feature names\n",
      "  warnings.warn(\n"
     ]
    },
    {
     "name": "stdout",
     "output_type": "stream",
     "text": [
      "min_length is: 88      \n",
      "length of data is: 99\n",
      "                         bid      ask\n",
      "2022-03-28 02:35:41  1.09570  1.09588\n",
      "2022-03-28 02:35:42  1.09570  1.09588\n",
      "2022-03-28 02:35:43  1.09568  1.09585\n",
      "2022-03-28 02:35:44  1.09566  1.09586\n",
      "2022-03-28 02:35:45  1.09567  1.09585\n",
      "Signal is: 1\n",
      "*** NO TRADE PLACED ***\n",
      "*** END OF CYCLE ***\n",
      "\n",
      " False False\n"
     ]
    },
    {
     "name": "stderr",
     "output_type": "stream",
     "text": [
      "C:\\Users\\Eddie\\anaconda3\\envs\\securities-analysis\\lib\\site-packages\\sklearn\\base.py:450: UserWarning: X does not have valid feature names, but AdaBoostClassifier was fitted with feature names\n",
      "  warnings.warn(\n"
     ]
    },
    {
     "name": "stdout",
     "output_type": "stream",
     "text": [
      "min_length is: 89      \n",
      "length of data is: 99\n",
      "                         bid      ask\n",
      "2022-03-28 02:35:41  1.09570  1.09588\n",
      "2022-03-28 02:35:42  1.09570  1.09588\n",
      "2022-03-28 02:35:43  1.09568  1.09585\n",
      "2022-03-28 02:35:44  1.09566  1.09586\n",
      "2022-03-28 02:35:45  1.09567  1.09585\n",
      "Signal is: 1\n",
      "*** NO TRADE PLACED ***\n",
      "*** END OF CYCLE ***\n",
      "\n",
      " False False\n"
     ]
    },
    {
     "name": "stderr",
     "output_type": "stream",
     "text": [
      "C:\\Users\\Eddie\\anaconda3\\envs\\securities-analysis\\lib\\site-packages\\sklearn\\base.py:450: UserWarning: X does not have valid feature names, but AdaBoostClassifier was fitted with feature names\n",
      "  warnings.warn(\n"
     ]
    },
    {
     "name": "stdout",
     "output_type": "stream",
     "text": [
      "min_length is: 90      \n",
      "length of data is: 101\n",
      "                         bid      ask\n",
      "2022-03-28 02:35:43  1.09568  1.09585\n",
      "2022-03-28 02:35:44  1.09566  1.09586\n",
      "2022-03-28 02:35:45  1.09567  1.09585\n",
      "2022-03-28 02:35:46  1.09566  1.09586\n",
      "2022-03-28 02:35:47  1.09566  1.09586\n",
      "Signal is: 1\n",
      "*** NO TRADE PLACED ***\n",
      "*** END OF CYCLE ***\n",
      "\n",
      " False False\n"
     ]
    },
    {
     "name": "stderr",
     "output_type": "stream",
     "text": [
      "C:\\Users\\Eddie\\anaconda3\\envs\\securities-analysis\\lib\\site-packages\\sklearn\\base.py:450: UserWarning: X does not have valid feature names, but AdaBoostClassifier was fitted with feature names\n",
      "  warnings.warn(\n"
     ]
    },
    {
     "name": "stdout",
     "output_type": "stream",
     "text": [
      "min_length is: 91      \n",
      "length of data is: 104\n",
      "                         bid      ask\n",
      "2022-03-28 02:35:46  1.09566  1.09586\n",
      "2022-03-28 02:35:47  1.09566  1.09586\n",
      "2022-03-28 02:35:48  1.09567  1.09585\n",
      "2022-03-28 02:35:49  1.09567  1.09585\n",
      "2022-03-28 02:35:50  1.09567  1.09585\n",
      "Signal is: 1\n",
      "*** NO TRADE PLACED ***\n",
      "*** END OF CYCLE ***\n",
      "\n",
      " False False\n"
     ]
    },
    {
     "name": "stderr",
     "output_type": "stream",
     "text": [
      "C:\\Users\\Eddie\\anaconda3\\envs\\securities-analysis\\lib\\site-packages\\sklearn\\base.py:450: UserWarning: X does not have valid feature names, but AdaBoostClassifier was fitted with feature names\n",
      "  warnings.warn(\n"
     ]
    },
    {
     "name": "stdout",
     "output_type": "stream",
     "text": [
      "min_length is: 92      \n",
      "length of data is: 107\n",
      "                         bid      ask\n",
      "2022-03-28 02:35:49  1.09567  1.09585\n",
      "2022-03-28 02:35:50  1.09567  1.09585\n",
      "2022-03-28 02:35:51  1.09566  1.09586\n",
      "2022-03-28 02:35:52  1.09566  1.09586\n",
      "2022-03-28 02:35:53  1.09566  1.09586\n",
      "Signal is: 1\n",
      "*** NO TRADE PLACED ***\n",
      "*** END OF CYCLE ***\n",
      "\n",
      " False False\n"
     ]
    },
    {
     "name": "stderr",
     "output_type": "stream",
     "text": [
      "C:\\Users\\Eddie\\anaconda3\\envs\\securities-analysis\\lib\\site-packages\\sklearn\\base.py:450: UserWarning: X does not have valid feature names, but AdaBoostClassifier was fitted with feature names\n",
      "  warnings.warn(\n"
     ]
    },
    {
     "name": "stdout",
     "output_type": "stream",
     "text": [
      "min_length is: 93      \n",
      "length of data is: 107\n",
      "                         bid      ask\n",
      "2022-03-28 02:35:49  1.09567  1.09585\n",
      "2022-03-28 02:35:50  1.09567  1.09585\n",
      "2022-03-28 02:35:51  1.09566  1.09586\n",
      "2022-03-28 02:35:52  1.09566  1.09586\n",
      "2022-03-28 02:35:53  1.09566  1.09586\n",
      "Signal is: 1\n",
      "*** NO TRADE PLACED ***\n",
      "*** END OF CYCLE ***\n",
      "\n",
      " False False\n"
     ]
    },
    {
     "name": "stderr",
     "output_type": "stream",
     "text": [
      "C:\\Users\\Eddie\\anaconda3\\envs\\securities-analysis\\lib\\site-packages\\sklearn\\base.py:450: UserWarning: X does not have valid feature names, but AdaBoostClassifier was fitted with feature names\n",
      "  warnings.warn(\n"
     ]
    },
    {
     "name": "stdout",
     "output_type": "stream",
     "text": [
      "min_length is: 94      \n",
      "length of data is: 107\n",
      "                         bid      ask\n",
      "2022-03-28 02:35:49  1.09567  1.09585\n",
      "2022-03-28 02:35:50  1.09567  1.09585\n",
      "2022-03-28 02:35:51  1.09566  1.09586\n",
      "2022-03-28 02:35:52  1.09566  1.09586\n",
      "2022-03-28 02:35:53  1.09566  1.09586\n",
      "Signal is: 1\n",
      "*** NO TRADE PLACED ***\n",
      "*** END OF CYCLE ***\n",
      "\n",
      " False False\n"
     ]
    },
    {
     "name": "stderr",
     "output_type": "stream",
     "text": [
      "C:\\Users\\Eddie\\anaconda3\\envs\\securities-analysis\\lib\\site-packages\\sklearn\\base.py:450: UserWarning: X does not have valid feature names, but AdaBoostClassifier was fitted with feature names\n",
      "  warnings.warn(\n"
     ]
    },
    {
     "name": "stdout",
     "output_type": "stream",
     "text": [
      "min_length is: 95      \n",
      "length of data is: 109\n",
      "                         bid      ask\n",
      "2022-03-28 02:35:51  1.09566  1.09586\n",
      "2022-03-28 02:35:52  1.09566  1.09586\n",
      "2022-03-28 02:35:53  1.09566  1.09586\n",
      "2022-03-28 02:35:54  1.09561  1.09580\n",
      "2022-03-28 02:35:55  1.09561  1.09580\n",
      "Signal is: 1\n",
      "*** NO TRADE PLACED ***\n",
      "*** END OF CYCLE ***\n",
      "\n",
      " False False\n"
     ]
    },
    {
     "name": "stderr",
     "output_type": "stream",
     "text": [
      "C:\\Users\\Eddie\\anaconda3\\envs\\securities-analysis\\lib\\site-packages\\sklearn\\base.py:450: UserWarning: X does not have valid feature names, but AdaBoostClassifier was fitted with feature names\n",
      "  warnings.warn(\n"
     ]
    },
    {
     "name": "stdout",
     "output_type": "stream",
     "text": [
      "min_length is: 96      \n",
      "length of data is: 110\n",
      "                         bid      ask\n",
      "2022-03-28 02:35:52  1.09566  1.09586\n",
      "2022-03-28 02:35:53  1.09566  1.09586\n",
      "2022-03-28 02:35:54  1.09561  1.09580\n",
      "2022-03-28 02:35:55  1.09561  1.09580\n",
      "2022-03-28 02:35:56  1.09562  1.09580\n",
      "Signal is: 1\n",
      "*** NO TRADE PLACED ***\n",
      "*** END OF CYCLE ***\n",
      "\n",
      " False False\n"
     ]
    },
    {
     "name": "stderr",
     "output_type": "stream",
     "text": [
      "C:\\Users\\Eddie\\anaconda3\\envs\\securities-analysis\\lib\\site-packages\\sklearn\\base.py:450: UserWarning: X does not have valid feature names, but AdaBoostClassifier was fitted with feature names\n",
      "  warnings.warn(\n"
     ]
    },
    {
     "name": "stdout",
     "output_type": "stream",
     "text": [
      "min_length is: 97      \n",
      "length of data is: 111\n",
      "                         bid      ask\n",
      "2022-03-28 02:35:53  1.09566  1.09586\n",
      "2022-03-28 02:35:54  1.09561  1.09580\n",
      "2022-03-28 02:35:55  1.09561  1.09580\n",
      "2022-03-28 02:35:56  1.09562  1.09580\n",
      "2022-03-28 02:35:57  1.09564  1.09583\n",
      "Signal is: 1\n",
      "*** NO TRADE PLACED ***\n",
      "*** END OF CYCLE ***\n",
      "\n",
      " False False\n"
     ]
    },
    {
     "name": "stderr",
     "output_type": "stream",
     "text": [
      "C:\\Users\\Eddie\\anaconda3\\envs\\securities-analysis\\lib\\site-packages\\sklearn\\base.py:450: UserWarning: X does not have valid feature names, but AdaBoostClassifier was fitted with feature names\n",
      "  warnings.warn(\n"
     ]
    },
    {
     "name": "stdout",
     "output_type": "stream",
     "text": [
      "min_length is: 98      \n",
      "length of data is: 112\n",
      "                         bid      ask\n",
      "2022-03-28 02:35:54  1.09561  1.09580\n",
      "2022-03-28 02:35:55  1.09561  1.09580\n",
      "2022-03-28 02:35:56  1.09562  1.09580\n",
      "2022-03-28 02:35:57  1.09564  1.09583\n",
      "2022-03-28 02:35:58  1.09566  1.09585\n",
      "Signal is: 1\n",
      "*** NO TRADE PLACED ***\n",
      "*** END OF CYCLE ***\n",
      "\n",
      " False False\n"
     ]
    },
    {
     "name": "stderr",
     "output_type": "stream",
     "text": [
      "C:\\Users\\Eddie\\anaconda3\\envs\\securities-analysis\\lib\\site-packages\\sklearn\\base.py:450: UserWarning: X does not have valid feature names, but AdaBoostClassifier was fitted with feature names\n",
      "  warnings.warn(\n"
     ]
    },
    {
     "name": "stdout",
     "output_type": "stream",
     "text": [
      "min_length is: 99      \n",
      "length of data is: 118\n",
      "                         bid      ask\n",
      "2022-03-28 02:36:00  1.09566  1.09584\n",
      "2022-03-28 02:36:01  1.09566  1.09584\n",
      "2022-03-28 02:36:02  1.09566  1.09584\n",
      "2022-03-28 02:36:03  1.09566  1.09584\n",
      "2022-03-28 02:36:04  1.09566  1.09584\n",
      "Signal is: 1\n",
      "*** NO TRADE PLACED ***\n",
      "*** END OF CYCLE ***\n",
      "\n",
      " False False\n"
     ]
    },
    {
     "name": "stderr",
     "output_type": "stream",
     "text": [
      "C:\\Users\\Eddie\\anaconda3\\envs\\securities-analysis\\lib\\site-packages\\sklearn\\base.py:450: UserWarning: X does not have valid feature names, but AdaBoostClassifier was fitted with feature names\n",
      "  warnings.warn(\n"
     ]
    },
    {
     "name": "stdout",
     "output_type": "stream",
     "text": [
      "min_length is: 100     \n",
      "length of data is: 119\n",
      "                         bid      ask\n",
      "2022-03-28 02:36:01  1.09566  1.09584\n",
      "2022-03-28 02:36:02  1.09566  1.09584\n",
      "2022-03-28 02:36:03  1.09566  1.09584\n",
      "2022-03-28 02:36:04  1.09566  1.09584\n",
      "2022-03-28 02:36:05  1.09566  1.09584\n",
      "Signal is: 1\n",
      "*** NO TRADE PLACED ***\n",
      "*** END OF CYCLE ***\n",
      "\n",
      " False False\n"
     ]
    },
    {
     "name": "stderr",
     "output_type": "stream",
     "text": [
      "C:\\Users\\Eddie\\anaconda3\\envs\\securities-analysis\\lib\\site-packages\\sklearn\\base.py:450: UserWarning: X does not have valid feature names, but AdaBoostClassifier was fitted with feature names\n",
      "  warnings.warn(\n"
     ]
    },
    {
     "name": "stdout",
     "output_type": "stream",
     "text": [
      "min_length is: 101     \n",
      "length of data is: 121\n",
      "                         bid      ask\n",
      "2022-03-28 02:36:03  1.09566  1.09584\n",
      "2022-03-28 02:36:04  1.09566  1.09584\n",
      "2022-03-28 02:36:05  1.09566  1.09584\n",
      "2022-03-28 02:36:06  1.09567  1.09586\n",
      "2022-03-28 02:36:07  1.09567  1.09586\n",
      "Signal is: 1\n",
      "*** NO TRADE PLACED ***\n",
      "*** END OF CYCLE ***\n",
      "\n",
      " False False\n"
     ]
    },
    {
     "name": "stderr",
     "output_type": "stream",
     "text": [
      "C:\\Users\\Eddie\\anaconda3\\envs\\securities-analysis\\lib\\site-packages\\sklearn\\base.py:450: UserWarning: X does not have valid feature names, but AdaBoostClassifier was fitted with feature names\n",
      "  warnings.warn(\n"
     ]
    },
    {
     "name": "stdout",
     "output_type": "stream",
     "text": [
      "min_length is: 102      \n",
      "length of data is: 124\n",
      "                         bid      ask\n",
      "2022-03-28 02:36:06  1.09567  1.09586\n",
      "2022-03-28 02:36:07  1.09567  1.09586\n",
      "2022-03-28 02:36:08  1.09568  1.09585\n",
      "2022-03-28 02:36:09  1.09568  1.09585\n",
      "2022-03-28 02:36:10  1.09568  1.09585\n",
      "Signal is: 1\n",
      "*** NO TRADE PLACED ***\n",
      "*** END OF CYCLE ***\n",
      "\n",
      " False False\n"
     ]
    },
    {
     "name": "stderr",
     "output_type": "stream",
     "text": [
      "C:\\Users\\Eddie\\anaconda3\\envs\\securities-analysis\\lib\\site-packages\\sklearn\\base.py:450: UserWarning: X does not have valid feature names, but AdaBoostClassifier was fitted with feature names\n",
      "  warnings.warn(\n"
     ]
    },
    {
     "name": "stdout",
     "output_type": "stream",
     "text": [
      "min_length is: 103      \n",
      "length of data is: 124\n",
      "                         bid      ask\n",
      "2022-03-28 02:36:06  1.09567  1.09586\n",
      "2022-03-28 02:36:07  1.09567  1.09586\n",
      "2022-03-28 02:36:08  1.09568  1.09585\n",
      "2022-03-28 02:36:09  1.09568  1.09585\n",
      "2022-03-28 02:36:10  1.09568  1.09585\n",
      "Signal is: 1\n",
      "*** NO TRADE PLACED ***\n",
      "*** END OF CYCLE ***\n",
      "\n",
      " False False\n"
     ]
    },
    {
     "name": "stderr",
     "output_type": "stream",
     "text": [
      "C:\\Users\\Eddie\\anaconda3\\envs\\securities-analysis\\lib\\site-packages\\sklearn\\base.py:450: UserWarning: X does not have valid feature names, but AdaBoostClassifier was fitted with feature names\n",
      "  warnings.warn(\n"
     ]
    },
    {
     "name": "stdout",
     "output_type": "stream",
     "text": [
      "min_length is: 104      \n",
      "length of data is: 125\n",
      "                         bid      ask\n",
      "2022-03-28 02:36:07  1.09567  1.09586\n",
      "2022-03-28 02:36:08  1.09568  1.09585\n",
      "2022-03-28 02:36:09  1.09568  1.09585\n",
      "2022-03-28 02:36:10  1.09568  1.09585\n",
      "2022-03-28 02:36:11  1.09566  1.09585\n",
      "Signal is: 1\n",
      "*** NO TRADE PLACED ***\n",
      "*** END OF CYCLE ***\n",
      "\n",
      " False False\n"
     ]
    },
    {
     "name": "stderr",
     "output_type": "stream",
     "text": [
      "C:\\Users\\Eddie\\anaconda3\\envs\\securities-analysis\\lib\\site-packages\\sklearn\\base.py:450: UserWarning: X does not have valid feature names, but AdaBoostClassifier was fitted with feature names\n",
      "  warnings.warn(\n"
     ]
    },
    {
     "name": "stdout",
     "output_type": "stream",
     "text": [
      "min_length is: 105      \n",
      "length of data is: 125\n",
      "                         bid      ask\n",
      "2022-03-28 02:36:07  1.09567  1.09586\n",
      "2022-03-28 02:36:08  1.09568  1.09585\n",
      "2022-03-28 02:36:09  1.09568  1.09585\n",
      "2022-03-28 02:36:10  1.09568  1.09585\n",
      "2022-03-28 02:36:11  1.09566  1.09585\n",
      "Signal is: 1\n",
      "*** NO TRADE PLACED ***\n",
      "*** END OF CYCLE ***\n",
      "\n",
      " False False\n"
     ]
    },
    {
     "name": "stderr",
     "output_type": "stream",
     "text": [
      "C:\\Users\\Eddie\\anaconda3\\envs\\securities-analysis\\lib\\site-packages\\sklearn\\base.py:450: UserWarning: X does not have valid feature names, but AdaBoostClassifier was fitted with feature names\n",
      "  warnings.warn(\n"
     ]
    },
    {
     "name": "stdout",
     "output_type": "stream",
     "text": [
      "min_length is: 106      \n",
      "length of data is: 125\n",
      "                         bid      ask\n",
      "2022-03-28 02:36:07  1.09567  1.09586\n",
      "2022-03-28 02:36:08  1.09568  1.09585\n",
      "2022-03-28 02:36:09  1.09568  1.09585\n",
      "2022-03-28 02:36:10  1.09568  1.09585\n",
      "2022-03-28 02:36:11  1.09566  1.09585\n",
      "Signal is: 1\n",
      "*** NO TRADE PLACED ***\n",
      "*** END OF CYCLE ***\n",
      "\n",
      " False False\n"
     ]
    },
    {
     "name": "stderr",
     "output_type": "stream",
     "text": [
      "C:\\Users\\Eddie\\anaconda3\\envs\\securities-analysis\\lib\\site-packages\\sklearn\\base.py:450: UserWarning: X does not have valid feature names, but AdaBoostClassifier was fitted with feature names\n",
      "  warnings.warn(\n"
     ]
    },
    {
     "name": "stdout",
     "output_type": "stream",
     "text": [
      "min_length is: 107      \n",
      "length of data is: 126\n",
      "                         bid      ask\n",
      "2022-03-28 02:36:08  1.09568  1.09585\n",
      "2022-03-28 02:36:09  1.09568  1.09585\n",
      "2022-03-28 02:36:10  1.09568  1.09585\n",
      "2022-03-28 02:36:11  1.09566  1.09585\n",
      "2022-03-28 02:36:12  1.09567  1.09585\n",
      "Signal is: 1\n",
      "*** NO TRADE PLACED ***\n",
      "*** END OF CYCLE ***\n",
      "\n",
      " False False\n"
     ]
    },
    {
     "name": "stderr",
     "output_type": "stream",
     "text": [
      "C:\\Users\\Eddie\\anaconda3\\envs\\securities-analysis\\lib\\site-packages\\sklearn\\base.py:450: UserWarning: X does not have valid feature names, but AdaBoostClassifier was fitted with feature names\n",
      "  warnings.warn(\n"
     ]
    },
    {
     "name": "stdout",
     "output_type": "stream",
     "text": [
      "min_length is: 108      \n",
      "length of data is: 126\n",
      "                         bid      ask\n",
      "2022-03-28 02:36:08  1.09568  1.09585\n",
      "2022-03-28 02:36:09  1.09568  1.09585\n",
      "2022-03-28 02:36:10  1.09568  1.09585\n",
      "2022-03-28 02:36:11  1.09566  1.09585\n",
      "2022-03-28 02:36:12  1.09567  1.09585\n",
      "Signal is: 1\n",
      "*** NO TRADE PLACED ***\n",
      "*** END OF CYCLE ***\n",
      "\n",
      " False False\n"
     ]
    },
    {
     "name": "stderr",
     "output_type": "stream",
     "text": [
      "C:\\Users\\Eddie\\anaconda3\\envs\\securities-analysis\\lib\\site-packages\\sklearn\\base.py:450: UserWarning: X does not have valid feature names, but AdaBoostClassifier was fitted with feature names\n",
      "  warnings.warn(\n"
     ]
    },
    {
     "name": "stdout",
     "output_type": "stream",
     "text": [
      "min_length is: 109      \n",
      "length of data is: 127\n",
      "                         bid      ask\n",
      "2022-03-28 02:36:09  1.09568  1.09585\n",
      "2022-03-28 02:36:10  1.09568  1.09585\n",
      "2022-03-28 02:36:11  1.09566  1.09585\n",
      "2022-03-28 02:36:12  1.09567  1.09585\n",
      "2022-03-28 02:36:13  1.09567  1.09585\n",
      "Signal is: 1\n",
      "*** NO TRADE PLACED ***\n",
      "*** END OF CYCLE ***\n",
      "\n",
      " False False\n"
     ]
    },
    {
     "name": "stderr",
     "output_type": "stream",
     "text": [
      "C:\\Users\\Eddie\\anaconda3\\envs\\securities-analysis\\lib\\site-packages\\sklearn\\base.py:450: UserWarning: X does not have valid feature names, but AdaBoostClassifier was fitted with feature names\n",
      "  warnings.warn(\n"
     ]
    },
    {
     "name": "stdout",
     "output_type": "stream",
     "text": [
      "min_length is: 110      \n",
      "length of data is: 127\n",
      "                         bid      ask\n",
      "2022-03-28 02:36:09  1.09568  1.09585\n",
      "2022-03-28 02:36:10  1.09568  1.09585\n",
      "2022-03-28 02:36:11  1.09566  1.09585\n",
      "2022-03-28 02:36:12  1.09567  1.09585\n",
      "2022-03-28 02:36:13  1.09567  1.09585\n",
      "Signal is: 1\n",
      "*** NO TRADE PLACED ***\n",
      "*** END OF CYCLE ***\n",
      "\n",
      " False False\n"
     ]
    },
    {
     "name": "stderr",
     "output_type": "stream",
     "text": [
      "C:\\Users\\Eddie\\anaconda3\\envs\\securities-analysis\\lib\\site-packages\\sklearn\\base.py:450: UserWarning: X does not have valid feature names, but AdaBoostClassifier was fitted with feature names\n",
      "  warnings.warn(\n"
     ]
    },
    {
     "name": "stdout",
     "output_type": "stream",
     "text": [
      "min_length is: 111      \n",
      "length of data is: 128\n",
      "                         bid      ask\n",
      "2022-03-28 02:36:10  1.09568  1.09585\n",
      "2022-03-28 02:36:11  1.09566  1.09585\n",
      "2022-03-28 02:36:12  1.09567  1.09585\n",
      "2022-03-28 02:36:13  1.09567  1.09585\n",
      "2022-03-28 02:36:14  1.09569  1.09585\n",
      "Signal is: 1\n",
      "*** NO TRADE PLACED ***\n",
      "*** END OF CYCLE ***\n",
      "\n",
      " False False\n"
     ]
    },
    {
     "name": "stderr",
     "output_type": "stream",
     "text": [
      "C:\\Users\\Eddie\\anaconda3\\envs\\securities-analysis\\lib\\site-packages\\sklearn\\base.py:450: UserWarning: X does not have valid feature names, but AdaBoostClassifier was fitted with feature names\n",
      "  warnings.warn(\n"
     ]
    },
    {
     "name": "stdout",
     "output_type": "stream",
     "text": [
      "min_length is: 112      \n",
      "length of data is: 129\n",
      "                         bid      ask\n",
      "2022-03-28 02:36:11  1.09566  1.09585\n",
      "2022-03-28 02:36:12  1.09567  1.09585\n",
      "2022-03-28 02:36:13  1.09567  1.09585\n",
      "2022-03-28 02:36:14  1.09569  1.09585\n",
      "2022-03-28 02:36:15  1.09567  1.09585\n",
      "Signal is: 1\n",
      "*** NO TRADE PLACED ***\n",
      "*** END OF CYCLE ***\n",
      "\n",
      " False False\n"
     ]
    },
    {
     "name": "stderr",
     "output_type": "stream",
     "text": [
      "C:\\Users\\Eddie\\anaconda3\\envs\\securities-analysis\\lib\\site-packages\\sklearn\\base.py:450: UserWarning: X does not have valid feature names, but AdaBoostClassifier was fitted with feature names\n",
      "  warnings.warn(\n"
     ]
    },
    {
     "name": "stdout",
     "output_type": "stream",
     "text": [
      "min_length is: 113      \n",
      "length of data is: 129\n",
      "                         bid      ask\n",
      "2022-03-28 02:36:11  1.09566  1.09585\n",
      "2022-03-28 02:36:12  1.09567  1.09585\n",
      "2022-03-28 02:36:13  1.09567  1.09585\n",
      "2022-03-28 02:36:14  1.09569  1.09585\n",
      "2022-03-28 02:36:15  1.09567  1.09585\n",
      "Signal is: 1\n",
      "*** NO TRADE PLACED ***\n",
      "*** END OF CYCLE ***\n",
      "\n",
      " False False\n"
     ]
    },
    {
     "name": "stderr",
     "output_type": "stream",
     "text": [
      "C:\\Users\\Eddie\\anaconda3\\envs\\securities-analysis\\lib\\site-packages\\sklearn\\base.py:450: UserWarning: X does not have valid feature names, but AdaBoostClassifier was fitted with feature names\n",
      "  warnings.warn(\n"
     ]
    },
    {
     "name": "stdout",
     "output_type": "stream",
     "text": [
      "min_length is: 114      \n",
      "length of data is: 129\n",
      "                         bid      ask\n",
      "2022-03-28 02:36:11  1.09566  1.09585\n",
      "2022-03-28 02:36:12  1.09567  1.09585\n",
      "2022-03-28 02:36:13  1.09567  1.09585\n",
      "2022-03-28 02:36:14  1.09569  1.09585\n",
      "2022-03-28 02:36:15  1.09567  1.09585\n",
      "Signal is: 1\n",
      "*** NO TRADE PLACED ***\n",
      "*** END OF CYCLE ***\n",
      "\n",
      " False False\n"
     ]
    },
    {
     "name": "stderr",
     "output_type": "stream",
     "text": [
      "C:\\Users\\Eddie\\anaconda3\\envs\\securities-analysis\\lib\\site-packages\\sklearn\\base.py:450: UserWarning: X does not have valid feature names, but AdaBoostClassifier was fitted with feature names\n",
      "  warnings.warn(\n"
     ]
    },
    {
     "name": "stdout",
     "output_type": "stream",
     "text": [
      "min_length is: 115      \n",
      "length of data is: 132\n",
      "                         bid      ask\n",
      "2022-03-28 02:36:14  1.09569  1.09585\n",
      "2022-03-28 02:36:15  1.09567  1.09585\n",
      "2022-03-28 02:36:16  1.09569  1.09587\n",
      "2022-03-28 02:36:17  1.09569  1.09587\n",
      "2022-03-28 02:36:18  1.09569  1.09587\n",
      "Signal is: 1\n",
      "*** NO TRADE PLACED ***\n",
      "*** END OF CYCLE ***\n",
      "\n",
      " False False\n"
     ]
    },
    {
     "name": "stderr",
     "output_type": "stream",
     "text": [
      "C:\\Users\\Eddie\\anaconda3\\envs\\securities-analysis\\lib\\site-packages\\sklearn\\base.py:450: UserWarning: X does not have valid feature names, but AdaBoostClassifier was fitted with feature names\n",
      "  warnings.warn(\n"
     ]
    },
    {
     "name": "stdout",
     "output_type": "stream",
     "text": [
      "min_length is: 116      \n",
      "length of data is: 132\n",
      "                         bid      ask\n",
      "2022-03-28 02:36:14  1.09569  1.09585\n",
      "2022-03-28 02:36:15  1.09567  1.09585\n",
      "2022-03-28 02:36:16  1.09569  1.09587\n",
      "2022-03-28 02:36:17  1.09569  1.09587\n",
      "2022-03-28 02:36:18  1.09569  1.09587\n",
      "Signal is: 1\n",
      "*** NO TRADE PLACED ***\n",
      "*** END OF CYCLE ***\n",
      "\n",
      " False False\n"
     ]
    },
    {
     "name": "stderr",
     "output_type": "stream",
     "text": [
      "C:\\Users\\Eddie\\anaconda3\\envs\\securities-analysis\\lib\\site-packages\\sklearn\\base.py:450: UserWarning: X does not have valid feature names, but AdaBoostClassifier was fitted with feature names\n",
      "  warnings.warn(\n"
     ]
    },
    {
     "name": "stdout",
     "output_type": "stream",
     "text": [
      "min_length is: 117      \n",
      "length of data is: 135\n",
      "                         bid      ask\n",
      "2022-03-28 02:36:17  1.09569  1.09587\n",
      "2022-03-28 02:36:18  1.09569  1.09587\n",
      "2022-03-28 02:36:19  1.09568  1.09586\n",
      "2022-03-28 02:36:20  1.09568  1.09586\n",
      "2022-03-28 02:36:21  1.09568  1.09586\n",
      "Signal is: 1\n",
      "*** NO TRADE PLACED ***\n",
      "*** END OF CYCLE ***\n",
      "\n",
      " False False\n"
     ]
    },
    {
     "name": "stderr",
     "output_type": "stream",
     "text": [
      "C:\\Users\\Eddie\\anaconda3\\envs\\securities-analysis\\lib\\site-packages\\sklearn\\base.py:450: UserWarning: X does not have valid feature names, but AdaBoostClassifier was fitted with feature names\n",
      "  warnings.warn(\n"
     ]
    },
    {
     "name": "stdout",
     "output_type": "stream",
     "text": [
      "min_length is: 118      \n",
      "length of data is: 135\n",
      "                         bid      ask\n",
      "2022-03-28 02:36:17  1.09569  1.09587\n",
      "2022-03-28 02:36:18  1.09569  1.09587\n",
      "2022-03-28 02:36:19  1.09568  1.09586\n",
      "2022-03-28 02:36:20  1.09568  1.09586\n",
      "2022-03-28 02:36:21  1.09568  1.09586\n",
      "Signal is: 1\n",
      "*** NO TRADE PLACED ***\n",
      "*** END OF CYCLE ***\n",
      "\n",
      " False False\n"
     ]
    },
    {
     "name": "stderr",
     "output_type": "stream",
     "text": [
      "C:\\Users\\Eddie\\anaconda3\\envs\\securities-analysis\\lib\\site-packages\\sklearn\\base.py:450: UserWarning: X does not have valid feature names, but AdaBoostClassifier was fitted with feature names\n",
      "  warnings.warn(\n"
     ]
    },
    {
     "name": "stdout",
     "output_type": "stream",
     "text": [
      "min_length is: 119      \n",
      "length of data is: 137\n",
      "                         bid      ask\n",
      "2022-03-28 02:36:19  1.09568  1.09586\n",
      "2022-03-28 02:36:20  1.09568  1.09586\n",
      "2022-03-28 02:36:21  1.09568  1.09586\n",
      "2022-03-28 02:36:22  1.09572  1.09590\n",
      "2022-03-28 02:36:23  1.09572  1.09590\n",
      "Signal is: 1\n",
      "*** NO TRADE PLACED ***\n",
      "*** END OF CYCLE ***\n",
      "\n",
      " False False\n"
     ]
    },
    {
     "name": "stderr",
     "output_type": "stream",
     "text": [
      "C:\\Users\\Eddie\\anaconda3\\envs\\securities-analysis\\lib\\site-packages\\sklearn\\base.py:450: UserWarning: X does not have valid feature names, but AdaBoostClassifier was fitted with feature names\n",
      "  warnings.warn(\n"
     ]
    },
    {
     "name": "stdout",
     "output_type": "stream",
     "text": [
      "min_length is: 120      \n",
      "length of data is: 138\n",
      "                         bid      ask\n",
      "2022-03-28 02:36:20  1.09568  1.09586\n",
      "2022-03-28 02:36:21  1.09568  1.09586\n",
      "2022-03-28 02:36:22  1.09572  1.09590\n",
      "2022-03-28 02:36:23  1.09572  1.09590\n",
      "2022-03-28 02:36:24  1.09571  1.09590\n",
      "Signal is: 1\n",
      "*** NO TRADE PLACED ***\n",
      "*** END OF CYCLE ***\n",
      "\n",
      " False False\n"
     ]
    },
    {
     "name": "stderr",
     "output_type": "stream",
     "text": [
      "C:\\Users\\Eddie\\anaconda3\\envs\\securities-analysis\\lib\\site-packages\\sklearn\\base.py:450: UserWarning: X does not have valid feature names, but AdaBoostClassifier was fitted with feature names\n",
      "  warnings.warn(\n"
     ]
    },
    {
     "name": "stdout",
     "output_type": "stream",
     "text": [
      "min_length is: 121      \n",
      "length of data is: 139\n",
      "                         bid      ask\n",
      "2022-03-28 02:36:21  1.09568  1.09586\n",
      "2022-03-28 02:36:22  1.09572  1.09590\n",
      "2022-03-28 02:36:23  1.09572  1.09590\n",
      "2022-03-28 02:36:24  1.09571  1.09590\n",
      "2022-03-28 02:36:25  1.09572  1.09590\n",
      "Signal is: 1\n",
      "*** NO TRADE PLACED ***\n",
      "*** END OF CYCLE ***\n",
      "\n",
      " False False\n"
     ]
    },
    {
     "name": "stderr",
     "output_type": "stream",
     "text": [
      "C:\\Users\\Eddie\\anaconda3\\envs\\securities-analysis\\lib\\site-packages\\sklearn\\base.py:450: UserWarning: X does not have valid feature names, but AdaBoostClassifier was fitted with feature names\n",
      "  warnings.warn(\n"
     ]
    },
    {
     "name": "stdout",
     "output_type": "stream",
     "text": [
      "min_length is: 122      \n",
      "length of data is: 139\n",
      "                         bid      ask\n",
      "2022-03-28 02:36:21  1.09568  1.09586\n",
      "2022-03-28 02:36:22  1.09572  1.09590\n",
      "2022-03-28 02:36:23  1.09572  1.09590\n",
      "2022-03-28 02:36:24  1.09571  1.09590\n",
      "2022-03-28 02:36:25  1.09572  1.09590\n",
      "Signal is: 1\n",
      "*** NO TRADE PLACED ***\n",
      "*** END OF CYCLE ***\n",
      "\n",
      " False False\n"
     ]
    },
    {
     "name": "stderr",
     "output_type": "stream",
     "text": [
      "C:\\Users\\Eddie\\anaconda3\\envs\\securities-analysis\\lib\\site-packages\\sklearn\\base.py:450: UserWarning: X does not have valid feature names, but AdaBoostClassifier was fitted with feature names\n",
      "  warnings.warn(\n"
     ]
    },
    {
     "name": "stdout",
     "output_type": "stream",
     "text": [
      "min_length is: 123      \n",
      "length of data is: 140\n",
      "                         bid     ask\n",
      "2022-03-28 02:36:22  1.09572  1.0959\n",
      "2022-03-28 02:36:23  1.09572  1.0959\n",
      "2022-03-28 02:36:24  1.09571  1.0959\n",
      "2022-03-28 02:36:25  1.09572  1.0959\n",
      "2022-03-28 02:36:26  1.09572  1.0959\n",
      "Signal is: 1\n",
      "*** NO TRADE PLACED ***\n",
      "*** END OF CYCLE ***\n",
      "\n",
      " False False\n"
     ]
    },
    {
     "name": "stderr",
     "output_type": "stream",
     "text": [
      "C:\\Users\\Eddie\\anaconda3\\envs\\securities-analysis\\lib\\site-packages\\sklearn\\base.py:450: UserWarning: X does not have valid feature names, but AdaBoostClassifier was fitted with feature names\n",
      "  warnings.warn(\n"
     ]
    },
    {
     "name": "stdout",
     "output_type": "stream",
     "text": [
      "min_length is: 124      \n",
      "length of data is: 140\n",
      "                         bid     ask\n",
      "2022-03-28 02:36:22  1.09572  1.0959\n",
      "2022-03-28 02:36:23  1.09572  1.0959\n",
      "2022-03-28 02:36:24  1.09571  1.0959\n",
      "2022-03-28 02:36:25  1.09572  1.0959\n",
      "2022-03-28 02:36:26  1.09572  1.0959\n",
      "Signal is: 1\n",
      "*** NO TRADE PLACED ***\n",
      "*** END OF CYCLE ***\n",
      "\n",
      " False False\n"
     ]
    },
    {
     "name": "stderr",
     "output_type": "stream",
     "text": [
      "C:\\Users\\Eddie\\anaconda3\\envs\\securities-analysis\\lib\\site-packages\\sklearn\\base.py:450: UserWarning: X does not have valid feature names, but AdaBoostClassifier was fitted with feature names\n",
      "  warnings.warn(\n"
     ]
    },
    {
     "name": "stdout",
     "output_type": "stream",
     "text": [
      "min_length is: 125      \n",
      "length of data is: 141\n",
      "                         bid     ask\n",
      "2022-03-28 02:36:23  1.09572  1.0959\n",
      "2022-03-28 02:36:24  1.09571  1.0959\n",
      "2022-03-28 02:36:25  1.09572  1.0959\n",
      "2022-03-28 02:36:26  1.09572  1.0959\n",
      "2022-03-28 02:36:27  1.09572  1.0959\n",
      "Signal is: 1\n",
      "*** NO TRADE PLACED ***\n",
      "*** END OF CYCLE ***\n",
      "\n",
      " False False\n"
     ]
    },
    {
     "name": "stderr",
     "output_type": "stream",
     "text": [
      "C:\\Users\\Eddie\\anaconda3\\envs\\securities-analysis\\lib\\site-packages\\sklearn\\base.py:450: UserWarning: X does not have valid feature names, but AdaBoostClassifier was fitted with feature names\n",
      "  warnings.warn(\n"
     ]
    },
    {
     "name": "stdout",
     "output_type": "stream",
     "text": [
      "min_length is: 126      \n",
      "length of data is: 144\n",
      "                         bid     ask\n",
      "2022-03-28 02:36:26  1.09572  1.0959\n",
      "2022-03-28 02:36:27  1.09572  1.0959\n",
      "2022-03-28 02:36:28  1.09572  1.0959\n",
      "2022-03-28 02:36:29  1.09572  1.0959\n",
      "2022-03-28 02:36:30  1.09572  1.0959\n",
      "Signal is: 1\n",
      "*** NO TRADE PLACED ***\n",
      "*** END OF CYCLE ***\n",
      "\n",
      " False False\n"
     ]
    },
    {
     "name": "stderr",
     "output_type": "stream",
     "text": [
      "C:\\Users\\Eddie\\anaconda3\\envs\\securities-analysis\\lib\\site-packages\\sklearn\\base.py:450: UserWarning: X does not have valid feature names, but AdaBoostClassifier was fitted with feature names\n",
      "  warnings.warn(\n"
     ]
    },
    {
     "name": "stdout",
     "output_type": "stream",
     "text": [
      "min_length is: 127      \n",
      "length of data is: 144\n",
      "                         bid     ask\n",
      "2022-03-28 02:36:26  1.09572  1.0959\n",
      "2022-03-28 02:36:27  1.09572  1.0959\n",
      "2022-03-28 02:36:28  1.09572  1.0959\n",
      "2022-03-28 02:36:29  1.09572  1.0959\n",
      "2022-03-28 02:36:30  1.09572  1.0959\n",
      "Signal is: 1\n",
      "*** NO TRADE PLACED ***\n",
      "*** END OF CYCLE ***\n",
      "\n",
      " False False\n"
     ]
    },
    {
     "name": "stderr",
     "output_type": "stream",
     "text": [
      "C:\\Users\\Eddie\\anaconda3\\envs\\securities-analysis\\lib\\site-packages\\sklearn\\base.py:450: UserWarning: X does not have valid feature names, but AdaBoostClassifier was fitted with feature names\n",
      "  warnings.warn(\n"
     ]
    },
    {
     "name": "stdout",
     "output_type": "stream",
     "text": [
      "min_length is: 128      \n",
      "length of data is: 147\n",
      "                         bid      ask\n",
      "2022-03-28 02:36:29  1.09572  1.09590\n",
      "2022-03-28 02:36:30  1.09572  1.09590\n",
      "2022-03-28 02:36:31  1.09576  1.09591\n",
      "2022-03-28 02:36:32  1.09576  1.09591\n",
      "2022-03-28 02:36:33  1.09576  1.09591\n",
      "Signal is: 1\n",
      "*** NO TRADE PLACED ***\n",
      "*** END OF CYCLE ***\n",
      "\n",
      " False False\n"
     ]
    },
    {
     "name": "stderr",
     "output_type": "stream",
     "text": [
      "C:\\Users\\Eddie\\anaconda3\\envs\\securities-analysis\\lib\\site-packages\\sklearn\\base.py:450: UserWarning: X does not have valid feature names, but AdaBoostClassifier was fitted with feature names\n",
      "  warnings.warn(\n"
     ]
    },
    {
     "name": "stdout",
     "output_type": "stream",
     "text": [
      "min_length is: 129      \n",
      "length of data is: 147\n",
      "                         bid      ask\n",
      "2022-03-28 02:36:29  1.09572  1.09590\n",
      "2022-03-28 02:36:30  1.09572  1.09590\n",
      "2022-03-28 02:36:31  1.09576  1.09591\n",
      "2022-03-28 02:36:32  1.09576  1.09591\n",
      "2022-03-28 02:36:33  1.09576  1.09591\n",
      "Signal is: 1\n",
      "*** NO TRADE PLACED ***\n",
      "*** END OF CYCLE ***\n",
      "\n",
      " False False\n"
     ]
    },
    {
     "name": "stderr",
     "output_type": "stream",
     "text": [
      "C:\\Users\\Eddie\\anaconda3\\envs\\securities-analysis\\lib\\site-packages\\sklearn\\base.py:450: UserWarning: X does not have valid feature names, but AdaBoostClassifier was fitted with feature names\n",
      "  warnings.warn(\n"
     ]
    },
    {
     "name": "stdout",
     "output_type": "stream",
     "text": [
      "min_length is: 130      \n",
      "length of data is: 147\n",
      "                         bid      ask\n",
      "2022-03-28 02:36:29  1.09572  1.09590\n",
      "2022-03-28 02:36:30  1.09572  1.09590\n",
      "2022-03-28 02:36:31  1.09576  1.09591\n",
      "2022-03-28 02:36:32  1.09576  1.09591\n",
      "2022-03-28 02:36:33  1.09576  1.09591\n",
      "Signal is: 1\n",
      "*** NO TRADE PLACED ***\n",
      "*** END OF CYCLE ***\n",
      "\n",
      " False False\n"
     ]
    },
    {
     "name": "stderr",
     "output_type": "stream",
     "text": [
      "C:\\Users\\Eddie\\anaconda3\\envs\\securities-analysis\\lib\\site-packages\\sklearn\\base.py:450: UserWarning: X does not have valid feature names, but AdaBoostClassifier was fitted with feature names\n",
      "  warnings.warn(\n"
     ]
    },
    {
     "name": "stdout",
     "output_type": "stream",
     "text": [
      "min_length is: 131      \n",
      "length of data is: 148\n",
      "                         bid      ask\n",
      "2022-03-28 02:36:30  1.09572  1.09590\n",
      "2022-03-28 02:36:31  1.09576  1.09591\n",
      "2022-03-28 02:36:32  1.09576  1.09591\n",
      "2022-03-28 02:36:33  1.09576  1.09591\n",
      "2022-03-28 02:36:34  1.09574  1.09591\n",
      "Signal is: 1\n",
      "*** NO TRADE PLACED ***\n",
      "*** END OF CYCLE ***\n",
      "\n",
      " False False\n"
     ]
    },
    {
     "name": "stderr",
     "output_type": "stream",
     "text": [
      "C:\\Users\\Eddie\\anaconda3\\envs\\securities-analysis\\lib\\site-packages\\sklearn\\base.py:450: UserWarning: X does not have valid feature names, but AdaBoostClassifier was fitted with feature names\n",
      "  warnings.warn(\n"
     ]
    },
    {
     "name": "stdout",
     "output_type": "stream",
     "text": [
      "min_length is: 132      \n",
      "length of data is: 150\n",
      "                         bid      ask\n",
      "2022-03-28 02:36:32  1.09576  1.09591\n",
      "2022-03-28 02:36:33  1.09576  1.09591\n",
      "2022-03-28 02:36:34  1.09574  1.09591\n",
      "2022-03-28 02:36:35  1.09570  1.09589\n",
      "2022-03-28 02:36:36  1.09570  1.09589\n",
      "Signal is: 1\n",
      "*** NO TRADE PLACED ***\n",
      "*** END OF CYCLE ***\n",
      "\n",
      " False False\n"
     ]
    },
    {
     "name": "stderr",
     "output_type": "stream",
     "text": [
      "C:\\Users\\Eddie\\anaconda3\\envs\\securities-analysis\\lib\\site-packages\\sklearn\\base.py:450: UserWarning: X does not have valid feature names, but AdaBoostClassifier was fitted with feature names\n",
      "  warnings.warn(\n"
     ]
    },
    {
     "name": "stdout",
     "output_type": "stream",
     "text": [
      "min_length is: 133      \n",
      "length of data is: 150\n",
      "                         bid      ask\n",
      "2022-03-28 02:36:32  1.09576  1.09591\n",
      "2022-03-28 02:36:33  1.09576  1.09591\n",
      "2022-03-28 02:36:34  1.09574  1.09591\n",
      "2022-03-28 02:36:35  1.09570  1.09589\n",
      "2022-03-28 02:36:36  1.09570  1.09589\n",
      "Signal is: 1\n",
      "*** NO TRADE PLACED ***\n",
      "*** END OF CYCLE ***\n",
      "\n",
      " False False\n"
     ]
    },
    {
     "name": "stderr",
     "output_type": "stream",
     "text": [
      "C:\\Users\\Eddie\\anaconda3\\envs\\securities-analysis\\lib\\site-packages\\sklearn\\base.py:450: UserWarning: X does not have valid feature names, but AdaBoostClassifier was fitted with feature names\n",
      "  warnings.warn(\n"
     ]
    },
    {
     "name": "stdout",
     "output_type": "stream",
     "text": [
      "min_length is: 134      \n",
      "length of data is: 151\n",
      "                         bid      ask\n",
      "2022-03-28 02:36:33  1.09576  1.09591\n",
      "2022-03-28 02:36:34  1.09574  1.09591\n",
      "2022-03-28 02:36:35  1.09570  1.09589\n",
      "2022-03-28 02:36:36  1.09570  1.09589\n",
      "2022-03-28 02:36:37  1.09573  1.09592\n",
      "Signal is: 1\n",
      "*** NO TRADE PLACED ***\n",
      "*** END OF CYCLE ***\n",
      "\n",
      " False False\n"
     ]
    },
    {
     "name": "stderr",
     "output_type": "stream",
     "text": [
      "C:\\Users\\Eddie\\anaconda3\\envs\\securities-analysis\\lib\\site-packages\\sklearn\\base.py:450: UserWarning: X does not have valid feature names, but AdaBoostClassifier was fitted with feature names\n",
      "  warnings.warn(\n"
     ]
    },
    {
     "name": "stdout",
     "output_type": "stream",
     "text": [
      "min_length is: 135      \n",
      "length of data is: 153\n",
      "                         bid      ask\n",
      "2022-03-28 02:36:35  1.09570  1.09589\n",
      "2022-03-28 02:36:36  1.09570  1.09589\n",
      "2022-03-28 02:36:37  1.09573  1.09592\n",
      "2022-03-28 02:36:38  1.09577  1.09595\n",
      "2022-03-28 02:36:39  1.09577  1.09595\n",
      "Signal is: 1\n",
      "*** NO TRADE PLACED ***\n",
      "*** END OF CYCLE ***\n",
      "\n",
      " False False\n"
     ]
    },
    {
     "name": "stderr",
     "output_type": "stream",
     "text": [
      "C:\\Users\\Eddie\\anaconda3\\envs\\securities-analysis\\lib\\site-packages\\sklearn\\base.py:450: UserWarning: X does not have valid feature names, but AdaBoostClassifier was fitted with feature names\n",
      "  warnings.warn(\n"
     ]
    },
    {
     "name": "stdout",
     "output_type": "stream",
     "text": [
      "min_length is: 136      \n",
      "length of data is: 153\n",
      "                         bid      ask\n",
      "2022-03-28 02:36:35  1.09570  1.09589\n",
      "2022-03-28 02:36:36  1.09570  1.09589\n",
      "2022-03-28 02:36:37  1.09573  1.09592\n",
      "2022-03-28 02:36:38  1.09577  1.09595\n",
      "2022-03-28 02:36:39  1.09577  1.09595\n",
      "Signal is: 1\n",
      "*** NO TRADE PLACED ***\n",
      "*** END OF CYCLE ***\n",
      "\n",
      " False False\n"
     ]
    },
    {
     "name": "stderr",
     "output_type": "stream",
     "text": [
      "C:\\Users\\Eddie\\anaconda3\\envs\\securities-analysis\\lib\\site-packages\\sklearn\\base.py:450: UserWarning: X does not have valid feature names, but AdaBoostClassifier was fitted with feature names\n",
      "  warnings.warn(\n"
     ]
    },
    {
     "name": "stdout",
     "output_type": "stream",
     "text": [
      "min_length is: 137      \n",
      "length of data is: 154\n",
      "                         bid      ask\n",
      "2022-03-28 02:36:36  1.09570  1.09589\n",
      "2022-03-28 02:36:37  1.09573  1.09592\n",
      "2022-03-28 02:36:38  1.09577  1.09595\n",
      "2022-03-28 02:36:39  1.09577  1.09595\n",
      "2022-03-28 02:36:40  1.09576  1.09594\n",
      "Signal is: 1\n",
      "*** NO TRADE PLACED ***\n",
      "*** END OF CYCLE ***\n",
      "\n",
      " False False\n"
     ]
    },
    {
     "name": "stderr",
     "output_type": "stream",
     "text": [
      "C:\\Users\\Eddie\\anaconda3\\envs\\securities-analysis\\lib\\site-packages\\sklearn\\base.py:450: UserWarning: X does not have valid feature names, but AdaBoostClassifier was fitted with feature names\n",
      "  warnings.warn(\n"
     ]
    },
    {
     "name": "stdout",
     "output_type": "stream",
     "text": [
      "min_length is: 138      \n",
      "length of data is: 154\n",
      "                         bid      ask\n",
      "2022-03-28 02:36:36  1.09570  1.09589\n",
      "2022-03-28 02:36:37  1.09573  1.09592\n",
      "2022-03-28 02:36:38  1.09577  1.09595\n",
      "2022-03-28 02:36:39  1.09577  1.09595\n",
      "2022-03-28 02:36:40  1.09576  1.09594\n",
      "Signal is: 1\n",
      "*** NO TRADE PLACED ***\n",
      "*** END OF CYCLE ***\n",
      "\n",
      " False False\n"
     ]
    },
    {
     "name": "stderr",
     "output_type": "stream",
     "text": [
      "C:\\Users\\Eddie\\anaconda3\\envs\\securities-analysis\\lib\\site-packages\\sklearn\\base.py:450: UserWarning: X does not have valid feature names, but AdaBoostClassifier was fitted with feature names\n",
      "  warnings.warn(\n"
     ]
    },
    {
     "name": "stdout",
     "output_type": "stream",
     "text": [
      "min_length is: 139      \n",
      "length of data is: 155\n",
      "                         bid      ask\n",
      "2022-03-28 02:36:37  1.09573  1.09592\n",
      "2022-03-28 02:36:38  1.09577  1.09595\n",
      "2022-03-28 02:36:39  1.09577  1.09595\n",
      "2022-03-28 02:36:40  1.09576  1.09594\n",
      "2022-03-28 02:36:41  1.09578  1.09595\n",
      "Signal is: 1\n",
      "*** NO TRADE PLACED ***\n",
      "*** END OF CYCLE ***\n",
      "\n",
      " False False\n"
     ]
    },
    {
     "name": "stderr",
     "output_type": "stream",
     "text": [
      "C:\\Users\\Eddie\\anaconda3\\envs\\securities-analysis\\lib\\site-packages\\sklearn\\base.py:450: UserWarning: X does not have valid feature names, but AdaBoostClassifier was fitted with feature names\n",
      "  warnings.warn(\n"
     ]
    },
    {
     "name": "stdout",
     "output_type": "stream",
     "text": [
      "min_length is: 140      \n",
      "length of data is: 156\n",
      "                         bid      ask\n",
      "2022-03-28 02:36:38  1.09577  1.09595\n",
      "2022-03-28 02:36:39  1.09577  1.09595\n",
      "2022-03-28 02:36:40  1.09576  1.09594\n",
      "2022-03-28 02:36:41  1.09578  1.09595\n",
      "2022-03-28 02:36:42  1.09579  1.09595\n",
      "Signal is: 1\n",
      "*** NO TRADE PLACED ***\n",
      "*** END OF CYCLE ***\n",
      "\n",
      " False False\n"
     ]
    },
    {
     "name": "stderr",
     "output_type": "stream",
     "text": [
      "C:\\Users\\Eddie\\anaconda3\\envs\\securities-analysis\\lib\\site-packages\\sklearn\\base.py:450: UserWarning: X does not have valid feature names, but AdaBoostClassifier was fitted with feature names\n",
      "  warnings.warn(\n"
     ]
    },
    {
     "name": "stdout",
     "output_type": "stream",
     "text": [
      "min_length is: 141      \n",
      "length of data is: 157\n",
      "                         bid      ask\n",
      "2022-03-28 02:36:39  1.09577  1.09595\n",
      "2022-03-28 02:36:40  1.09576  1.09594\n",
      "2022-03-28 02:36:41  1.09578  1.09595\n",
      "2022-03-28 02:36:42  1.09579  1.09595\n",
      "2022-03-28 02:36:43  1.09581  1.09597\n",
      "Signal is: 1\n",
      "*** NO TRADE PLACED ***\n",
      "*** END OF CYCLE ***\n",
      "\n",
      " False False\n"
     ]
    },
    {
     "name": "stderr",
     "output_type": "stream",
     "text": [
      "C:\\Users\\Eddie\\anaconda3\\envs\\securities-analysis\\lib\\site-packages\\sklearn\\base.py:450: UserWarning: X does not have valid feature names, but AdaBoostClassifier was fitted with feature names\n",
      "  warnings.warn(\n"
     ]
    },
    {
     "name": "stdout",
     "output_type": "stream",
     "text": [
      "min_length is: 142      \n",
      "length of data is: 157\n",
      "                         bid      ask\n",
      "2022-03-28 02:36:39  1.09577  1.09595\n",
      "2022-03-28 02:36:40  1.09576  1.09594\n",
      "2022-03-28 02:36:41  1.09578  1.09595\n",
      "2022-03-28 02:36:42  1.09579  1.09595\n",
      "2022-03-28 02:36:43  1.09581  1.09597\n",
      "Signal is: 1\n",
      "*** NO TRADE PLACED ***\n",
      "*** END OF CYCLE ***\n",
      "\n",
      " False False\n"
     ]
    },
    {
     "name": "stderr",
     "output_type": "stream",
     "text": [
      "C:\\Users\\Eddie\\anaconda3\\envs\\securities-analysis\\lib\\site-packages\\sklearn\\base.py:450: UserWarning: X does not have valid feature names, but AdaBoostClassifier was fitted with feature names\n",
      "  warnings.warn(\n"
     ]
    },
    {
     "name": "stdout",
     "output_type": "stream",
     "text": [
      "min_length is: 143      \n",
      "length of data is: 157\n",
      "                         bid      ask\n",
      "2022-03-28 02:36:39  1.09577  1.09595\n",
      "2022-03-28 02:36:40  1.09576  1.09594\n",
      "2022-03-28 02:36:41  1.09578  1.09595\n",
      "2022-03-28 02:36:42  1.09579  1.09595\n",
      "2022-03-28 02:36:43  1.09581  1.09597\n",
      "Signal is: 1\n",
      "*** NO TRADE PLACED ***\n",
      "*** END OF CYCLE ***\n",
      "\n",
      " False False\n"
     ]
    },
    {
     "name": "stderr",
     "output_type": "stream",
     "text": [
      "C:\\Users\\Eddie\\anaconda3\\envs\\securities-analysis\\lib\\site-packages\\sklearn\\base.py:450: UserWarning: X does not have valid feature names, but AdaBoostClassifier was fitted with feature names\n",
      "  warnings.warn(\n"
     ]
    },
    {
     "name": "stdout",
     "output_type": "stream",
     "text": [
      "min_length is: 144      \n",
      "length of data is: 158\n",
      "                         bid      ask\n",
      "2022-03-28 02:36:40  1.09576  1.09594\n",
      "2022-03-28 02:36:41  1.09578  1.09595\n",
      "2022-03-28 02:36:42  1.09579  1.09595\n",
      "2022-03-28 02:36:43  1.09581  1.09597\n",
      "2022-03-28 02:36:44  1.09582  1.09597\n",
      "Signal is: 1\n",
      "*** NO TRADE PLACED ***\n",
      "*** END OF CYCLE ***\n",
      "\n",
      " False False\n"
     ]
    },
    {
     "name": "stderr",
     "output_type": "stream",
     "text": [
      "C:\\Users\\Eddie\\anaconda3\\envs\\securities-analysis\\lib\\site-packages\\sklearn\\base.py:450: UserWarning: X does not have valid feature names, but AdaBoostClassifier was fitted with feature names\n",
      "  warnings.warn(\n"
     ]
    },
    {
     "name": "stdout",
     "output_type": "stream",
     "text": [
      "min_length is: 145      \n",
      "length of data is: 158\n",
      "                         bid      ask\n",
      "2022-03-28 02:36:40  1.09576  1.09594\n",
      "2022-03-28 02:36:41  1.09578  1.09595\n",
      "2022-03-28 02:36:42  1.09579  1.09595\n",
      "2022-03-28 02:36:43  1.09581  1.09597\n",
      "2022-03-28 02:36:44  1.09582  1.09597\n",
      "Signal is: 1\n",
      "*** NO TRADE PLACED ***\n",
      "*** END OF CYCLE ***\n",
      "\n",
      " False False\n"
     ]
    },
    {
     "name": "stderr",
     "output_type": "stream",
     "text": [
      "C:\\Users\\Eddie\\anaconda3\\envs\\securities-analysis\\lib\\site-packages\\sklearn\\base.py:450: UserWarning: X does not have valid feature names, but AdaBoostClassifier was fitted with feature names\n",
      "  warnings.warn(\n"
     ]
    },
    {
     "name": "stdout",
     "output_type": "stream",
     "text": [
      "min_length is: 146      \n",
      "length of data is: 159\n",
      "                         bid      ask\n",
      "2022-03-28 02:36:41  1.09578  1.09595\n",
      "2022-03-28 02:36:42  1.09579  1.09595\n",
      "2022-03-28 02:36:43  1.09581  1.09597\n",
      "2022-03-28 02:36:44  1.09582  1.09597\n",
      "2022-03-28 02:36:45  1.09582  1.09598\n",
      "Signal is: 1\n",
      "*** NO TRADE PLACED ***\n",
      "*** END OF CYCLE ***\n",
      "\n",
      " False False\n"
     ]
    },
    {
     "name": "stderr",
     "output_type": "stream",
     "text": [
      "C:\\Users\\Eddie\\anaconda3\\envs\\securities-analysis\\lib\\site-packages\\sklearn\\base.py:450: UserWarning: X does not have valid feature names, but AdaBoostClassifier was fitted with feature names\n",
      "  warnings.warn(\n"
     ]
    },
    {
     "name": "stdout",
     "output_type": "stream",
     "text": [
      "min_length is: 147      \n",
      "length of data is: 159\n",
      "                         bid      ask\n",
      "2022-03-28 02:36:41  1.09578  1.09595\n",
      "2022-03-28 02:36:42  1.09579  1.09595\n",
      "2022-03-28 02:36:43  1.09581  1.09597\n",
      "2022-03-28 02:36:44  1.09582  1.09597\n",
      "2022-03-28 02:36:45  1.09582  1.09598\n",
      "Signal is: 1\n",
      "*** NO TRADE PLACED ***\n",
      "*** END OF CYCLE ***\n",
      "\n",
      " False False\n"
     ]
    },
    {
     "name": "stderr",
     "output_type": "stream",
     "text": [
      "C:\\Users\\Eddie\\anaconda3\\envs\\securities-analysis\\lib\\site-packages\\sklearn\\base.py:450: UserWarning: X does not have valid feature names, but AdaBoostClassifier was fitted with feature names\n",
      "  warnings.warn(\n"
     ]
    },
    {
     "name": "stdout",
     "output_type": "stream",
     "text": [
      "min_length is: 148      \n",
      "length of data is: 159\n",
      "                         bid      ask\n",
      "2022-03-28 02:36:41  1.09578  1.09595\n",
      "2022-03-28 02:36:42  1.09579  1.09595\n",
      "2022-03-28 02:36:43  1.09581  1.09597\n",
      "2022-03-28 02:36:44  1.09582  1.09597\n",
      "2022-03-28 02:36:45  1.09582  1.09598\n",
      "Signal is: 1\n",
      "*** NO TRADE PLACED ***\n",
      "*** END OF CYCLE ***\n",
      "\n",
      " False False\n"
     ]
    },
    {
     "name": "stderr",
     "output_type": "stream",
     "text": [
      "C:\\Users\\Eddie\\anaconda3\\envs\\securities-analysis\\lib\\site-packages\\sklearn\\base.py:450: UserWarning: X does not have valid feature names, but AdaBoostClassifier was fitted with feature names\n",
      "  warnings.warn(\n"
     ]
    },
    {
     "name": "stdout",
     "output_type": "stream",
     "text": [
      "min_length is: 149      \n",
      "length of data is: 162\n",
      "                         bid      ask\n",
      "2022-03-28 02:36:44  1.09582  1.09597\n",
      "2022-03-28 02:36:45  1.09582  1.09598\n",
      "2022-03-28 02:36:46  1.09582  1.09598\n",
      "2022-03-28 02:36:47  1.09582  1.09598\n",
      "2022-03-28 02:36:48  1.09582  1.09598\n",
      "Signal is: 1\n",
      "*** NO TRADE PLACED ***\n",
      "*** END OF CYCLE ***\n",
      "\n",
      " False False\n"
     ]
    },
    {
     "name": "stderr",
     "output_type": "stream",
     "text": [
      "C:\\Users\\Eddie\\anaconda3\\envs\\securities-analysis\\lib\\site-packages\\sklearn\\base.py:450: UserWarning: X does not have valid feature names, but AdaBoostClassifier was fitted with feature names\n",
      "  warnings.warn(\n"
     ]
    },
    {
     "name": "stdout",
     "output_type": "stream",
     "text": [
      "min_length is: 150      \n",
      "length of data is: 162\n",
      "                         bid      ask\n",
      "2022-03-28 02:36:44  1.09582  1.09597\n",
      "2022-03-28 02:36:45  1.09582  1.09598\n",
      "2022-03-28 02:36:46  1.09582  1.09598\n",
      "2022-03-28 02:36:47  1.09582  1.09598\n",
      "2022-03-28 02:36:48  1.09582  1.09598\n",
      "Signal is: 1\n",
      "*** NO TRADE PLACED ***\n",
      "*** END OF CYCLE ***\n",
      "\n",
      " False False\n"
     ]
    },
    {
     "name": "stderr",
     "output_type": "stream",
     "text": [
      "C:\\Users\\Eddie\\anaconda3\\envs\\securities-analysis\\lib\\site-packages\\sklearn\\base.py:450: UserWarning: X does not have valid feature names, but AdaBoostClassifier was fitted with feature names\n",
      "  warnings.warn(\n"
     ]
    },
    {
     "name": "stdout",
     "output_type": "stream",
     "text": [
      "min_length is: 151      \n",
      "length of data is: 162\n",
      "                         bid      ask\n",
      "2022-03-28 02:36:44  1.09582  1.09597\n",
      "2022-03-28 02:36:45  1.09582  1.09598\n",
      "2022-03-28 02:36:46  1.09582  1.09598\n",
      "2022-03-28 02:36:47  1.09582  1.09598\n",
      "2022-03-28 02:36:48  1.09582  1.09598\n",
      "Signal is: 1\n",
      "*** NO TRADE PLACED ***\n",
      "*** END OF CYCLE ***\n",
      "\n",
      " False False\n"
     ]
    },
    {
     "name": "stderr",
     "output_type": "stream",
     "text": [
      "C:\\Users\\Eddie\\anaconda3\\envs\\securities-analysis\\lib\\site-packages\\sklearn\\base.py:450: UserWarning: X does not have valid feature names, but AdaBoostClassifier was fitted with feature names\n",
      "  warnings.warn(\n"
     ]
    },
    {
     "name": "stdout",
     "output_type": "stream",
     "text": [
      "min_length is: 152      \n",
      "length of data is: 163\n",
      "                         bid      ask\n",
      "2022-03-28 02:36:45  1.09582  1.09598\n",
      "2022-03-28 02:36:46  1.09582  1.09598\n",
      "2022-03-28 02:36:47  1.09582  1.09598\n",
      "2022-03-28 02:36:48  1.09582  1.09598\n",
      "2022-03-28 02:36:49  1.09579  1.09593\n",
      "Signal is: 1\n",
      "*** NO TRADE PLACED ***\n",
      "*** END OF CYCLE ***\n",
      "\n",
      " False False\n"
     ]
    },
    {
     "name": "stderr",
     "output_type": "stream",
     "text": [
      "C:\\Users\\Eddie\\anaconda3\\envs\\securities-analysis\\lib\\site-packages\\sklearn\\base.py:450: UserWarning: X does not have valid feature names, but AdaBoostClassifier was fitted with feature names\n",
      "  warnings.warn(\n"
     ]
    },
    {
     "name": "stdout",
     "output_type": "stream",
     "text": [
      "min_length is: 153      \n",
      "length of data is: 164\n",
      "                         bid      ask\n",
      "2022-03-28 02:36:46  1.09582  1.09598\n",
      "2022-03-28 02:36:47  1.09582  1.09598\n",
      "2022-03-28 02:36:48  1.09582  1.09598\n",
      "2022-03-28 02:36:49  1.09579  1.09593\n",
      "2022-03-28 02:36:50  1.09580  1.09595\n",
      "Signal is: 1\n",
      "*** NO TRADE PLACED ***\n",
      "*** END OF CYCLE ***\n",
      "\n",
      " False False\n"
     ]
    },
    {
     "name": "stderr",
     "output_type": "stream",
     "text": [
      "C:\\Users\\Eddie\\anaconda3\\envs\\securities-analysis\\lib\\site-packages\\sklearn\\base.py:450: UserWarning: X does not have valid feature names, but AdaBoostClassifier was fitted with feature names\n",
      "  warnings.warn(\n"
     ]
    },
    {
     "name": "stdout",
     "output_type": "stream",
     "text": [
      "min_length is: 154      \n",
      "length of data is: 164\n",
      "                         bid      ask\n",
      "2022-03-28 02:36:46  1.09582  1.09598\n",
      "2022-03-28 02:36:47  1.09582  1.09598\n",
      "2022-03-28 02:36:48  1.09582  1.09598\n",
      "2022-03-28 02:36:49  1.09579  1.09593\n",
      "2022-03-28 02:36:50  1.09580  1.09595\n",
      "Signal is: 1\n",
      "*** NO TRADE PLACED ***\n",
      "*** END OF CYCLE ***\n",
      "\n",
      " False False\n"
     ]
    },
    {
     "name": "stderr",
     "output_type": "stream",
     "text": [
      "C:\\Users\\Eddie\\anaconda3\\envs\\securities-analysis\\lib\\site-packages\\sklearn\\base.py:450: UserWarning: X does not have valid feature names, but AdaBoostClassifier was fitted with feature names\n",
      "  warnings.warn(\n"
     ]
    },
    {
     "name": "stdout",
     "output_type": "stream",
     "text": [
      "min_length is: 155      \n",
      "length of data is: 165\n",
      "                         bid      ask\n",
      "2022-03-28 02:36:47  1.09582  1.09598\n",
      "2022-03-28 02:36:48  1.09582  1.09598\n",
      "2022-03-28 02:36:49  1.09579  1.09593\n",
      "2022-03-28 02:36:50  1.09580  1.09595\n",
      "2022-03-28 02:36:51  1.09573  1.09588\n",
      "Signal is: 1\n",
      "*** NO TRADE PLACED ***\n",
      "*** END OF CYCLE ***\n",
      "\n",
      " False False\n"
     ]
    },
    {
     "name": "stderr",
     "output_type": "stream",
     "text": [
      "C:\\Users\\Eddie\\anaconda3\\envs\\securities-analysis\\lib\\site-packages\\sklearn\\base.py:450: UserWarning: X does not have valid feature names, but AdaBoostClassifier was fitted with feature names\n",
      "  warnings.warn(\n"
     ]
    },
    {
     "name": "stdout",
     "output_type": "stream",
     "text": [
      "min_length is: 156      \n",
      "length of data is: 166\n",
      "                         bid      ask\n",
      "2022-03-28 02:36:48  1.09582  1.09598\n",
      "2022-03-28 02:36:49  1.09579  1.09593\n",
      "2022-03-28 02:36:50  1.09580  1.09595\n",
      "2022-03-28 02:36:51  1.09573  1.09588\n",
      "2022-03-28 02:36:52  1.09573  1.09588\n",
      "Signal is: 1\n",
      "*** NO TRADE PLACED ***\n",
      "*** END OF CYCLE ***\n",
      "\n",
      " False False\n"
     ]
    },
    {
     "name": "stderr",
     "output_type": "stream",
     "text": [
      "C:\\Users\\Eddie\\anaconda3\\envs\\securities-analysis\\lib\\site-packages\\sklearn\\base.py:450: UserWarning: X does not have valid feature names, but AdaBoostClassifier was fitted with feature names\n",
      "  warnings.warn(\n"
     ]
    },
    {
     "name": "stdout",
     "output_type": "stream",
     "text": [
      "min_length is: 157      \n",
      "length of data is: 168\n",
      "                         bid      ask\n",
      "2022-03-28 02:36:50  1.09580  1.09595\n",
      "2022-03-28 02:36:51  1.09573  1.09588\n",
      "2022-03-28 02:36:52  1.09573  1.09588\n",
      "2022-03-28 02:36:53  1.09575  1.09589\n",
      "2022-03-28 02:36:54  1.09575  1.09589\n",
      "Signal is: 1\n",
      "*** NO TRADE PLACED ***\n",
      "*** END OF CYCLE ***\n",
      "\n",
      " False False\n"
     ]
    },
    {
     "name": "stderr",
     "output_type": "stream",
     "text": [
      "C:\\Users\\Eddie\\anaconda3\\envs\\securities-analysis\\lib\\site-packages\\sklearn\\base.py:450: UserWarning: X does not have valid feature names, but AdaBoostClassifier was fitted with feature names\n",
      "  warnings.warn(\n"
     ]
    },
    {
     "name": "stdout",
     "output_type": "stream",
     "text": [
      "min_length is: 158      \n",
      "length of data is: 170\n",
      "                         bid      ask\n",
      "2022-03-28 02:36:52  1.09573  1.09588\n",
      "2022-03-28 02:36:53  1.09575  1.09589\n",
      "2022-03-28 02:36:54  1.09575  1.09589\n",
      "2022-03-28 02:36:55  1.09574  1.09590\n",
      "2022-03-28 02:36:56  1.09574  1.09590\n",
      "Signal is: 1\n",
      "*** NO TRADE PLACED ***\n",
      "*** END OF CYCLE ***\n",
      "\n",
      " False False\n"
     ]
    },
    {
     "name": "stderr",
     "output_type": "stream",
     "text": [
      "C:\\Users\\Eddie\\anaconda3\\envs\\securities-analysis\\lib\\site-packages\\sklearn\\base.py:450: UserWarning: X does not have valid feature names, but AdaBoostClassifier was fitted with feature names\n",
      "  warnings.warn(\n"
     ]
    },
    {
     "name": "stdout",
     "output_type": "stream",
     "text": [
      "min_length is: 159      \n",
      "length of data is: 170\n",
      "                         bid      ask\n",
      "2022-03-28 02:36:52  1.09573  1.09588\n",
      "2022-03-28 02:36:53  1.09575  1.09589\n",
      "2022-03-28 02:36:54  1.09575  1.09589\n",
      "2022-03-28 02:36:55  1.09574  1.09590\n",
      "2022-03-28 02:36:56  1.09574  1.09590\n",
      "Signal is: 1\n",
      "*** NO TRADE PLACED ***\n",
      "*** END OF CYCLE ***\n",
      "\n",
      " False False\n",
      "min_length is: 160      \n",
      "length of data is: 170\n",
      "                         bid      ask\n",
      "2022-03-28 02:36:52  1.09573  1.09588\n",
      "2022-03-28 02:36:53  1.09575  1.09589\n",
      "2022-03-28 02:36:54  1.09575  1.09589\n",
      "2022-03-28 02:36:55  1.09574  1.09590\n",
      "2022-03-28 02:36:56  1.09574  1.09590\n",
      "Signal is: 1\n",
      "*** NO TRADE PLACED ***\n",
      "*** END OF CYCLE ***\n",
      "\n",
      " False False\n"
     ]
    },
    {
     "name": "stderr",
     "output_type": "stream",
     "text": [
      "C:\\Users\\Eddie\\anaconda3\\envs\\securities-analysis\\lib\\site-packages\\sklearn\\base.py:450: UserWarning: X does not have valid feature names, but AdaBoostClassifier was fitted with feature names\n",
      "  warnings.warn(\n",
      "C:\\Users\\Eddie\\anaconda3\\envs\\securities-analysis\\lib\\site-packages\\sklearn\\base.py:450: UserWarning: X does not have valid feature names, but AdaBoostClassifier was fitted with feature names\n",
      "  warnings.warn(\n"
     ]
    },
    {
     "name": "stdout",
     "output_type": "stream",
     "text": [
      "min_length is: 161      \n",
      "length of data is: 171\n",
      "                         bid      ask\n",
      "2022-03-28 02:36:53  1.09575  1.09589\n",
      "2022-03-28 02:36:54  1.09575  1.09589\n",
      "2022-03-28 02:36:55  1.09574  1.09590\n",
      "2022-03-28 02:36:56  1.09574  1.09590\n",
      "2022-03-28 02:36:57  1.09575  1.09589\n",
      "Signal is: 1\n",
      "*** NO TRADE PLACED ***\n",
      "*** END OF CYCLE ***\n",
      "\n",
      " False False\n"
     ]
    },
    {
     "name": "stderr",
     "output_type": "stream",
     "text": [
      "C:\\Users\\Eddie\\anaconda3\\envs\\securities-analysis\\lib\\site-packages\\sklearn\\base.py:450: UserWarning: X does not have valid feature names, but AdaBoostClassifier was fitted with feature names\n",
      "  warnings.warn(\n"
     ]
    },
    {
     "name": "stdout",
     "output_type": "stream",
     "text": [
      "min_length is: 162      \n",
      "length of data is: 174\n",
      "                         bid      ask\n",
      "2022-03-28 02:36:56  1.09574  1.09590\n",
      "2022-03-28 02:36:57  1.09575  1.09589\n",
      "2022-03-28 02:36:58  1.09574  1.09590\n",
      "2022-03-28 02:36:59  1.09574  1.09590\n",
      "2022-03-28 02:37:00  1.09574  1.09590\n",
      "Signal is: 1\n",
      "*** NO TRADE PLACED ***\n",
      "*** END OF CYCLE ***\n",
      "\n",
      " False False\n"
     ]
    },
    {
     "name": "stderr",
     "output_type": "stream",
     "text": [
      "C:\\Users\\Eddie\\anaconda3\\envs\\securities-analysis\\lib\\site-packages\\sklearn\\base.py:450: UserWarning: X does not have valid feature names, but AdaBoostClassifier was fitted with feature names\n",
      "  warnings.warn(\n"
     ]
    },
    {
     "name": "stdout",
     "output_type": "stream",
     "text": [
      "min_length is: 163      \n",
      "length of data is: 174\n",
      "                         bid      ask\n",
      "2022-03-28 02:36:56  1.09574  1.09590\n",
      "2022-03-28 02:36:57  1.09575  1.09589\n",
      "2022-03-28 02:36:58  1.09574  1.09590\n",
      "2022-03-28 02:36:59  1.09574  1.09590\n",
      "2022-03-28 02:37:00  1.09574  1.09590\n",
      "Signal is: 1\n",
      "*** NO TRADE PLACED ***\n",
      "*** END OF CYCLE ***\n",
      "\n",
      " False False\n"
     ]
    },
    {
     "name": "stderr",
     "output_type": "stream",
     "text": [
      "C:\\Users\\Eddie\\anaconda3\\envs\\securities-analysis\\lib\\site-packages\\sklearn\\base.py:450: UserWarning: X does not have valid feature names, but AdaBoostClassifier was fitted with feature names\n",
      "  warnings.warn(\n"
     ]
    },
    {
     "name": "stdout",
     "output_type": "stream",
     "text": [
      "min_length is: 164      \n",
      "length of data is: 176\n",
      "                         bid      ask\n",
      "2022-03-28 02:36:58  1.09574  1.09590\n",
      "2022-03-28 02:36:59  1.09574  1.09590\n",
      "2022-03-28 02:37:00  1.09574  1.09590\n",
      "2022-03-28 02:37:01  1.09574  1.09589\n",
      "2022-03-28 02:37:02  1.09574  1.09589\n",
      "Signal is: 1\n",
      "*** NO TRADE PLACED ***\n",
      "*** END OF CYCLE ***\n",
      "\n",
      " False False\n"
     ]
    },
    {
     "name": "stderr",
     "output_type": "stream",
     "text": [
      "C:\\Users\\Eddie\\anaconda3\\envs\\securities-analysis\\lib\\site-packages\\sklearn\\base.py:450: UserWarning: X does not have valid feature names, but AdaBoostClassifier was fitted with feature names\n",
      "  warnings.warn(\n"
     ]
    },
    {
     "name": "stdout",
     "output_type": "stream",
     "text": [
      "min_length is: 165      \n",
      "length of data is: 179\n",
      "                         bid      ask\n",
      "2022-03-28 02:37:01  1.09574  1.09589\n",
      "2022-03-28 02:37:02  1.09574  1.09589\n",
      "2022-03-28 02:37:03  1.09575  1.09589\n",
      "2022-03-28 02:37:04  1.09575  1.09589\n",
      "2022-03-28 02:37:05  1.09575  1.09589\n",
      "Signal is: 1\n",
      "*** NO TRADE PLACED ***\n",
      "*** END OF CYCLE ***\n",
      "\n",
      " False False\n"
     ]
    },
    {
     "name": "stderr",
     "output_type": "stream",
     "text": [
      "C:\\Users\\Eddie\\anaconda3\\envs\\securities-analysis\\lib\\site-packages\\sklearn\\base.py:450: UserWarning: X does not have valid feature names, but AdaBoostClassifier was fitted with feature names\n",
      "  warnings.warn(\n"
     ]
    },
    {
     "name": "stdout",
     "output_type": "stream",
     "text": [
      "min_length is: 166      \n",
      "length of data is: 179\n",
      "                         bid      ask\n",
      "2022-03-28 02:37:01  1.09574  1.09589\n",
      "2022-03-28 02:37:02  1.09574  1.09589\n",
      "2022-03-28 02:37:03  1.09575  1.09589\n",
      "2022-03-28 02:37:04  1.09575  1.09589\n",
      "2022-03-28 02:37:05  1.09575  1.09589\n",
      "Signal is: 1\n",
      "*** NO TRADE PLACED ***\n",
      "*** END OF CYCLE ***\n",
      "\n",
      " False False\n"
     ]
    },
    {
     "name": "stderr",
     "output_type": "stream",
     "text": [
      "C:\\Users\\Eddie\\anaconda3\\envs\\securities-analysis\\lib\\site-packages\\sklearn\\base.py:450: UserWarning: X does not have valid feature names, but AdaBoostClassifier was fitted with feature names\n",
      "  warnings.warn(\n"
     ]
    },
    {
     "name": "stdout",
     "output_type": "stream",
     "text": [
      "min_length is: 167      \n",
      "length of data is: 181\n",
      "                         bid      ask\n",
      "2022-03-28 02:37:03  1.09575  1.09589\n",
      "2022-03-28 02:37:04  1.09575  1.09589\n",
      "2022-03-28 02:37:05  1.09575  1.09589\n",
      "2022-03-28 02:37:06  1.09574  1.09590\n",
      "2022-03-28 02:37:07  1.09574  1.09590\n",
      "Signal is: 1\n",
      "*** NO TRADE PLACED ***\n",
      "*** END OF CYCLE ***\n",
      "\n",
      " False False\n"
     ]
    },
    {
     "name": "stderr",
     "output_type": "stream",
     "text": [
      "C:\\Users\\Eddie\\anaconda3\\envs\\securities-analysis\\lib\\site-packages\\sklearn\\base.py:450: UserWarning: X does not have valid feature names, but AdaBoostClassifier was fitted with feature names\n",
      "  warnings.warn(\n"
     ]
    },
    {
     "name": "stdout",
     "output_type": "stream",
     "text": [
      "min_length is: 168      \n",
      "length of data is: 190\n",
      "                         bid      ask\n",
      "2022-03-28 02:37:12  1.09572  1.09588\n",
      "2022-03-28 02:37:13  1.09572  1.09588\n",
      "2022-03-28 02:37:14  1.09572  1.09588\n",
      "2022-03-28 02:37:15  1.09572  1.09588\n",
      "2022-03-28 02:37:16  1.09572  1.09588\n",
      "Signal is: 1\n",
      "*** NO TRADE PLACED ***\n",
      "*** END OF CYCLE ***\n",
      "\n",
      " False False\n"
     ]
    },
    {
     "name": "stderr",
     "output_type": "stream",
     "text": [
      "C:\\Users\\Eddie\\anaconda3\\envs\\securities-analysis\\lib\\site-packages\\sklearn\\base.py:450: UserWarning: X does not have valid feature names, but AdaBoostClassifier was fitted with feature names\n",
      "  warnings.warn(\n"
     ]
    },
    {
     "name": "stdout",
     "output_type": "stream",
     "text": [
      "min_length is: 169      \n",
      "length of data is: 191\n",
      "                         bid      ask\n",
      "2022-03-28 02:37:13  1.09572  1.09588\n",
      "2022-03-28 02:37:14  1.09572  1.09588\n",
      "2022-03-28 02:37:15  1.09572  1.09588\n",
      "2022-03-28 02:37:16  1.09572  1.09588\n",
      "2022-03-28 02:37:17  1.09575  1.09588\n",
      "Signal is: 1\n",
      "*** NO TRADE PLACED ***\n",
      "*** END OF CYCLE ***\n",
      "\n",
      " False False\n"
     ]
    },
    {
     "name": "stderr",
     "output_type": "stream",
     "text": [
      "C:\\Users\\Eddie\\anaconda3\\envs\\securities-analysis\\lib\\site-packages\\sklearn\\base.py:450: UserWarning: X does not have valid feature names, but AdaBoostClassifier was fitted with feature names\n",
      "  warnings.warn(\n"
     ]
    },
    {
     "name": "stdout",
     "output_type": "stream",
     "text": [
      "min_length is: 170      \n",
      "length of data is: 193\n",
      "                         bid      ask\n",
      "2022-03-28 02:37:15  1.09572  1.09588\n",
      "2022-03-28 02:37:16  1.09572  1.09588\n",
      "2022-03-28 02:37:17  1.09575  1.09588\n",
      "2022-03-28 02:37:18  1.09574  1.09589\n",
      "2022-03-28 02:37:19  1.09574  1.09589\n",
      "Signal is: 1\n",
      "*** NO TRADE PLACED ***\n",
      "*** END OF CYCLE ***\n",
      "\n",
      " False False\n"
     ]
    },
    {
     "name": "stderr",
     "output_type": "stream",
     "text": [
      "C:\\Users\\Eddie\\anaconda3\\envs\\securities-analysis\\lib\\site-packages\\sklearn\\base.py:450: UserWarning: X does not have valid feature names, but AdaBoostClassifier was fitted with feature names\n",
      "  warnings.warn(\n"
     ]
    },
    {
     "name": "stdout",
     "output_type": "stream",
     "text": [
      "min_length is: 171      \n",
      "length of data is: 194\n",
      "                         bid      ask\n",
      "2022-03-28 02:37:16  1.09572  1.09588\n",
      "2022-03-28 02:37:17  1.09575  1.09588\n",
      "2022-03-28 02:37:18  1.09574  1.09589\n",
      "2022-03-28 02:37:19  1.09574  1.09589\n",
      "2022-03-28 02:37:20  1.09574  1.09589\n",
      "Signal is: 1\n",
      "*** NO TRADE PLACED ***\n",
      "*** END OF CYCLE ***\n",
      "\n",
      " False False\n"
     ]
    },
    {
     "name": "stderr",
     "output_type": "stream",
     "text": [
      "C:\\Users\\Eddie\\anaconda3\\envs\\securities-analysis\\lib\\site-packages\\sklearn\\base.py:450: UserWarning: X does not have valid feature names, but AdaBoostClassifier was fitted with feature names\n",
      "  warnings.warn(\n"
     ]
    },
    {
     "name": "stdout",
     "output_type": "stream",
     "text": [
      "min_length is: 172      \n",
      "length of data is: 196\n",
      "                         bid      ask\n",
      "2022-03-28 02:37:18  1.09574  1.09589\n",
      "2022-03-28 02:37:19  1.09574  1.09589\n",
      "2022-03-28 02:37:20  1.09574  1.09589\n",
      "2022-03-28 02:37:21  1.09574  1.09588\n",
      "2022-03-28 02:37:22  1.09574  1.09588\n",
      "Signal is: 1\n",
      "*** NO TRADE PLACED ***\n",
      "*** END OF CYCLE ***\n",
      "\n",
      " False False\n"
     ]
    },
    {
     "name": "stderr",
     "output_type": "stream",
     "text": [
      "C:\\Users\\Eddie\\anaconda3\\envs\\securities-analysis\\lib\\site-packages\\sklearn\\base.py:450: UserWarning: X does not have valid feature names, but AdaBoostClassifier was fitted with feature names\n",
      "  warnings.warn(\n"
     ]
    },
    {
     "name": "stdout",
     "output_type": "stream",
     "text": [
      "min_length is: 173      \n",
      "length of data is: 196\n",
      "                         bid      ask\n",
      "2022-03-28 02:37:18  1.09574  1.09589\n",
      "2022-03-28 02:37:19  1.09574  1.09589\n",
      "2022-03-28 02:37:20  1.09574  1.09589\n",
      "2022-03-28 02:37:21  1.09574  1.09588\n",
      "2022-03-28 02:37:22  1.09574  1.09588\n",
      "Signal is: 1\n",
      "*** NO TRADE PLACED ***\n",
      "*** END OF CYCLE ***\n",
      "\n",
      " False False\n"
     ]
    },
    {
     "name": "stderr",
     "output_type": "stream",
     "text": [
      "C:\\Users\\Eddie\\anaconda3\\envs\\securities-analysis\\lib\\site-packages\\sklearn\\base.py:450: UserWarning: X does not have valid feature names, but AdaBoostClassifier was fitted with feature names\n",
      "  warnings.warn(\n"
     ]
    },
    {
     "name": "stdout",
     "output_type": "stream",
     "text": [
      "min_length is: 174      \n",
      "length of data is: 197\n",
      "                         bid      ask\n",
      "2022-03-28 02:37:19  1.09574  1.09589\n",
      "2022-03-28 02:37:20  1.09574  1.09589\n",
      "2022-03-28 02:37:21  1.09574  1.09588\n",
      "2022-03-28 02:37:22  1.09574  1.09588\n",
      "2022-03-28 02:37:23  1.09568  1.09584\n",
      "Signal is: 1\n",
      "*** NO TRADE PLACED ***\n",
      "*** END OF CYCLE ***\n",
      "\n",
      " False False\n"
     ]
    },
    {
     "name": "stderr",
     "output_type": "stream",
     "text": [
      "C:\\Users\\Eddie\\anaconda3\\envs\\securities-analysis\\lib\\site-packages\\sklearn\\base.py:450: UserWarning: X does not have valid feature names, but AdaBoostClassifier was fitted with feature names\n",
      "  warnings.warn(\n"
     ]
    },
    {
     "name": "stdout",
     "output_type": "stream",
     "text": [
      "min_length is: 175      \n",
      "length of data is: 198\n",
      "                         bid      ask\n",
      "2022-03-28 02:37:20  1.09574  1.09589\n",
      "2022-03-28 02:37:21  1.09574  1.09588\n",
      "2022-03-28 02:37:22  1.09574  1.09588\n",
      "2022-03-28 02:37:23  1.09568  1.09584\n",
      "2022-03-28 02:37:24  1.09569  1.09583\n",
      "Signal is: 1\n",
      "*** NO TRADE PLACED ***\n",
      "*** END OF CYCLE ***\n",
      "\n",
      " False False\n"
     ]
    },
    {
     "name": "stderr",
     "output_type": "stream",
     "text": [
      "C:\\Users\\Eddie\\anaconda3\\envs\\securities-analysis\\lib\\site-packages\\sklearn\\base.py:450: UserWarning: X does not have valid feature names, but AdaBoostClassifier was fitted with feature names\n",
      "  warnings.warn(\n"
     ]
    },
    {
     "name": "stdout",
     "output_type": "stream",
     "text": [
      "min_length is: 176      \n",
      "length of data is: 198\n",
      "                         bid      ask\n",
      "2022-03-28 02:37:20  1.09574  1.09589\n",
      "2022-03-28 02:37:21  1.09574  1.09588\n",
      "2022-03-28 02:37:22  1.09574  1.09588\n",
      "2022-03-28 02:37:23  1.09568  1.09584\n",
      "2022-03-28 02:37:24  1.09569  1.09583\n",
      "Signal is: 1\n",
      "*** NO TRADE PLACED ***\n",
      "*** END OF CYCLE ***\n",
      "\n",
      " False False\n"
     ]
    },
    {
     "name": "stderr",
     "output_type": "stream",
     "text": [
      "C:\\Users\\Eddie\\anaconda3\\envs\\securities-analysis\\lib\\site-packages\\sklearn\\base.py:450: UserWarning: X does not have valid feature names, but AdaBoostClassifier was fitted with feature names\n",
      "  warnings.warn(\n"
     ]
    },
    {
     "name": "stdout",
     "output_type": "stream",
     "text": [
      "min_length is: 177      \n",
      "length of data is: 200\n",
      "                         bid      ask\n",
      "2022-03-28 02:37:22  1.09574  1.09588\n",
      "2022-03-28 02:37:23  1.09568  1.09584\n",
      "2022-03-28 02:37:24  1.09569  1.09583\n",
      "2022-03-28 02:37:25  1.09569  1.09584\n",
      "2022-03-28 02:37:26  1.09569  1.09584\n",
      "Signal is: 1\n",
      "*** NO TRADE PLACED ***\n",
      "*** END OF CYCLE ***\n",
      "\n",
      " False False\n"
     ]
    },
    {
     "name": "stderr",
     "output_type": "stream",
     "text": [
      "C:\\Users\\Eddie\\anaconda3\\envs\\securities-analysis\\lib\\site-packages\\sklearn\\base.py:450: UserWarning: X does not have valid feature names, but AdaBoostClassifier was fitted with feature names\n",
      "  warnings.warn(\n"
     ]
    },
    {
     "name": "stdout",
     "output_type": "stream",
     "text": [
      "min_length is: 178      \n",
      "length of data is: 201\n",
      "                         bid      ask\n",
      "2022-03-28 02:37:23  1.09568  1.09584\n",
      "2022-03-28 02:37:24  1.09569  1.09583\n",
      "2022-03-28 02:37:25  1.09569  1.09584\n",
      "2022-03-28 02:37:26  1.09569  1.09584\n",
      "2022-03-28 02:37:27  1.09569  1.09585\n",
      "Signal is: 1\n",
      "*** NO TRADE PLACED ***\n",
      "*** END OF CYCLE ***\n",
      "\n",
      " False False\n"
     ]
    },
    {
     "name": "stderr",
     "output_type": "stream",
     "text": [
      "C:\\Users\\Eddie\\anaconda3\\envs\\securities-analysis\\lib\\site-packages\\sklearn\\base.py:450: UserWarning: X does not have valid feature names, but AdaBoostClassifier was fitted with feature names\n",
      "  warnings.warn(\n"
     ]
    },
    {
     "name": "stdout",
     "output_type": "stream",
     "text": [
      "min_length is: 179      \n",
      "length of data is: 202\n",
      "                         bid      ask\n",
      "2022-03-28 02:37:24  1.09569  1.09583\n",
      "2022-03-28 02:37:25  1.09569  1.09584\n",
      "2022-03-28 02:37:26  1.09569  1.09584\n",
      "2022-03-28 02:37:27  1.09569  1.09585\n",
      "2022-03-28 02:37:28  1.09570  1.09584\n",
      "Signal is: 1\n",
      "*** NO TRADE PLACED ***\n",
      "*** END OF CYCLE ***\n",
      "\n",
      " False False\n"
     ]
    },
    {
     "name": "stderr",
     "output_type": "stream",
     "text": [
      "C:\\Users\\Eddie\\anaconda3\\envs\\securities-analysis\\lib\\site-packages\\sklearn\\base.py:450: UserWarning: X does not have valid feature names, but AdaBoostClassifier was fitted with feature names\n",
      "  warnings.warn(\n"
     ]
    },
    {
     "name": "stdout",
     "output_type": "stream",
     "text": [
      "min_length is: 180      \n",
      "length of data is: 202\n",
      "                         bid      ask\n",
      "2022-03-28 02:37:24  1.09569  1.09583\n",
      "2022-03-28 02:37:25  1.09569  1.09584\n",
      "2022-03-28 02:37:26  1.09569  1.09584\n",
      "2022-03-28 02:37:27  1.09569  1.09585\n",
      "2022-03-28 02:37:28  1.09570  1.09584\n",
      "Signal is: 1\n",
      "*** NO TRADE PLACED ***\n",
      "*** END OF CYCLE ***\n",
      "\n",
      " False False\n"
     ]
    },
    {
     "name": "stderr",
     "output_type": "stream",
     "text": [
      "C:\\Users\\Eddie\\anaconda3\\envs\\securities-analysis\\lib\\site-packages\\sklearn\\base.py:450: UserWarning: X does not have valid feature names, but AdaBoostClassifier was fitted with feature names\n",
      "  warnings.warn(\n"
     ]
    },
    {
     "name": "stdout",
     "output_type": "stream",
     "text": [
      "min_length is: 181      \n",
      "length of data is: 205\n",
      "                         bid      ask\n",
      "2022-03-28 02:37:27  1.09569  1.09585\n",
      "2022-03-28 02:37:28  1.09570  1.09584\n",
      "2022-03-28 02:37:29  1.09571  1.09586\n",
      "2022-03-28 02:37:30  1.09571  1.09586\n",
      "2022-03-28 02:37:31  1.09571  1.09586\n",
      "Signal is: 1\n",
      "*** NO TRADE PLACED ***\n",
      "*** END OF CYCLE ***\n",
      "\n",
      " False False\n"
     ]
    },
    {
     "name": "stderr",
     "output_type": "stream",
     "text": [
      "C:\\Users\\Eddie\\anaconda3\\envs\\securities-analysis\\lib\\site-packages\\sklearn\\base.py:450: UserWarning: X does not have valid feature names, but AdaBoostClassifier was fitted with feature names\n",
      "  warnings.warn(\n"
     ]
    },
    {
     "name": "stdout",
     "output_type": "stream",
     "text": [
      "min_length is: 182      \n",
      "length of data is: 205\n",
      "                         bid      ask\n",
      "2022-03-28 02:37:27  1.09569  1.09585\n",
      "2022-03-28 02:37:28  1.09570  1.09584\n",
      "2022-03-28 02:37:29  1.09571  1.09586\n",
      "2022-03-28 02:37:30  1.09571  1.09586\n",
      "2022-03-28 02:37:31  1.09571  1.09586\n",
      "Signal is: 1\n",
      "*** NO TRADE PLACED ***\n",
      "*** END OF CYCLE ***\n",
      "\n",
      " False False\n"
     ]
    },
    {
     "name": "stderr",
     "output_type": "stream",
     "text": [
      "C:\\Users\\Eddie\\anaconda3\\envs\\securities-analysis\\lib\\site-packages\\sklearn\\base.py:450: UserWarning: X does not have valid feature names, but AdaBoostClassifier was fitted with feature names\n",
      "  warnings.warn(\n"
     ]
    },
    {
     "name": "stdout",
     "output_type": "stream",
     "text": [
      "min_length is: 183      \n",
      "length of data is: 209\n",
      "                         bid      ask\n",
      "2022-03-28 02:37:31  1.09571  1.09586\n",
      "2022-03-28 02:37:32  1.09571  1.09586\n",
      "2022-03-28 02:37:33  1.09571  1.09586\n",
      "2022-03-28 02:37:34  1.09571  1.09586\n",
      "2022-03-28 02:37:35  1.09571  1.09586\n",
      "Signal is: 1\n",
      "*** NO TRADE PLACED ***\n",
      "*** END OF CYCLE ***\n",
      "\n",
      " False False\n"
     ]
    },
    {
     "name": "stderr",
     "output_type": "stream",
     "text": [
      "C:\\Users\\Eddie\\anaconda3\\envs\\securities-analysis\\lib\\site-packages\\sklearn\\base.py:450: UserWarning: X does not have valid feature names, but AdaBoostClassifier was fitted with feature names\n",
      "  warnings.warn(\n"
     ]
    },
    {
     "name": "stdout",
     "output_type": "stream",
     "text": [
      "min_length is: 184      \n",
      "length of data is: 212\n",
      "                         bid      ask\n",
      "2022-03-28 02:37:34  1.09571  1.09586\n",
      "2022-03-28 02:37:35  1.09571  1.09586\n",
      "2022-03-28 02:37:36  1.09569  1.09584\n",
      "2022-03-28 02:37:37  1.09569  1.09584\n",
      "2022-03-28 02:37:38  1.09569  1.09584\n",
      "Signal is: 1\n",
      "*** NO TRADE PLACED ***\n",
      "*** END OF CYCLE ***\n",
      "\n",
      " False False\n"
     ]
    },
    {
     "name": "stderr",
     "output_type": "stream",
     "text": [
      "C:\\Users\\Eddie\\anaconda3\\envs\\securities-analysis\\lib\\site-packages\\sklearn\\base.py:450: UserWarning: X does not have valid feature names, but AdaBoostClassifier was fitted with feature names\n",
      "  warnings.warn(\n"
     ]
    },
    {
     "name": "stdout",
     "output_type": "stream",
     "text": [
      "min_length is: 185      \n",
      "length of data is: 212\n",
      "                         bid      ask\n",
      "2022-03-28 02:37:34  1.09571  1.09586\n",
      "2022-03-28 02:37:35  1.09571  1.09586\n",
      "2022-03-28 02:37:36  1.09569  1.09584\n",
      "2022-03-28 02:37:37  1.09569  1.09584\n",
      "2022-03-28 02:37:38  1.09569  1.09584\n",
      "Signal is: 1\n",
      "*** NO TRADE PLACED ***\n",
      "*** END OF CYCLE ***\n",
      "\n",
      " False False\n"
     ]
    },
    {
     "name": "stderr",
     "output_type": "stream",
     "text": [
      "C:\\Users\\Eddie\\anaconda3\\envs\\securities-analysis\\lib\\site-packages\\sklearn\\base.py:450: UserWarning: X does not have valid feature names, but AdaBoostClassifier was fitted with feature names\n",
      "  warnings.warn(\n"
     ]
    },
    {
     "name": "stdout",
     "output_type": "stream",
     "text": [
      "min_length is: 186      \n",
      "length of data is: 214\n",
      "                         bid      ask\n",
      "2022-03-28 02:37:36  1.09569  1.09584\n",
      "2022-03-28 02:37:37  1.09569  1.09584\n",
      "2022-03-28 02:37:38  1.09569  1.09584\n",
      "2022-03-28 02:37:39  1.09570  1.09583\n",
      "2022-03-28 02:37:40  1.09570  1.09583\n",
      "Signal is: 1\n",
      "*** NO TRADE PLACED ***\n",
      "*** END OF CYCLE ***\n",
      "\n",
      " False False\n"
     ]
    },
    {
     "name": "stderr",
     "output_type": "stream",
     "text": [
      "C:\\Users\\Eddie\\anaconda3\\envs\\securities-analysis\\lib\\site-packages\\sklearn\\base.py:450: UserWarning: X does not have valid feature names, but AdaBoostClassifier was fitted with feature names\n",
      "  warnings.warn(\n"
     ]
    },
    {
     "name": "stdout",
     "output_type": "stream",
     "text": [
      "min_length is: 187      \n",
      "length of data is: 215\n",
      "                         bid      ask\n",
      "2022-03-28 02:37:37  1.09569  1.09584\n",
      "2022-03-28 02:37:38  1.09569  1.09584\n",
      "2022-03-28 02:37:39  1.09570  1.09583\n",
      "2022-03-28 02:37:40  1.09570  1.09583\n",
      "2022-03-28 02:37:41  1.09569  1.09584\n",
      "Signal is: 1\n",
      "*** NO TRADE PLACED ***\n",
      "*** END OF CYCLE ***\n",
      "\n",
      " False False\n"
     ]
    },
    {
     "name": "stderr",
     "output_type": "stream",
     "text": [
      "C:\\Users\\Eddie\\anaconda3\\envs\\securities-analysis\\lib\\site-packages\\sklearn\\base.py:450: UserWarning: X does not have valid feature names, but AdaBoostClassifier was fitted with feature names\n",
      "  warnings.warn(\n"
     ]
    },
    {
     "name": "stdout",
     "output_type": "stream",
     "text": [
      "min_length is: 188      \n",
      "length of data is: 217\n",
      "                         bid      ask\n",
      "2022-03-28 02:37:39  1.09570  1.09583\n",
      "2022-03-28 02:37:40  1.09570  1.09583\n",
      "2022-03-28 02:37:41  1.09569  1.09584\n",
      "2022-03-28 02:37:42  1.09568  1.09584\n",
      "2022-03-28 02:37:43  1.09568  1.09584\n",
      "Signal is: 1\n",
      "*** NO TRADE PLACED ***\n",
      "*** END OF CYCLE ***\n",
      "\n",
      " False False\n"
     ]
    },
    {
     "name": "stderr",
     "output_type": "stream",
     "text": [
      "C:\\Users\\Eddie\\anaconda3\\envs\\securities-analysis\\lib\\site-packages\\sklearn\\base.py:450: UserWarning: X does not have valid feature names, but AdaBoostClassifier was fitted with feature names\n",
      "  warnings.warn(\n"
     ]
    },
    {
     "name": "stdout",
     "output_type": "stream",
     "text": [
      "min_length is: 189      \n",
      "length of data is: 217\n",
      "                         bid      ask\n",
      "2022-03-28 02:37:39  1.09570  1.09583\n",
      "2022-03-28 02:37:40  1.09570  1.09583\n",
      "2022-03-28 02:37:41  1.09569  1.09584\n",
      "2022-03-28 02:37:42  1.09568  1.09584\n",
      "2022-03-28 02:37:43  1.09568  1.09584\n",
      "Signal is: 1\n",
      "*** NO TRADE PLACED ***\n",
      "*** END OF CYCLE ***\n",
      "\n",
      " False False\n"
     ]
    },
    {
     "name": "stderr",
     "output_type": "stream",
     "text": [
      "C:\\Users\\Eddie\\anaconda3\\envs\\securities-analysis\\lib\\site-packages\\sklearn\\base.py:450: UserWarning: X does not have valid feature names, but AdaBoostClassifier was fitted with feature names\n",
      "  warnings.warn(\n"
     ]
    },
    {
     "name": "stdout",
     "output_type": "stream",
     "text": [
      "min_length is: 190      \n",
      "length of data is: 219\n",
      "                         bid      ask\n",
      "2022-03-28 02:37:41  1.09569  1.09584\n",
      "2022-03-28 02:37:42  1.09568  1.09584\n",
      "2022-03-28 02:37:43  1.09568  1.09584\n",
      "2022-03-28 02:37:44  1.09572  1.09589\n",
      "2022-03-28 02:37:45  1.09572  1.09589\n",
      "Signal is: 1\n",
      "*** NO TRADE PLACED ***\n",
      "*** END OF CYCLE ***\n",
      "\n",
      " False False\n"
     ]
    },
    {
     "name": "stderr",
     "output_type": "stream",
     "text": [
      "C:\\Users\\Eddie\\anaconda3\\envs\\securities-analysis\\lib\\site-packages\\sklearn\\base.py:450: UserWarning: X does not have valid feature names, but AdaBoostClassifier was fitted with feature names\n",
      "  warnings.warn(\n"
     ]
    },
    {
     "name": "stdout",
     "output_type": "stream",
     "text": [
      "min_length is: 191      \n",
      "length of data is: 220\n",
      "                         bid      ask\n",
      "2022-03-28 02:37:42  1.09568  1.09584\n",
      "2022-03-28 02:37:43  1.09568  1.09584\n",
      "2022-03-28 02:37:44  1.09572  1.09589\n",
      "2022-03-28 02:37:45  1.09572  1.09589\n",
      "2022-03-28 02:37:46  1.09573  1.09587\n",
      "Signal is: 1\n",
      "*** NO TRADE PLACED ***\n",
      "*** END OF CYCLE ***\n",
      "\n",
      " False False\n"
     ]
    },
    {
     "name": "stderr",
     "output_type": "stream",
     "text": [
      "C:\\Users\\Eddie\\anaconda3\\envs\\securities-analysis\\lib\\site-packages\\sklearn\\base.py:450: UserWarning: X does not have valid feature names, but AdaBoostClassifier was fitted with feature names\n",
      "  warnings.warn(\n"
     ]
    },
    {
     "name": "stdout",
     "output_type": "stream",
     "text": [
      "min_length is: 192      \n",
      "length of data is: 221\n",
      "                         bid      ask\n",
      "2022-03-28 02:37:43  1.09568  1.09584\n",
      "2022-03-28 02:37:44  1.09572  1.09589\n",
      "2022-03-28 02:37:45  1.09572  1.09589\n",
      "2022-03-28 02:37:46  1.09573  1.09587\n",
      "2022-03-28 02:37:47  1.09572  1.09588\n",
      "Signal is: 1\n",
      "*** NO TRADE PLACED ***\n",
      "*** END OF CYCLE ***\n",
      "\n",
      " False False\n"
     ]
    },
    {
     "name": "stderr",
     "output_type": "stream",
     "text": [
      "C:\\Users\\Eddie\\anaconda3\\envs\\securities-analysis\\lib\\site-packages\\sklearn\\base.py:450: UserWarning: X does not have valid feature names, but AdaBoostClassifier was fitted with feature names\n",
      "  warnings.warn(\n"
     ]
    },
    {
     "name": "stdout",
     "output_type": "stream",
     "text": [
      "min_length is: 193      \n",
      "length of data is: 222\n",
      "                         bid      ask\n",
      "2022-03-28 02:37:44  1.09572  1.09589\n",
      "2022-03-28 02:37:45  1.09572  1.09589\n",
      "2022-03-28 02:37:46  1.09573  1.09587\n",
      "2022-03-28 02:37:47  1.09572  1.09588\n",
      "2022-03-28 02:37:48  1.09573  1.09587\n",
      "Signal is: 1\n",
      "*** NO TRADE PLACED ***\n",
      "*** END OF CYCLE ***\n",
      "\n",
      " False False\n"
     ]
    },
    {
     "name": "stderr",
     "output_type": "stream",
     "text": [
      "C:\\Users\\Eddie\\anaconda3\\envs\\securities-analysis\\lib\\site-packages\\sklearn\\base.py:450: UserWarning: X does not have valid feature names, but AdaBoostClassifier was fitted with feature names\n",
      "  warnings.warn(\n"
     ]
    },
    {
     "name": "stdout",
     "output_type": "stream",
     "text": [
      "min_length is: 194      \n",
      "length of data is: 224\n",
      "                         bid      ask\n",
      "2022-03-28 02:37:46  1.09573  1.09587\n",
      "2022-03-28 02:37:47  1.09572  1.09588\n",
      "2022-03-28 02:37:48  1.09573  1.09587\n",
      "2022-03-28 02:37:49  1.09573  1.09589\n",
      "2022-03-28 02:37:50  1.09573  1.09589\n",
      "Signal is: 1\n",
      "*** NO TRADE PLACED ***\n",
      "*** END OF CYCLE ***\n",
      "\n",
      " False False\n"
     ]
    },
    {
     "name": "stderr",
     "output_type": "stream",
     "text": [
      "C:\\Users\\Eddie\\anaconda3\\envs\\securities-analysis\\lib\\site-packages\\sklearn\\base.py:450: UserWarning: X does not have valid feature names, but AdaBoostClassifier was fitted with feature names\n",
      "  warnings.warn(\n"
     ]
    },
    {
     "name": "stdout",
     "output_type": "stream",
     "text": [
      "min_length is: 195      \n",
      "length of data is: 229\n",
      "                         bid      ask\n",
      "2022-03-28 02:37:51  1.09573  1.09587\n",
      "2022-03-28 02:37:52  1.09573  1.09587\n",
      "2022-03-28 02:37:53  1.09573  1.09587\n",
      "2022-03-28 02:37:54  1.09573  1.09587\n",
      "2022-03-28 02:37:55  1.09573  1.09587\n",
      "Signal is: 1\n",
      "*** NO TRADE PLACED ***\n",
      "*** END OF CYCLE ***\n",
      "\n",
      " False False\n"
     ]
    },
    {
     "name": "stderr",
     "output_type": "stream",
     "text": [
      "C:\\Users\\Eddie\\anaconda3\\envs\\securities-analysis\\lib\\site-packages\\sklearn\\base.py:450: UserWarning: X does not have valid feature names, but AdaBoostClassifier was fitted with feature names\n",
      "  warnings.warn(\n"
     ]
    },
    {
     "name": "stdout",
     "output_type": "stream",
     "text": [
      "min_length is: 196      \n",
      "length of data is: 229\n",
      "                         bid      ask\n",
      "2022-03-28 02:37:51  1.09573  1.09587\n",
      "2022-03-28 02:37:52  1.09573  1.09587\n",
      "2022-03-28 02:37:53  1.09573  1.09587\n",
      "2022-03-28 02:37:54  1.09573  1.09587\n",
      "2022-03-28 02:37:55  1.09573  1.09587\n",
      "Signal is: 1\n",
      "*** NO TRADE PLACED ***\n",
      "*** END OF CYCLE ***\n",
      "\n",
      " False False\n"
     ]
    },
    {
     "name": "stderr",
     "output_type": "stream",
     "text": [
      "C:\\Users\\Eddie\\anaconda3\\envs\\securities-analysis\\lib\\site-packages\\sklearn\\base.py:450: UserWarning: X does not have valid feature names, but AdaBoostClassifier was fitted with feature names\n",
      "  warnings.warn(\n"
     ]
    },
    {
     "name": "stdout",
     "output_type": "stream",
     "text": [
      "min_length is: 197      \n",
      "length of data is: 230\n",
      "                         bid      ask\n",
      "2022-03-28 02:37:52  1.09573  1.09587\n",
      "2022-03-28 02:37:53  1.09573  1.09587\n",
      "2022-03-28 02:37:54  1.09573  1.09587\n",
      "2022-03-28 02:37:55  1.09573  1.09587\n",
      "2022-03-28 02:37:56  1.09573  1.09588\n",
      "Signal is: 1\n",
      "*** NO TRADE PLACED ***\n",
      "*** END OF CYCLE ***\n",
      "\n",
      " False False\n"
     ]
    },
    {
     "name": "stderr",
     "output_type": "stream",
     "text": [
      "C:\\Users\\Eddie\\anaconda3\\envs\\securities-analysis\\lib\\site-packages\\sklearn\\base.py:450: UserWarning: X does not have valid feature names, but AdaBoostClassifier was fitted with feature names\n",
      "  warnings.warn(\n"
     ]
    },
    {
     "name": "stdout",
     "output_type": "stream",
     "text": [
      "min_length is: 198      \n",
      "length of data is: 231\n",
      "                         bid      ask\n",
      "2022-03-28 02:37:53  1.09573  1.09587\n",
      "2022-03-28 02:37:54  1.09573  1.09587\n",
      "2022-03-28 02:37:55  1.09573  1.09587\n",
      "2022-03-28 02:37:56  1.09573  1.09588\n",
      "2022-03-28 02:37:57  1.09573  1.09589\n",
      "Signal is: 1\n",
      "*** NO TRADE PLACED ***\n",
      "*** END OF CYCLE ***\n",
      "\n",
      " False False\n"
     ]
    },
    {
     "name": "stderr",
     "output_type": "stream",
     "text": [
      "C:\\Users\\Eddie\\anaconda3\\envs\\securities-analysis\\lib\\site-packages\\sklearn\\base.py:450: UserWarning: X does not have valid feature names, but AdaBoostClassifier was fitted with feature names\n",
      "  warnings.warn(\n"
     ]
    },
    {
     "name": "stdout",
     "output_type": "stream",
     "text": [
      "min_length is: 199      \n",
      "length of data is: 232\n",
      "                         bid      ask\n",
      "2022-03-28 02:37:54  1.09573  1.09587\n",
      "2022-03-28 02:37:55  1.09573  1.09587\n",
      "2022-03-28 02:37:56  1.09573  1.09588\n",
      "2022-03-28 02:37:57  1.09573  1.09589\n",
      "2022-03-28 02:37:58  1.09573  1.09588\n",
      "Signal is: 1\n",
      "*** NO TRADE PLACED ***\n",
      "*** END OF CYCLE ***\n",
      "\n",
      " False False\n"
     ]
    },
    {
     "name": "stderr",
     "output_type": "stream",
     "text": [
      "C:\\Users\\Eddie\\anaconda3\\envs\\securities-analysis\\lib\\site-packages\\sklearn\\base.py:450: UserWarning: X does not have valid feature names, but AdaBoostClassifier was fitted with feature names\n",
      "  warnings.warn(\n"
     ]
    },
    {
     "name": "stdout",
     "output_type": "stream",
     "text": [
      "min_length is: 200      \n",
      "length of data is: 233\n",
      "                         bid      ask\n",
      "2022-03-28 02:37:55  1.09573  1.09587\n",
      "2022-03-28 02:37:56  1.09573  1.09588\n",
      "2022-03-28 02:37:57  1.09573  1.09589\n",
      "2022-03-28 02:37:58  1.09573  1.09588\n",
      "2022-03-28 02:37:59  1.09572  1.09587\n",
      "Signal is: 1\n",
      "*** NO TRADE PLACED ***\n",
      "*** END OF CYCLE ***\n",
      "\n",
      " False False\n"
     ]
    },
    {
     "name": "stderr",
     "output_type": "stream",
     "text": [
      "C:\\Users\\Eddie\\anaconda3\\envs\\securities-analysis\\lib\\site-packages\\sklearn\\base.py:450: UserWarning: X does not have valid feature names, but AdaBoostClassifier was fitted with feature names\n",
      "  warnings.warn(\n"
     ]
    },
    {
     "name": "stdout",
     "output_type": "stream",
     "text": [
      "min_length is: 201      \n",
      "length of data is: 234\n",
      "                         bid      ask\n",
      "2022-03-28 02:37:56  1.09573  1.09588\n",
      "2022-03-28 02:37:57  1.09573  1.09589\n",
      "2022-03-28 02:37:58  1.09573  1.09588\n",
      "2022-03-28 02:37:59  1.09572  1.09587\n",
      "2022-03-28 02:38:00  1.09572  1.09588\n",
      "Signal is: 1\n",
      "*** NO TRADE PLACED ***\n",
      "*** END OF CYCLE ***\n",
      "\n",
      " False False\n"
     ]
    },
    {
     "name": "stderr",
     "output_type": "stream",
     "text": [
      "C:\\Users\\Eddie\\anaconda3\\envs\\securities-analysis\\lib\\site-packages\\sklearn\\base.py:450: UserWarning: X does not have valid feature names, but AdaBoostClassifier was fitted with feature names\n",
      "  warnings.warn(\n"
     ]
    },
    {
     "name": "stdout",
     "output_type": "stream",
     "text": [
      "min_length is: 202      \n",
      "length of data is: 234\n",
      "                         bid      ask\n",
      "2022-03-28 02:37:56  1.09573  1.09588\n",
      "2022-03-28 02:37:57  1.09573  1.09589\n",
      "2022-03-28 02:37:58  1.09573  1.09588\n",
      "2022-03-28 02:37:59  1.09572  1.09587\n",
      "2022-03-28 02:38:00  1.09572  1.09588\n",
      "Signal is: 1\n",
      "*** NO TRADE PLACED ***\n",
      "*** END OF CYCLE ***\n",
      "\n",
      " False False\n"
     ]
    },
    {
     "name": "stderr",
     "output_type": "stream",
     "text": [
      "C:\\Users\\Eddie\\anaconda3\\envs\\securities-analysis\\lib\\site-packages\\sklearn\\base.py:450: UserWarning: X does not have valid feature names, but AdaBoostClassifier was fitted with feature names\n",
      "  warnings.warn(\n"
     ]
    },
    {
     "name": "stdout",
     "output_type": "stream",
     "text": [
      "min_length is: 203      \n",
      "length of data is: 234\n",
      "                         bid      ask\n",
      "2022-03-28 02:37:56  1.09573  1.09588\n",
      "2022-03-28 02:37:57  1.09573  1.09589\n",
      "2022-03-28 02:37:58  1.09573  1.09588\n",
      "2022-03-28 02:37:59  1.09572  1.09587\n",
      "2022-03-28 02:38:00  1.09572  1.09588\n",
      "Signal is: 1\n",
      "*** NO TRADE PLACED ***\n",
      "*** END OF CYCLE ***\n",
      "\n",
      " False False\n"
     ]
    },
    {
     "name": "stderr",
     "output_type": "stream",
     "text": [
      "C:\\Users\\Eddie\\anaconda3\\envs\\securities-analysis\\lib\\site-packages\\sklearn\\base.py:450: UserWarning: X does not have valid feature names, but AdaBoostClassifier was fitted with feature names\n",
      "  warnings.warn(\n"
     ]
    },
    {
     "name": "stdout",
     "output_type": "stream",
     "text": [
      "min_length is: 204      \n",
      "length of data is: 235\n",
      "                         bid      ask\n",
      "2022-03-28 02:37:57  1.09573  1.09589\n",
      "2022-03-28 02:37:58  1.09573  1.09588\n",
      "2022-03-28 02:37:59  1.09572  1.09587\n",
      "2022-03-28 02:38:00  1.09572  1.09588\n",
      "2022-03-28 02:38:01  1.09569  1.09582\n",
      "Signal is: 1\n",
      "*** NO TRADE PLACED ***\n",
      "*** END OF CYCLE ***\n",
      "\n",
      " False False\n"
     ]
    },
    {
     "name": "stderr",
     "output_type": "stream",
     "text": [
      "C:\\Users\\Eddie\\anaconda3\\envs\\securities-analysis\\lib\\site-packages\\sklearn\\base.py:450: UserWarning: X does not have valid feature names, but AdaBoostClassifier was fitted with feature names\n",
      "  warnings.warn(\n"
     ]
    },
    {
     "name": "stdout",
     "output_type": "stream",
     "text": [
      "min_length is: 205      \n",
      "length of data is: 235\n",
      "                         bid      ask\n",
      "2022-03-28 02:37:57  1.09573  1.09589\n",
      "2022-03-28 02:37:58  1.09573  1.09588\n",
      "2022-03-28 02:37:59  1.09572  1.09587\n",
      "2022-03-28 02:38:00  1.09572  1.09588\n",
      "2022-03-28 02:38:01  1.09569  1.09582\n",
      "Signal is: 1\n",
      "*** NO TRADE PLACED ***\n",
      "*** END OF CYCLE ***\n",
      "\n",
      " False False\n"
     ]
    },
    {
     "name": "stderr",
     "output_type": "stream",
     "text": [
      "C:\\Users\\Eddie\\anaconda3\\envs\\securities-analysis\\lib\\site-packages\\sklearn\\base.py:450: UserWarning: X does not have valid feature names, but AdaBoostClassifier was fitted with feature names\n",
      "  warnings.warn(\n"
     ]
    },
    {
     "name": "stdout",
     "output_type": "stream",
     "text": [
      "min_length is: 206      \n",
      "length of data is: 236\n",
      "                         bid      ask\n",
      "2022-03-28 02:37:58  1.09573  1.09588\n",
      "2022-03-28 02:37:59  1.09572  1.09587\n",
      "2022-03-28 02:38:00  1.09572  1.09588\n",
      "2022-03-28 02:38:01  1.09569  1.09582\n",
      "2022-03-28 02:38:02  1.09565  1.09581\n",
      "Signal is: 1\n",
      "*** NO TRADE PLACED ***\n",
      "*** END OF CYCLE ***\n",
      "\n",
      " False False\n"
     ]
    },
    {
     "name": "stderr",
     "output_type": "stream",
     "text": [
      "C:\\Users\\Eddie\\anaconda3\\envs\\securities-analysis\\lib\\site-packages\\sklearn\\base.py:450: UserWarning: X does not have valid feature names, but AdaBoostClassifier was fitted with feature names\n",
      "  warnings.warn(\n"
     ]
    },
    {
     "name": "stdout",
     "output_type": "stream",
     "text": [
      "min_length is: 207      \n",
      "length of data is: 236\n",
      "                         bid      ask\n",
      "2022-03-28 02:37:58  1.09573  1.09588\n",
      "2022-03-28 02:37:59  1.09572  1.09587\n",
      "2022-03-28 02:38:00  1.09572  1.09588\n",
      "2022-03-28 02:38:01  1.09569  1.09582\n",
      "2022-03-28 02:38:02  1.09565  1.09581\n",
      "Signal is: 1\n",
      "*** NO TRADE PLACED ***\n",
      "*** END OF CYCLE ***\n",
      "\n",
      " False False\n"
     ]
    },
    {
     "name": "stderr",
     "output_type": "stream",
     "text": [
      "C:\\Users\\Eddie\\anaconda3\\envs\\securities-analysis\\lib\\site-packages\\sklearn\\base.py:450: UserWarning: X does not have valid feature names, but AdaBoostClassifier was fitted with feature names\n",
      "  warnings.warn(\n"
     ]
    },
    {
     "name": "stdout",
     "output_type": "stream",
     "text": [
      "min_length is: 208      \n",
      "length of data is: 239\n",
      "                         bid      ask\n",
      "2022-03-28 02:38:01  1.09569  1.09582\n",
      "2022-03-28 02:38:02  1.09565  1.09581\n",
      "2022-03-28 02:38:03  1.09565  1.09581\n",
      "2022-03-28 02:38:04  1.09565  1.09581\n",
      "2022-03-28 02:38:05  1.09565  1.09581\n",
      "Signal is: 1\n",
      "*** NO TRADE PLACED ***\n",
      "*** END OF CYCLE ***\n",
      "\n",
      " False False\n"
     ]
    },
    {
     "name": "stderr",
     "output_type": "stream",
     "text": [
      "C:\\Users\\Eddie\\anaconda3\\envs\\securities-analysis\\lib\\site-packages\\sklearn\\base.py:450: UserWarning: X does not have valid feature names, but AdaBoostClassifier was fitted with feature names\n",
      "  warnings.warn(\n"
     ]
    },
    {
     "name": "stdout",
     "output_type": "stream",
     "text": [
      "min_length is: 209      \n",
      "length of data is: 241\n",
      "                         bid      ask\n",
      "2022-03-28 02:38:03  1.09565  1.09581\n",
      "2022-03-28 02:38:04  1.09565  1.09581\n",
      "2022-03-28 02:38:05  1.09565  1.09581\n",
      "2022-03-28 02:38:06  1.09567  1.09582\n",
      "2022-03-28 02:38:07  1.09567  1.09582\n",
      "Signal is: 1\n",
      "*** NO TRADE PLACED ***\n",
      "*** END OF CYCLE ***\n",
      "\n",
      " False False\n"
     ]
    },
    {
     "name": "stderr",
     "output_type": "stream",
     "text": [
      "C:\\Users\\Eddie\\anaconda3\\envs\\securities-analysis\\lib\\site-packages\\sklearn\\base.py:450: UserWarning: X does not have valid feature names, but AdaBoostClassifier was fitted with feature names\n",
      "  warnings.warn(\n"
     ]
    },
    {
     "name": "stdout",
     "output_type": "stream",
     "text": [
      "min_length is: 210      \n",
      "length of data is: 244\n",
      "                         bid      ask\n",
      "2022-03-28 02:38:06  1.09567  1.09582\n",
      "2022-03-28 02:38:07  1.09567  1.09582\n",
      "2022-03-28 02:38:08  1.09566  1.09582\n",
      "2022-03-28 02:38:09  1.09566  1.09582\n",
      "2022-03-28 02:38:10  1.09566  1.09582\n",
      "Signal is: 1\n",
      "*** NO TRADE PLACED ***\n",
      "*** END OF CYCLE ***\n",
      "\n",
      " False False\n"
     ]
    },
    {
     "name": "stderr",
     "output_type": "stream",
     "text": [
      "C:\\Users\\Eddie\\anaconda3\\envs\\securities-analysis\\lib\\site-packages\\sklearn\\base.py:450: UserWarning: X does not have valid feature names, but AdaBoostClassifier was fitted with feature names\n",
      "  warnings.warn(\n"
     ]
    },
    {
     "name": "stdout",
     "output_type": "stream",
     "text": [
      "min_length is: 211      \n",
      "length of data is: 244\n",
      "                         bid      ask\n",
      "2022-03-28 02:38:06  1.09567  1.09582\n",
      "2022-03-28 02:38:07  1.09567  1.09582\n",
      "2022-03-28 02:38:08  1.09566  1.09582\n",
      "2022-03-28 02:38:09  1.09566  1.09582\n",
      "2022-03-28 02:38:10  1.09566  1.09582\n",
      "Signal is: 1\n",
      "*** NO TRADE PLACED ***\n",
      "*** END OF CYCLE ***\n",
      "\n",
      " False False\n"
     ]
    },
    {
     "name": "stderr",
     "output_type": "stream",
     "text": [
      "C:\\Users\\Eddie\\anaconda3\\envs\\securities-analysis\\lib\\site-packages\\sklearn\\base.py:450: UserWarning: X does not have valid feature names, but AdaBoostClassifier was fitted with feature names\n",
      "  warnings.warn(\n"
     ]
    },
    {
     "name": "stdout",
     "output_type": "stream",
     "text": [
      "min_length is: 212      \n",
      "length of data is: 246\n",
      "                         bid      ask\n",
      "2022-03-28 02:38:08  1.09566  1.09582\n",
      "2022-03-28 02:38:09  1.09566  1.09582\n",
      "2022-03-28 02:38:10  1.09566  1.09582\n",
      "2022-03-28 02:38:11  1.09565  1.09581\n",
      "2022-03-28 02:38:12  1.09565  1.09581\n",
      "Signal is: 1\n",
      "*** NO TRADE PLACED ***\n",
      "*** END OF CYCLE ***\n",
      "\n",
      " False False\n"
     ]
    },
    {
     "name": "stderr",
     "output_type": "stream",
     "text": [
      "C:\\Users\\Eddie\\anaconda3\\envs\\securities-analysis\\lib\\site-packages\\sklearn\\base.py:450: UserWarning: X does not have valid feature names, but AdaBoostClassifier was fitted with feature names\n",
      "  warnings.warn(\n"
     ]
    },
    {
     "name": "stdout",
     "output_type": "stream",
     "text": [
      "min_length is: 213      \n",
      "length of data is: 246\n",
      "                         bid      ask\n",
      "2022-03-28 02:38:08  1.09566  1.09582\n",
      "2022-03-28 02:38:09  1.09566  1.09582\n",
      "2022-03-28 02:38:10  1.09566  1.09582\n",
      "2022-03-28 02:38:11  1.09565  1.09581\n",
      "2022-03-28 02:38:12  1.09565  1.09581\n",
      "Signal is: 1\n",
      "*** NO TRADE PLACED ***\n",
      "*** END OF CYCLE ***\n",
      "\n",
      " False False\n"
     ]
    },
    {
     "name": "stderr",
     "output_type": "stream",
     "text": [
      "C:\\Users\\Eddie\\anaconda3\\envs\\securities-analysis\\lib\\site-packages\\sklearn\\base.py:450: UserWarning: X does not have valid feature names, but AdaBoostClassifier was fitted with feature names\n",
      "  warnings.warn(\n"
     ]
    },
    {
     "name": "stdout",
     "output_type": "stream",
     "text": [
      "min_length is: 214      \n",
      "length of data is: 247\n",
      "                         bid      ask\n",
      "2022-03-28 02:38:09  1.09566  1.09582\n",
      "2022-03-28 02:38:10  1.09566  1.09582\n",
      "2022-03-28 02:38:11  1.09565  1.09581\n",
      "2022-03-28 02:38:12  1.09565  1.09581\n",
      "2022-03-28 02:38:13  1.09565  1.09580\n",
      "Signal is: 1\n",
      "*** NO TRADE PLACED ***\n",
      "*** END OF CYCLE ***\n",
      "\n",
      " False False\n"
     ]
    },
    {
     "name": "stderr",
     "output_type": "stream",
     "text": [
      "C:\\Users\\Eddie\\anaconda3\\envs\\securities-analysis\\lib\\site-packages\\sklearn\\base.py:450: UserWarning: X does not have valid feature names, but AdaBoostClassifier was fitted with feature names\n",
      "  warnings.warn(\n"
     ]
    },
    {
     "name": "stdout",
     "output_type": "stream",
     "text": [
      "min_length is: 215      \n",
      "length of data is: 247\n",
      "                         bid      ask\n",
      "2022-03-28 02:38:09  1.09566  1.09582\n",
      "2022-03-28 02:38:10  1.09566  1.09582\n",
      "2022-03-28 02:38:11  1.09565  1.09581\n",
      "2022-03-28 02:38:12  1.09565  1.09581\n",
      "2022-03-28 02:38:13  1.09565  1.09580\n",
      "Signal is: 1\n",
      "*** NO TRADE PLACED ***\n",
      "*** END OF CYCLE ***\n",
      "\n",
      " False False\n"
     ]
    },
    {
     "name": "stderr",
     "output_type": "stream",
     "text": [
      "C:\\Users\\Eddie\\anaconda3\\envs\\securities-analysis\\lib\\site-packages\\sklearn\\base.py:450: UserWarning: X does not have valid feature names, but AdaBoostClassifier was fitted with feature names\n",
      "  warnings.warn(\n"
     ]
    },
    {
     "name": "stdout",
     "output_type": "stream",
     "text": [
      "min_length is: 216      \n",
      "length of data is: 248\n",
      "                         bid      ask\n",
      "2022-03-28 02:38:10  1.09566  1.09582\n",
      "2022-03-28 02:38:11  1.09565  1.09581\n",
      "2022-03-28 02:38:12  1.09565  1.09581\n",
      "2022-03-28 02:38:13  1.09565  1.09580\n",
      "2022-03-28 02:38:14  1.09565  1.09579\n",
      "Signal is: 1\n",
      "*** NO TRADE PLACED ***\n",
      "*** END OF CYCLE ***\n",
      "\n",
      " False False\n"
     ]
    },
    {
     "name": "stderr",
     "output_type": "stream",
     "text": [
      "C:\\Users\\Eddie\\anaconda3\\envs\\securities-analysis\\lib\\site-packages\\sklearn\\base.py:450: UserWarning: X does not have valid feature names, but AdaBoostClassifier was fitted with feature names\n",
      "  warnings.warn(\n"
     ]
    },
    {
     "name": "stdout",
     "output_type": "stream",
     "text": [
      "min_length is: 217      \n",
      "length of data is: 249\n",
      "                         bid      ask\n",
      "2022-03-28 02:38:11  1.09565  1.09581\n",
      "2022-03-28 02:38:12  1.09565  1.09581\n",
      "2022-03-28 02:38:13  1.09565  1.09580\n",
      "2022-03-28 02:38:14  1.09565  1.09579\n",
      "2022-03-28 02:38:15  1.09566  1.09582\n",
      "Signal is: 1\n",
      "*** NO TRADE PLACED ***\n",
      "*** END OF CYCLE ***\n",
      "\n",
      " False False\n"
     ]
    },
    {
     "name": "stderr",
     "output_type": "stream",
     "text": [
      "C:\\Users\\Eddie\\anaconda3\\envs\\securities-analysis\\lib\\site-packages\\sklearn\\base.py:450: UserWarning: X does not have valid feature names, but AdaBoostClassifier was fitted with feature names\n",
      "  warnings.warn(\n"
     ]
    },
    {
     "name": "stdout",
     "output_type": "stream",
     "text": [
      "min_length is: 218      \n",
      "length of data is: 252\n",
      "                         bid      ask\n",
      "2022-03-28 02:38:14  1.09565  1.09579\n",
      "2022-03-28 02:38:15  1.09566  1.09582\n",
      "2022-03-28 02:38:16  1.09568  1.09584\n",
      "2022-03-28 02:38:17  1.09568  1.09584\n",
      "2022-03-28 02:38:18  1.09568  1.09584\n",
      "Signal is: 1\n",
      "*** NO TRADE PLACED ***\n",
      "*** END OF CYCLE ***\n",
      "\n",
      " False False\n"
     ]
    },
    {
     "name": "stderr",
     "output_type": "stream",
     "text": [
      "C:\\Users\\Eddie\\anaconda3\\envs\\securities-analysis\\lib\\site-packages\\sklearn\\base.py:450: UserWarning: X does not have valid feature names, but AdaBoostClassifier was fitted with feature names\n",
      "  warnings.warn(\n"
     ]
    },
    {
     "name": "stdout",
     "output_type": "stream",
     "text": [
      "min_length is: 219      \n",
      "length of data is: 255\n",
      "                         bid      ask\n",
      "2022-03-28 02:38:17  1.09568  1.09584\n",
      "2022-03-28 02:38:18  1.09568  1.09584\n",
      "2022-03-28 02:38:19  1.09568  1.09584\n",
      "2022-03-28 02:38:20  1.09568  1.09584\n",
      "2022-03-28 02:38:21  1.09568  1.09584\n",
      "Signal is: 1\n",
      "*** NO TRADE PLACED ***\n",
      "*** END OF CYCLE ***\n",
      "\n",
      " False False\n"
     ]
    },
    {
     "name": "stderr",
     "output_type": "stream",
     "text": [
      "C:\\Users\\Eddie\\anaconda3\\envs\\securities-analysis\\lib\\site-packages\\sklearn\\base.py:450: UserWarning: X does not have valid feature names, but AdaBoostClassifier was fitted with feature names\n",
      "  warnings.warn(\n"
     ]
    },
    {
     "name": "stdout",
     "output_type": "stream",
     "text": [
      "min_length is: 220      \n",
      "length of data is: 256\n",
      "                         bid      ask\n",
      "2022-03-28 02:38:18  1.09568  1.09584\n",
      "2022-03-28 02:38:19  1.09568  1.09584\n",
      "2022-03-28 02:38:20  1.09568  1.09584\n",
      "2022-03-28 02:38:21  1.09568  1.09584\n",
      "2022-03-28 02:38:22  1.09568  1.09585\n",
      "Signal is: 1\n",
      "*** NO TRADE PLACED ***\n",
      "*** END OF CYCLE ***\n",
      "\n",
      " False False\n"
     ]
    },
    {
     "name": "stderr",
     "output_type": "stream",
     "text": [
      "C:\\Users\\Eddie\\anaconda3\\envs\\securities-analysis\\lib\\site-packages\\sklearn\\base.py:450: UserWarning: X does not have valid feature names, but AdaBoostClassifier was fitted with feature names\n",
      "  warnings.warn(\n"
     ]
    },
    {
     "name": "stdout",
     "output_type": "stream",
     "text": [
      "min_length is: 221      \n",
      "length of data is: 256\n",
      "                         bid      ask\n",
      "2022-03-28 02:38:18  1.09568  1.09584\n",
      "2022-03-28 02:38:19  1.09568  1.09584\n",
      "2022-03-28 02:38:20  1.09568  1.09584\n",
      "2022-03-28 02:38:21  1.09568  1.09584\n",
      "2022-03-28 02:38:22  1.09568  1.09585\n",
      "Signal is: 1\n",
      "*** NO TRADE PLACED ***\n",
      "*** END OF CYCLE ***\n",
      "\n",
      " False False\n"
     ]
    },
    {
     "name": "stderr",
     "output_type": "stream",
     "text": [
      "C:\\Users\\Eddie\\anaconda3\\envs\\securities-analysis\\lib\\site-packages\\sklearn\\base.py:450: UserWarning: X does not have valid feature names, but AdaBoostClassifier was fitted with feature names\n",
      "  warnings.warn(\n"
     ]
    },
    {
     "name": "stdout",
     "output_type": "stream",
     "text": [
      "min_length is: 222      \n",
      "length of data is: 260\n",
      "                         bid      ask\n",
      "2022-03-28 02:38:22  1.09568  1.09585\n",
      "2022-03-28 02:38:23  1.09568  1.09583\n",
      "2022-03-28 02:38:24  1.09568  1.09583\n",
      "2022-03-28 02:38:25  1.09568  1.09583\n",
      "2022-03-28 02:38:26  1.09568  1.09583\n",
      "Signal is: 1\n",
      "*** NO TRADE PLACED ***\n",
      "*** END OF CYCLE ***\n",
      "\n",
      " False False\n"
     ]
    },
    {
     "name": "stderr",
     "output_type": "stream",
     "text": [
      "C:\\Users\\Eddie\\anaconda3\\envs\\securities-analysis\\lib\\site-packages\\sklearn\\base.py:450: UserWarning: X does not have valid feature names, but AdaBoostClassifier was fitted with feature names\n",
      "  warnings.warn(\n"
     ]
    },
    {
     "name": "stdout",
     "output_type": "stream",
     "text": [
      "min_length is: 223      \n",
      "length of data is: 261\n",
      "                         bid      ask\n",
      "2022-03-28 02:38:23  1.09568  1.09583\n",
      "2022-03-28 02:38:24  1.09568  1.09583\n",
      "2022-03-28 02:38:25  1.09568  1.09583\n",
      "2022-03-28 02:38:26  1.09568  1.09583\n",
      "2022-03-28 02:38:27  1.09568  1.09585\n",
      "Signal is: 1\n",
      "*** NO TRADE PLACED ***\n",
      "*** END OF CYCLE ***\n",
      "\n",
      " False False\n"
     ]
    },
    {
     "name": "stderr",
     "output_type": "stream",
     "text": [
      "C:\\Users\\Eddie\\anaconda3\\envs\\securities-analysis\\lib\\site-packages\\sklearn\\base.py:450: UserWarning: X does not have valid feature names, but AdaBoostClassifier was fitted with feature names\n",
      "  warnings.warn(\n"
     ]
    },
    {
     "name": "stdout",
     "output_type": "stream",
     "text": [
      "min_length is: 224      \n",
      "length of data is: 265\n",
      "                         bid      ask\n",
      "2022-03-28 02:38:27  1.09568  1.09585\n",
      "2022-03-28 02:38:28  1.09569  1.09585\n",
      "2022-03-28 02:38:29  1.09569  1.09585\n",
      "2022-03-28 02:38:30  1.09569  1.09585\n",
      "2022-03-28 02:38:31  1.09569  1.09585\n",
      "Signal is: 1\n",
      "*** NO TRADE PLACED ***\n",
      "*** END OF CYCLE ***\n",
      "\n",
      " False False\n"
     ]
    },
    {
     "name": "stderr",
     "output_type": "stream",
     "text": [
      "C:\\Users\\Eddie\\anaconda3\\envs\\securities-analysis\\lib\\site-packages\\sklearn\\base.py:450: UserWarning: X does not have valid feature names, but AdaBoostClassifier was fitted with feature names\n",
      "  warnings.warn(\n"
     ]
    },
    {
     "name": "stdout",
     "output_type": "stream",
     "text": [
      "min_length is: 225      \n",
      "length of data is: 265\n",
      "                         bid      ask\n",
      "2022-03-28 02:38:27  1.09568  1.09585\n",
      "2022-03-28 02:38:28  1.09569  1.09585\n",
      "2022-03-28 02:38:29  1.09569  1.09585\n",
      "2022-03-28 02:38:30  1.09569  1.09585\n",
      "2022-03-28 02:38:31  1.09569  1.09585\n",
      "Signal is: 1\n",
      "*** NO TRADE PLACED ***\n",
      "*** END OF CYCLE ***\n",
      "\n",
      " False False\n"
     ]
    },
    {
     "name": "stderr",
     "output_type": "stream",
     "text": [
      "C:\\Users\\Eddie\\anaconda3\\envs\\securities-analysis\\lib\\site-packages\\sklearn\\base.py:450: UserWarning: X does not have valid feature names, but AdaBoostClassifier was fitted with feature names\n",
      "  warnings.warn(\n"
     ]
    },
    {
     "name": "stdout",
     "output_type": "stream",
     "text": [
      "min_length is: 226      \n",
      "length of data is: 265\n",
      "                         bid      ask\n",
      "2022-03-28 02:38:27  1.09568  1.09585\n",
      "2022-03-28 02:38:28  1.09569  1.09585\n",
      "2022-03-28 02:38:29  1.09569  1.09585\n",
      "2022-03-28 02:38:30  1.09569  1.09585\n",
      "2022-03-28 02:38:31  1.09569  1.09585\n",
      "Signal is: 1\n",
      "*** NO TRADE PLACED ***\n",
      "*** END OF CYCLE ***\n",
      "\n",
      " False False\n"
     ]
    },
    {
     "name": "stderr",
     "output_type": "stream",
     "text": [
      "C:\\Users\\Eddie\\anaconda3\\envs\\securities-analysis\\lib\\site-packages\\sklearn\\base.py:450: UserWarning: X does not have valid feature names, but AdaBoostClassifier was fitted with feature names\n",
      "  warnings.warn(\n"
     ]
    },
    {
     "name": "stdout",
     "output_type": "stream",
     "text": [
      "min_length is: 227      \n",
      "length of data is: 267\n",
      "                         bid      ask\n",
      "2022-03-28 02:38:29  1.09569  1.09585\n",
      "2022-03-28 02:38:30  1.09569  1.09585\n",
      "2022-03-28 02:38:31  1.09569  1.09585\n",
      "2022-03-28 02:38:32  1.09564  1.09580\n",
      "2022-03-28 02:38:33  1.09564  1.09580\n",
      "Signal is: 1\n",
      "*** NO TRADE PLACED ***\n",
      "*** END OF CYCLE ***\n",
      "\n",
      " False False\n"
     ]
    },
    {
     "name": "stderr",
     "output_type": "stream",
     "text": [
      "C:\\Users\\Eddie\\anaconda3\\envs\\securities-analysis\\lib\\site-packages\\sklearn\\base.py:450: UserWarning: X does not have valid feature names, but AdaBoostClassifier was fitted with feature names\n",
      "  warnings.warn(\n"
     ]
    },
    {
     "name": "stdout",
     "output_type": "stream",
     "text": [
      "min_length is: 228      \n",
      "length of data is: 269\n",
      "                         bid      ask\n",
      "2022-03-28 02:38:31  1.09569  1.09585\n",
      "2022-03-28 02:38:32  1.09564  1.09580\n",
      "2022-03-28 02:38:33  1.09564  1.09580\n",
      "2022-03-28 02:38:34  1.09568  1.09583\n",
      "2022-03-28 02:38:35  1.09568  1.09583\n",
      "Signal is: 1\n",
      "*** NO TRADE PLACED ***\n",
      "*** END OF CYCLE ***\n",
      "\n",
      " False False\n"
     ]
    },
    {
     "name": "stderr",
     "output_type": "stream",
     "text": [
      "C:\\Users\\Eddie\\anaconda3\\envs\\securities-analysis\\lib\\site-packages\\sklearn\\base.py:450: UserWarning: X does not have valid feature names, but AdaBoostClassifier was fitted with feature names\n",
      "  warnings.warn(\n"
     ]
    },
    {
     "name": "stdout",
     "output_type": "stream",
     "text": [
      "min_length is: 229      \n",
      "length of data is: 269\n",
      "                         bid      ask\n",
      "2022-03-28 02:38:31  1.09569  1.09585\n",
      "2022-03-28 02:38:32  1.09564  1.09580\n",
      "2022-03-28 02:38:33  1.09564  1.09580\n",
      "2022-03-28 02:38:34  1.09568  1.09583\n",
      "2022-03-28 02:38:35  1.09568  1.09583\n",
      "Signal is: 1\n",
      "*** NO TRADE PLACED ***\n",
      "*** END OF CYCLE ***\n",
      "\n",
      " False False\n"
     ]
    },
    {
     "name": "stderr",
     "output_type": "stream",
     "text": [
      "C:\\Users\\Eddie\\anaconda3\\envs\\securities-analysis\\lib\\site-packages\\sklearn\\base.py:450: UserWarning: X does not have valid feature names, but AdaBoostClassifier was fitted with feature names\n",
      "  warnings.warn(\n"
     ]
    },
    {
     "name": "stdout",
     "output_type": "stream",
     "text": [
      "min_length is: 230      \n",
      "length of data is: 271\n",
      "                         bid      ask\n",
      "2022-03-28 02:38:33  1.09564  1.09580\n",
      "2022-03-28 02:38:34  1.09568  1.09583\n",
      "2022-03-28 02:38:35  1.09568  1.09583\n",
      "2022-03-28 02:38:36  1.09559  1.09575\n",
      "2022-03-28 02:38:37  1.09559  1.09575\n",
      "Signal is: 1\n",
      "*** NO TRADE PLACED ***\n",
      "*** END OF CYCLE ***\n",
      "\n",
      " False False\n"
     ]
    },
    {
     "name": "stderr",
     "output_type": "stream",
     "text": [
      "C:\\Users\\Eddie\\anaconda3\\envs\\securities-analysis\\lib\\site-packages\\sklearn\\base.py:450: UserWarning: X does not have valid feature names, but AdaBoostClassifier was fitted with feature names\n",
      "  warnings.warn(\n"
     ]
    },
    {
     "name": "stdout",
     "output_type": "stream",
     "text": [
      "min_length is: 231      \n",
      "length of data is: 271\n",
      "                         bid      ask\n",
      "2022-03-28 02:38:33  1.09564  1.09580\n",
      "2022-03-28 02:38:34  1.09568  1.09583\n",
      "2022-03-28 02:38:35  1.09568  1.09583\n",
      "2022-03-28 02:38:36  1.09559  1.09575\n",
      "2022-03-28 02:38:37  1.09559  1.09575\n",
      "Signal is: 1\n",
      "*** NO TRADE PLACED ***\n",
      "*** END OF CYCLE ***\n",
      "\n",
      " False False\n"
     ]
    },
    {
     "name": "stderr",
     "output_type": "stream",
     "text": [
      "C:\\Users\\Eddie\\anaconda3\\envs\\securities-analysis\\lib\\site-packages\\sklearn\\base.py:450: UserWarning: X does not have valid feature names, but AdaBoostClassifier was fitted with feature names\n",
      "  warnings.warn(\n"
     ]
    },
    {
     "name": "stdout",
     "output_type": "stream",
     "text": [
      "min_length is: 232      \n",
      "length of data is: 272\n",
      "                         bid      ask\n",
      "2022-03-28 02:38:34  1.09568  1.09583\n",
      "2022-03-28 02:38:35  1.09568  1.09583\n",
      "2022-03-28 02:38:36  1.09559  1.09575\n",
      "2022-03-28 02:38:37  1.09559  1.09575\n",
      "2022-03-28 02:38:38  1.09553  1.09570\n",
      "Signal is: 1\n",
      "*** NO TRADE PLACED ***\n",
      "*** END OF CYCLE ***\n",
      "\n",
      " False False\n"
     ]
    },
    {
     "name": "stderr",
     "output_type": "stream",
     "text": [
      "C:\\Users\\Eddie\\anaconda3\\envs\\securities-analysis\\lib\\site-packages\\sklearn\\base.py:450: UserWarning: X does not have valid feature names, but AdaBoostClassifier was fitted with feature names\n",
      "  warnings.warn(\n"
     ]
    },
    {
     "name": "stdout",
     "output_type": "stream",
     "text": [
      "min_length is: 233      \n",
      "length of data is: 272\n",
      "                         bid      ask\n",
      "2022-03-28 02:38:34  1.09568  1.09583\n",
      "2022-03-28 02:38:35  1.09568  1.09583\n",
      "2022-03-28 02:38:36  1.09559  1.09575\n",
      "2022-03-28 02:38:37  1.09559  1.09575\n",
      "2022-03-28 02:38:38  1.09553  1.09570\n",
      "Signal is: 1\n",
      "*** NO TRADE PLACED ***\n",
      "*** END OF CYCLE ***\n",
      "\n",
      " False False\n"
     ]
    },
    {
     "name": "stderr",
     "output_type": "stream",
     "text": [
      "C:\\Users\\Eddie\\anaconda3\\envs\\securities-analysis\\lib\\site-packages\\sklearn\\base.py:450: UserWarning: X does not have valid feature names, but AdaBoostClassifier was fitted with feature names\n",
      "  warnings.warn(\n"
     ]
    },
    {
     "name": "stdout",
     "output_type": "stream",
     "text": [
      "min_length is: 234      \n",
      "length of data is: 273\n",
      "                         bid      ask\n",
      "2022-03-28 02:38:35  1.09568  1.09583\n",
      "2022-03-28 02:38:36  1.09559  1.09575\n",
      "2022-03-28 02:38:37  1.09559  1.09575\n",
      "2022-03-28 02:38:38  1.09553  1.09570\n",
      "2022-03-28 02:38:39  1.09553  1.09570\n",
      "Signal is: 1\n",
      "*** NO TRADE PLACED ***\n",
      "*** END OF CYCLE ***\n",
      "\n",
      " False False\n"
     ]
    },
    {
     "name": "stderr",
     "output_type": "stream",
     "text": [
      "C:\\Users\\Eddie\\anaconda3\\envs\\securities-analysis\\lib\\site-packages\\sklearn\\base.py:450: UserWarning: X does not have valid feature names, but AdaBoostClassifier was fitted with feature names\n",
      "  warnings.warn(\n",
      "C:\\Users\\Eddie\\anaconda3\\envs\\securities-analysis\\lib\\site-packages\\sklearn\\base.py:450: UserWarning: X does not have valid feature names, but AdaBoostClassifier was fitted with feature names\n",
      "  warnings.warn(\n"
     ]
    },
    {
     "name": "stdout",
     "output_type": "stream",
     "text": [
      "min_length is: 235      \n",
      "length of data is: 273\n",
      "                         bid      ask\n",
      "2022-03-28 02:38:35  1.09568  1.09583\n",
      "2022-03-28 02:38:36  1.09559  1.09575\n",
      "2022-03-28 02:38:37  1.09559  1.09575\n",
      "2022-03-28 02:38:38  1.09553  1.09570\n",
      "2022-03-28 02:38:39  1.09553  1.09570\n",
      "Signal is: 1\n",
      "*** NO TRADE PLACED ***\n",
      "*** END OF CYCLE ***\n",
      "\n",
      " False False\n",
      "min_length is: 236      \n",
      "length of data is: 273\n",
      "                         bid      ask\n",
      "2022-03-28 02:38:35  1.09568  1.09583\n",
      "2022-03-28 02:38:36  1.09559  1.09575\n",
      "2022-03-28 02:38:37  1.09559  1.09575\n",
      "2022-03-28 02:38:38  1.09553  1.09570\n",
      "2022-03-28 02:38:39  1.09553  1.09570\n",
      "Signal is: 1\n",
      "*** NO TRADE PLACED ***\n",
      "*** END OF CYCLE ***\n",
      "\n",
      " False False\n"
     ]
    },
    {
     "name": "stderr",
     "output_type": "stream",
     "text": [
      "C:\\Users\\Eddie\\anaconda3\\envs\\securities-analysis\\lib\\site-packages\\sklearn\\base.py:450: UserWarning: X does not have valid feature names, but AdaBoostClassifier was fitted with feature names\n",
      "  warnings.warn(\n"
     ]
    },
    {
     "name": "stdout",
     "output_type": "stream",
     "text": [
      "min_length is: 237      \n",
      "length of data is: 274\n",
      "                         bid      ask\n",
      "2022-03-28 02:38:36  1.09559  1.09575\n",
      "2022-03-28 02:38:37  1.09559  1.09575\n",
      "2022-03-28 02:38:38  1.09553  1.09570\n",
      "2022-03-28 02:38:39  1.09553  1.09570\n",
      "2022-03-28 02:38:40  1.09554  1.09570\n",
      "Signal is: 1\n",
      "*** NO TRADE PLACED ***\n",
      "*** END OF CYCLE ***\n",
      "\n",
      " False False\n"
     ]
    },
    {
     "name": "stderr",
     "output_type": "stream",
     "text": [
      "C:\\Users\\Eddie\\anaconda3\\envs\\securities-analysis\\lib\\site-packages\\sklearn\\base.py:450: UserWarning: X does not have valid feature names, but AdaBoostClassifier was fitted with feature names\n",
      "  warnings.warn(\n"
     ]
    },
    {
     "name": "stdout",
     "output_type": "stream",
     "text": [
      "min_length is: 238      \n",
      "length of data is: 275\n",
      "                         bid      ask\n",
      "2022-03-28 02:38:37  1.09559  1.09575\n",
      "2022-03-28 02:38:38  1.09553  1.09570\n",
      "2022-03-28 02:38:39  1.09553  1.09570\n",
      "2022-03-28 02:38:40  1.09554  1.09570\n",
      "2022-03-28 02:38:41  1.09555  1.09570\n",
      "Signal is: 1\n",
      "*** NO TRADE PLACED ***\n",
      "*** END OF CYCLE ***\n",
      "\n",
      " False False\n"
     ]
    },
    {
     "name": "stderr",
     "output_type": "stream",
     "text": [
      "C:\\Users\\Eddie\\anaconda3\\envs\\securities-analysis\\lib\\site-packages\\sklearn\\base.py:450: UserWarning: X does not have valid feature names, but AdaBoostClassifier was fitted with feature names\n",
      "  warnings.warn(\n"
     ]
    },
    {
     "name": "stdout",
     "output_type": "stream",
     "text": [
      "min_length is: 239      \n",
      "length of data is: 276\n",
      "                         bid      ask\n",
      "2022-03-28 02:38:38  1.09553  1.09570\n",
      "2022-03-28 02:38:39  1.09553  1.09570\n",
      "2022-03-28 02:38:40  1.09554  1.09570\n",
      "2022-03-28 02:38:41  1.09555  1.09570\n",
      "2022-03-28 02:38:42  1.09554  1.09571\n",
      "Signal is: 1\n",
      "*** NO TRADE PLACED ***\n",
      "*** END OF CYCLE ***\n",
      "\n",
      " False False\n"
     ]
    },
    {
     "name": "stderr",
     "output_type": "stream",
     "text": [
      "C:\\Users\\Eddie\\anaconda3\\envs\\securities-analysis\\lib\\site-packages\\sklearn\\base.py:450: UserWarning: X does not have valid feature names, but AdaBoostClassifier was fitted with feature names\n",
      "  warnings.warn(\n"
     ]
    },
    {
     "name": "stdout",
     "output_type": "stream",
     "text": [
      "min_length is: 240      \n",
      "length of data is: 277\n",
      "                         bid      ask\n",
      "2022-03-28 02:38:39  1.09553  1.09570\n",
      "2022-03-28 02:38:40  1.09554  1.09570\n",
      "2022-03-28 02:38:41  1.09555  1.09570\n",
      "2022-03-28 02:38:42  1.09554  1.09571\n",
      "2022-03-28 02:38:43  1.09554  1.09571\n",
      "Signal is: 1\n",
      "*** NO TRADE PLACED ***\n",
      "*** END OF CYCLE ***\n",
      "\n",
      " False False\n"
     ]
    },
    {
     "name": "stderr",
     "output_type": "stream",
     "text": [
      "C:\\Users\\Eddie\\anaconda3\\envs\\securities-analysis\\lib\\site-packages\\sklearn\\base.py:450: UserWarning: X does not have valid feature names, but AdaBoostClassifier was fitted with feature names\n",
      "  warnings.warn(\n"
     ]
    },
    {
     "name": "stdout",
     "output_type": "stream",
     "text": [
      "min_length is: 241      \n",
      "length of data is: 278\n",
      "                         bid      ask\n",
      "2022-03-28 02:38:40  1.09554  1.09570\n",
      "2022-03-28 02:38:41  1.09555  1.09570\n",
      "2022-03-28 02:38:42  1.09554  1.09571\n",
      "2022-03-28 02:38:43  1.09554  1.09571\n",
      "2022-03-28 02:38:44  1.09555  1.09570\n",
      "Signal is: 1\n",
      "*** NO TRADE PLACED ***\n",
      "*** END OF CYCLE ***\n",
      "\n",
      " False False\n"
     ]
    },
    {
     "name": "stderr",
     "output_type": "stream",
     "text": [
      "C:\\Users\\Eddie\\anaconda3\\envs\\securities-analysis\\lib\\site-packages\\sklearn\\base.py:450: UserWarning: X does not have valid feature names, but AdaBoostClassifier was fitted with feature names\n",
      "  warnings.warn(\n"
     ]
    },
    {
     "name": "stdout",
     "output_type": "stream",
     "text": [
      "min_length is: 242      \n",
      "length of data is: 279\n",
      "                         bid      ask\n",
      "2022-03-28 02:38:41  1.09555  1.09570\n",
      "2022-03-28 02:38:42  1.09554  1.09571\n",
      "2022-03-28 02:38:43  1.09554  1.09571\n",
      "2022-03-28 02:38:44  1.09555  1.09570\n",
      "2022-03-28 02:38:45  1.09555  1.09571\n",
      "Signal is: 1\n",
      "*** NO TRADE PLACED ***\n",
      "*** END OF CYCLE ***\n",
      "\n",
      " False False\n"
     ]
    },
    {
     "name": "stderr",
     "output_type": "stream",
     "text": [
      "C:\\Users\\Eddie\\anaconda3\\envs\\securities-analysis\\lib\\site-packages\\sklearn\\base.py:450: UserWarning: X does not have valid feature names, but AdaBoostClassifier was fitted with feature names\n",
      "  warnings.warn(\n"
     ]
    },
    {
     "name": "stdout",
     "output_type": "stream",
     "text": [
      "min_length is: 243      \n",
      "length of data is: 279\n",
      "                         bid      ask\n",
      "2022-03-28 02:38:41  1.09555  1.09570\n",
      "2022-03-28 02:38:42  1.09554  1.09571\n",
      "2022-03-28 02:38:43  1.09554  1.09571\n",
      "2022-03-28 02:38:44  1.09555  1.09570\n",
      "2022-03-28 02:38:45  1.09555  1.09571\n",
      "Signal is: 1\n",
      "*** NO TRADE PLACED ***\n",
      "*** END OF CYCLE ***\n",
      "\n",
      " False False\n"
     ]
    },
    {
     "name": "stderr",
     "output_type": "stream",
     "text": [
      "C:\\Users\\Eddie\\anaconda3\\envs\\securities-analysis\\lib\\site-packages\\sklearn\\base.py:450: UserWarning: X does not have valid feature names, but AdaBoostClassifier was fitted with feature names\n",
      "  warnings.warn(\n"
     ]
    },
    {
     "name": "stdout",
     "output_type": "stream",
     "text": [
      "min_length is: 244      \n",
      "length of data is: 279\n",
      "                         bid      ask\n",
      "2022-03-28 02:38:41  1.09555  1.09570\n",
      "2022-03-28 02:38:42  1.09554  1.09571\n",
      "2022-03-28 02:38:43  1.09554  1.09571\n",
      "2022-03-28 02:38:44  1.09555  1.09570\n",
      "2022-03-28 02:38:45  1.09555  1.09571\n",
      "Signal is: 1\n",
      "*** NO TRADE PLACED ***\n",
      "*** END OF CYCLE ***\n",
      "\n",
      " False False\n"
     ]
    },
    {
     "name": "stderr",
     "output_type": "stream",
     "text": [
      "C:\\Users\\Eddie\\anaconda3\\envs\\securities-analysis\\lib\\site-packages\\sklearn\\base.py:450: UserWarning: X does not have valid feature names, but AdaBoostClassifier was fitted with feature names\n",
      "  warnings.warn(\n"
     ]
    },
    {
     "name": "stdout",
     "output_type": "stream",
     "text": [
      "min_length is: 245      \n",
      "length of data is: 280\n",
      "                         bid      ask\n",
      "2022-03-28 02:38:42  1.09554  1.09571\n",
      "2022-03-28 02:38:43  1.09554  1.09571\n",
      "2022-03-28 02:38:44  1.09555  1.09570\n",
      "2022-03-28 02:38:45  1.09555  1.09571\n",
      "2022-03-28 02:38:46  1.09555  1.09569\n",
      "Signal is: 1\n",
      "*** NO TRADE PLACED ***\n",
      "*** END OF CYCLE ***\n",
      "\n",
      " False False\n"
     ]
    },
    {
     "name": "stderr",
     "output_type": "stream",
     "text": [
      "C:\\Users\\Eddie\\anaconda3\\envs\\securities-analysis\\lib\\site-packages\\sklearn\\base.py:450: UserWarning: X does not have valid feature names, but AdaBoostClassifier was fitted with feature names\n",
      "  warnings.warn(\n"
     ]
    },
    {
     "name": "stdout",
     "output_type": "stream",
     "text": [
      "min_length is: 246      \n",
      "length of data is: 281\n",
      "                         bid      ask\n",
      "2022-03-28 02:38:43  1.09554  1.09571\n",
      "2022-03-28 02:38:44  1.09555  1.09570\n",
      "2022-03-28 02:38:45  1.09555  1.09571\n",
      "2022-03-28 02:38:46  1.09555  1.09569\n",
      "2022-03-28 02:38:47  1.09553  1.09570\n",
      "Signal is: 1\n",
      "*** NO TRADE PLACED ***\n",
      "*** END OF CYCLE ***\n",
      "\n",
      " False False\n"
     ]
    },
    {
     "name": "stderr",
     "output_type": "stream",
     "text": [
      "C:\\Users\\Eddie\\anaconda3\\envs\\securities-analysis\\lib\\site-packages\\sklearn\\base.py:450: UserWarning: X does not have valid feature names, but AdaBoostClassifier was fitted with feature names\n",
      "  warnings.warn(\n"
     ]
    },
    {
     "name": "stdout",
     "output_type": "stream",
     "text": [
      "min_length is: 247      \n",
      "length of data is: 290\n",
      "                         bid     ask\n",
      "2022-03-28 02:38:52  1.09553  1.0957\n",
      "2022-03-28 02:38:53  1.09553  1.0957\n",
      "2022-03-28 02:38:54  1.09553  1.0957\n",
      "2022-03-28 02:38:55  1.09553  1.0957\n",
      "2022-03-28 02:38:56  1.09553  1.0957\n",
      "Signal is: 1\n",
      "*** NO TRADE PLACED ***\n",
      "*** END OF CYCLE ***\n",
      "\n",
      " False False\n"
     ]
    },
    {
     "name": "stderr",
     "output_type": "stream",
     "text": [
      "C:\\Users\\Eddie\\anaconda3\\envs\\securities-analysis\\lib\\site-packages\\sklearn\\base.py:450: UserWarning: X does not have valid feature names, but AdaBoostClassifier was fitted with feature names\n",
      "  warnings.warn(\n"
     ]
    },
    {
     "name": "stdout",
     "output_type": "stream",
     "text": [
      "min_length is: 248      \n",
      "length of data is: 292\n",
      "                         bid     ask\n",
      "2022-03-28 02:38:54  1.09553  1.0957\n",
      "2022-03-28 02:38:55  1.09553  1.0957\n",
      "2022-03-28 02:38:56  1.09553  1.0957\n",
      "2022-03-28 02:38:57  1.09554  1.0957\n",
      "2022-03-28 02:38:58  1.09554  1.0957\n",
      "Signal is: 1\n",
      "*** NO TRADE PLACED ***\n",
      "*** END OF CYCLE ***\n",
      "\n",
      " False False\n"
     ]
    },
    {
     "name": "stderr",
     "output_type": "stream",
     "text": [
      "C:\\Users\\Eddie\\anaconda3\\envs\\securities-analysis\\lib\\site-packages\\sklearn\\base.py:450: UserWarning: X does not have valid feature names, but AdaBoostClassifier was fitted with feature names\n",
      "  warnings.warn(\n"
     ]
    },
    {
     "name": "stdout",
     "output_type": "stream",
     "text": [
      "min_length is: 249      \n",
      "length of data is: 292\n",
      "                         bid     ask\n",
      "2022-03-28 02:38:54  1.09553  1.0957\n",
      "2022-03-28 02:38:55  1.09553  1.0957\n",
      "2022-03-28 02:38:56  1.09553  1.0957\n",
      "2022-03-28 02:38:57  1.09554  1.0957\n",
      "2022-03-28 02:38:58  1.09554  1.0957\n",
      "Signal is: 1\n",
      "*** NO TRADE PLACED ***\n",
      "*** END OF CYCLE ***\n",
      "\n",
      " False False\n"
     ]
    },
    {
     "name": "stderr",
     "output_type": "stream",
     "text": [
      "C:\\Users\\Eddie\\anaconda3\\envs\\securities-analysis\\lib\\site-packages\\sklearn\\base.py:450: UserWarning: X does not have valid feature names, but AdaBoostClassifier was fitted with feature names\n",
      "  warnings.warn(\n"
     ]
    },
    {
     "name": "stdout",
     "output_type": "stream",
     "text": [
      "min_length is: 250      \n",
      "length of data is: 293\n",
      "                         bid      ask\n",
      "2022-03-28 02:38:55  1.09553  1.09570\n",
      "2022-03-28 02:38:56  1.09553  1.09570\n",
      "2022-03-28 02:38:57  1.09554  1.09570\n",
      "2022-03-28 02:38:58  1.09554  1.09570\n",
      "2022-03-28 02:38:59  1.09548  1.09564\n",
      "Signal is: 1\n",
      "*** NO TRADE PLACED ***\n",
      "*** END OF CYCLE ***\n",
      "\n",
      " False False\n"
     ]
    },
    {
     "name": "stderr",
     "output_type": "stream",
     "text": [
      "C:\\Users\\Eddie\\anaconda3\\envs\\securities-analysis\\lib\\site-packages\\sklearn\\base.py:450: UserWarning: X does not have valid feature names, but AdaBoostClassifier was fitted with feature names\n",
      "  warnings.warn(\n"
     ]
    },
    {
     "name": "stdout",
     "output_type": "stream",
     "text": [
      "min_length is: 251      \n",
      "length of data is: 294\n",
      "                         bid      ask\n",
      "2022-03-28 02:38:56  1.09553  1.09570\n",
      "2022-03-28 02:38:57  1.09554  1.09570\n",
      "2022-03-28 02:38:58  1.09554  1.09570\n",
      "2022-03-28 02:38:59  1.09548  1.09564\n",
      "2022-03-28 02:39:00  1.09547  1.09563\n",
      "Signal is: 1\n",
      "*** NO TRADE PLACED ***\n",
      "*** END OF CYCLE ***\n",
      "\n",
      " False False\n"
     ]
    },
    {
     "name": "stderr",
     "output_type": "stream",
     "text": [
      "C:\\Users\\Eddie\\anaconda3\\envs\\securities-analysis\\lib\\site-packages\\sklearn\\base.py:450: UserWarning: X does not have valid feature names, but AdaBoostClassifier was fitted with feature names\n",
      "  warnings.warn(\n"
     ]
    },
    {
     "name": "stdout",
     "output_type": "stream",
     "text": [
      "min_length is: 252      \n",
      "length of data is: 295\n",
      "                         bid      ask\n",
      "2022-03-28 02:38:57  1.09554  1.09570\n",
      "2022-03-28 02:38:58  1.09554  1.09570\n",
      "2022-03-28 02:38:59  1.09548  1.09564\n",
      "2022-03-28 02:39:00  1.09547  1.09563\n",
      "2022-03-28 02:39:01  1.09547  1.09563\n",
      "Signal is: 1\n",
      "*** NO TRADE PLACED ***\n",
      "*** END OF CYCLE ***\n",
      "\n",
      " False False\n"
     ]
    },
    {
     "name": "stderr",
     "output_type": "stream",
     "text": [
      "C:\\Users\\Eddie\\anaconda3\\envs\\securities-analysis\\lib\\site-packages\\sklearn\\base.py:450: UserWarning: X does not have valid feature names, but AdaBoostClassifier was fitted with feature names\n",
      "  warnings.warn(\n"
     ]
    },
    {
     "name": "stdout",
     "output_type": "stream",
     "text": [
      "min_length is: 253      \n",
      "length of data is: 295\n",
      "                         bid      ask\n",
      "2022-03-28 02:38:57  1.09554  1.09570\n",
      "2022-03-28 02:38:58  1.09554  1.09570\n",
      "2022-03-28 02:38:59  1.09548  1.09564\n",
      "2022-03-28 02:39:00  1.09547  1.09563\n",
      "2022-03-28 02:39:01  1.09547  1.09563\n",
      "Signal is: 1\n",
      "*** NO TRADE PLACED ***\n",
      "*** END OF CYCLE ***\n",
      "\n",
      " False False\n"
     ]
    },
    {
     "name": "stderr",
     "output_type": "stream",
     "text": [
      "C:\\Users\\Eddie\\anaconda3\\envs\\securities-analysis\\lib\\site-packages\\sklearn\\base.py:450: UserWarning: X does not have valid feature names, but AdaBoostClassifier was fitted with feature names\n",
      "  warnings.warn(\n"
     ]
    },
    {
     "name": "stdout",
     "output_type": "stream",
     "text": [
      "min_length is: 254      \n",
      "length of data is: 297\n",
      "                         bid      ask\n",
      "2022-03-28 02:38:59  1.09548  1.09564\n",
      "2022-03-28 02:39:00  1.09547  1.09563\n",
      "2022-03-28 02:39:01  1.09547  1.09563\n",
      "2022-03-28 02:39:02  1.09547  1.09563\n",
      "2022-03-28 02:39:03  1.09547  1.09563\n",
      "Signal is: 1\n",
      "*** NO TRADE PLACED ***\n",
      "*** END OF CYCLE ***\n",
      "\n",
      " False False\n"
     ]
    },
    {
     "name": "stderr",
     "output_type": "stream",
     "text": [
      "C:\\Users\\Eddie\\anaconda3\\envs\\securities-analysis\\lib\\site-packages\\sklearn\\base.py:450: UserWarning: X does not have valid feature names, but AdaBoostClassifier was fitted with feature names\n",
      "  warnings.warn(\n"
     ]
    },
    {
     "name": "stdout",
     "output_type": "stream",
     "text": [
      "min_length is: 255      \n",
      "length of data is: 297\n",
      "                         bid      ask\n",
      "2022-03-28 02:38:59  1.09548  1.09564\n",
      "2022-03-28 02:39:00  1.09547  1.09563\n",
      "2022-03-28 02:39:01  1.09547  1.09563\n",
      "2022-03-28 02:39:02  1.09547  1.09563\n",
      "2022-03-28 02:39:03  1.09547  1.09563\n",
      "Signal is: 1\n",
      "*** NO TRADE PLACED ***\n",
      "*** END OF CYCLE ***\n",
      "\n",
      " False False\n"
     ]
    },
    {
     "name": "stderr",
     "output_type": "stream",
     "text": [
      "C:\\Users\\Eddie\\anaconda3\\envs\\securities-analysis\\lib\\site-packages\\sklearn\\base.py:450: UserWarning: X does not have valid feature names, but AdaBoostClassifier was fitted with feature names\n",
      "  warnings.warn(\n"
     ]
    },
    {
     "name": "stdout",
     "output_type": "stream",
     "text": [
      "min_length is: 256      \n",
      "length of data is: 298\n",
      "                         bid      ask\n",
      "2022-03-28 02:39:00  1.09547  1.09563\n",
      "2022-03-28 02:39:01  1.09547  1.09563\n",
      "2022-03-28 02:39:02  1.09547  1.09563\n",
      "2022-03-28 02:39:03  1.09547  1.09563\n",
      "2022-03-28 02:39:04  1.09548  1.09562\n",
      "Signal is: 1\n",
      "*** NO TRADE PLACED ***\n",
      "*** END OF CYCLE ***\n",
      "\n",
      " False False\n"
     ]
    },
    {
     "name": "stderr",
     "output_type": "stream",
     "text": [
      "C:\\Users\\Eddie\\anaconda3\\envs\\securities-analysis\\lib\\site-packages\\sklearn\\base.py:450: UserWarning: X does not have valid feature names, but AdaBoostClassifier was fitted with feature names\n",
      "  warnings.warn(\n"
     ]
    },
    {
     "name": "stdout",
     "output_type": "stream",
     "text": [
      "min_length is: 257      \n",
      "length of data is: 298\n",
      "                         bid      ask\n",
      "2022-03-28 02:39:00  1.09547  1.09563\n",
      "2022-03-28 02:39:01  1.09547  1.09563\n",
      "2022-03-28 02:39:02  1.09547  1.09563\n",
      "2022-03-28 02:39:03  1.09547  1.09563\n",
      "2022-03-28 02:39:04  1.09548  1.09562\n",
      "Signal is: 1\n",
      "*** NO TRADE PLACED ***\n",
      "*** END OF CYCLE ***\n",
      "\n",
      " False False\n"
     ]
    },
    {
     "name": "stderr",
     "output_type": "stream",
     "text": [
      "C:\\Users\\Eddie\\anaconda3\\envs\\securities-analysis\\lib\\site-packages\\sklearn\\base.py:450: UserWarning: X does not have valid feature names, but AdaBoostClassifier was fitted with feature names\n",
      "  warnings.warn(\n"
     ]
    },
    {
     "name": "stdout",
     "output_type": "stream",
     "text": [
      "min_length is: 258      \n",
      "length of data is: 299\n",
      "                         bid      ask\n",
      "2022-03-28 02:39:01  1.09547  1.09563\n",
      "2022-03-28 02:39:02  1.09547  1.09563\n",
      "2022-03-28 02:39:03  1.09547  1.09563\n",
      "2022-03-28 02:39:04  1.09548  1.09562\n",
      "2022-03-28 02:39:05  1.09545  1.09561\n",
      "Signal is: 1\n",
      "*** NO TRADE PLACED ***\n",
      "*** END OF CYCLE ***\n",
      "\n",
      " False False\n"
     ]
    },
    {
     "name": "stderr",
     "output_type": "stream",
     "text": [
      "C:\\Users\\Eddie\\anaconda3\\envs\\securities-analysis\\lib\\site-packages\\sklearn\\base.py:450: UserWarning: X does not have valid feature names, but AdaBoostClassifier was fitted with feature names\n",
      "  warnings.warn(\n"
     ]
    },
    {
     "name": "stdout",
     "output_type": "stream",
     "text": [
      "min_length is: 259      \n",
      "length of data is: 299\n",
      "                         bid      ask\n",
      "2022-03-28 02:39:01  1.09547  1.09563\n",
      "2022-03-28 02:39:02  1.09547  1.09563\n",
      "2022-03-28 02:39:03  1.09547  1.09563\n",
      "2022-03-28 02:39:04  1.09548  1.09562\n",
      "2022-03-28 02:39:05  1.09545  1.09561\n",
      "Signal is: 1\n",
      "*** NO TRADE PLACED ***\n",
      "*** END OF CYCLE ***\n",
      "\n",
      " False False\n"
     ]
    },
    {
     "name": "stderr",
     "output_type": "stream",
     "text": [
      "C:\\Users\\Eddie\\anaconda3\\envs\\securities-analysis\\lib\\site-packages\\sklearn\\base.py:450: UserWarning: X does not have valid feature names, but AdaBoostClassifier was fitted with feature names\n",
      "  warnings.warn(\n"
     ]
    },
    {
     "name": "stdout",
     "output_type": "stream",
     "text": [
      "min_length is: 260      \n",
      "length of data is: 300\n",
      "                         bid      ask\n",
      "2022-03-28 02:39:02  1.09547  1.09563\n",
      "2022-03-28 02:39:03  1.09547  1.09563\n",
      "2022-03-28 02:39:04  1.09548  1.09562\n",
      "2022-03-28 02:39:05  1.09545  1.09561\n",
      "2022-03-28 02:39:06  1.09547  1.09562\n",
      "Signal is: 1\n",
      "*** NO TRADE PLACED ***\n",
      "*** END OF CYCLE ***\n",
      "\n",
      " False False\n"
     ]
    },
    {
     "name": "stderr",
     "output_type": "stream",
     "text": [
      "C:\\Users\\Eddie\\anaconda3\\envs\\securities-analysis\\lib\\site-packages\\sklearn\\base.py:450: UserWarning: X does not have valid feature names, but AdaBoostClassifier was fitted with feature names\n",
      "  warnings.warn(\n"
     ]
    },
    {
     "name": "stdout",
     "output_type": "stream",
     "text": [
      "min_length is: 261      \n",
      "length of data is: 300\n",
      "                         bid      ask\n",
      "2022-03-28 02:39:02  1.09547  1.09563\n",
      "2022-03-28 02:39:03  1.09547  1.09563\n",
      "2022-03-28 02:39:04  1.09548  1.09562\n",
      "2022-03-28 02:39:05  1.09545  1.09561\n",
      "2022-03-28 02:39:06  1.09547  1.09562\n",
      "Signal is: 1\n",
      "*** NO TRADE PLACED ***\n",
      "*** END OF CYCLE ***\n",
      "\n",
      " False False\n"
     ]
    },
    {
     "name": "stderr",
     "output_type": "stream",
     "text": [
      "C:\\Users\\Eddie\\anaconda3\\envs\\securities-analysis\\lib\\site-packages\\sklearn\\base.py:450: UserWarning: X does not have valid feature names, but AdaBoostClassifier was fitted with feature names\n",
      "  warnings.warn(\n"
     ]
    },
    {
     "name": "stdout",
     "output_type": "stream",
     "text": [
      "min_length is: 262      \n",
      "length of data is: 300\n",
      "                         bid      ask\n",
      "2022-03-28 02:39:02  1.09547  1.09563\n",
      "2022-03-28 02:39:03  1.09547  1.09563\n",
      "2022-03-28 02:39:04  1.09548  1.09562\n",
      "2022-03-28 02:39:05  1.09545  1.09561\n",
      "2022-03-28 02:39:06  1.09547  1.09562\n",
      "Signal is: 1\n",
      "*** NO TRADE PLACED ***\n",
      "*** END OF CYCLE ***\n",
      "\n",
      " False False\n"
     ]
    },
    {
     "name": "stderr",
     "output_type": "stream",
     "text": [
      "C:\\Users\\Eddie\\anaconda3\\envs\\securities-analysis\\lib\\site-packages\\sklearn\\base.py:450: UserWarning: X does not have valid feature names, but AdaBoostClassifier was fitted with feature names\n",
      "  warnings.warn(\n"
     ]
    },
    {
     "name": "stdout",
     "output_type": "stream",
     "text": [
      "min_length is: 263      \n",
      "length of data is: 303\n",
      "                         bid      ask\n",
      "2022-03-28 02:39:05  1.09545  1.09561\n",
      "2022-03-28 02:39:06  1.09547  1.09562\n",
      "2022-03-28 02:39:07  1.09547  1.09562\n",
      "2022-03-28 02:39:08  1.09547  1.09562\n",
      "2022-03-28 02:39:09  1.09547  1.09562\n",
      "Signal is: 1\n",
      "*** NO TRADE PLACED ***\n",
      "*** END OF CYCLE ***\n",
      "\n",
      " False False\n"
     ]
    },
    {
     "name": "stderr",
     "output_type": "stream",
     "text": [
      "C:\\Users\\Eddie\\anaconda3\\envs\\securities-analysis\\lib\\site-packages\\sklearn\\base.py:450: UserWarning: X does not have valid feature names, but AdaBoostClassifier was fitted with feature names\n",
      "  warnings.warn(\n"
     ]
    },
    {
     "name": "stdout",
     "output_type": "stream",
     "text": [
      "min_length is: 264      \n",
      "length of data is: 304\n",
      "                         bid      ask\n",
      "2022-03-28 02:39:06  1.09547  1.09562\n",
      "2022-03-28 02:39:07  1.09547  1.09562\n",
      "2022-03-28 02:39:08  1.09547  1.09562\n",
      "2022-03-28 02:39:09  1.09547  1.09562\n",
      "2022-03-28 02:39:10  1.09544  1.09560\n",
      "Signal is: 1\n",
      "*** NO TRADE PLACED ***\n",
      "*** END OF CYCLE ***\n",
      "\n",
      " False False\n"
     ]
    },
    {
     "name": "stderr",
     "output_type": "stream",
     "text": [
      "C:\\Users\\Eddie\\anaconda3\\envs\\securities-analysis\\lib\\site-packages\\sklearn\\base.py:450: UserWarning: X does not have valid feature names, but AdaBoostClassifier was fitted with feature names\n",
      "  warnings.warn(\n"
     ]
    },
    {
     "name": "stdout",
     "output_type": "stream",
     "text": [
      "min_length is: 265      \n",
      "length of data is: 308\n",
      "                         bid      ask\n",
      "2022-03-28 02:39:10  1.09544  1.09560\n",
      "2022-03-28 02:39:11  1.09545  1.09559\n",
      "2022-03-28 02:39:12  1.09545  1.09559\n",
      "2022-03-28 02:39:13  1.09545  1.09559\n",
      "2022-03-28 02:39:14  1.09545  1.09559\n",
      "Signal is: 1\n",
      "*** NO TRADE PLACED ***\n",
      "*** END OF CYCLE ***\n",
      "\n",
      " False False\n"
     ]
    },
    {
     "name": "stderr",
     "output_type": "stream",
     "text": [
      "C:\\Users\\Eddie\\anaconda3\\envs\\securities-analysis\\lib\\site-packages\\sklearn\\base.py:450: UserWarning: X does not have valid feature names, but AdaBoostClassifier was fitted with feature names\n",
      "  warnings.warn(\n"
     ]
    },
    {
     "name": "stdout",
     "output_type": "stream",
     "text": [
      "min_length is: 266      \n",
      "length of data is: 308\n",
      "                         bid      ask\n",
      "2022-03-28 02:39:10  1.09544  1.09560\n",
      "2022-03-28 02:39:11  1.09545  1.09559\n",
      "2022-03-28 02:39:12  1.09545  1.09559\n",
      "2022-03-28 02:39:13  1.09545  1.09559\n",
      "2022-03-28 02:39:14  1.09545  1.09559\n",
      "Signal is: 1\n",
      "*** NO TRADE PLACED ***\n",
      "*** END OF CYCLE ***\n",
      "\n",
      " False False\n"
     ]
    },
    {
     "name": "stderr",
     "output_type": "stream",
     "text": [
      "C:\\Users\\Eddie\\anaconda3\\envs\\securities-analysis\\lib\\site-packages\\sklearn\\base.py:450: UserWarning: X does not have valid feature names, but AdaBoostClassifier was fitted with feature names\n",
      "  warnings.warn(\n"
     ]
    },
    {
     "name": "stdout",
     "output_type": "stream",
     "text": [
      "min_length is: 267      \n",
      "length of data is: 308\n",
      "                         bid      ask\n",
      "2022-03-28 02:39:10  1.09544  1.09560\n",
      "2022-03-28 02:39:11  1.09545  1.09559\n",
      "2022-03-28 02:39:12  1.09545  1.09559\n",
      "2022-03-28 02:39:13  1.09545  1.09559\n",
      "2022-03-28 02:39:14  1.09545  1.09559\n",
      "Signal is: 1\n",
      "*** NO TRADE PLACED ***\n",
      "*** END OF CYCLE ***\n",
      "\n",
      " False False\n"
     ]
    },
    {
     "name": "stderr",
     "output_type": "stream",
     "text": [
      "C:\\Users\\Eddie\\anaconda3\\envs\\securities-analysis\\lib\\site-packages\\sklearn\\base.py:450: UserWarning: X does not have valid feature names, but AdaBoostClassifier was fitted with feature names\n",
      "  warnings.warn(\n"
     ]
    },
    {
     "name": "stdout",
     "output_type": "stream",
     "text": [
      "min_length is: 268      \n",
      "length of data is: 310\n",
      "                         bid      ask\n",
      "2022-03-28 02:39:12  1.09545  1.09559\n",
      "2022-03-28 02:39:13  1.09545  1.09559\n",
      "2022-03-28 02:39:14  1.09545  1.09559\n",
      "2022-03-28 02:39:15  1.09546  1.09561\n",
      "2022-03-28 02:39:16  1.09546  1.09561\n",
      "Signal is: 1\n",
      "*** NO TRADE PLACED ***\n",
      "*** END OF CYCLE ***\n",
      "\n",
      " False False\n"
     ]
    },
    {
     "name": "stderr",
     "output_type": "stream",
     "text": [
      "C:\\Users\\Eddie\\anaconda3\\envs\\securities-analysis\\lib\\site-packages\\sklearn\\base.py:450: UserWarning: X does not have valid feature names, but AdaBoostClassifier was fitted with feature names\n",
      "  warnings.warn(\n"
     ]
    },
    {
     "name": "stdout",
     "output_type": "stream",
     "text": [
      "min_length is: 269      \n",
      "length of data is: 311\n",
      "                         bid      ask\n",
      "2022-03-28 02:39:13  1.09545  1.09559\n",
      "2022-03-28 02:39:14  1.09545  1.09559\n",
      "2022-03-28 02:39:15  1.09546  1.09561\n",
      "2022-03-28 02:39:16  1.09546  1.09561\n",
      "2022-03-28 02:39:17  1.09546  1.09559\n",
      "Signal is: 1\n",
      "*** NO TRADE PLACED ***\n",
      "*** END OF CYCLE ***\n",
      "\n",
      " False False\n"
     ]
    },
    {
     "name": "stderr",
     "output_type": "stream",
     "text": [
      "C:\\Users\\Eddie\\anaconda3\\envs\\securities-analysis\\lib\\site-packages\\sklearn\\base.py:450: UserWarning: X does not have valid feature names, but AdaBoostClassifier was fitted with feature names\n",
      "  warnings.warn(\n"
     ]
    },
    {
     "name": "stdout",
     "output_type": "stream",
     "text": [
      "min_length is: 270      \n",
      "length of data is: 312\n",
      "                         bid      ask\n",
      "2022-03-28 02:39:14  1.09545  1.09559\n",
      "2022-03-28 02:39:15  1.09546  1.09561\n",
      "2022-03-28 02:39:16  1.09546  1.09561\n",
      "2022-03-28 02:39:17  1.09546  1.09559\n",
      "2022-03-28 02:39:18  1.09545  1.09560\n",
      "Signal is: 1\n",
      "*** NO TRADE PLACED ***\n",
      "*** END OF CYCLE ***\n",
      "\n",
      " False False\n"
     ]
    },
    {
     "name": "stderr",
     "output_type": "stream",
     "text": [
      "C:\\Users\\Eddie\\anaconda3\\envs\\securities-analysis\\lib\\site-packages\\sklearn\\base.py:450: UserWarning: X does not have valid feature names, but AdaBoostClassifier was fitted with feature names\n",
      "  warnings.warn(\n"
     ]
    },
    {
     "name": "stdout",
     "output_type": "stream",
     "text": [
      "min_length is: 271      \n",
      "length of data is: 313\n",
      "                         bid      ask\n",
      "2022-03-28 02:39:15  1.09546  1.09561\n",
      "2022-03-28 02:39:16  1.09546  1.09561\n",
      "2022-03-28 02:39:17  1.09546  1.09559\n",
      "2022-03-28 02:39:18  1.09545  1.09560\n",
      "2022-03-28 02:39:19  1.09544  1.09559\n",
      "Signal is: 1\n",
      "*** NO TRADE PLACED ***\n",
      "*** END OF CYCLE ***\n",
      "\n",
      " False False\n"
     ]
    },
    {
     "name": "stderr",
     "output_type": "stream",
     "text": [
      "C:\\Users\\Eddie\\anaconda3\\envs\\securities-analysis\\lib\\site-packages\\sklearn\\base.py:450: UserWarning: X does not have valid feature names, but AdaBoostClassifier was fitted with feature names\n",
      "  warnings.warn(\n"
     ]
    },
    {
     "name": "stdout",
     "output_type": "stream",
     "text": [
      "min_length is: 272      \n",
      "length of data is: 313\n",
      "                         bid      ask\n",
      "2022-03-28 02:39:15  1.09546  1.09561\n",
      "2022-03-28 02:39:16  1.09546  1.09561\n",
      "2022-03-28 02:39:17  1.09546  1.09559\n",
      "2022-03-28 02:39:18  1.09545  1.09560\n",
      "2022-03-28 02:39:19  1.09544  1.09559\n",
      "Signal is: 1\n",
      "*** NO TRADE PLACED ***\n",
      "*** END OF CYCLE ***\n",
      "\n",
      " False False\n"
     ]
    },
    {
     "name": "stderr",
     "output_type": "stream",
     "text": [
      "C:\\Users\\Eddie\\anaconda3\\envs\\securities-analysis\\lib\\site-packages\\sklearn\\base.py:450: UserWarning: X does not have valid feature names, but AdaBoostClassifier was fitted with feature names\n",
      "  warnings.warn(\n"
     ]
    },
    {
     "name": "stdout",
     "output_type": "stream",
     "text": [
      "min_length is: 273      \n",
      "length of data is: 317\n",
      "                         bid      ask\n",
      "2022-03-28 02:39:19  1.09544  1.09559\n",
      "2022-03-28 02:39:20  1.09543  1.09559\n",
      "2022-03-28 02:39:21  1.09543  1.09559\n",
      "2022-03-28 02:39:22  1.09543  1.09559\n",
      "2022-03-28 02:39:23  1.09543  1.09559\n",
      "Signal is: 1\n",
      "*** NO TRADE PLACED ***\n",
      "*** END OF CYCLE ***\n",
      "\n",
      " False False\n"
     ]
    },
    {
     "name": "stderr",
     "output_type": "stream",
     "text": [
      "C:\\Users\\Eddie\\anaconda3\\envs\\securities-analysis\\lib\\site-packages\\sklearn\\base.py:450: UserWarning: X does not have valid feature names, but AdaBoostClassifier was fitted with feature names\n",
      "  warnings.warn(\n"
     ]
    },
    {
     "name": "stdout",
     "output_type": "stream",
     "text": [
      "min_length is: 274      \n",
      "length of data is: 318\n",
      "                         bid      ask\n",
      "2022-03-28 02:39:20  1.09543  1.09559\n",
      "2022-03-28 02:39:21  1.09543  1.09559\n",
      "2022-03-28 02:39:22  1.09543  1.09559\n",
      "2022-03-28 02:39:23  1.09543  1.09559\n",
      "2022-03-28 02:39:24  1.09545  1.09562\n",
      "Signal is: 1\n",
      "*** NO TRADE PLACED ***\n",
      "*** END OF CYCLE ***\n",
      "\n",
      " False False\n"
     ]
    },
    {
     "name": "stderr",
     "output_type": "stream",
     "text": [
      "C:\\Users\\Eddie\\anaconda3\\envs\\securities-analysis\\lib\\site-packages\\sklearn\\base.py:450: UserWarning: X does not have valid feature names, but AdaBoostClassifier was fitted with feature names\n",
      "  warnings.warn(\n"
     ]
    },
    {
     "name": "stdout",
     "output_type": "stream",
     "text": [
      "min_length is: 275      \n",
      "length of data is: 318\n",
      "                         bid      ask\n",
      "2022-03-28 02:39:20  1.09543  1.09559\n",
      "2022-03-28 02:39:21  1.09543  1.09559\n",
      "2022-03-28 02:39:22  1.09543  1.09559\n",
      "2022-03-28 02:39:23  1.09543  1.09559\n",
      "2022-03-28 02:39:24  1.09545  1.09562\n",
      "Signal is: 1\n",
      "*** NO TRADE PLACED ***\n",
      "*** END OF CYCLE ***\n",
      "\n",
      " False False\n"
     ]
    },
    {
     "name": "stderr",
     "output_type": "stream",
     "text": [
      "C:\\Users\\Eddie\\anaconda3\\envs\\securities-analysis\\lib\\site-packages\\sklearn\\base.py:450: UserWarning: X does not have valid feature names, but AdaBoostClassifier was fitted with feature names\n",
      "  warnings.warn(\n"
     ]
    },
    {
     "name": "stdout",
     "output_type": "stream",
     "text": [
      "min_length is: 276      \n",
      "length of data is: 318\n",
      "                         bid      ask\n",
      "2022-03-28 02:39:20  1.09543  1.09559\n",
      "2022-03-28 02:39:21  1.09543  1.09559\n",
      "2022-03-28 02:39:22  1.09543  1.09559\n",
      "2022-03-28 02:39:23  1.09543  1.09559\n",
      "2022-03-28 02:39:24  1.09545  1.09562\n",
      "Signal is: 1\n",
      "*** NO TRADE PLACED ***\n",
      "*** END OF CYCLE ***\n",
      "\n",
      " False False\n"
     ]
    },
    {
     "name": "stderr",
     "output_type": "stream",
     "text": [
      "C:\\Users\\Eddie\\anaconda3\\envs\\securities-analysis\\lib\\site-packages\\sklearn\\base.py:450: UserWarning: X does not have valid feature names, but AdaBoostClassifier was fitted with feature names\n",
      "  warnings.warn(\n"
     ]
    },
    {
     "name": "stdout",
     "output_type": "stream",
     "text": [
      "min_length is: 277      \n",
      "length of data is: 319\n",
      "                         bid      ask\n",
      "2022-03-28 02:39:21  1.09543  1.09559\n",
      "2022-03-28 02:39:22  1.09543  1.09559\n",
      "2022-03-28 02:39:23  1.09543  1.09559\n",
      "2022-03-28 02:39:24  1.09545  1.09562\n",
      "2022-03-28 02:39:25  1.09545  1.09561\n",
      "Signal is: 1\n",
      "*** NO TRADE PLACED ***\n",
      "*** END OF CYCLE ***\n",
      "\n",
      " False False\n"
     ]
    },
    {
     "name": "stderr",
     "output_type": "stream",
     "text": [
      "C:\\Users\\Eddie\\anaconda3\\envs\\securities-analysis\\lib\\site-packages\\sklearn\\base.py:450: UserWarning: X does not have valid feature names, but AdaBoostClassifier was fitted with feature names\n",
      "  warnings.warn(\n"
     ]
    },
    {
     "name": "stdout",
     "output_type": "stream",
     "text": [
      "min_length is: 278      \n",
      "length of data is: 319\n",
      "                         bid      ask\n",
      "2022-03-28 02:39:21  1.09543  1.09559\n",
      "2022-03-28 02:39:22  1.09543  1.09559\n",
      "2022-03-28 02:39:23  1.09543  1.09559\n",
      "2022-03-28 02:39:24  1.09545  1.09562\n",
      "2022-03-28 02:39:25  1.09545  1.09561\n",
      "Signal is: 1\n",
      "*** NO TRADE PLACED ***\n",
      "*** END OF CYCLE ***\n",
      "\n",
      " False False\n"
     ]
    },
    {
     "name": "stderr",
     "output_type": "stream",
     "text": [
      "C:\\Users\\Eddie\\anaconda3\\envs\\securities-analysis\\lib\\site-packages\\sklearn\\base.py:450: UserWarning: X does not have valid feature names, but AdaBoostClassifier was fitted with feature names\n",
      "  warnings.warn(\n"
     ]
    },
    {
     "name": "stdout",
     "output_type": "stream",
     "text": [
      "min_length is: 279      \n",
      "length of data is: 321\n",
      "                         bid      ask\n",
      "2022-03-28 02:39:23  1.09543  1.09559\n",
      "2022-03-28 02:39:24  1.09545  1.09562\n",
      "2022-03-28 02:39:25  1.09545  1.09561\n",
      "2022-03-28 02:39:26  1.09547  1.09562\n",
      "2022-03-28 02:39:27  1.09547  1.09562\n",
      "Signal is: 1\n",
      "*** NO TRADE PLACED ***\n",
      "*** END OF CYCLE ***\n",
      "\n",
      " False False\n"
     ]
    },
    {
     "name": "stderr",
     "output_type": "stream",
     "text": [
      "C:\\Users\\Eddie\\anaconda3\\envs\\securities-analysis\\lib\\site-packages\\sklearn\\base.py:450: UserWarning: X does not have valid feature names, but AdaBoostClassifier was fitted with feature names\n",
      "  warnings.warn(\n"
     ]
    },
    {
     "name": "stdout",
     "output_type": "stream",
     "text": [
      "min_length is: 280      \n",
      "length of data is: 322\n",
      "                         bid      ask\n",
      "2022-03-28 02:39:24  1.09545  1.09562\n",
      "2022-03-28 02:39:25  1.09545  1.09561\n",
      "2022-03-28 02:39:26  1.09547  1.09562\n",
      "2022-03-28 02:39:27  1.09547  1.09562\n",
      "2022-03-28 02:39:28  1.09543  1.09560\n",
      "Signal is: 1\n",
      "*** NO TRADE PLACED ***\n",
      "*** END OF CYCLE ***\n",
      "\n",
      " False False\n"
     ]
    },
    {
     "name": "stderr",
     "output_type": "stream",
     "text": [
      "C:\\Users\\Eddie\\anaconda3\\envs\\securities-analysis\\lib\\site-packages\\sklearn\\base.py:450: UserWarning: X does not have valid feature names, but AdaBoostClassifier was fitted with feature names\n",
      "  warnings.warn(\n"
     ]
    },
    {
     "name": "stdout",
     "output_type": "stream",
     "text": [
      "min_length is: 281      \n",
      "length of data is: 322\n",
      "                         bid      ask\n",
      "2022-03-28 02:39:24  1.09545  1.09562\n",
      "2022-03-28 02:39:25  1.09545  1.09561\n",
      "2022-03-28 02:39:26  1.09547  1.09562\n",
      "2022-03-28 02:39:27  1.09547  1.09562\n",
      "2022-03-28 02:39:28  1.09543  1.09560\n",
      "Signal is: 1\n",
      "*** NO TRADE PLACED ***\n",
      "*** END OF CYCLE ***\n",
      "\n",
      " False False\n"
     ]
    },
    {
     "name": "stderr",
     "output_type": "stream",
     "text": [
      "C:\\Users\\Eddie\\anaconda3\\envs\\securities-analysis\\lib\\site-packages\\sklearn\\base.py:450: UserWarning: X does not have valid feature names, but AdaBoostClassifier was fitted with feature names\n",
      "  warnings.warn(\n"
     ]
    },
    {
     "name": "stdout",
     "output_type": "stream",
     "text": [
      "min_length is: 282      \n",
      "length of data is: 323\n",
      "                         bid      ask\n",
      "2022-03-28 02:39:25  1.09545  1.09561\n",
      "2022-03-28 02:39:26  1.09547  1.09562\n",
      "2022-03-28 02:39:27  1.09547  1.09562\n",
      "2022-03-28 02:39:28  1.09543  1.09560\n",
      "2022-03-28 02:39:29  1.09545  1.09560\n",
      "Signal is: 1\n",
      "*** NO TRADE PLACED ***\n",
      "*** END OF CYCLE ***\n",
      "\n",
      " False False\n"
     ]
    },
    {
     "name": "stderr",
     "output_type": "stream",
     "text": [
      "C:\\Users\\Eddie\\anaconda3\\envs\\securities-analysis\\lib\\site-packages\\sklearn\\base.py:450: UserWarning: X does not have valid feature names, but AdaBoostClassifier was fitted with feature names\n",
      "  warnings.warn(\n"
     ]
    },
    {
     "name": "stdout",
     "output_type": "stream",
     "text": [
      "min_length is: 283      \n",
      "length of data is: 324\n",
      "                         bid      ask\n",
      "2022-03-28 02:39:26  1.09547  1.09562\n",
      "2022-03-28 02:39:27  1.09547  1.09562\n",
      "2022-03-28 02:39:28  1.09543  1.09560\n",
      "2022-03-28 02:39:29  1.09545  1.09560\n",
      "2022-03-28 02:39:30  1.09545  1.09559\n",
      "Signal is: 1\n",
      "*** NO TRADE PLACED ***\n",
      "*** END OF CYCLE ***\n",
      "\n",
      " False False\n"
     ]
    },
    {
     "name": "stderr",
     "output_type": "stream",
     "text": [
      "C:\\Users\\Eddie\\anaconda3\\envs\\securities-analysis\\lib\\site-packages\\sklearn\\base.py:450: UserWarning: X does not have valid feature names, but AdaBoostClassifier was fitted with feature names\n",
      "  warnings.warn(\n"
     ]
    },
    {
     "name": "stdout",
     "output_type": "stream",
     "text": [
      "min_length is: 284      \n",
      "length of data is: 324\n",
      "                         bid      ask\n",
      "2022-03-28 02:39:26  1.09547  1.09562\n",
      "2022-03-28 02:39:27  1.09547  1.09562\n",
      "2022-03-28 02:39:28  1.09543  1.09560\n",
      "2022-03-28 02:39:29  1.09545  1.09560\n",
      "2022-03-28 02:39:30  1.09545  1.09559\n",
      "Signal is: 1\n",
      "*** NO TRADE PLACED ***\n",
      "*** END OF CYCLE ***\n",
      "\n",
      " False False\n"
     ]
    },
    {
     "name": "stderr",
     "output_type": "stream",
     "text": [
      "C:\\Users\\Eddie\\anaconda3\\envs\\securities-analysis\\lib\\site-packages\\sklearn\\base.py:450: UserWarning: X does not have valid feature names, but AdaBoostClassifier was fitted with feature names\n",
      "  warnings.warn(\n"
     ]
    },
    {
     "name": "stdout",
     "output_type": "stream",
     "text": [
      "min_length is: 285      \n",
      "length of data is: 324\n",
      "                         bid      ask\n",
      "2022-03-28 02:39:26  1.09547  1.09562\n",
      "2022-03-28 02:39:27  1.09547  1.09562\n",
      "2022-03-28 02:39:28  1.09543  1.09560\n",
      "2022-03-28 02:39:29  1.09545  1.09560\n",
      "2022-03-28 02:39:30  1.09545  1.09559\n",
      "Signal is: 1\n",
      "*** NO TRADE PLACED ***\n",
      "*** END OF CYCLE ***\n",
      "\n",
      " False False\n"
     ]
    },
    {
     "name": "stderr",
     "output_type": "stream",
     "text": [
      "C:\\Users\\Eddie\\anaconda3\\envs\\securities-analysis\\lib\\site-packages\\sklearn\\base.py:450: UserWarning: X does not have valid feature names, but AdaBoostClassifier was fitted with feature names\n",
      "  warnings.warn(\n"
     ]
    },
    {
     "name": "stdout",
     "output_type": "stream",
     "text": [
      "min_length is: 286      \n",
      "length of data is: 325\n",
      "                         bid      ask\n",
      "2022-03-28 02:39:27  1.09547  1.09562\n",
      "2022-03-28 02:39:28  1.09543  1.09560\n",
      "2022-03-28 02:39:29  1.09545  1.09560\n",
      "2022-03-28 02:39:30  1.09545  1.09559\n",
      "2022-03-28 02:39:31  1.09546  1.09562\n",
      "Signal is: 1\n",
      "*** NO TRADE PLACED ***\n",
      "*** END OF CYCLE ***\n",
      "\n",
      " False False\n"
     ]
    },
    {
     "name": "stderr",
     "output_type": "stream",
     "text": [
      "C:\\Users\\Eddie\\anaconda3\\envs\\securities-analysis\\lib\\site-packages\\sklearn\\base.py:450: UserWarning: X does not have valid feature names, but AdaBoostClassifier was fitted with feature names\n",
      "  warnings.warn(\n"
     ]
    },
    {
     "name": "stdout",
     "output_type": "stream",
     "text": [
      "min_length is: 287      \n",
      "length of data is: 325\n",
      "                         bid      ask\n",
      "2022-03-28 02:39:27  1.09547  1.09562\n",
      "2022-03-28 02:39:28  1.09543  1.09560\n",
      "2022-03-28 02:39:29  1.09545  1.09560\n",
      "2022-03-28 02:39:30  1.09545  1.09559\n",
      "2022-03-28 02:39:31  1.09546  1.09562\n",
      "Signal is: 1\n",
      "*** NO TRADE PLACED ***\n",
      "*** END OF CYCLE ***\n",
      "\n",
      " False False\n"
     ]
    },
    {
     "name": "stderr",
     "output_type": "stream",
     "text": [
      "C:\\Users\\Eddie\\anaconda3\\envs\\securities-analysis\\lib\\site-packages\\sklearn\\base.py:450: UserWarning: X does not have valid feature names, but AdaBoostClassifier was fitted with feature names\n",
      "  warnings.warn(\n"
     ]
    },
    {
     "name": "stdout",
     "output_type": "stream",
     "text": [
      "min_length is: 288      \n",
      "length of data is: 329\n",
      "                         bid      ask\n",
      "2022-03-28 02:39:31  1.09546  1.09562\n",
      "2022-03-28 02:39:32  1.09541  1.09557\n",
      "2022-03-28 02:39:33  1.09541  1.09557\n",
      "2022-03-28 02:39:34  1.09541  1.09557\n",
      "2022-03-28 02:39:35  1.09541  1.09557\n",
      "Signal is: 1\n",
      "*** NO TRADE PLACED ***\n",
      "*** END OF CYCLE ***\n",
      "\n",
      " False False\n"
     ]
    },
    {
     "name": "stderr",
     "output_type": "stream",
     "text": [
      "C:\\Users\\Eddie\\anaconda3\\envs\\securities-analysis\\lib\\site-packages\\sklearn\\base.py:450: UserWarning: X does not have valid feature names, but AdaBoostClassifier was fitted with feature names\n",
      "  warnings.warn(\n"
     ]
    },
    {
     "name": "stdout",
     "output_type": "stream",
     "text": [
      "min_length is: 289      \n",
      "length of data is: 329\n",
      "                         bid      ask\n",
      "2022-03-28 02:39:31  1.09546  1.09562\n",
      "2022-03-28 02:39:32  1.09541  1.09557\n",
      "2022-03-28 02:39:33  1.09541  1.09557\n",
      "2022-03-28 02:39:34  1.09541  1.09557\n",
      "2022-03-28 02:39:35  1.09541  1.09557\n",
      "Signal is: 1\n",
      "*** NO TRADE PLACED ***\n",
      "*** END OF CYCLE ***\n",
      "\n",
      " False False\n"
     ]
    },
    {
     "name": "stderr",
     "output_type": "stream",
     "text": [
      "C:\\Users\\Eddie\\anaconda3\\envs\\securities-analysis\\lib\\site-packages\\sklearn\\base.py:450: UserWarning: X does not have valid feature names, but AdaBoostClassifier was fitted with feature names\n",
      "  warnings.warn(\n"
     ]
    },
    {
     "name": "stdout",
     "output_type": "stream",
     "text": [
      "min_length is: 290      \n",
      "length of data is: 330\n",
      "                         bid      ask\n",
      "2022-03-28 02:39:32  1.09541  1.09557\n",
      "2022-03-28 02:39:33  1.09541  1.09557\n",
      "2022-03-28 02:39:34  1.09541  1.09557\n",
      "2022-03-28 02:39:35  1.09541  1.09557\n",
      "2022-03-28 02:39:36  1.09537  1.09554\n",
      "Signal is: 1\n",
      "*** NO TRADE PLACED ***\n",
      "*** END OF CYCLE ***\n",
      "\n",
      " False False\n"
     ]
    },
    {
     "name": "stderr",
     "output_type": "stream",
     "text": [
      "C:\\Users\\Eddie\\anaconda3\\envs\\securities-analysis\\lib\\site-packages\\sklearn\\base.py:450: UserWarning: X does not have valid feature names, but AdaBoostClassifier was fitted with feature names\n",
      "  warnings.warn(\n"
     ]
    },
    {
     "name": "stdout",
     "output_type": "stream",
     "text": [
      "min_length is: 291      \n",
      "length of data is: 331\n",
      "                         bid      ask\n",
      "2022-03-28 02:39:33  1.09541  1.09557\n",
      "2022-03-28 02:39:34  1.09541  1.09557\n",
      "2022-03-28 02:39:35  1.09541  1.09557\n",
      "2022-03-28 02:39:36  1.09537  1.09554\n",
      "2022-03-28 02:39:37  1.09537  1.09552\n",
      "Signal is: 1\n",
      "*** NO TRADE PLACED ***\n",
      "*** END OF CYCLE ***\n",
      "\n",
      " False False\n"
     ]
    },
    {
     "name": "stderr",
     "output_type": "stream",
     "text": [
      "C:\\Users\\Eddie\\anaconda3\\envs\\securities-analysis\\lib\\site-packages\\sklearn\\base.py:450: UserWarning: X does not have valid feature names, but AdaBoostClassifier was fitted with feature names\n",
      "  warnings.warn(\n"
     ]
    },
    {
     "name": "stdout",
     "output_type": "stream",
     "text": [
      "min_length is: 292      \n",
      "length of data is: 333\n",
      "                         bid      ask\n",
      "2022-03-28 02:39:35  1.09541  1.09557\n",
      "2022-03-28 02:39:36  1.09537  1.09554\n",
      "2022-03-28 02:39:37  1.09537  1.09552\n",
      "2022-03-28 02:39:38  1.09536  1.09553\n",
      "2022-03-28 02:39:39  1.09536  1.09553\n",
      "Signal is: 1\n",
      "*** NO TRADE PLACED ***\n",
      "*** END OF CYCLE ***\n",
      "\n",
      " False False\n"
     ]
    },
    {
     "name": "stderr",
     "output_type": "stream",
     "text": [
      "C:\\Users\\Eddie\\anaconda3\\envs\\securities-analysis\\lib\\site-packages\\sklearn\\base.py:450: UserWarning: X does not have valid feature names, but AdaBoostClassifier was fitted with feature names\n",
      "  warnings.warn(\n"
     ]
    },
    {
     "name": "stdout",
     "output_type": "stream",
     "text": [
      "min_length is: 293      \n",
      "length of data is: 335\n",
      "                         bid      ask\n",
      "2022-03-28 02:39:37  1.09537  1.09552\n",
      "2022-03-28 02:39:38  1.09536  1.09553\n",
      "2022-03-28 02:39:39  1.09536  1.09553\n",
      "2022-03-28 02:39:40  1.09538  1.09555\n",
      "2022-03-28 02:39:41  1.09538  1.09555\n",
      "Signal is: 1\n",
      "*** NO TRADE PLACED ***\n",
      "*** END OF CYCLE ***\n",
      "\n",
      " False False\n"
     ]
    },
    {
     "name": "stderr",
     "output_type": "stream",
     "text": [
      "C:\\Users\\Eddie\\anaconda3\\envs\\securities-analysis\\lib\\site-packages\\sklearn\\base.py:450: UserWarning: X does not have valid feature names, but AdaBoostClassifier was fitted with feature names\n",
      "  warnings.warn(\n"
     ]
    },
    {
     "name": "stdout",
     "output_type": "stream",
     "text": [
      "min_length is: 294      \n",
      "length of data is: 336\n",
      "                         bid      ask\n",
      "2022-03-28 02:39:38  1.09536  1.09553\n",
      "2022-03-28 02:39:39  1.09536  1.09553\n",
      "2022-03-28 02:39:40  1.09538  1.09555\n",
      "2022-03-28 02:39:41  1.09538  1.09555\n",
      "2022-03-28 02:39:42  1.09539  1.09555\n",
      "Signal is: 1\n",
      "*** NO TRADE PLACED ***\n",
      "*** END OF CYCLE ***\n",
      "\n",
      " False False\n"
     ]
    },
    {
     "name": "stderr",
     "output_type": "stream",
     "text": [
      "C:\\Users\\Eddie\\anaconda3\\envs\\securities-analysis\\lib\\site-packages\\sklearn\\base.py:450: UserWarning: X does not have valid feature names, but AdaBoostClassifier was fitted with feature names\n",
      "  warnings.warn(\n"
     ]
    },
    {
     "name": "stdout",
     "output_type": "stream",
     "text": [
      "min_length is: 295      \n",
      "length of data is: 338\n",
      "                         bid      ask\n",
      "2022-03-28 02:39:40  1.09538  1.09555\n",
      "2022-03-28 02:39:41  1.09538  1.09555\n",
      "2022-03-28 02:39:42  1.09539  1.09555\n",
      "2022-03-28 02:39:43  1.09539  1.09555\n",
      "2022-03-28 02:39:44  1.09539  1.09555\n",
      "Signal is: 1\n",
      "*** NO TRADE PLACED ***\n",
      "*** END OF CYCLE ***\n",
      "\n",
      " False False\n"
     ]
    },
    {
     "name": "stderr",
     "output_type": "stream",
     "text": [
      "C:\\Users\\Eddie\\anaconda3\\envs\\securities-analysis\\lib\\site-packages\\sklearn\\base.py:450: UserWarning: X does not have valid feature names, but AdaBoostClassifier was fitted with feature names\n",
      "  warnings.warn(\n"
     ]
    },
    {
     "name": "stdout",
     "output_type": "stream",
     "text": [
      "min_length is: 296      \n",
      "length of data is: 342\n",
      "                         bid      ask\n",
      "2022-03-28 02:39:44  1.09539  1.09555\n",
      "2022-03-28 02:39:45  1.09541  1.09557\n",
      "2022-03-28 02:39:46  1.09541  1.09557\n",
      "2022-03-28 02:39:47  1.09541  1.09557\n",
      "2022-03-28 02:39:48  1.09541  1.09557\n",
      "Signal is: 1\n",
      "*** NO TRADE PLACED ***\n",
      "*** END OF CYCLE ***\n",
      "\n",
      " False False\n"
     ]
    },
    {
     "name": "stderr",
     "output_type": "stream",
     "text": [
      "C:\\Users\\Eddie\\anaconda3\\envs\\securities-analysis\\lib\\site-packages\\sklearn\\base.py:450: UserWarning: X does not have valid feature names, but AdaBoostClassifier was fitted with feature names\n",
      "  warnings.warn(\n"
     ]
    },
    {
     "name": "stdout",
     "output_type": "stream",
     "text": [
      "min_length is: 297      \n",
      "length of data is: 343\n",
      "                         bid      ask\n",
      "2022-03-28 02:39:45  1.09541  1.09557\n",
      "2022-03-28 02:39:46  1.09541  1.09557\n",
      "2022-03-28 02:39:47  1.09541  1.09557\n",
      "2022-03-28 02:39:48  1.09541  1.09557\n",
      "2022-03-28 02:39:49  1.09541  1.09558\n",
      "Signal is: 1\n",
      "*** NO TRADE PLACED ***\n",
      "*** END OF CYCLE ***\n",
      "\n",
      " False False\n"
     ]
    },
    {
     "name": "stderr",
     "output_type": "stream",
     "text": [
      "C:\\Users\\Eddie\\anaconda3\\envs\\securities-analysis\\lib\\site-packages\\sklearn\\base.py:450: UserWarning: X does not have valid feature names, but AdaBoostClassifier was fitted with feature names\n",
      "  warnings.warn(\n"
     ]
    },
    {
     "name": "stdout",
     "output_type": "stream",
     "text": [
      "min_length is: 298      \n",
      "length of data is: 343\n",
      "                         bid      ask\n",
      "2022-03-28 02:39:45  1.09541  1.09557\n",
      "2022-03-28 02:39:46  1.09541  1.09557\n",
      "2022-03-28 02:39:47  1.09541  1.09557\n",
      "2022-03-28 02:39:48  1.09541  1.09557\n",
      "2022-03-28 02:39:49  1.09541  1.09558\n",
      "Signal is: 1\n",
      "*** NO TRADE PLACED ***\n",
      "*** END OF CYCLE ***\n",
      "\n",
      " False False\n"
     ]
    },
    {
     "name": "stderr",
     "output_type": "stream",
     "text": [
      "C:\\Users\\Eddie\\anaconda3\\envs\\securities-analysis\\lib\\site-packages\\sklearn\\base.py:450: UserWarning: X does not have valid feature names, but AdaBoostClassifier was fitted with feature names\n",
      "  warnings.warn(\n"
     ]
    },
    {
     "name": "stdout",
     "output_type": "stream",
     "text": [
      "min_length is: 299      \n",
      "length of data is: 344\n",
      "                         bid      ask\n",
      "2022-03-28 02:39:46  1.09541  1.09557\n",
      "2022-03-28 02:39:47  1.09541  1.09557\n",
      "2022-03-28 02:39:48  1.09541  1.09557\n",
      "2022-03-28 02:39:49  1.09541  1.09558\n",
      "2022-03-28 02:39:50  1.09541  1.09557\n",
      "Signal is: 1\n",
      "*** NO TRADE PLACED ***\n",
      "*** END OF CYCLE ***\n",
      "\n",
      " False False\n"
     ]
    },
    {
     "name": "stderr",
     "output_type": "stream",
     "text": [
      "C:\\Users\\Eddie\\anaconda3\\envs\\securities-analysis\\lib\\site-packages\\sklearn\\base.py:450: UserWarning: X does not have valid feature names, but AdaBoostClassifier was fitted with feature names\n",
      "  warnings.warn(\n"
     ]
    },
    {
     "name": "stdout",
     "output_type": "stream",
     "text": [
      "min_length is: 300      \n",
      "length of data is: 345\n",
      "                         bid      ask\n",
      "2022-03-28 02:39:47  1.09541  1.09557\n",
      "2022-03-28 02:39:48  1.09541  1.09557\n",
      "2022-03-28 02:39:49  1.09541  1.09558\n",
      "2022-03-28 02:39:50  1.09541  1.09557\n",
      "2022-03-28 02:39:51  1.09540  1.09558\n",
      "Signal is: 1\n",
      "*** NO TRADE PLACED ***\n",
      "*** END OF CYCLE ***\n",
      "\n",
      " False False\n"
     ]
    },
    {
     "name": "stderr",
     "output_type": "stream",
     "text": [
      "C:\\Users\\Eddie\\anaconda3\\envs\\securities-analysis\\lib\\site-packages\\sklearn\\base.py:450: UserWarning: X does not have valid feature names, but AdaBoostClassifier was fitted with feature names\n",
      "  warnings.warn(\n"
     ]
    },
    {
     "name": "stdout",
     "output_type": "stream",
     "text": [
      "min_length is: 301      \n",
      "length of data is: 347\n",
      "                         bid      ask\n",
      "2022-03-28 02:39:49  1.09541  1.09558\n",
      "2022-03-28 02:39:50  1.09541  1.09557\n",
      "2022-03-28 02:39:51  1.09540  1.09558\n",
      "2022-03-28 02:39:52  1.09541  1.09557\n",
      "2022-03-28 02:39:53  1.09541  1.09557\n",
      "Signal is: 1\n",
      "*** NO TRADE PLACED ***\n",
      "*** END OF CYCLE ***\n",
      "\n",
      " False False\n"
     ]
    },
    {
     "name": "stderr",
     "output_type": "stream",
     "text": [
      "C:\\Users\\Eddie\\anaconda3\\envs\\securities-analysis\\lib\\site-packages\\sklearn\\base.py:450: UserWarning: X does not have valid feature names, but AdaBoostClassifier was fitted with feature names\n",
      "  warnings.warn(\n"
     ]
    },
    {
     "name": "stdout",
     "output_type": "stream",
     "text": [
      "min_length is: 302      \n",
      "length of data is: 347\n",
      "                         bid      ask\n",
      "2022-03-28 02:39:49  1.09541  1.09558\n",
      "2022-03-28 02:39:50  1.09541  1.09557\n",
      "2022-03-28 02:39:51  1.09540  1.09558\n",
      "2022-03-28 02:39:52  1.09541  1.09557\n",
      "2022-03-28 02:39:53  1.09541  1.09557\n",
      "Signal is: 1\n",
      "*** NO TRADE PLACED ***\n",
      "*** END OF CYCLE ***\n",
      "\n",
      " False False\n"
     ]
    },
    {
     "name": "stderr",
     "output_type": "stream",
     "text": [
      "C:\\Users\\Eddie\\anaconda3\\envs\\securities-analysis\\lib\\site-packages\\sklearn\\base.py:450: UserWarning: X does not have valid feature names, but AdaBoostClassifier was fitted with feature names\n",
      "  warnings.warn(\n"
     ]
    },
    {
     "name": "stdout",
     "output_type": "stream",
     "text": [
      "min_length is: 303      \n",
      "length of data is: 349\n",
      "                         bid      ask\n",
      "2022-03-28 02:39:51  1.09540  1.09558\n",
      "2022-03-28 02:39:52  1.09541  1.09557\n",
      "2022-03-28 02:39:53  1.09541  1.09557\n",
      "2022-03-28 02:39:54  1.09540  1.09556\n",
      "2022-03-28 02:39:55  1.09540  1.09556\n",
      "Signal is: 1\n",
      "*** NO TRADE PLACED ***\n",
      "*** END OF CYCLE ***\n",
      "\n",
      " False False\n"
     ]
    },
    {
     "name": "stderr",
     "output_type": "stream",
     "text": [
      "C:\\Users\\Eddie\\anaconda3\\envs\\securities-analysis\\lib\\site-packages\\sklearn\\base.py:450: UserWarning: X does not have valid feature names, but AdaBoostClassifier was fitted with feature names\n",
      "  warnings.warn(\n"
     ]
    },
    {
     "name": "stdout",
     "output_type": "stream",
     "text": [
      "min_length is: 304      \n",
      "length of data is: 350\n",
      "                         bid      ask\n",
      "2022-03-28 02:39:52  1.09541  1.09557\n",
      "2022-03-28 02:39:53  1.09541  1.09557\n",
      "2022-03-28 02:39:54  1.09540  1.09556\n",
      "2022-03-28 02:39:55  1.09540  1.09556\n",
      "2022-03-28 02:39:56  1.09541  1.09558\n",
      "Signal is: 1\n",
      "*** NO TRADE PLACED ***\n",
      "*** END OF CYCLE ***\n",
      "\n",
      " False False\n"
     ]
    },
    {
     "name": "stderr",
     "output_type": "stream",
     "text": [
      "C:\\Users\\Eddie\\anaconda3\\envs\\securities-analysis\\lib\\site-packages\\sklearn\\base.py:450: UserWarning: X does not have valid feature names, but AdaBoostClassifier was fitted with feature names\n",
      "  warnings.warn(\n"
     ]
    },
    {
     "name": "stdout",
     "output_type": "stream",
     "text": [
      "min_length is: 305      \n",
      "length of data is: 353\n",
      "                         bid      ask\n",
      "2022-03-28 02:39:55  1.09540  1.09556\n",
      "2022-03-28 02:39:56  1.09541  1.09558\n",
      "2022-03-28 02:39:57  1.09542  1.09557\n",
      "2022-03-28 02:39:58  1.09542  1.09557\n",
      "2022-03-28 02:39:59  1.09542  1.09557\n",
      "Signal is: 1\n",
      "*** NO TRADE PLACED ***\n",
      "*** END OF CYCLE ***\n",
      "\n",
      " False False\n"
     ]
    },
    {
     "name": "stderr",
     "output_type": "stream",
     "text": [
      "C:\\Users\\Eddie\\anaconda3\\envs\\securities-analysis\\lib\\site-packages\\sklearn\\base.py:450: UserWarning: X does not have valid feature names, but AdaBoostClassifier was fitted with feature names\n",
      "  warnings.warn(\n"
     ]
    },
    {
     "name": "stdout",
     "output_type": "stream",
     "text": [
      "min_length is: 306      \n",
      "length of data is: 354\n",
      "                         bid      ask\n",
      "2022-03-28 02:39:56  1.09541  1.09558\n",
      "2022-03-28 02:39:57  1.09542  1.09557\n",
      "2022-03-28 02:39:58  1.09542  1.09557\n",
      "2022-03-28 02:39:59  1.09542  1.09557\n",
      "2022-03-28 02:40:00  1.09541  1.09558\n",
      "Signal is: 1\n",
      "*** NO TRADE PLACED ***\n",
      "*** END OF CYCLE ***\n",
      "\n",
      " False False\n"
     ]
    },
    {
     "name": "stderr",
     "output_type": "stream",
     "text": [
      "C:\\Users\\Eddie\\anaconda3\\envs\\securities-analysis\\lib\\site-packages\\sklearn\\base.py:450: UserWarning: X does not have valid feature names, but AdaBoostClassifier was fitted with feature names\n",
      "  warnings.warn(\n"
     ]
    },
    {
     "name": "stdout",
     "output_type": "stream",
     "text": [
      "min_length is: 307      \n",
      "length of data is: 355\n",
      "                         bid      ask\n",
      "2022-03-28 02:39:57  1.09542  1.09557\n",
      "2022-03-28 02:39:58  1.09542  1.09557\n",
      "2022-03-28 02:39:59  1.09542  1.09557\n",
      "2022-03-28 02:40:00  1.09541  1.09558\n",
      "2022-03-28 02:40:01  1.09542  1.09557\n",
      "Signal is: 1\n",
      "*** NO TRADE PLACED ***\n",
      "*** END OF CYCLE ***\n",
      "\n",
      " False False\n"
     ]
    },
    {
     "name": "stderr",
     "output_type": "stream",
     "text": [
      "C:\\Users\\Eddie\\anaconda3\\envs\\securities-analysis\\lib\\site-packages\\sklearn\\base.py:450: UserWarning: X does not have valid feature names, but AdaBoostClassifier was fitted with feature names\n",
      "  warnings.warn(\n"
     ]
    },
    {
     "name": "stdout",
     "output_type": "stream",
     "text": [
      "min_length is: 308      \n",
      "length of data is: 355\n",
      "                         bid      ask\n",
      "2022-03-28 02:39:57  1.09542  1.09557\n",
      "2022-03-28 02:39:58  1.09542  1.09557\n",
      "2022-03-28 02:39:59  1.09542  1.09557\n",
      "2022-03-28 02:40:00  1.09541  1.09558\n",
      "2022-03-28 02:40:01  1.09542  1.09557\n",
      "Signal is: 1\n",
      "*** NO TRADE PLACED ***\n",
      "*** END OF CYCLE ***\n",
      "\n",
      " False False\n"
     ]
    },
    {
     "name": "stderr",
     "output_type": "stream",
     "text": [
      "C:\\Users\\Eddie\\anaconda3\\envs\\securities-analysis\\lib\\site-packages\\sklearn\\base.py:450: UserWarning: X does not have valid feature names, but AdaBoostClassifier was fitted with feature names\n",
      "  warnings.warn(\n"
     ]
    },
    {
     "name": "stdout",
     "output_type": "stream",
     "text": [
      "min_length is: 309      \n",
      "length of data is: 356\n",
      "                         bid      ask\n",
      "2022-03-28 02:39:58  1.09542  1.09557\n",
      "2022-03-28 02:39:59  1.09542  1.09557\n",
      "2022-03-28 02:40:00  1.09541  1.09558\n",
      "2022-03-28 02:40:01  1.09542  1.09557\n",
      "2022-03-28 02:40:02  1.09542  1.09556\n",
      "Signal is: 1\n",
      "*** NO TRADE PLACED ***\n",
      "*** END OF CYCLE ***\n",
      "\n",
      " False False\n"
     ]
    },
    {
     "name": "stderr",
     "output_type": "stream",
     "text": [
      "C:\\Users\\Eddie\\anaconda3\\envs\\securities-analysis\\lib\\site-packages\\sklearn\\base.py:450: UserWarning: X does not have valid feature names, but AdaBoostClassifier was fitted with feature names\n",
      "  warnings.warn(\n"
     ]
    },
    {
     "name": "stdout",
     "output_type": "stream",
     "text": [
      "min_length is: 310      \n",
      "length of data is: 356\n",
      "                         bid      ask\n",
      "2022-03-28 02:39:58  1.09542  1.09557\n",
      "2022-03-28 02:39:59  1.09542  1.09557\n",
      "2022-03-28 02:40:00  1.09541  1.09558\n",
      "2022-03-28 02:40:01  1.09542  1.09557\n",
      "2022-03-28 02:40:02  1.09542  1.09556\n",
      "Signal is: 1\n",
      "*** NO TRADE PLACED ***\n",
      "*** END OF CYCLE ***\n",
      "\n",
      " False False\n"
     ]
    },
    {
     "name": "stderr",
     "output_type": "stream",
     "text": [
      "C:\\Users\\Eddie\\anaconda3\\envs\\securities-analysis\\lib\\site-packages\\sklearn\\base.py:450: UserWarning: X does not have valid feature names, but AdaBoostClassifier was fitted with feature names\n",
      "  warnings.warn(\n"
     ]
    },
    {
     "name": "stdout",
     "output_type": "stream",
     "text": [
      "min_length is: 311      \n",
      "length of data is: 360\n",
      "                         bid      ask\n",
      "2022-03-28 02:40:02  1.09542  1.09556\n",
      "2022-03-28 02:40:03  1.09541  1.09555\n",
      "2022-03-28 02:40:04  1.09541  1.09555\n",
      "2022-03-28 02:40:05  1.09541  1.09555\n",
      "2022-03-28 02:40:06  1.09541  1.09555\n",
      "Signal is: 1\n",
      "*** NO TRADE PLACED ***\n",
      "*** END OF CYCLE ***\n",
      "\n",
      " False False\n"
     ]
    },
    {
     "name": "stderr",
     "output_type": "stream",
     "text": [
      "C:\\Users\\Eddie\\anaconda3\\envs\\securities-analysis\\lib\\site-packages\\sklearn\\base.py:450: UserWarning: X does not have valid feature names, but AdaBoostClassifier was fitted with feature names\n",
      "  warnings.warn(\n"
     ]
    },
    {
     "name": "stdout",
     "output_type": "stream",
     "text": [
      "min_length is: 312      \n",
      "length of data is: 360\n",
      "                         bid      ask\n",
      "2022-03-28 02:40:02  1.09542  1.09556\n",
      "2022-03-28 02:40:03  1.09541  1.09555\n",
      "2022-03-28 02:40:04  1.09541  1.09555\n",
      "2022-03-28 02:40:05  1.09541  1.09555\n",
      "2022-03-28 02:40:06  1.09541  1.09555\n",
      "Signal is: 1\n",
      "*** NO TRADE PLACED ***\n",
      "*** END OF CYCLE ***\n",
      "\n",
      " False False\n"
     ]
    },
    {
     "name": "stderr",
     "output_type": "stream",
     "text": [
      "C:\\Users\\Eddie\\anaconda3\\envs\\securities-analysis\\lib\\site-packages\\sklearn\\base.py:450: UserWarning: X does not have valid feature names, but AdaBoostClassifier was fitted with feature names\n",
      "  warnings.warn(\n"
     ]
    },
    {
     "name": "stdout",
     "output_type": "stream",
     "text": [
      "min_length is: 313      \n",
      "length of data is: 361\n",
      "                         bid      ask\n",
      "2022-03-28 02:40:03  1.09541  1.09555\n",
      "2022-03-28 02:40:04  1.09541  1.09555\n",
      "2022-03-28 02:40:05  1.09541  1.09555\n",
      "2022-03-28 02:40:06  1.09541  1.09555\n",
      "2022-03-28 02:40:07  1.09542  1.09557\n",
      "Signal is: 1\n",
      "*** NO TRADE PLACED ***\n",
      "*** END OF CYCLE ***\n",
      "\n",
      " False False\n"
     ]
    },
    {
     "name": "stderr",
     "output_type": "stream",
     "text": [
      "C:\\Users\\Eddie\\anaconda3\\envs\\securities-analysis\\lib\\site-packages\\sklearn\\base.py:450: UserWarning: X does not have valid feature names, but AdaBoostClassifier was fitted with feature names\n",
      "  warnings.warn(\n"
     ]
    },
    {
     "name": "stdout",
     "output_type": "stream",
     "text": [
      "min_length is: 314      \n",
      "length of data is: 361\n",
      "                         bid      ask\n",
      "2022-03-28 02:40:03  1.09541  1.09555\n",
      "2022-03-28 02:40:04  1.09541  1.09555\n",
      "2022-03-28 02:40:05  1.09541  1.09555\n",
      "2022-03-28 02:40:06  1.09541  1.09555\n",
      "2022-03-28 02:40:07  1.09542  1.09557\n",
      "Signal is: 1\n",
      "*** NO TRADE PLACED ***\n",
      "*** END OF CYCLE ***\n",
      "\n",
      " False False\n"
     ]
    },
    {
     "name": "stderr",
     "output_type": "stream",
     "text": [
      "C:\\Users\\Eddie\\anaconda3\\envs\\securities-analysis\\lib\\site-packages\\sklearn\\base.py:450: UserWarning: X does not have valid feature names, but AdaBoostClassifier was fitted with feature names\n",
      "  warnings.warn(\n"
     ]
    },
    {
     "name": "stdout",
     "output_type": "stream",
     "text": [
      "min_length is: 315      \n",
      "length of data is: 362\n",
      "                         bid      ask\n",
      "2022-03-28 02:40:04  1.09541  1.09555\n",
      "2022-03-28 02:40:05  1.09541  1.09555\n",
      "2022-03-28 02:40:06  1.09541  1.09555\n",
      "2022-03-28 02:40:07  1.09542  1.09557\n",
      "2022-03-28 02:40:08  1.09541  1.09557\n",
      "Signal is: 1\n",
      "*** NO TRADE PLACED ***\n",
      "*** END OF CYCLE ***\n",
      "\n",
      " False False\n"
     ]
    },
    {
     "name": "stderr",
     "output_type": "stream",
     "text": [
      "C:\\Users\\Eddie\\anaconda3\\envs\\securities-analysis\\lib\\site-packages\\sklearn\\base.py:450: UserWarning: X does not have valid feature names, but AdaBoostClassifier was fitted with feature names\n",
      "  warnings.warn(\n"
     ]
    },
    {
     "name": "stdout",
     "output_type": "stream",
     "text": [
      "min_length is: 316      \n",
      "length of data is: 363\n",
      "                         bid      ask\n",
      "2022-03-28 02:40:05  1.09541  1.09555\n",
      "2022-03-28 02:40:06  1.09541  1.09555\n",
      "2022-03-28 02:40:07  1.09542  1.09557\n",
      "2022-03-28 02:40:08  1.09541  1.09557\n",
      "2022-03-28 02:40:09  1.09540  1.09557\n",
      "Signal is: 1\n",
      "*** NO TRADE PLACED ***\n",
      "*** END OF CYCLE ***\n",
      "\n",
      " False False\n"
     ]
    },
    {
     "name": "stderr",
     "output_type": "stream",
     "text": [
      "C:\\Users\\Eddie\\anaconda3\\envs\\securities-analysis\\lib\\site-packages\\sklearn\\base.py:450: UserWarning: X does not have valid feature names, but AdaBoostClassifier was fitted with feature names\n",
      "  warnings.warn(\n"
     ]
    },
    {
     "name": "stdout",
     "output_type": "stream",
     "text": [
      "min_length is: 317      \n",
      "length of data is: 363\n",
      "                         bid      ask\n",
      "2022-03-28 02:40:05  1.09541  1.09555\n",
      "2022-03-28 02:40:06  1.09541  1.09555\n",
      "2022-03-28 02:40:07  1.09542  1.09557\n",
      "2022-03-28 02:40:08  1.09541  1.09557\n",
      "2022-03-28 02:40:09  1.09540  1.09557\n",
      "Signal is: 1\n",
      "*** NO TRADE PLACED ***\n",
      "*** END OF CYCLE ***\n",
      "\n",
      " False False\n"
     ]
    },
    {
     "name": "stderr",
     "output_type": "stream",
     "text": [
      "C:\\Users\\Eddie\\anaconda3\\envs\\securities-analysis\\lib\\site-packages\\sklearn\\base.py:450: UserWarning: X does not have valid feature names, but AdaBoostClassifier was fitted with feature names\n",
      "  warnings.warn(\n"
     ]
    },
    {
     "name": "stdout",
     "output_type": "stream",
     "text": [
      "min_length is: 318      \n",
      "length of data is: 363\n",
      "                         bid      ask\n",
      "2022-03-28 02:40:05  1.09541  1.09555\n",
      "2022-03-28 02:40:06  1.09541  1.09555\n",
      "2022-03-28 02:40:07  1.09542  1.09557\n",
      "2022-03-28 02:40:08  1.09541  1.09557\n",
      "2022-03-28 02:40:09  1.09540  1.09557\n",
      "Signal is: 1\n",
      "*** NO TRADE PLACED ***\n",
      "*** END OF CYCLE ***\n",
      "\n",
      " False False\n"
     ]
    },
    {
     "name": "stderr",
     "output_type": "stream",
     "text": [
      "C:\\Users\\Eddie\\anaconda3\\envs\\securities-analysis\\lib\\site-packages\\sklearn\\base.py:450: UserWarning: X does not have valid feature names, but AdaBoostClassifier was fitted with feature names\n",
      "  warnings.warn(\n"
     ]
    },
    {
     "name": "stdout",
     "output_type": "stream",
     "text": [
      "min_length is: 319      \n",
      "length of data is: 364\n",
      "                         bid      ask\n",
      "2022-03-28 02:40:06  1.09541  1.09555\n",
      "2022-03-28 02:40:07  1.09542  1.09557\n",
      "2022-03-28 02:40:08  1.09541  1.09557\n",
      "2022-03-28 02:40:09  1.09540  1.09557\n",
      "2022-03-28 02:40:10  1.09543  1.09559\n",
      "Signal is: 1\n",
      "*** NO TRADE PLACED ***\n",
      "*** END OF CYCLE ***\n",
      "\n",
      " False False\n"
     ]
    },
    {
     "name": "stderr",
     "output_type": "stream",
     "text": [
      "C:\\Users\\Eddie\\anaconda3\\envs\\securities-analysis\\lib\\site-packages\\sklearn\\base.py:450: UserWarning: X does not have valid feature names, but AdaBoostClassifier was fitted with feature names\n",
      "  warnings.warn(\n"
     ]
    },
    {
     "name": "stdout",
     "output_type": "stream",
     "text": [
      "min_length is: 320      \n",
      "length of data is: 364\n",
      "                         bid      ask\n",
      "2022-03-28 02:40:06  1.09541  1.09555\n",
      "2022-03-28 02:40:07  1.09542  1.09557\n",
      "2022-03-28 02:40:08  1.09541  1.09557\n",
      "2022-03-28 02:40:09  1.09540  1.09557\n",
      "2022-03-28 02:40:10  1.09543  1.09559\n",
      "Signal is: 1\n",
      "*** NO TRADE PLACED ***\n",
      "*** END OF CYCLE ***\n",
      "\n",
      " False False\n"
     ]
    },
    {
     "name": "stderr",
     "output_type": "stream",
     "text": [
      "C:\\Users\\Eddie\\anaconda3\\envs\\securities-analysis\\lib\\site-packages\\sklearn\\base.py:450: UserWarning: X does not have valid feature names, but AdaBoostClassifier was fitted with feature names\n",
      "  warnings.warn(\n"
     ]
    },
    {
     "name": "stdout",
     "output_type": "stream",
     "text": [
      "min_length is: 321      \n",
      "length of data is: 364\n",
      "                         bid      ask\n",
      "2022-03-28 02:40:06  1.09541  1.09555\n",
      "2022-03-28 02:40:07  1.09542  1.09557\n",
      "2022-03-28 02:40:08  1.09541  1.09557\n",
      "2022-03-28 02:40:09  1.09540  1.09557\n",
      "2022-03-28 02:40:10  1.09543  1.09559\n",
      "Signal is: 1\n",
      "*** NO TRADE PLACED ***\n",
      "*** END OF CYCLE ***\n",
      "\n",
      " False False\n"
     ]
    },
    {
     "name": "stderr",
     "output_type": "stream",
     "text": [
      "C:\\Users\\Eddie\\anaconda3\\envs\\securities-analysis\\lib\\site-packages\\sklearn\\base.py:450: UserWarning: X does not have valid feature names, but AdaBoostClassifier was fitted with feature names\n",
      "  warnings.warn(\n"
     ]
    },
    {
     "name": "stdout",
     "output_type": "stream",
     "text": [
      "min_length is: 322      \n",
      "length of data is: 365\n",
      "                         bid      ask\n",
      "2022-03-28 02:40:07  1.09542  1.09557\n",
      "2022-03-28 02:40:08  1.09541  1.09557\n",
      "2022-03-28 02:40:09  1.09540  1.09557\n",
      "2022-03-28 02:40:10  1.09543  1.09559\n",
      "2022-03-28 02:40:11  1.09543  1.09559\n",
      "Signal is: 1\n",
      "*** NO TRADE PLACED ***\n",
      "*** END OF CYCLE ***\n",
      "\n",
      " False False\n"
     ]
    },
    {
     "name": "stderr",
     "output_type": "stream",
     "text": [
      "C:\\Users\\Eddie\\anaconda3\\envs\\securities-analysis\\lib\\site-packages\\sklearn\\base.py:450: UserWarning: X does not have valid feature names, but AdaBoostClassifier was fitted with feature names\n",
      "  warnings.warn(\n"
     ]
    },
    {
     "name": "stdout",
     "output_type": "stream",
     "text": [
      "min_length is: 323      \n",
      "length of data is: 365\n",
      "                         bid      ask\n",
      "2022-03-28 02:40:07  1.09542  1.09557\n",
      "2022-03-28 02:40:08  1.09541  1.09557\n",
      "2022-03-28 02:40:09  1.09540  1.09557\n",
      "2022-03-28 02:40:10  1.09543  1.09559\n",
      "2022-03-28 02:40:11  1.09543  1.09559\n",
      "Signal is: 1\n",
      "*** NO TRADE PLACED ***\n",
      "*** END OF CYCLE ***\n",
      "\n",
      " False False\n"
     ]
    },
    {
     "name": "stderr",
     "output_type": "stream",
     "text": [
      "C:\\Users\\Eddie\\anaconda3\\envs\\securities-analysis\\lib\\site-packages\\sklearn\\base.py:450: UserWarning: X does not have valid feature names, but AdaBoostClassifier was fitted with feature names\n",
      "  warnings.warn(\n"
     ]
    },
    {
     "name": "stdout",
     "output_type": "stream",
     "text": [
      "min_length is: 324      \n",
      "length of data is: 366\n",
      "                         bid      ask\n",
      "2022-03-28 02:40:08  1.09541  1.09557\n",
      "2022-03-28 02:40:09  1.09540  1.09557\n",
      "2022-03-28 02:40:10  1.09543  1.09559\n",
      "2022-03-28 02:40:11  1.09543  1.09559\n",
      "2022-03-28 02:40:12  1.09549  1.09563\n",
      "Signal is: 1\n",
      "*** NO TRADE PLACED ***\n",
      "*** END OF CYCLE ***\n",
      "\n",
      " False False\n"
     ]
    },
    {
     "name": "stderr",
     "output_type": "stream",
     "text": [
      "C:\\Users\\Eddie\\anaconda3\\envs\\securities-analysis\\lib\\site-packages\\sklearn\\base.py:450: UserWarning: X does not have valid feature names, but AdaBoostClassifier was fitted with feature names\n",
      "  warnings.warn(\n"
     ]
    },
    {
     "name": "stdout",
     "output_type": "stream",
     "text": [
      "min_length is: 325      \n",
      "length of data is: 366\n",
      "                         bid      ask\n",
      "2022-03-28 02:40:08  1.09541  1.09557\n",
      "2022-03-28 02:40:09  1.09540  1.09557\n",
      "2022-03-28 02:40:10  1.09543  1.09559\n",
      "2022-03-28 02:40:11  1.09543  1.09559\n",
      "2022-03-28 02:40:12  1.09549  1.09563\n",
      "Signal is: 1\n",
      "*** NO TRADE PLACED ***\n",
      "*** END OF CYCLE ***\n",
      "\n",
      " False False\n"
     ]
    },
    {
     "name": "stderr",
     "output_type": "stream",
     "text": [
      "C:\\Users\\Eddie\\anaconda3\\envs\\securities-analysis\\lib\\site-packages\\sklearn\\base.py:450: UserWarning: X does not have valid feature names, but AdaBoostClassifier was fitted with feature names\n",
      "  warnings.warn(\n"
     ]
    },
    {
     "name": "stdout",
     "output_type": "stream",
     "text": [
      "min_length is: 326      \n",
      "length of data is: 366\n",
      "                         bid      ask\n",
      "2022-03-28 02:40:08  1.09541  1.09557\n",
      "2022-03-28 02:40:09  1.09540  1.09557\n",
      "2022-03-28 02:40:10  1.09543  1.09559\n",
      "2022-03-28 02:40:11  1.09543  1.09559\n",
      "2022-03-28 02:40:12  1.09549  1.09563\n",
      "Signal is: 1\n",
      "*** NO TRADE PLACED ***\n",
      "*** END OF CYCLE ***\n",
      "\n",
      " False False\n"
     ]
    },
    {
     "name": "stderr",
     "output_type": "stream",
     "text": [
      "C:\\Users\\Eddie\\anaconda3\\envs\\securities-analysis\\lib\\site-packages\\sklearn\\base.py:450: UserWarning: X does not have valid feature names, but AdaBoostClassifier was fitted with feature names\n",
      "  warnings.warn(\n"
     ]
    },
    {
     "name": "stdout",
     "output_type": "stream",
     "text": [
      "min_length is: 327      \n",
      "length of data is: 367\n",
      "                         bid      ask\n",
      "2022-03-28 02:40:09  1.09540  1.09557\n",
      "2022-03-28 02:40:10  1.09543  1.09559\n",
      "2022-03-28 02:40:11  1.09543  1.09559\n",
      "2022-03-28 02:40:12  1.09549  1.09563\n",
      "2022-03-28 02:40:13  1.09550  1.09563\n",
      "Signal is: 1\n",
      "*** NO TRADE PLACED ***\n",
      "*** END OF CYCLE ***\n",
      "\n",
      " False False\n"
     ]
    },
    {
     "name": "stderr",
     "output_type": "stream",
     "text": [
      "C:\\Users\\Eddie\\anaconda3\\envs\\securities-analysis\\lib\\site-packages\\sklearn\\base.py:450: UserWarning: X does not have valid feature names, but AdaBoostClassifier was fitted with feature names\n",
      "  warnings.warn(\n"
     ]
    },
    {
     "name": "stdout",
     "output_type": "stream",
     "text": [
      "min_length is: 328      \n",
      "length of data is: 367\n",
      "                         bid      ask\n",
      "2022-03-28 02:40:09  1.09540  1.09557\n",
      "2022-03-28 02:40:10  1.09543  1.09559\n",
      "2022-03-28 02:40:11  1.09543  1.09559\n",
      "2022-03-28 02:40:12  1.09549  1.09563\n",
      "2022-03-28 02:40:13  1.09550  1.09563\n",
      "Signal is: 1\n",
      "*** NO TRADE PLACED ***\n",
      "*** END OF CYCLE ***\n",
      "\n",
      " False False\n"
     ]
    },
    {
     "name": "stderr",
     "output_type": "stream",
     "text": [
      "C:\\Users\\Eddie\\anaconda3\\envs\\securities-analysis\\lib\\site-packages\\sklearn\\base.py:450: UserWarning: X does not have valid feature names, but AdaBoostClassifier was fitted with feature names\n",
      "  warnings.warn(\n"
     ]
    },
    {
     "name": "stdout",
     "output_type": "stream",
     "text": [
      "min_length is: 329      \n",
      "length of data is: 368\n",
      "                         bid      ask\n",
      "2022-03-28 02:40:10  1.09543  1.09559\n",
      "2022-03-28 02:40:11  1.09543  1.09559\n",
      "2022-03-28 02:40:12  1.09549  1.09563\n",
      "2022-03-28 02:40:13  1.09550  1.09563\n",
      "2022-03-28 02:40:14  1.09549  1.09564\n",
      "Signal is: 1\n",
      "*** NO TRADE PLACED ***\n",
      "*** END OF CYCLE ***\n",
      "\n",
      " False False\n"
     ]
    },
    {
     "name": "stderr",
     "output_type": "stream",
     "text": [
      "C:\\Users\\Eddie\\anaconda3\\envs\\securities-analysis\\lib\\site-packages\\sklearn\\base.py:450: UserWarning: X does not have valid feature names, but AdaBoostClassifier was fitted with feature names\n",
      "  warnings.warn(\n"
     ]
    },
    {
     "name": "stdout",
     "output_type": "stream",
     "text": [
      "min_length is: 330      \n",
      "length of data is: 369\n",
      "                         bid      ask\n",
      "2022-03-28 02:40:11  1.09543  1.09559\n",
      "2022-03-28 02:40:12  1.09549  1.09563\n",
      "2022-03-28 02:40:13  1.09550  1.09563\n",
      "2022-03-28 02:40:14  1.09549  1.09564\n",
      "2022-03-28 02:40:15  1.09549  1.09563\n",
      "Signal is: 1\n",
      "*** NO TRADE PLACED ***\n",
      "*** END OF CYCLE ***\n",
      "\n",
      " False False\n"
     ]
    },
    {
     "name": "stderr",
     "output_type": "stream",
     "text": [
      "C:\\Users\\Eddie\\anaconda3\\envs\\securities-analysis\\lib\\site-packages\\sklearn\\base.py:450: UserWarning: X does not have valid feature names, but AdaBoostClassifier was fitted with feature names\n",
      "  warnings.warn(\n"
     ]
    },
    {
     "name": "stdout",
     "output_type": "stream",
     "text": [
      "min_length is: 331      \n",
      "length of data is: 369\n",
      "                         bid      ask\n",
      "2022-03-28 02:40:11  1.09543  1.09559\n",
      "2022-03-28 02:40:12  1.09549  1.09563\n",
      "2022-03-28 02:40:13  1.09550  1.09563\n",
      "2022-03-28 02:40:14  1.09549  1.09564\n",
      "2022-03-28 02:40:15  1.09549  1.09563\n",
      "Signal is: 1\n",
      "*** NO TRADE PLACED ***\n",
      "*** END OF CYCLE ***\n",
      "\n",
      " False False\n"
     ]
    },
    {
     "name": "stderr",
     "output_type": "stream",
     "text": [
      "C:\\Users\\Eddie\\anaconda3\\envs\\securities-analysis\\lib\\site-packages\\sklearn\\base.py:450: UserWarning: X does not have valid feature names, but AdaBoostClassifier was fitted with feature names\n",
      "  warnings.warn(\n"
     ]
    },
    {
     "name": "stdout",
     "output_type": "stream",
     "text": [
      "min_length is: 332      \n",
      "length of data is: 370\n",
      "                         bid      ask\n",
      "2022-03-28 02:40:12  1.09549  1.09563\n",
      "2022-03-28 02:40:13  1.09550  1.09563\n",
      "2022-03-28 02:40:14  1.09549  1.09564\n",
      "2022-03-28 02:40:15  1.09549  1.09563\n",
      "2022-03-28 02:40:16  1.09547  1.09562\n",
      "Signal is: 1\n",
      "*** NO TRADE PLACED ***\n",
      "*** END OF CYCLE ***\n",
      "\n",
      " False False\n"
     ]
    },
    {
     "name": "stderr",
     "output_type": "stream",
     "text": [
      "C:\\Users\\Eddie\\anaconda3\\envs\\securities-analysis\\lib\\site-packages\\sklearn\\base.py:450: UserWarning: X does not have valid feature names, but AdaBoostClassifier was fitted with feature names\n",
      "  warnings.warn(\n"
     ]
    },
    {
     "name": "stdout",
     "output_type": "stream",
     "text": [
      "min_length is: 333      \n",
      "length of data is: 370\n",
      "                         bid      ask\n",
      "2022-03-28 02:40:12  1.09549  1.09563\n",
      "2022-03-28 02:40:13  1.09550  1.09563\n",
      "2022-03-28 02:40:14  1.09549  1.09564\n",
      "2022-03-28 02:40:15  1.09549  1.09563\n",
      "2022-03-28 02:40:16  1.09547  1.09562\n",
      "Signal is: 1\n",
      "*** NO TRADE PLACED ***\n",
      "*** END OF CYCLE ***\n",
      "\n",
      " False False\n"
     ]
    },
    {
     "name": "stderr",
     "output_type": "stream",
     "text": [
      "C:\\Users\\Eddie\\anaconda3\\envs\\securities-analysis\\lib\\site-packages\\sklearn\\base.py:450: UserWarning: X does not have valid feature names, but AdaBoostClassifier was fitted with feature names\n",
      "  warnings.warn(\n"
     ]
    },
    {
     "name": "stdout",
     "output_type": "stream",
     "text": [
      "min_length is: 334      \n",
      "length of data is: 370\n",
      "                         bid      ask\n",
      "2022-03-28 02:40:12  1.09549  1.09563\n",
      "2022-03-28 02:40:13  1.09550  1.09563\n",
      "2022-03-28 02:40:14  1.09549  1.09564\n",
      "2022-03-28 02:40:15  1.09549  1.09563\n",
      "2022-03-28 02:40:16  1.09547  1.09562\n",
      "Signal is: 1\n",
      "*** NO TRADE PLACED ***\n",
      "*** END OF CYCLE ***\n",
      "\n",
      " False False\n"
     ]
    },
    {
     "name": "stderr",
     "output_type": "stream",
     "text": [
      "C:\\Users\\Eddie\\anaconda3\\envs\\securities-analysis\\lib\\site-packages\\sklearn\\base.py:450: UserWarning: X does not have valid feature names, but AdaBoostClassifier was fitted with feature names\n",
      "  warnings.warn(\n"
     ]
    },
    {
     "name": "stdout",
     "output_type": "stream",
     "text": [
      "min_length is: 335      \n",
      "length of data is: 371\n",
      "                         bid      ask\n",
      "2022-03-28 02:40:13  1.09550  1.09563\n",
      "2022-03-28 02:40:14  1.09549  1.09564\n",
      "2022-03-28 02:40:15  1.09549  1.09563\n",
      "2022-03-28 02:40:16  1.09547  1.09562\n",
      "2022-03-28 02:40:17  1.09547  1.09561\n",
      "Signal is: 1\n",
      "*** NO TRADE PLACED ***\n",
      "*** END OF CYCLE ***\n",
      "\n",
      " False False\n"
     ]
    },
    {
     "name": "stderr",
     "output_type": "stream",
     "text": [
      "C:\\Users\\Eddie\\anaconda3\\envs\\securities-analysis\\lib\\site-packages\\sklearn\\base.py:450: UserWarning: X does not have valid feature names, but AdaBoostClassifier was fitted with feature names\n",
      "  warnings.warn(\n"
     ]
    },
    {
     "name": "stdout",
     "output_type": "stream",
     "text": [
      "min_length is: 336      \n",
      "length of data is: 371\n",
      "                         bid      ask\n",
      "2022-03-28 02:40:13  1.09550  1.09563\n",
      "2022-03-28 02:40:14  1.09549  1.09564\n",
      "2022-03-28 02:40:15  1.09549  1.09563\n",
      "2022-03-28 02:40:16  1.09547  1.09562\n",
      "2022-03-28 02:40:17  1.09547  1.09561\n",
      "Signal is: 1\n",
      "*** NO TRADE PLACED ***\n",
      "*** END OF CYCLE ***\n",
      "\n",
      " False False\n"
     ]
    },
    {
     "name": "stderr",
     "output_type": "stream",
     "text": [
      "C:\\Users\\Eddie\\anaconda3\\envs\\securities-analysis\\lib\\site-packages\\sklearn\\base.py:450: UserWarning: X does not have valid feature names, but AdaBoostClassifier was fitted with feature names\n",
      "  warnings.warn(\n"
     ]
    },
    {
     "name": "stdout",
     "output_type": "stream",
     "text": [
      "min_length is: 337      \n",
      "length of data is: 371\n",
      "                         bid      ask\n",
      "2022-03-28 02:40:13  1.09550  1.09563\n",
      "2022-03-28 02:40:14  1.09549  1.09564\n",
      "2022-03-28 02:40:15  1.09549  1.09563\n",
      "2022-03-28 02:40:16  1.09547  1.09562\n",
      "2022-03-28 02:40:17  1.09547  1.09561\n",
      "Signal is: 1\n",
      "*** NO TRADE PLACED ***\n",
      "*** END OF CYCLE ***\n",
      "\n",
      " False False\n"
     ]
    },
    {
     "name": "stderr",
     "output_type": "stream",
     "text": [
      "C:\\Users\\Eddie\\anaconda3\\envs\\securities-analysis\\lib\\site-packages\\sklearn\\base.py:450: UserWarning: X does not have valid feature names, but AdaBoostClassifier was fitted with feature names\n",
      "  warnings.warn(\n"
     ]
    },
    {
     "name": "stdout",
     "output_type": "stream",
     "text": [
      "min_length is: 338      \n",
      "length of data is: 371\n",
      "                         bid      ask\n",
      "2022-03-28 02:40:13  1.09550  1.09563\n",
      "2022-03-28 02:40:14  1.09549  1.09564\n",
      "2022-03-28 02:40:15  1.09549  1.09563\n",
      "2022-03-28 02:40:16  1.09547  1.09562\n",
      "2022-03-28 02:40:17  1.09547  1.09561\n",
      "Signal is: 1\n",
      "*** NO TRADE PLACED ***\n",
      "*** END OF CYCLE ***\n",
      "\n",
      " False False\n"
     ]
    },
    {
     "name": "stderr",
     "output_type": "stream",
     "text": [
      "C:\\Users\\Eddie\\anaconda3\\envs\\securities-analysis\\lib\\site-packages\\sklearn\\base.py:450: UserWarning: X does not have valid feature names, but AdaBoostClassifier was fitted with feature names\n",
      "  warnings.warn(\n"
     ]
    },
    {
     "name": "stdout",
     "output_type": "stream",
     "text": [
      "min_length is: 339      \n",
      "length of data is: 374\n",
      "                         bid      ask\n",
      "2022-03-28 02:40:16  1.09547  1.09562\n",
      "2022-03-28 02:40:17  1.09547  1.09561\n",
      "2022-03-28 02:40:18  1.09546  1.09561\n",
      "2022-03-28 02:40:19  1.09546  1.09561\n",
      "2022-03-28 02:40:20  1.09546  1.09561\n",
      "Signal is: 1\n",
      "*** NO TRADE PLACED ***\n",
      "*** END OF CYCLE ***\n",
      "\n",
      " False False\n"
     ]
    },
    {
     "name": "stderr",
     "output_type": "stream",
     "text": [
      "C:\\Users\\Eddie\\anaconda3\\envs\\securities-analysis\\lib\\site-packages\\sklearn\\base.py:450: UserWarning: X does not have valid feature names, but AdaBoostClassifier was fitted with feature names\n",
      "  warnings.warn(\n"
     ]
    },
    {
     "name": "stdout",
     "output_type": "stream",
     "text": [
      "min_length is: 340      \n",
      "length of data is: 374\n",
      "                         bid      ask\n",
      "2022-03-28 02:40:16  1.09547  1.09562\n",
      "2022-03-28 02:40:17  1.09547  1.09561\n",
      "2022-03-28 02:40:18  1.09546  1.09561\n",
      "2022-03-28 02:40:19  1.09546  1.09561\n",
      "2022-03-28 02:40:20  1.09546  1.09561\n",
      "Signal is: 1\n",
      "*** NO TRADE PLACED ***\n",
      "*** END OF CYCLE ***\n",
      "\n",
      " False False\n"
     ]
    },
    {
     "name": "stderr",
     "output_type": "stream",
     "text": [
      "C:\\Users\\Eddie\\anaconda3\\envs\\securities-analysis\\lib\\site-packages\\sklearn\\base.py:450: UserWarning: X does not have valid feature names, but AdaBoostClassifier was fitted with feature names\n",
      "  warnings.warn(\n"
     ]
    },
    {
     "name": "stdout",
     "output_type": "stream",
     "text": [
      "min_length is: 341      \n",
      "length of data is: 376\n",
      "                         bid      ask\n",
      "2022-03-28 02:40:18  1.09546  1.09561\n",
      "2022-03-28 02:40:19  1.09546  1.09561\n",
      "2022-03-28 02:40:20  1.09546  1.09561\n",
      "2022-03-28 02:40:21  1.09548  1.09564\n",
      "2022-03-28 02:40:22  1.09548  1.09564\n",
      "Signal is: 1\n",
      "*** NO TRADE PLACED ***\n",
      "*** END OF CYCLE ***\n",
      "\n",
      " False False\n"
     ]
    },
    {
     "name": "stderr",
     "output_type": "stream",
     "text": [
      "C:\\Users\\Eddie\\anaconda3\\envs\\securities-analysis\\lib\\site-packages\\sklearn\\base.py:450: UserWarning: X does not have valid feature names, but AdaBoostClassifier was fitted with feature names\n",
      "  warnings.warn(\n"
     ]
    },
    {
     "name": "stdout",
     "output_type": "stream",
     "text": [
      "min_length is: 342      \n",
      "length of data is: 378\n",
      "                         bid      ask\n",
      "2022-03-28 02:40:20  1.09546  1.09561\n",
      "2022-03-28 02:40:21  1.09548  1.09564\n",
      "2022-03-28 02:40:22  1.09548  1.09564\n",
      "2022-03-28 02:40:23  1.09550  1.09564\n",
      "2022-03-28 02:40:24  1.09550  1.09564\n",
      "Signal is: 1\n",
      "*** NO TRADE PLACED ***\n",
      "*** END OF CYCLE ***\n",
      "\n",
      " False False\n"
     ]
    },
    {
     "name": "stderr",
     "output_type": "stream",
     "text": [
      "C:\\Users\\Eddie\\anaconda3\\envs\\securities-analysis\\lib\\site-packages\\sklearn\\base.py:450: UserWarning: X does not have valid feature names, but AdaBoostClassifier was fitted with feature names\n",
      "  warnings.warn(\n"
     ]
    },
    {
     "name": "stdout",
     "output_type": "stream",
     "text": [
      "min_length is: 343      \n",
      "length of data is: 379\n",
      "                         bid      ask\n",
      "2022-03-28 02:40:21  1.09548  1.09564\n",
      "2022-03-28 02:40:22  1.09548  1.09564\n",
      "2022-03-28 02:40:23  1.09550  1.09564\n",
      "2022-03-28 02:40:24  1.09550  1.09564\n",
      "2022-03-28 02:40:25  1.09550  1.09565\n",
      "Signal is: 1\n",
      "*** NO TRADE PLACED ***\n",
      "*** END OF CYCLE ***\n",
      "\n",
      " False False\n"
     ]
    },
    {
     "name": "stderr",
     "output_type": "stream",
     "text": [
      "C:\\Users\\Eddie\\anaconda3\\envs\\securities-analysis\\lib\\site-packages\\sklearn\\base.py:450: UserWarning: X does not have valid feature names, but AdaBoostClassifier was fitted with feature names\n",
      "  warnings.warn(\n"
     ]
    },
    {
     "name": "stdout",
     "output_type": "stream",
     "text": [
      "min_length is: 344      \n",
      "length of data is: 379\n",
      "                         bid      ask\n",
      "2022-03-28 02:40:21  1.09548  1.09564\n",
      "2022-03-28 02:40:22  1.09548  1.09564\n",
      "2022-03-28 02:40:23  1.09550  1.09564\n",
      "2022-03-28 02:40:24  1.09550  1.09564\n",
      "2022-03-28 02:40:25  1.09550  1.09565\n",
      "Signal is: 1\n",
      "*** NO TRADE PLACED ***\n",
      "*** END OF CYCLE ***\n",
      "\n",
      " False False\n"
     ]
    },
    {
     "name": "stderr",
     "output_type": "stream",
     "text": [
      "C:\\Users\\Eddie\\anaconda3\\envs\\securities-analysis\\lib\\site-packages\\sklearn\\base.py:450: UserWarning: X does not have valid feature names, but AdaBoostClassifier was fitted with feature names\n",
      "  warnings.warn(\n"
     ]
    },
    {
     "name": "stdout",
     "output_type": "stream",
     "text": [
      "min_length is: 345      \n",
      "length of data is: 379\n",
      "                         bid      ask\n",
      "2022-03-28 02:40:21  1.09548  1.09564\n",
      "2022-03-28 02:40:22  1.09548  1.09564\n",
      "2022-03-28 02:40:23  1.09550  1.09564\n",
      "2022-03-28 02:40:24  1.09550  1.09564\n",
      "2022-03-28 02:40:25  1.09550  1.09565\n",
      "Signal is: 1\n",
      "*** NO TRADE PLACED ***\n",
      "*** END OF CYCLE ***\n",
      "\n",
      " False False\n"
     ]
    },
    {
     "name": "stderr",
     "output_type": "stream",
     "text": [
      "C:\\Users\\Eddie\\anaconda3\\envs\\securities-analysis\\lib\\site-packages\\sklearn\\base.py:450: UserWarning: X does not have valid feature names, but AdaBoostClassifier was fitted with feature names\n",
      "  warnings.warn(\n"
     ]
    },
    {
     "name": "stdout",
     "output_type": "stream",
     "text": [
      "min_length is: 346      \n",
      "length of data is: 380\n",
      "                         bid      ask\n",
      "2022-03-28 02:40:22  1.09548  1.09564\n",
      "2022-03-28 02:40:23  1.09550  1.09564\n",
      "2022-03-28 02:40:24  1.09550  1.09564\n",
      "2022-03-28 02:40:25  1.09550  1.09565\n",
      "2022-03-28 02:40:26  1.09549  1.09563\n",
      "Signal is: 1\n",
      "*** NO TRADE PLACED ***\n",
      "*** END OF CYCLE ***\n",
      "\n",
      " False False\n"
     ]
    },
    {
     "name": "stderr",
     "output_type": "stream",
     "text": [
      "C:\\Users\\Eddie\\anaconda3\\envs\\securities-analysis\\lib\\site-packages\\sklearn\\base.py:450: UserWarning: X does not have valid feature names, but AdaBoostClassifier was fitted with feature names\n",
      "  warnings.warn(\n"
     ]
    },
    {
     "name": "stdout",
     "output_type": "stream",
     "text": [
      "min_length is: 347      \n",
      "length of data is: 381\n",
      "                         bid      ask\n",
      "2022-03-28 02:40:23  1.09550  1.09564\n",
      "2022-03-28 02:40:24  1.09550  1.09564\n",
      "2022-03-28 02:40:25  1.09550  1.09565\n",
      "2022-03-28 02:40:26  1.09549  1.09563\n",
      "2022-03-28 02:40:27  1.09548  1.09564\n",
      "Signal is: 1\n",
      "*** NO TRADE PLACED ***\n",
      "*** END OF CYCLE ***\n",
      "\n",
      " False False\n"
     ]
    },
    {
     "name": "stderr",
     "output_type": "stream",
     "text": [
      "C:\\Users\\Eddie\\anaconda3\\envs\\securities-analysis\\lib\\site-packages\\sklearn\\base.py:450: UserWarning: X does not have valid feature names, but AdaBoostClassifier was fitted with feature names\n",
      "  warnings.warn(\n"
     ]
    },
    {
     "name": "stdout",
     "output_type": "stream",
     "text": [
      "min_length is: 348      \n",
      "length of data is: 381\n",
      "                         bid      ask\n",
      "2022-03-28 02:40:23  1.09550  1.09564\n",
      "2022-03-28 02:40:24  1.09550  1.09564\n",
      "2022-03-28 02:40:25  1.09550  1.09565\n",
      "2022-03-28 02:40:26  1.09549  1.09563\n",
      "2022-03-28 02:40:27  1.09548  1.09564\n",
      "Signal is: 1\n",
      "*** NO TRADE PLACED ***\n",
      "*** END OF CYCLE ***\n",
      "\n",
      " False False\n"
     ]
    },
    {
     "name": "stderr",
     "output_type": "stream",
     "text": [
      "C:\\Users\\Eddie\\anaconda3\\envs\\securities-analysis\\lib\\site-packages\\sklearn\\base.py:450: UserWarning: X does not have valid feature names, but AdaBoostClassifier was fitted with feature names\n",
      "  warnings.warn(\n"
     ]
    },
    {
     "name": "stdout",
     "output_type": "stream",
     "text": [
      "min_length is: 349      \n",
      "length of data is: 382\n",
      "                         bid      ask\n",
      "2022-03-28 02:40:24  1.09550  1.09564\n",
      "2022-03-28 02:40:25  1.09550  1.09565\n",
      "2022-03-28 02:40:26  1.09549  1.09563\n",
      "2022-03-28 02:40:27  1.09548  1.09564\n",
      "2022-03-28 02:40:28  1.09549  1.09564\n",
      "Signal is: 1\n",
      "*** NO TRADE PLACED ***\n",
      "*** END OF CYCLE ***\n",
      "\n",
      " False False\n"
     ]
    },
    {
     "name": "stderr",
     "output_type": "stream",
     "text": [
      "C:\\Users\\Eddie\\anaconda3\\envs\\securities-analysis\\lib\\site-packages\\sklearn\\base.py:450: UserWarning: X does not have valid feature names, but AdaBoostClassifier was fitted with feature names\n",
      "  warnings.warn(\n"
     ]
    },
    {
     "name": "stdout",
     "output_type": "stream",
     "text": [
      "min_length is: 350      \n",
      "length of data is: 386\n",
      "                         bid      ask\n",
      "2022-03-28 02:40:28  1.09549  1.09564\n",
      "2022-03-28 02:40:29  1.09547  1.09564\n",
      "2022-03-28 02:40:30  1.09547  1.09564\n",
      "2022-03-28 02:40:31  1.09547  1.09564\n",
      "2022-03-28 02:40:32  1.09547  1.09564\n",
      "Signal is: 1\n",
      "*** NO TRADE PLACED ***\n",
      "*** END OF CYCLE ***\n",
      "\n",
      " False False\n"
     ]
    },
    {
     "name": "stderr",
     "output_type": "stream",
     "text": [
      "C:\\Users\\Eddie\\anaconda3\\envs\\securities-analysis\\lib\\site-packages\\sklearn\\base.py:450: UserWarning: X does not have valid feature names, but AdaBoostClassifier was fitted with feature names\n",
      "  warnings.warn(\n"
     ]
    },
    {
     "name": "stdout",
     "output_type": "stream",
     "text": [
      "min_length is: 351      \n",
      "length of data is: 386\n",
      "                         bid      ask\n",
      "2022-03-28 02:40:28  1.09549  1.09564\n",
      "2022-03-28 02:40:29  1.09547  1.09564\n",
      "2022-03-28 02:40:30  1.09547  1.09564\n",
      "2022-03-28 02:40:31  1.09547  1.09564\n",
      "2022-03-28 02:40:32  1.09547  1.09564\n",
      "Signal is: 1\n",
      "*** NO TRADE PLACED ***\n",
      "*** END OF CYCLE ***\n",
      "\n",
      " False False\n"
     ]
    },
    {
     "name": "stderr",
     "output_type": "stream",
     "text": [
      "C:\\Users\\Eddie\\anaconda3\\envs\\securities-analysis\\lib\\site-packages\\sklearn\\base.py:450: UserWarning: X does not have valid feature names, but AdaBoostClassifier was fitted with feature names\n",
      "  warnings.warn(\n"
     ]
    },
    {
     "name": "stdout",
     "output_type": "stream",
     "text": [
      "min_length is: 352      \n",
      "length of data is: 386\n",
      "                         bid      ask\n",
      "2022-03-28 02:40:28  1.09549  1.09564\n",
      "2022-03-28 02:40:29  1.09547  1.09564\n",
      "2022-03-28 02:40:30  1.09547  1.09564\n",
      "2022-03-28 02:40:31  1.09547  1.09564\n",
      "2022-03-28 02:40:32  1.09547  1.09564\n",
      "Signal is: 1\n",
      "*** NO TRADE PLACED ***\n",
      "*** END OF CYCLE ***\n",
      "\n",
      " False False\n"
     ]
    },
    {
     "name": "stderr",
     "output_type": "stream",
     "text": [
      "C:\\Users\\Eddie\\anaconda3\\envs\\securities-analysis\\lib\\site-packages\\sklearn\\base.py:450: UserWarning: X does not have valid feature names, but AdaBoostClassifier was fitted with feature names\n",
      "  warnings.warn(\n"
     ]
    },
    {
     "name": "stdout",
     "output_type": "stream",
     "text": [
      "min_length is: 353      \n",
      "length of data is: 387\n",
      "                         bid      ask\n",
      "2022-03-28 02:40:29  1.09547  1.09564\n",
      "2022-03-28 02:40:30  1.09547  1.09564\n",
      "2022-03-28 02:40:31  1.09547  1.09564\n",
      "2022-03-28 02:40:32  1.09547  1.09564\n",
      "2022-03-28 02:40:33  1.09545  1.09562\n",
      "Signal is: 1\n",
      "*** NO TRADE PLACED ***\n",
      "*** END OF CYCLE ***\n",
      "\n",
      " False False\n"
     ]
    },
    {
     "name": "stderr",
     "output_type": "stream",
     "text": [
      "C:\\Users\\Eddie\\anaconda3\\envs\\securities-analysis\\lib\\site-packages\\sklearn\\base.py:450: UserWarning: X does not have valid feature names, but AdaBoostClassifier was fitted with feature names\n",
      "  warnings.warn(\n"
     ]
    },
    {
     "name": "stdout",
     "output_type": "stream",
     "text": [
      "min_length is: 354      \n",
      "length of data is: 387\n",
      "                         bid      ask\n",
      "2022-03-28 02:40:29  1.09547  1.09564\n",
      "2022-03-28 02:40:30  1.09547  1.09564\n",
      "2022-03-28 02:40:31  1.09547  1.09564\n",
      "2022-03-28 02:40:32  1.09547  1.09564\n",
      "2022-03-28 02:40:33  1.09545  1.09562\n",
      "Signal is: 1\n",
      "*** NO TRADE PLACED ***\n",
      "*** END OF CYCLE ***\n",
      "\n",
      " False False\n"
     ]
    },
    {
     "name": "stderr",
     "output_type": "stream",
     "text": [
      "C:\\Users\\Eddie\\anaconda3\\envs\\securities-analysis\\lib\\site-packages\\sklearn\\base.py:450: UserWarning: X does not have valid feature names, but AdaBoostClassifier was fitted with feature names\n",
      "  warnings.warn(\n"
     ]
    },
    {
     "name": "stdout",
     "output_type": "stream",
     "text": [
      "min_length is: 355      \n",
      "length of data is: 388\n",
      "                         bid      ask\n",
      "2022-03-28 02:40:30  1.09547  1.09564\n",
      "2022-03-28 02:40:31  1.09547  1.09564\n",
      "2022-03-28 02:40:32  1.09547  1.09564\n",
      "2022-03-28 02:40:33  1.09545  1.09562\n",
      "2022-03-28 02:40:34  1.09545  1.09562\n",
      "Signal is: 1\n",
      "*** NO TRADE PLACED ***\n",
      "*** END OF CYCLE ***\n",
      "\n",
      " False False\n"
     ]
    },
    {
     "name": "stderr",
     "output_type": "stream",
     "text": [
      "C:\\Users\\Eddie\\anaconda3\\envs\\securities-analysis\\lib\\site-packages\\sklearn\\base.py:450: UserWarning: X does not have valid feature names, but AdaBoostClassifier was fitted with feature names\n",
      "  warnings.warn(\n"
     ]
    },
    {
     "name": "stdout",
     "output_type": "stream",
     "text": [
      "min_length is: 356      \n",
      "length of data is: 388\n",
      "                         bid      ask\n",
      "2022-03-28 02:40:30  1.09547  1.09564\n",
      "2022-03-28 02:40:31  1.09547  1.09564\n",
      "2022-03-28 02:40:32  1.09547  1.09564\n",
      "2022-03-28 02:40:33  1.09545  1.09562\n",
      "2022-03-28 02:40:34  1.09545  1.09562\n",
      "Signal is: 1\n",
      "*** NO TRADE PLACED ***\n",
      "*** END OF CYCLE ***\n",
      "\n",
      " False False\n"
     ]
    },
    {
     "name": "stderr",
     "output_type": "stream",
     "text": [
      "C:\\Users\\Eddie\\anaconda3\\envs\\securities-analysis\\lib\\site-packages\\sklearn\\base.py:450: UserWarning: X does not have valid feature names, but AdaBoostClassifier was fitted with feature names\n",
      "  warnings.warn(\n"
     ]
    },
    {
     "name": "stdout",
     "output_type": "stream",
     "text": [
      "min_length is: 357      \n",
      "length of data is: 388\n",
      "                         bid      ask\n",
      "2022-03-28 02:40:30  1.09547  1.09564\n",
      "2022-03-28 02:40:31  1.09547  1.09564\n",
      "2022-03-28 02:40:32  1.09547  1.09564\n",
      "2022-03-28 02:40:33  1.09545  1.09562\n",
      "2022-03-28 02:40:34  1.09545  1.09562\n",
      "Signal is: 1\n",
      "*** NO TRADE PLACED ***\n",
      "*** END OF CYCLE ***\n",
      "\n",
      " False False\n"
     ]
    },
    {
     "name": "stderr",
     "output_type": "stream",
     "text": [
      "C:\\Users\\Eddie\\anaconda3\\envs\\securities-analysis\\lib\\site-packages\\sklearn\\base.py:450: UserWarning: X does not have valid feature names, but AdaBoostClassifier was fitted with feature names\n",
      "  warnings.warn(\n"
     ]
    },
    {
     "name": "stdout",
     "output_type": "stream",
     "text": [
      "min_length is: 358      \n",
      "length of data is: 390\n",
      "                         bid      ask\n",
      "2022-03-28 02:40:32  1.09547  1.09564\n",
      "2022-03-28 02:40:33  1.09545  1.09562\n",
      "2022-03-28 02:40:34  1.09545  1.09562\n",
      "2022-03-28 02:40:35  1.09542  1.09560\n",
      "2022-03-28 02:40:36  1.09542  1.09560\n",
      "Signal is: 1\n",
      "*** NO TRADE PLACED ***\n",
      "*** END OF CYCLE ***\n",
      "\n",
      " False False\n"
     ]
    },
    {
     "name": "stderr",
     "output_type": "stream",
     "text": [
      "C:\\Users\\Eddie\\anaconda3\\envs\\securities-analysis\\lib\\site-packages\\sklearn\\base.py:450: UserWarning: X does not have valid feature names, but AdaBoostClassifier was fitted with feature names\n",
      "  warnings.warn(\n"
     ]
    },
    {
     "name": "stdout",
     "output_type": "stream",
     "text": [
      "min_length is: 359      \n",
      "length of data is: 390\n",
      "                         bid      ask\n",
      "2022-03-28 02:40:32  1.09547  1.09564\n",
      "2022-03-28 02:40:33  1.09545  1.09562\n",
      "2022-03-28 02:40:34  1.09545  1.09562\n",
      "2022-03-28 02:40:35  1.09542  1.09560\n",
      "2022-03-28 02:40:36  1.09542  1.09560\n",
      "Signal is: 1\n",
      "*** NO TRADE PLACED ***\n",
      "*** END OF CYCLE ***\n",
      "\n",
      " False False\n"
     ]
    },
    {
     "name": "stderr",
     "output_type": "stream",
     "text": [
      "C:\\Users\\Eddie\\anaconda3\\envs\\securities-analysis\\lib\\site-packages\\sklearn\\base.py:450: UserWarning: X does not have valid feature names, but AdaBoostClassifier was fitted with feature names\n",
      "  warnings.warn(\n"
     ]
    },
    {
     "name": "stdout",
     "output_type": "stream",
     "text": [
      "min_length is: 360      \n",
      "length of data is: 391\n",
      "                         bid      ask\n",
      "2022-03-28 02:40:33  1.09545  1.09562\n",
      "2022-03-28 02:40:34  1.09545  1.09562\n",
      "2022-03-28 02:40:35  1.09542  1.09560\n",
      "2022-03-28 02:40:36  1.09542  1.09560\n",
      "2022-03-28 02:40:37  1.09542  1.09560\n",
      "Signal is: 1\n",
      "*** NO TRADE PLACED ***\n",
      "*** END OF CYCLE ***\n",
      "\n",
      " False False\n"
     ]
    },
    {
     "name": "stderr",
     "output_type": "stream",
     "text": [
      "C:\\Users\\Eddie\\anaconda3\\envs\\securities-analysis\\lib\\site-packages\\sklearn\\base.py:450: UserWarning: X does not have valid feature names, but AdaBoostClassifier was fitted with feature names\n",
      "  warnings.warn(\n"
     ]
    },
    {
     "name": "stdout",
     "output_type": "stream",
     "text": [
      "min_length is: 361      \n",
      "length of data is: 393\n",
      "                         bid      ask\n",
      "2022-03-28 02:40:35  1.09542  1.09560\n",
      "2022-03-28 02:40:36  1.09542  1.09560\n",
      "2022-03-28 02:40:37  1.09542  1.09560\n",
      "2022-03-28 02:40:38  1.09543  1.09558\n",
      "2022-03-28 02:40:39  1.09543  1.09558\n",
      "Signal is: 1\n",
      "*** NO TRADE PLACED ***\n",
      "*** END OF CYCLE ***\n",
      "\n",
      " False False\n",
      "min_length is: 362      \n",
      "length of data is: 394\n",
      "                         bid      ask\n",
      "2022-03-28 02:40:36  1.09542  1.09560\n",
      "2022-03-28 02:40:37  1.09542  1.09560\n",
      "2022-03-28 02:40:38  1.09543  1.09558\n",
      "2022-03-28 02:40:39  1.09543  1.09558\n",
      "2022-03-28 02:40:40  1.09538  1.09557\n",
      "Signal is: 1"
     ]
    },
    {
     "name": "stderr",
     "output_type": "stream",
     "text": [
      "C:\\Users\\Eddie\\anaconda3\\envs\\securities-analysis\\lib\\site-packages\\sklearn\\base.py:450: UserWarning: X does not have valid feature names, but AdaBoostClassifier was fitted with feature names\n",
      "  warnings.warn(\n",
      "C:\\Users\\Eddie\\anaconda3\\envs\\securities-analysis\\lib\\site-packages\\sklearn\\base.py:450: UserWarning: X does not have valid feature names, but AdaBoostClassifier was fitted with feature names\n",
      "  warnings.warn(\n"
     ]
    },
    {
     "name": "stdout",
     "output_type": "stream",
     "text": [
      "\n",
      "*** NO TRADE PLACED ***\n",
      "*** END OF CYCLE ***\n",
      "\n",
      " False False\n",
      "min_length is: 363      \n",
      "length of data is: 394\n",
      "                         bid      ask\n",
      "2022-03-28 02:40:36  1.09542  1.09560\n",
      "2022-03-28 02:40:37  1.09542  1.09560\n",
      "2022-03-28 02:40:38  1.09543  1.09558\n",
      "2022-03-28 02:40:39  1.09543  1.09558\n",
      "2022-03-28 02:40:40  1.09538  1.09557\n",
      "Signal is: 1\n",
      "*** NO TRADE PLACED ***\n",
      "*** END OF CYCLE ***\n",
      "\n",
      " False False\n"
     ]
    },
    {
     "name": "stderr",
     "output_type": "stream",
     "text": [
      "C:\\Users\\Eddie\\anaconda3\\envs\\securities-analysis\\lib\\site-packages\\sklearn\\base.py:450: UserWarning: X does not have valid feature names, but AdaBoostClassifier was fitted with feature names\n",
      "  warnings.warn(\n"
     ]
    },
    {
     "name": "stdout",
     "output_type": "stream",
     "text": [
      "min_length is: 364      \n",
      "length of data is: 395\n",
      "                         bid      ask\n",
      "2022-03-28 02:40:37  1.09542  1.09560\n",
      "2022-03-28 02:40:38  1.09543  1.09558\n",
      "2022-03-28 02:40:39  1.09543  1.09558\n",
      "2022-03-28 02:40:40  1.09538  1.09557\n",
      "2022-03-28 02:40:41  1.09541  1.09556\n",
      "Signal is: 1\n",
      "*** NO TRADE PLACED ***\n",
      "*** END OF CYCLE ***\n",
      "\n",
      " False False\n"
     ]
    },
    {
     "name": "stderr",
     "output_type": "stream",
     "text": [
      "C:\\Users\\Eddie\\anaconda3\\envs\\securities-analysis\\lib\\site-packages\\sklearn\\base.py:450: UserWarning: X does not have valid feature names, but AdaBoostClassifier was fitted with feature names\n",
      "  warnings.warn(\n"
     ]
    },
    {
     "name": "stdout",
     "output_type": "stream",
     "text": [
      "min_length is: 365      \n",
      "length of data is: 397\n",
      "                         bid      ask\n",
      "2022-03-28 02:40:39  1.09543  1.09558\n",
      "2022-03-28 02:40:40  1.09538  1.09557\n",
      "2022-03-28 02:40:41  1.09541  1.09556\n",
      "2022-03-28 02:40:42  1.09539  1.09555\n",
      "2022-03-28 02:40:43  1.09539  1.09555\n",
      "Signal is: 1\n",
      "*** NO TRADE PLACED ***\n",
      "*** END OF CYCLE ***\n",
      "\n",
      " False False\n"
     ]
    },
    {
     "name": "stderr",
     "output_type": "stream",
     "text": [
      "C:\\Users\\Eddie\\anaconda3\\envs\\securities-analysis\\lib\\site-packages\\sklearn\\base.py:450: UserWarning: X does not have valid feature names, but AdaBoostClassifier was fitted with feature names\n",
      "  warnings.warn(\n"
     ]
    },
    {
     "name": "stdout",
     "output_type": "stream",
     "text": [
      "min_length is: 366      \n",
      "length of data is: 397\n",
      "                         bid      ask\n",
      "2022-03-28 02:40:39  1.09543  1.09558\n",
      "2022-03-28 02:40:40  1.09538  1.09557\n",
      "2022-03-28 02:40:41  1.09541  1.09556\n",
      "2022-03-28 02:40:42  1.09539  1.09555\n",
      "2022-03-28 02:40:43  1.09539  1.09555\n",
      "Signal is: 1\n",
      "*** NO TRADE PLACED ***\n",
      "*** END OF CYCLE ***\n",
      "\n",
      " False False\n"
     ]
    },
    {
     "name": "stderr",
     "output_type": "stream",
     "text": [
      "C:\\Users\\Eddie\\anaconda3\\envs\\securities-analysis\\lib\\site-packages\\sklearn\\base.py:450: UserWarning: X does not have valid feature names, but AdaBoostClassifier was fitted with feature names\n",
      "  warnings.warn(\n"
     ]
    },
    {
     "name": "stdout",
     "output_type": "stream",
     "text": [
      "min_length is: 367      \n",
      "length of data is: 399\n",
      "                         bid      ask\n",
      "2022-03-28 02:40:41  1.09541  1.09556\n",
      "2022-03-28 02:40:42  1.09539  1.09555\n",
      "2022-03-28 02:40:43  1.09539  1.09555\n",
      "2022-03-28 02:40:44  1.09539  1.09554\n",
      "2022-03-28 02:40:45  1.09539  1.09554\n",
      "Signal is: 1\n",
      "*** NO TRADE PLACED ***\n",
      "*** END OF CYCLE ***\n",
      "\n",
      " False False\n"
     ]
    },
    {
     "name": "stderr",
     "output_type": "stream",
     "text": [
      "C:\\Users\\Eddie\\anaconda3\\envs\\securities-analysis\\lib\\site-packages\\sklearn\\base.py:450: UserWarning: X does not have valid feature names, but AdaBoostClassifier was fitted with feature names\n",
      "  warnings.warn(\n"
     ]
    },
    {
     "name": "stdout",
     "output_type": "stream",
     "text": [
      "min_length is: 368      \n",
      "length of data is: 399\n",
      "                         bid      ask\n",
      "2022-03-28 02:40:41  1.09541  1.09556\n",
      "2022-03-28 02:40:42  1.09539  1.09555\n",
      "2022-03-28 02:40:43  1.09539  1.09555\n",
      "2022-03-28 02:40:44  1.09539  1.09554\n",
      "2022-03-28 02:40:45  1.09539  1.09554\n",
      "Signal is: 1\n",
      "*** NO TRADE PLACED ***\n",
      "*** END OF CYCLE ***\n",
      "\n",
      " False False\n"
     ]
    },
    {
     "name": "stderr",
     "output_type": "stream",
     "text": [
      "C:\\Users\\Eddie\\anaconda3\\envs\\securities-analysis\\lib\\site-packages\\sklearn\\base.py:450: UserWarning: X does not have valid feature names, but AdaBoostClassifier was fitted with feature names\n",
      "  warnings.warn(\n"
     ]
    },
    {
     "name": "stdout",
     "output_type": "stream",
     "text": [
      "min_length is: 369      \n",
      "length of data is: 399\n",
      "                         bid      ask\n",
      "2022-03-28 02:40:41  1.09541  1.09556\n",
      "2022-03-28 02:40:42  1.09539  1.09555\n",
      "2022-03-28 02:40:43  1.09539  1.09555\n",
      "2022-03-28 02:40:44  1.09539  1.09554\n",
      "2022-03-28 02:40:45  1.09539  1.09554\n",
      "Signal is: 1\n",
      "*** NO TRADE PLACED ***\n",
      "*** END OF CYCLE ***\n",
      "\n",
      " False False\n"
     ]
    },
    {
     "name": "stderr",
     "output_type": "stream",
     "text": [
      "C:\\Users\\Eddie\\anaconda3\\envs\\securities-analysis\\lib\\site-packages\\sklearn\\base.py:450: UserWarning: X does not have valid feature names, but AdaBoostClassifier was fitted with feature names\n",
      "  warnings.warn(\n"
     ]
    },
    {
     "name": "stdout",
     "output_type": "stream",
     "text": [
      "min_length is: 370      \n",
      "length of data is: 400\n",
      "                         bid      ask\n",
      "2022-03-28 02:40:42  1.09539  1.09555\n",
      "2022-03-28 02:40:43  1.09539  1.09555\n",
      "2022-03-28 02:40:44  1.09539  1.09554\n",
      "2022-03-28 02:40:45  1.09539  1.09554\n",
      "2022-03-28 02:40:46  1.09539  1.09553\n",
      "Signal is: 1\n",
      "*** NO TRADE PLACED ***\n",
      "*** END OF CYCLE ***\n",
      "\n",
      " False False\n"
     ]
    },
    {
     "name": "stderr",
     "output_type": "stream",
     "text": [
      "C:\\Users\\Eddie\\anaconda3\\envs\\securities-analysis\\lib\\site-packages\\sklearn\\base.py:450: UserWarning: X does not have valid feature names, but AdaBoostClassifier was fitted with feature names\n",
      "  warnings.warn(\n"
     ]
    },
    {
     "name": "stdout",
     "output_type": "stream",
     "text": [
      "min_length is: 371      \n",
      "length of data is: 402\n",
      "                         bid      ask\n",
      "2022-03-28 02:40:44  1.09539  1.09554\n",
      "2022-03-28 02:40:45  1.09539  1.09554\n",
      "2022-03-28 02:40:46  1.09539  1.09553\n",
      "2022-03-28 02:40:47  1.09538  1.09554\n",
      "2022-03-28 02:40:48  1.09538  1.09554\n",
      "Signal is: 1\n",
      "*** NO TRADE PLACED ***\n",
      "*** END OF CYCLE ***\n",
      "\n",
      " False False\n"
     ]
    },
    {
     "name": "stderr",
     "output_type": "stream",
     "text": [
      "C:\\Users\\Eddie\\anaconda3\\envs\\securities-analysis\\lib\\site-packages\\sklearn\\base.py:450: UserWarning: X does not have valid feature names, but AdaBoostClassifier was fitted with feature names\n",
      "  warnings.warn(\n"
     ]
    },
    {
     "name": "stdout",
     "output_type": "stream",
     "text": [
      "min_length is: 372      \n",
      "length of data is: 403\n",
      "                         bid      ask\n",
      "2022-03-28 02:40:45  1.09539  1.09554\n",
      "2022-03-28 02:40:46  1.09539  1.09553\n",
      "2022-03-28 02:40:47  1.09538  1.09554\n",
      "2022-03-28 02:40:48  1.09538  1.09554\n",
      "2022-03-28 02:40:49  1.09536  1.09554\n",
      "Signal is: 1\n",
      "*** NO TRADE PLACED ***\n",
      "*** END OF CYCLE ***\n",
      "\n",
      " False False\n"
     ]
    },
    {
     "name": "stderr",
     "output_type": "stream",
     "text": [
      "C:\\Users\\Eddie\\anaconda3\\envs\\securities-analysis\\lib\\site-packages\\sklearn\\base.py:450: UserWarning: X does not have valid feature names, but AdaBoostClassifier was fitted with feature names\n",
      "  warnings.warn(\n"
     ]
    },
    {
     "name": "stdout",
     "output_type": "stream",
     "text": [
      "min_length is: 373      \n",
      "length of data is: 404\n",
      "                         bid      ask\n",
      "2022-03-28 02:40:46  1.09539  1.09553\n",
      "2022-03-28 02:40:47  1.09538  1.09554\n",
      "2022-03-28 02:40:48  1.09538  1.09554\n",
      "2022-03-28 02:40:49  1.09536  1.09554\n",
      "2022-03-28 02:40:50  1.09539  1.09554\n",
      "Signal is: 1\n",
      "*** NO TRADE PLACED ***\n",
      "*** END OF CYCLE ***\n",
      "\n",
      " False False\n"
     ]
    },
    {
     "name": "stderr",
     "output_type": "stream",
     "text": [
      "C:\\Users\\Eddie\\anaconda3\\envs\\securities-analysis\\lib\\site-packages\\sklearn\\base.py:450: UserWarning: X does not have valid feature names, but AdaBoostClassifier was fitted with feature names\n",
      "  warnings.warn(\n"
     ]
    },
    {
     "name": "stdout",
     "output_type": "stream",
     "text": [
      "min_length is: 374      \n",
      "length of data is: 404\n",
      "                         bid      ask\n",
      "2022-03-28 02:40:46  1.09539  1.09553\n",
      "2022-03-28 02:40:47  1.09538  1.09554\n",
      "2022-03-28 02:40:48  1.09538  1.09554\n",
      "2022-03-28 02:40:49  1.09536  1.09554\n",
      "2022-03-28 02:40:50  1.09539  1.09554\n",
      "Signal is: 1\n",
      "*** NO TRADE PLACED ***\n",
      "*** END OF CYCLE ***\n",
      "\n",
      " False False\n"
     ]
    },
    {
     "name": "stderr",
     "output_type": "stream",
     "text": [
      "C:\\Users\\Eddie\\anaconda3\\envs\\securities-analysis\\lib\\site-packages\\sklearn\\base.py:450: UserWarning: X does not have valid feature names, but AdaBoostClassifier was fitted with feature names\n",
      "  warnings.warn(\n"
     ]
    },
    {
     "name": "stdout",
     "output_type": "stream",
     "text": [
      "min_length is: 375      \n",
      "length of data is: 406\n",
      "                         bid      ask\n",
      "2022-03-28 02:40:48  1.09538  1.09554\n",
      "2022-03-28 02:40:49  1.09536  1.09554\n",
      "2022-03-28 02:40:50  1.09539  1.09554\n",
      "2022-03-28 02:40:51  1.09539  1.09553\n",
      "2022-03-28 02:40:52  1.09539  1.09553\n",
      "Signal is: 1\n",
      "*** NO TRADE PLACED ***\n",
      "*** END OF CYCLE ***\n",
      "\n",
      " False False\n"
     ]
    },
    {
     "name": "stderr",
     "output_type": "stream",
     "text": [
      "C:\\Users\\Eddie\\anaconda3\\envs\\securities-analysis\\lib\\site-packages\\sklearn\\base.py:450: UserWarning: X does not have valid feature names, but AdaBoostClassifier was fitted with feature names\n",
      "  warnings.warn(\n"
     ]
    },
    {
     "name": "stdout",
     "output_type": "stream",
     "text": [
      "min_length is: 376      \n",
      "length of data is: 407\n",
      "                         bid      ask\n",
      "2022-03-28 02:40:49  1.09536  1.09554\n",
      "2022-03-28 02:40:50  1.09539  1.09554\n",
      "2022-03-28 02:40:51  1.09539  1.09553\n",
      "2022-03-28 02:40:52  1.09539  1.09553\n",
      "2022-03-28 02:40:53  1.09539  1.09555\n",
      "Signal is: 1\n",
      "*** NO TRADE PLACED ***\n",
      "*** END OF CYCLE ***\n",
      "\n",
      " False False\n"
     ]
    },
    {
     "name": "stderr",
     "output_type": "stream",
     "text": [
      "C:\\Users\\Eddie\\anaconda3\\envs\\securities-analysis\\lib\\site-packages\\sklearn\\base.py:450: UserWarning: X does not have valid feature names, but AdaBoostClassifier was fitted with feature names\n",
      "  warnings.warn(\n"
     ]
    },
    {
     "name": "stdout",
     "output_type": "stream",
     "text": [
      "min_length is: 377      \n",
      "length of data is: 407\n",
      "                         bid      ask\n",
      "2022-03-28 02:40:49  1.09536  1.09554\n",
      "2022-03-28 02:40:50  1.09539  1.09554\n",
      "2022-03-28 02:40:51  1.09539  1.09553\n",
      "2022-03-28 02:40:52  1.09539  1.09553\n",
      "2022-03-28 02:40:53  1.09539  1.09555\n",
      "Signal is: 1\n",
      "*** NO TRADE PLACED ***\n",
      "*** END OF CYCLE ***\n",
      "\n",
      " False False\n"
     ]
    },
    {
     "name": "stderr",
     "output_type": "stream",
     "text": [
      "C:\\Users\\Eddie\\anaconda3\\envs\\securities-analysis\\lib\\site-packages\\sklearn\\base.py:450: UserWarning: X does not have valid feature names, but AdaBoostClassifier was fitted with feature names\n",
      "  warnings.warn(\n"
     ]
    },
    {
     "name": "stdout",
     "output_type": "stream",
     "text": [
      "min_length is: 378      \n",
      "length of data is: 410\n",
      "                         bid      ask\n",
      "2022-03-28 02:40:52  1.09539  1.09553\n",
      "2022-03-28 02:40:53  1.09539  1.09555\n",
      "2022-03-28 02:40:54  1.09541  1.09556\n",
      "2022-03-28 02:40:55  1.09541  1.09556\n",
      "2022-03-28 02:40:56  1.09541  1.09556\n",
      "Signal is: 1\n",
      "*** NO TRADE PLACED ***\n",
      "*** END OF CYCLE ***\n",
      "\n",
      " False False\n"
     ]
    },
    {
     "name": "stderr",
     "output_type": "stream",
     "text": [
      "C:\\Users\\Eddie\\anaconda3\\envs\\securities-analysis\\lib\\site-packages\\sklearn\\base.py:450: UserWarning: X does not have valid feature names, but AdaBoostClassifier was fitted with feature names\n",
      "  warnings.warn(\n"
     ]
    },
    {
     "name": "stdout",
     "output_type": "stream",
     "text": [
      "min_length is: 379      \n",
      "length of data is: 410\n",
      "                         bid      ask\n",
      "2022-03-28 02:40:52  1.09539  1.09553\n",
      "2022-03-28 02:40:53  1.09539  1.09555\n",
      "2022-03-28 02:40:54  1.09541  1.09556\n",
      "2022-03-28 02:40:55  1.09541  1.09556\n",
      "2022-03-28 02:40:56  1.09541  1.09556\n",
      "Signal is: 1\n",
      "*** NO TRADE PLACED ***\n",
      "*** END OF CYCLE ***\n",
      "\n",
      " False False\n"
     ]
    },
    {
     "name": "stderr",
     "output_type": "stream",
     "text": [
      "C:\\Users\\Eddie\\anaconda3\\envs\\securities-analysis\\lib\\site-packages\\sklearn\\base.py:450: UserWarning: X does not have valid feature names, but AdaBoostClassifier was fitted with feature names\n",
      "  warnings.warn(\n"
     ]
    },
    {
     "name": "stdout",
     "output_type": "stream",
     "text": [
      "min_length is: 380      \n",
      "length of data is: 410\n",
      "                         bid      ask\n",
      "2022-03-28 02:40:52  1.09539  1.09553\n",
      "2022-03-28 02:40:53  1.09539  1.09555\n",
      "2022-03-28 02:40:54  1.09541  1.09556\n",
      "2022-03-28 02:40:55  1.09541  1.09556\n",
      "2022-03-28 02:40:56  1.09541  1.09556\n",
      "Signal is: 1\n",
      "*** NO TRADE PLACED ***\n",
      "*** END OF CYCLE ***\n",
      "\n",
      " False False\n"
     ]
    },
    {
     "name": "stderr",
     "output_type": "stream",
     "text": [
      "C:\\Users\\Eddie\\anaconda3\\envs\\securities-analysis\\lib\\site-packages\\sklearn\\base.py:450: UserWarning: X does not have valid feature names, but AdaBoostClassifier was fitted with feature names\n",
      "  warnings.warn(\n"
     ]
    },
    {
     "name": "stdout",
     "output_type": "stream",
     "text": [
      "min_length is: 381      \n",
      "length of data is: 411\n",
      "                         bid      ask\n",
      "2022-03-28 02:40:53  1.09539  1.09555\n",
      "2022-03-28 02:40:54  1.09541  1.09556\n",
      "2022-03-28 02:40:55  1.09541  1.09556\n",
      "2022-03-28 02:40:56  1.09541  1.09556\n",
      "2022-03-28 02:40:57  1.09539  1.09554\n",
      "Signal is: 1\n",
      "*** NO TRADE PLACED ***\n",
      "*** END OF CYCLE ***\n",
      "\n",
      " False False\n"
     ]
    },
    {
     "name": "stderr",
     "output_type": "stream",
     "text": [
      "C:\\Users\\Eddie\\anaconda3\\envs\\securities-analysis\\lib\\site-packages\\sklearn\\base.py:450: UserWarning: X does not have valid feature names, but AdaBoostClassifier was fitted with feature names\n",
      "  warnings.warn(\n"
     ]
    },
    {
     "name": "stdout",
     "output_type": "stream",
     "text": [
      "min_length is: 382      \n",
      "length of data is: 411\n",
      "                         bid      ask\n",
      "2022-03-28 02:40:53  1.09539  1.09555\n",
      "2022-03-28 02:40:54  1.09541  1.09556\n",
      "2022-03-28 02:40:55  1.09541  1.09556\n",
      "2022-03-28 02:40:56  1.09541  1.09556\n",
      "2022-03-28 02:40:57  1.09539  1.09554\n",
      "Signal is: 1\n",
      "*** NO TRADE PLACED ***\n",
      "*** END OF CYCLE ***\n",
      "\n",
      " False False\n"
     ]
    },
    {
     "name": "stderr",
     "output_type": "stream",
     "text": [
      "C:\\Users\\Eddie\\anaconda3\\envs\\securities-analysis\\lib\\site-packages\\sklearn\\base.py:450: UserWarning: X does not have valid feature names, but AdaBoostClassifier was fitted with feature names\n",
      "  warnings.warn(\n"
     ]
    },
    {
     "name": "stdout",
     "output_type": "stream",
     "text": [
      "min_length is: 383      \n",
      "length of data is: 411\n",
      "                         bid      ask\n",
      "2022-03-28 02:40:53  1.09539  1.09555\n",
      "2022-03-28 02:40:54  1.09541  1.09556\n",
      "2022-03-28 02:40:55  1.09541  1.09556\n",
      "2022-03-28 02:40:56  1.09541  1.09556\n",
      "2022-03-28 02:40:57  1.09539  1.09554\n",
      "Signal is: 1\n",
      "*** NO TRADE PLACED ***\n",
      "*** END OF CYCLE ***\n",
      "\n",
      " False False\n"
     ]
    },
    {
     "name": "stderr",
     "output_type": "stream",
     "text": [
      "C:\\Users\\Eddie\\anaconda3\\envs\\securities-analysis\\lib\\site-packages\\sklearn\\base.py:450: UserWarning: X does not have valid feature names, but AdaBoostClassifier was fitted with feature names\n",
      "  warnings.warn(\n"
     ]
    },
    {
     "name": "stdout",
     "output_type": "stream",
     "text": [
      "min_length is: 384      \n",
      "length of data is: 412\n",
      "                         bid      ask\n",
      "2022-03-28 02:40:54  1.09541  1.09556\n",
      "2022-03-28 02:40:55  1.09541  1.09556\n",
      "2022-03-28 02:40:56  1.09541  1.09556\n",
      "2022-03-28 02:40:57  1.09539  1.09554\n",
      "2022-03-28 02:40:58  1.09539  1.09553\n",
      "Signal is: 1\n",
      "*** NO TRADE PLACED ***\n",
      "*** END OF CYCLE ***\n",
      "\n",
      " False False\n"
     ]
    },
    {
     "name": "stderr",
     "output_type": "stream",
     "text": [
      "C:\\Users\\Eddie\\anaconda3\\envs\\securities-analysis\\lib\\site-packages\\sklearn\\base.py:450: UserWarning: X does not have valid feature names, but AdaBoostClassifier was fitted with feature names\n",
      "  warnings.warn(\n"
     ]
    },
    {
     "name": "stdout",
     "output_type": "stream",
     "text": [
      "min_length is: 385      \n",
      "length of data is: 413\n",
      "                         bid      ask\n",
      "2022-03-28 02:40:55  1.09541  1.09556\n",
      "2022-03-28 02:40:56  1.09541  1.09556\n",
      "2022-03-28 02:40:57  1.09539  1.09554\n",
      "2022-03-28 02:40:58  1.09539  1.09553\n",
      "2022-03-28 02:40:59  1.09539  1.09554\n",
      "Signal is: 1\n",
      "*** NO TRADE PLACED ***\n",
      "*** END OF CYCLE ***\n",
      "\n",
      " False False\n"
     ]
    },
    {
     "name": "stderr",
     "output_type": "stream",
     "text": [
      "C:\\Users\\Eddie\\anaconda3\\envs\\securities-analysis\\lib\\site-packages\\sklearn\\base.py:450: UserWarning: X does not have valid feature names, but AdaBoostClassifier was fitted with feature names\n",
      "  warnings.warn(\n"
     ]
    },
    {
     "name": "stdout",
     "output_type": "stream",
     "text": [
      "min_length is: 386      \n",
      "length of data is: 414\n",
      "                         bid      ask\n",
      "2022-03-28 02:40:56  1.09541  1.09556\n",
      "2022-03-28 02:40:57  1.09539  1.09554\n",
      "2022-03-28 02:40:58  1.09539  1.09553\n",
      "2022-03-28 02:40:59  1.09539  1.09554\n",
      "2022-03-28 02:41:00  1.09539  1.09555\n",
      "Signal is: 1\n",
      "*** NO TRADE PLACED ***\n",
      "*** END OF CYCLE ***\n",
      "\n",
      " False False\n"
     ]
    },
    {
     "name": "stderr",
     "output_type": "stream",
     "text": [
      "C:\\Users\\Eddie\\anaconda3\\envs\\securities-analysis\\lib\\site-packages\\sklearn\\base.py:450: UserWarning: X does not have valid feature names, but AdaBoostClassifier was fitted with feature names\n",
      "  warnings.warn(\n"
     ]
    },
    {
     "name": "stdout",
     "output_type": "stream",
     "text": [
      "min_length is: 387      \n",
      "length of data is: 414\n",
      "                         bid      ask\n",
      "2022-03-28 02:40:56  1.09541  1.09556\n",
      "2022-03-28 02:40:57  1.09539  1.09554\n",
      "2022-03-28 02:40:58  1.09539  1.09553\n",
      "2022-03-28 02:40:59  1.09539  1.09554\n",
      "2022-03-28 02:41:00  1.09539  1.09555\n",
      "Signal is: 1\n",
      "*** NO TRADE PLACED ***\n",
      "*** END OF CYCLE ***\n",
      "\n",
      " False False\n"
     ]
    },
    {
     "name": "stderr",
     "output_type": "stream",
     "text": [
      "C:\\Users\\Eddie\\anaconda3\\envs\\securities-analysis\\lib\\site-packages\\sklearn\\base.py:450: UserWarning: X does not have valid feature names, but AdaBoostClassifier was fitted with feature names\n",
      "  warnings.warn(\n"
     ]
    },
    {
     "name": "stdout",
     "output_type": "stream",
     "text": [
      "min_length is: 388      \n",
      "length of data is: 415\n",
      "                         bid      ask\n",
      "2022-03-28 02:40:57  1.09539  1.09554\n",
      "2022-03-28 02:40:58  1.09539  1.09553\n",
      "2022-03-28 02:40:59  1.09539  1.09554\n",
      "2022-03-28 02:41:00  1.09539  1.09555\n",
      "2022-03-28 02:41:01  1.09538  1.09553\n",
      "Signal is: 1\n",
      "*** NO TRADE PLACED ***\n",
      "*** END OF CYCLE ***\n",
      "\n",
      " False False\n"
     ]
    },
    {
     "name": "stderr",
     "output_type": "stream",
     "text": [
      "C:\\Users\\Eddie\\anaconda3\\envs\\securities-analysis\\lib\\site-packages\\sklearn\\base.py:450: UserWarning: X does not have valid feature names, but AdaBoostClassifier was fitted with feature names\n",
      "  warnings.warn(\n"
     ]
    },
    {
     "name": "stdout",
     "output_type": "stream",
     "text": [
      "min_length is: 389      \n",
      "length of data is: 417\n",
      "                         bid      ask\n",
      "2022-03-28 02:40:59  1.09539  1.09554\n",
      "2022-03-28 02:41:00  1.09539  1.09555\n",
      "2022-03-28 02:41:01  1.09538  1.09553\n",
      "2022-03-28 02:41:02  1.09538  1.09554\n",
      "2022-03-28 02:41:03  1.09538  1.09554\n",
      "Signal is: 1\n",
      "*** NO TRADE PLACED ***\n",
      "*** END OF CYCLE ***\n",
      "\n",
      " False False\n"
     ]
    },
    {
     "name": "stderr",
     "output_type": "stream",
     "text": [
      "C:\\Users\\Eddie\\anaconda3\\envs\\securities-analysis\\lib\\site-packages\\sklearn\\base.py:450: UserWarning: X does not have valid feature names, but AdaBoostClassifier was fitted with feature names\n",
      "  warnings.warn(\n"
     ]
    },
    {
     "name": "stdout",
     "output_type": "stream",
     "text": [
      "min_length is: 390      \n",
      "length of data is: 418\n",
      "                         bid      ask\n",
      "2022-03-28 02:41:00  1.09539  1.09555\n",
      "2022-03-28 02:41:01  1.09538  1.09553\n",
      "2022-03-28 02:41:02  1.09538  1.09554\n",
      "2022-03-28 02:41:03  1.09538  1.09554\n",
      "2022-03-28 02:41:04  1.09538  1.09555\n",
      "Signal is: 1\n",
      "*** NO TRADE PLACED ***\n",
      "*** END OF CYCLE ***\n",
      "\n",
      " False False\n"
     ]
    },
    {
     "name": "stderr",
     "output_type": "stream",
     "text": [
      "C:\\Users\\Eddie\\anaconda3\\envs\\securities-analysis\\lib\\site-packages\\sklearn\\base.py:450: UserWarning: X does not have valid feature names, but AdaBoostClassifier was fitted with feature names\n",
      "  warnings.warn(\n"
     ]
    },
    {
     "name": "stdout",
     "output_type": "stream",
     "text": [
      "min_length is: 391      \n",
      "length of data is: 418\n",
      "                         bid      ask\n",
      "2022-03-28 02:41:00  1.09539  1.09555\n",
      "2022-03-28 02:41:01  1.09538  1.09553\n",
      "2022-03-28 02:41:02  1.09538  1.09554\n",
      "2022-03-28 02:41:03  1.09538  1.09554\n",
      "2022-03-28 02:41:04  1.09538  1.09555\n",
      "Signal is: 1\n",
      "*** NO TRADE PLACED ***\n",
      "*** END OF CYCLE ***\n",
      "\n",
      " False False\n"
     ]
    },
    {
     "name": "stderr",
     "output_type": "stream",
     "text": [
      "C:\\Users\\Eddie\\anaconda3\\envs\\securities-analysis\\lib\\site-packages\\sklearn\\base.py:450: UserWarning: X does not have valid feature names, but AdaBoostClassifier was fitted with feature names\n",
      "  warnings.warn(\n"
     ]
    },
    {
     "name": "stdout",
     "output_type": "stream",
     "text": [
      "min_length is: 392      \n",
      "length of data is: 419\n",
      "                         bid      ask\n",
      "2022-03-28 02:41:01  1.09538  1.09553\n",
      "2022-03-28 02:41:02  1.09538  1.09554\n",
      "2022-03-28 02:41:03  1.09538  1.09554\n",
      "2022-03-28 02:41:04  1.09538  1.09555\n",
      "2022-03-28 02:41:05  1.09538  1.09554\n",
      "Signal is: 1\n",
      "*** NO TRADE PLACED ***\n",
      "*** END OF CYCLE ***\n",
      "\n",
      " False False\n"
     ]
    },
    {
     "name": "stderr",
     "output_type": "stream",
     "text": [
      "C:\\Users\\Eddie\\anaconda3\\envs\\securities-analysis\\lib\\site-packages\\sklearn\\base.py:450: UserWarning: X does not have valid feature names, but AdaBoostClassifier was fitted with feature names\n",
      "  warnings.warn(\n"
     ]
    },
    {
     "name": "stdout",
     "output_type": "stream",
     "text": [
      "min_length is: 393      \n",
      "length of data is: 419\n",
      "                         bid      ask\n",
      "2022-03-28 02:41:01  1.09538  1.09553\n",
      "2022-03-28 02:41:02  1.09538  1.09554\n",
      "2022-03-28 02:41:03  1.09538  1.09554\n",
      "2022-03-28 02:41:04  1.09538  1.09555\n",
      "2022-03-28 02:41:05  1.09538  1.09554\n",
      "Signal is: 1\n",
      "*** NO TRADE PLACED ***\n",
      "*** END OF CYCLE ***\n",
      "\n",
      " False False\n"
     ]
    },
    {
     "name": "stderr",
     "output_type": "stream",
     "text": [
      "C:\\Users\\Eddie\\anaconda3\\envs\\securities-analysis\\lib\\site-packages\\sklearn\\base.py:450: UserWarning: X does not have valid feature names, but AdaBoostClassifier was fitted with feature names\n",
      "  warnings.warn(\n"
     ]
    },
    {
     "name": "stdout",
     "output_type": "stream",
     "text": [
      "min_length is: 394      \n",
      "length of data is: 420\n",
      "                         bid      ask\n",
      "2022-03-28 02:41:02  1.09538  1.09554\n",
      "2022-03-28 02:41:03  1.09538  1.09554\n",
      "2022-03-28 02:41:04  1.09538  1.09555\n",
      "2022-03-28 02:41:05  1.09538  1.09554\n",
      "2022-03-28 02:41:06  1.09539  1.09554\n",
      "Signal is: 1\n",
      "*** NO TRADE PLACED ***\n",
      "*** END OF CYCLE ***\n",
      "\n",
      " False False\n"
     ]
    },
    {
     "name": "stderr",
     "output_type": "stream",
     "text": [
      "C:\\Users\\Eddie\\anaconda3\\envs\\securities-analysis\\lib\\site-packages\\sklearn\\base.py:450: UserWarning: X does not have valid feature names, but AdaBoostClassifier was fitted with feature names\n",
      "  warnings.warn(\n"
     ]
    },
    {
     "name": "stdout",
     "output_type": "stream",
     "text": [
      "min_length is: 395      \n",
      "length of data is: 425\n",
      "                         bid      ask\n",
      "2022-03-28 02:41:07  1.09539  1.09555\n",
      "2022-03-28 02:41:08  1.09539  1.09555\n",
      "2022-03-28 02:41:09  1.09539  1.09555\n",
      "2022-03-28 02:41:10  1.09539  1.09555\n",
      "2022-03-28 02:41:11  1.09539  1.09555\n",
      "Signal is: 1\n",
      "*** NO TRADE PLACED ***\n",
      "*** END OF CYCLE ***\n",
      "\n",
      " False False\n"
     ]
    },
    {
     "name": "stderr",
     "output_type": "stream",
     "text": [
      "C:\\Users\\Eddie\\anaconda3\\envs\\securities-analysis\\lib\\site-packages\\sklearn\\base.py:450: UserWarning: X does not have valid feature names, but AdaBoostClassifier was fitted with feature names\n",
      "  warnings.warn(\n"
     ]
    },
    {
     "name": "stdout",
     "output_type": "stream",
     "text": [
      "min_length is: 396      \n",
      "length of data is: 432\n",
      "                        bid      ask\n",
      "2022-03-28 02:41:14  1.0954  1.09554\n",
      "2022-03-28 02:41:15  1.0954  1.09554\n",
      "2022-03-28 02:41:16  1.0954  1.09554\n",
      "2022-03-28 02:41:17  1.0954  1.09554\n",
      "2022-03-28 02:41:18  1.0954  1.09554\n",
      "Signal is: 1\n",
      "*** NO TRADE PLACED ***\n",
      "*** END OF CYCLE ***\n",
      "\n",
      " False False\n"
     ]
    },
    {
     "name": "stderr",
     "output_type": "stream",
     "text": [
      "C:\\Users\\Eddie\\anaconda3\\envs\\securities-analysis\\lib\\site-packages\\sklearn\\base.py:450: UserWarning: X does not have valid feature names, but AdaBoostClassifier was fitted with feature names\n",
      "  warnings.warn(\n"
     ]
    },
    {
     "name": "stdout",
     "output_type": "stream",
     "text": [
      "min_length is: 397      \n",
      "length of data is: 432\n",
      "                        bid      ask\n",
      "2022-03-28 02:41:14  1.0954  1.09554\n",
      "2022-03-28 02:41:15  1.0954  1.09554\n",
      "2022-03-28 02:41:16  1.0954  1.09554\n",
      "2022-03-28 02:41:17  1.0954  1.09554\n",
      "2022-03-28 02:41:18  1.0954  1.09554\n",
      "Signal is: 1\n",
      "*** NO TRADE PLACED ***\n",
      "*** END OF CYCLE ***\n",
      "\n",
      " False False\n"
     ]
    },
    {
     "name": "stderr",
     "output_type": "stream",
     "text": [
      "C:\\Users\\Eddie\\anaconda3\\envs\\securities-analysis\\lib\\site-packages\\sklearn\\base.py:450: UserWarning: X does not have valid feature names, but AdaBoostClassifier was fitted with feature names\n",
      "  warnings.warn(\n"
     ]
    },
    {
     "name": "stdout",
     "output_type": "stream",
     "text": [
      "min_length is: 398      \n",
      "length of data is: 432\n",
      "                        bid      ask\n",
      "2022-03-28 02:41:14  1.0954  1.09554\n",
      "2022-03-28 02:41:15  1.0954  1.09554\n",
      "2022-03-28 02:41:16  1.0954  1.09554\n",
      "2022-03-28 02:41:17  1.0954  1.09554\n",
      "2022-03-28 02:41:18  1.0954  1.09554\n",
      "Signal is: 1\n",
      "*** NO TRADE PLACED ***\n",
      "*** END OF CYCLE ***\n",
      "\n",
      " False False\n"
     ]
    },
    {
     "name": "stderr",
     "output_type": "stream",
     "text": [
      "C:\\Users\\Eddie\\anaconda3\\envs\\securities-analysis\\lib\\site-packages\\sklearn\\base.py:450: UserWarning: X does not have valid feature names, but AdaBoostClassifier was fitted with feature names\n",
      "  warnings.warn(\n"
     ]
    },
    {
     "name": "stdout",
     "output_type": "stream",
     "text": [
      "min_length is: 399      \n",
      "length of data is: 433\n",
      "                         bid      ask\n",
      "2022-03-28 02:41:15  1.09540  1.09554\n",
      "2022-03-28 02:41:16  1.09540  1.09554\n",
      "2022-03-28 02:41:17  1.09540  1.09554\n",
      "2022-03-28 02:41:18  1.09540  1.09554\n",
      "2022-03-28 02:41:19  1.09538  1.09554\n",
      "Signal is: 1\n",
      "*** NO TRADE PLACED ***\n",
      "*** END OF CYCLE ***\n",
      "\n",
      " False False\n"
     ]
    },
    {
     "name": "stderr",
     "output_type": "stream",
     "text": [
      "C:\\Users\\Eddie\\anaconda3\\envs\\securities-analysis\\lib\\site-packages\\sklearn\\base.py:450: UserWarning: X does not have valid feature names, but AdaBoostClassifier was fitted with feature names\n",
      "  warnings.warn(\n"
     ]
    },
    {
     "name": "stdout",
     "output_type": "stream",
     "text": [
      "min_length is: 400      \n",
      "length of data is: 440\n",
      "                         bid      ask\n",
      "2022-03-28 02:41:22  1.09539  1.09554\n",
      "2022-03-28 02:41:23  1.09539  1.09554\n",
      "2022-03-28 02:41:24  1.09539  1.09554\n",
      "2022-03-28 02:41:25  1.09539  1.09554\n",
      "2022-03-28 02:41:26  1.09539  1.09554\n",
      "Signal is: 1\n",
      "*** NO TRADE PLACED ***\n",
      "*** END OF CYCLE ***\n",
      "\n",
      " False False\n"
     ]
    },
    {
     "name": "stderr",
     "output_type": "stream",
     "text": [
      "C:\\Users\\Eddie\\anaconda3\\envs\\securities-analysis\\lib\\site-packages\\sklearn\\base.py:450: UserWarning: X does not have valid feature names, but AdaBoostClassifier was fitted with feature names\n",
      "  warnings.warn(\n"
     ]
    },
    {
     "name": "stdout",
     "output_type": "stream",
     "text": [
      "min_length is: 401      \n",
      "length of data is: 446\n",
      "                        bid      ask\n",
      "2022-03-28 02:41:28  1.0954  1.09556\n",
      "2022-03-28 02:41:29  1.0954  1.09556\n",
      "2022-03-28 02:41:30  1.0954  1.09556\n",
      "2022-03-28 02:41:31  1.0954  1.09556\n",
      "2022-03-28 02:41:32  1.0954  1.09556\n",
      "Signal is: 1\n",
      "*** NO TRADE PLACED ***\n",
      "*** END OF CYCLE ***\n",
      "\n",
      " False False\n"
     ]
    },
    {
     "name": "stderr",
     "output_type": "stream",
     "text": [
      "C:\\Users\\Eddie\\anaconda3\\envs\\securities-analysis\\lib\\site-packages\\sklearn\\base.py:450: UserWarning: X does not have valid feature names, but AdaBoostClassifier was fitted with feature names\n",
      "  warnings.warn(\n"
     ]
    },
    {
     "name": "stdout",
     "output_type": "stream",
     "text": [
      "min_length is: 402      \n",
      "length of data is: 447\n",
      "                         bid      ask\n",
      "2022-03-28 02:41:29  1.09540  1.09556\n",
      "2022-03-28 02:41:30  1.09540  1.09556\n",
      "2022-03-28 02:41:31  1.09540  1.09556\n",
      "2022-03-28 02:41:32  1.09540  1.09556\n",
      "2022-03-28 02:41:33  1.09541  1.09555\n",
      "Signal is: 1\n",
      "*** NO TRADE PLACED ***\n",
      "*** END OF CYCLE ***\n",
      "\n",
      " False False\n"
     ]
    },
    {
     "name": "stderr",
     "output_type": "stream",
     "text": [
      "C:\\Users\\Eddie\\anaconda3\\envs\\securities-analysis\\lib\\site-packages\\sklearn\\base.py:450: UserWarning: X does not have valid feature names, but AdaBoostClassifier was fitted with feature names\n",
      "  warnings.warn(\n"
     ]
    },
    {
     "name": "stdout",
     "output_type": "stream",
     "text": [
      "min_length is: 403      \n",
      "length of data is: 447\n",
      "                         bid      ask\n",
      "2022-03-28 02:41:29  1.09540  1.09556\n",
      "2022-03-28 02:41:30  1.09540  1.09556\n",
      "2022-03-28 02:41:31  1.09540  1.09556\n",
      "2022-03-28 02:41:32  1.09540  1.09556\n",
      "2022-03-28 02:41:33  1.09541  1.09555\n",
      "Signal is: 1\n",
      "*** NO TRADE PLACED ***\n",
      "*** END OF CYCLE ***\n",
      "\n",
      " False False\n"
     ]
    },
    {
     "name": "stderr",
     "output_type": "stream",
     "text": [
      "C:\\Users\\Eddie\\anaconda3\\envs\\securities-analysis\\lib\\site-packages\\sklearn\\base.py:450: UserWarning: X does not have valid feature names, but AdaBoostClassifier was fitted with feature names\n",
      "  warnings.warn(\n"
     ]
    },
    {
     "name": "stdout",
     "output_type": "stream",
     "text": [
      "min_length is: 404      \n",
      "length of data is: 449\n",
      "                         bid      ask\n",
      "2022-03-28 02:41:31  1.09540  1.09556\n",
      "2022-03-28 02:41:32  1.09540  1.09556\n",
      "2022-03-28 02:41:33  1.09541  1.09555\n",
      "2022-03-28 02:41:34  1.09540  1.09554\n",
      "2022-03-28 02:41:35  1.09540  1.09554\n",
      "Signal is: 1\n",
      "*** NO TRADE PLACED ***\n",
      "*** END OF CYCLE ***\n",
      "\n",
      " False False\n"
     ]
    },
    {
     "name": "stderr",
     "output_type": "stream",
     "text": [
      "C:\\Users\\Eddie\\anaconda3\\envs\\securities-analysis\\lib\\site-packages\\sklearn\\base.py:450: UserWarning: X does not have valid feature names, but AdaBoostClassifier was fitted with feature names\n",
      "  warnings.warn(\n"
     ]
    },
    {
     "name": "stdout",
     "output_type": "stream",
     "text": [
      "min_length is: 405      \n",
      "length of data is: 451\n",
      "                         bid      ask\n",
      "2022-03-28 02:41:33  1.09541  1.09555\n",
      "2022-03-28 02:41:34  1.09540  1.09554\n",
      "2022-03-28 02:41:35  1.09540  1.09554\n",
      "2022-03-28 02:41:36  1.09540  1.09554\n",
      "2022-03-28 02:41:37  1.09540  1.09554\n",
      "Signal is: 1\n",
      "*** NO TRADE PLACED ***\n",
      "*** END OF CYCLE ***\n",
      "\n",
      " False False\n"
     ]
    },
    {
     "name": "stderr",
     "output_type": "stream",
     "text": [
      "C:\\Users\\Eddie\\anaconda3\\envs\\securities-analysis\\lib\\site-packages\\sklearn\\base.py:450: UserWarning: X does not have valid feature names, but AdaBoostClassifier was fitted with feature names\n",
      "  warnings.warn(\n"
     ]
    },
    {
     "name": "stdout",
     "output_type": "stream",
     "text": [
      "min_length is: 406      \n",
      "length of data is: 452\n",
      "                         bid      ask\n",
      "2022-03-28 02:41:34  1.09540  1.09554\n",
      "2022-03-28 02:41:35  1.09540  1.09554\n",
      "2022-03-28 02:41:36  1.09540  1.09554\n",
      "2022-03-28 02:41:37  1.09540  1.09554\n",
      "2022-03-28 02:41:38  1.09539  1.09555\n",
      "Signal is: 1\n",
      "*** NO TRADE PLACED ***\n",
      "*** END OF CYCLE ***\n",
      "\n",
      " False False\n"
     ]
    },
    {
     "name": "stderr",
     "output_type": "stream",
     "text": [
      "C:\\Users\\Eddie\\anaconda3\\envs\\securities-analysis\\lib\\site-packages\\sklearn\\base.py:450: UserWarning: X does not have valid feature names, but AdaBoostClassifier was fitted with feature names\n",
      "  warnings.warn(\n"
     ]
    },
    {
     "name": "stdout",
     "output_type": "stream",
     "text": [
      "min_length is: 407      \n",
      "length of data is: 452\n",
      "                         bid      ask\n",
      "2022-03-28 02:41:34  1.09540  1.09554\n",
      "2022-03-28 02:41:35  1.09540  1.09554\n",
      "2022-03-28 02:41:36  1.09540  1.09554\n",
      "2022-03-28 02:41:37  1.09540  1.09554\n",
      "2022-03-28 02:41:38  1.09539  1.09555\n",
      "Signal is: 1\n",
      "*** NO TRADE PLACED ***\n",
      "*** END OF CYCLE ***\n",
      "\n",
      " False False\n"
     ]
    },
    {
     "name": "stderr",
     "output_type": "stream",
     "text": [
      "C:\\Users\\Eddie\\anaconda3\\envs\\securities-analysis\\lib\\site-packages\\sklearn\\base.py:450: UserWarning: X does not have valid feature names, but AdaBoostClassifier was fitted with feature names\n",
      "  warnings.warn(\n"
     ]
    },
    {
     "name": "stdout",
     "output_type": "stream",
     "text": [
      "min_length is: 408      \n",
      "length of data is: 454\n",
      "                         bid      ask\n",
      "2022-03-28 02:41:36  1.09540  1.09554\n",
      "2022-03-28 02:41:37  1.09540  1.09554\n",
      "2022-03-28 02:41:38  1.09539  1.09555\n",
      "2022-03-28 02:41:39  1.09541  1.09556\n",
      "2022-03-28 02:41:40  1.09541  1.09556\n",
      "Signal is: 1\n",
      "*** NO TRADE PLACED ***\n",
      "*** END OF CYCLE ***\n",
      "\n",
      " False False\n"
     ]
    },
    {
     "name": "stderr",
     "output_type": "stream",
     "text": [
      "C:\\Users\\Eddie\\anaconda3\\envs\\securities-analysis\\lib\\site-packages\\sklearn\\base.py:450: UserWarning: X does not have valid feature names, but AdaBoostClassifier was fitted with feature names\n",
      "  warnings.warn(\n"
     ]
    },
    {
     "name": "stdout",
     "output_type": "stream",
     "text": [
      "min_length is: 409      \n",
      "length of data is: 454\n",
      "                         bid      ask\n",
      "2022-03-28 02:41:36  1.09540  1.09554\n",
      "2022-03-28 02:41:37  1.09540  1.09554\n",
      "2022-03-28 02:41:38  1.09539  1.09555\n",
      "2022-03-28 02:41:39  1.09541  1.09556\n",
      "2022-03-28 02:41:40  1.09541  1.09556\n",
      "Signal is: 1\n",
      "*** NO TRADE PLACED ***\n",
      "*** END OF CYCLE ***\n",
      "\n",
      " False False\n"
     ]
    },
    {
     "name": "stderr",
     "output_type": "stream",
     "text": [
      "C:\\Users\\Eddie\\anaconda3\\envs\\securities-analysis\\lib\\site-packages\\sklearn\\base.py:450: UserWarning: X does not have valid feature names, but AdaBoostClassifier was fitted with feature names\n",
      "  warnings.warn(\n"
     ]
    },
    {
     "name": "stdout",
     "output_type": "stream",
     "text": [
      "min_length is: 410      \n",
      "length of data is: 459\n",
      "                         bid      ask\n",
      "2022-03-28 02:41:41  1.09541  1.09556\n",
      "2022-03-28 02:41:42  1.09541  1.09556\n",
      "2022-03-28 02:41:43  1.09541  1.09556\n",
      "2022-03-28 02:41:44  1.09541  1.09556\n",
      "2022-03-28 02:41:45  1.09541  1.09556\n",
      "Signal is: 1\n",
      "*** NO TRADE PLACED ***\n",
      "*** END OF CYCLE ***\n",
      "\n",
      " False False\n"
     ]
    },
    {
     "name": "stderr",
     "output_type": "stream",
     "text": [
      "C:\\Users\\Eddie\\anaconda3\\envs\\securities-analysis\\lib\\site-packages\\sklearn\\base.py:450: UserWarning: X does not have valid feature names, but AdaBoostClassifier was fitted with feature names\n",
      "  warnings.warn(\n"
     ]
    },
    {
     "name": "stdout",
     "output_type": "stream",
     "text": [
      "min_length is: 411      \n",
      "length of data is: 460\n",
      "                         bid      ask\n",
      "2022-03-28 02:41:42  1.09541  1.09556\n",
      "2022-03-28 02:41:43  1.09541  1.09556\n",
      "2022-03-28 02:41:44  1.09541  1.09556\n",
      "2022-03-28 02:41:45  1.09541  1.09556\n",
      "2022-03-28 02:41:46  1.09540  1.09556\n",
      "Signal is: 1\n",
      "*** NO TRADE PLACED ***\n",
      "*** END OF CYCLE ***\n",
      "\n",
      " False False\n"
     ]
    },
    {
     "name": "stderr",
     "output_type": "stream",
     "text": [
      "C:\\Users\\Eddie\\anaconda3\\envs\\securities-analysis\\lib\\site-packages\\sklearn\\base.py:450: UserWarning: X does not have valid feature names, but AdaBoostClassifier was fitted with feature names\n",
      "  warnings.warn(\n"
     ]
    },
    {
     "name": "stdout",
     "output_type": "stream",
     "text": [
      "min_length is: 412      \n",
      "length of data is: 460\n",
      "                         bid      ask\n",
      "2022-03-28 02:41:42  1.09541  1.09556\n",
      "2022-03-28 02:41:43  1.09541  1.09556\n",
      "2022-03-28 02:41:44  1.09541  1.09556\n",
      "2022-03-28 02:41:45  1.09541  1.09556\n",
      "2022-03-28 02:41:46  1.09540  1.09556\n",
      "Signal is: 1\n",
      "*** NO TRADE PLACED ***\n",
      "*** END OF CYCLE ***\n",
      "\n",
      " False False\n"
     ]
    },
    {
     "name": "stderr",
     "output_type": "stream",
     "text": [
      "C:\\Users\\Eddie\\anaconda3\\envs\\securities-analysis\\lib\\site-packages\\sklearn\\base.py:450: UserWarning: X does not have valid feature names, but AdaBoostClassifier was fitted with feature names\n",
      "  warnings.warn(\n"
     ]
    },
    {
     "name": "stdout",
     "output_type": "stream",
     "text": [
      "min_length is: 413      \n",
      "length of data is: 462\n",
      "                         bid      ask\n",
      "2022-03-28 02:41:44  1.09541  1.09556\n",
      "2022-03-28 02:41:45  1.09541  1.09556\n",
      "2022-03-28 02:41:46  1.09540  1.09556\n",
      "2022-03-28 02:41:47  1.09540  1.09556\n",
      "2022-03-28 02:41:48  1.09540  1.09556\n",
      "Signal is: 1\n",
      "*** NO TRADE PLACED ***\n",
      "*** END OF CYCLE ***\n",
      "\n",
      " False False\n"
     ]
    },
    {
     "name": "stderr",
     "output_type": "stream",
     "text": [
      "C:\\Users\\Eddie\\anaconda3\\envs\\securities-analysis\\lib\\site-packages\\sklearn\\base.py:450: UserWarning: X does not have valid feature names, but AdaBoostClassifier was fitted with feature names\n",
      "  warnings.warn(\n"
     ]
    },
    {
     "name": "stdout",
     "output_type": "stream",
     "text": [
      "min_length is: 414      \n",
      "length of data is: 463\n",
      "                         bid      ask\n",
      "2022-03-28 02:41:45  1.09541  1.09556\n",
      "2022-03-28 02:41:46  1.09540  1.09556\n",
      "2022-03-28 02:41:47  1.09540  1.09556\n",
      "2022-03-28 02:41:48  1.09540  1.09556\n",
      "2022-03-28 02:41:49  1.09540  1.09555\n",
      "Signal is: 1\n",
      "*** NO TRADE PLACED ***\n",
      "*** END OF CYCLE ***\n",
      "\n",
      " False False\n"
     ]
    },
    {
     "name": "stderr",
     "output_type": "stream",
     "text": [
      "C:\\Users\\Eddie\\anaconda3\\envs\\securities-analysis\\lib\\site-packages\\sklearn\\base.py:450: UserWarning: X does not have valid feature names, but AdaBoostClassifier was fitted with feature names\n",
      "  warnings.warn(\n"
     ]
    },
    {
     "name": "stdout",
     "output_type": "stream",
     "text": [
      "min_length is: 415      \n",
      "length of data is: 463\n",
      "                         bid      ask\n",
      "2022-03-28 02:41:45  1.09541  1.09556\n",
      "2022-03-28 02:41:46  1.09540  1.09556\n",
      "2022-03-28 02:41:47  1.09540  1.09556\n",
      "2022-03-28 02:41:48  1.09540  1.09556\n",
      "2022-03-28 02:41:49  1.09540  1.09555\n",
      "Signal is: 1\n",
      "*** NO TRADE PLACED ***\n",
      "*** END OF CYCLE ***\n",
      "\n",
      " False False\n"
     ]
    },
    {
     "name": "stderr",
     "output_type": "stream",
     "text": [
      "C:\\Users\\Eddie\\anaconda3\\envs\\securities-analysis\\lib\\site-packages\\sklearn\\base.py:450: UserWarning: X does not have valid feature names, but AdaBoostClassifier was fitted with feature names\n",
      "  warnings.warn(\n"
     ]
    },
    {
     "name": "stdout",
     "output_type": "stream",
     "text": [
      "min_length is: 416      \n",
      "length of data is: 465\n",
      "                         bid      ask\n",
      "2022-03-28 02:41:47  1.09540  1.09556\n",
      "2022-03-28 02:41:48  1.09540  1.09556\n",
      "2022-03-28 02:41:49  1.09540  1.09555\n",
      "2022-03-28 02:41:50  1.09536  1.09552\n",
      "2022-03-28 02:41:51  1.09536  1.09552\n",
      "Signal is: 1\n",
      "*** NO TRADE PLACED ***\n",
      "*** END OF CYCLE ***\n",
      "\n",
      " False False\n"
     ]
    },
    {
     "name": "stderr",
     "output_type": "stream",
     "text": [
      "C:\\Users\\Eddie\\anaconda3\\envs\\securities-analysis\\lib\\site-packages\\sklearn\\base.py:450: UserWarning: X does not have valid feature names, but AdaBoostClassifier was fitted with feature names\n",
      "  warnings.warn(\n"
     ]
    },
    {
     "name": "stdout",
     "output_type": "stream",
     "text": [
      "min_length is: 417      \n",
      "length of data is: 466\n",
      "                         bid      ask\n",
      "2022-03-28 02:41:48  1.09540  1.09556\n",
      "2022-03-28 02:41:49  1.09540  1.09555\n",
      "2022-03-28 02:41:50  1.09536  1.09552\n",
      "2022-03-28 02:41:51  1.09536  1.09552\n",
      "2022-03-28 02:41:52  1.09538  1.09552\n",
      "Signal is: 1\n",
      "*** NO TRADE PLACED ***\n",
      "*** END OF CYCLE ***\n",
      "\n",
      " False False\n"
     ]
    },
    {
     "name": "stderr",
     "output_type": "stream",
     "text": [
      "C:\\Users\\Eddie\\anaconda3\\envs\\securities-analysis\\lib\\site-packages\\sklearn\\base.py:450: UserWarning: X does not have valid feature names, but AdaBoostClassifier was fitted with feature names\n",
      "  warnings.warn(\n"
     ]
    },
    {
     "name": "stdout",
     "output_type": "stream",
     "text": [
      "min_length is: 418      \n",
      "length of data is: 466\n",
      "                         bid      ask\n",
      "2022-03-28 02:41:48  1.09540  1.09556\n",
      "2022-03-28 02:41:49  1.09540  1.09555\n",
      "2022-03-28 02:41:50  1.09536  1.09552\n",
      "2022-03-28 02:41:51  1.09536  1.09552\n",
      "2022-03-28 02:41:52  1.09538  1.09552\n",
      "Signal is: 1\n",
      "*** NO TRADE PLACED ***\n",
      "*** END OF CYCLE ***\n",
      "\n",
      " False False\n"
     ]
    },
    {
     "name": "stderr",
     "output_type": "stream",
     "text": [
      "C:\\Users\\Eddie\\anaconda3\\envs\\securities-analysis\\lib\\site-packages\\sklearn\\base.py:450: UserWarning: X does not have valid feature names, but AdaBoostClassifier was fitted with feature names\n",
      "  warnings.warn(\n"
     ]
    },
    {
     "name": "stdout",
     "output_type": "stream",
     "text": [
      "min_length is: 419      \n",
      "length of data is: 467\n",
      "                         bid      ask\n",
      "2022-03-28 02:41:49  1.09540  1.09555\n",
      "2022-03-28 02:41:50  1.09536  1.09552\n",
      "2022-03-28 02:41:51  1.09536  1.09552\n",
      "2022-03-28 02:41:52  1.09538  1.09552\n",
      "2022-03-28 02:41:53  1.09537  1.09553\n",
      "Signal is: 1\n",
      "*** NO TRADE PLACED ***\n",
      "*** END OF CYCLE ***\n",
      "\n",
      " False False\n"
     ]
    },
    {
     "name": "stderr",
     "output_type": "stream",
     "text": [
      "C:\\Users\\Eddie\\anaconda3\\envs\\securities-analysis\\lib\\site-packages\\sklearn\\base.py:450: UserWarning: X does not have valid feature names, but AdaBoostClassifier was fitted with feature names\n",
      "  warnings.warn(\n"
     ]
    },
    {
     "name": "stdout",
     "output_type": "stream",
     "text": [
      "min_length is: 420      \n",
      "length of data is: 474\n",
      "                         bid      ask\n",
      "2022-03-28 02:41:56  1.09538  1.09552\n",
      "2022-03-28 02:41:57  1.09538  1.09552\n",
      "2022-03-28 02:41:58  1.09538  1.09552\n",
      "2022-03-28 02:41:59  1.09538  1.09552\n",
      "2022-03-28 02:42:00  1.09538  1.09552\n",
      "Signal is: 1\n",
      "*** NO TRADE PLACED ***\n",
      "*** END OF CYCLE ***\n",
      "\n",
      " False False\n"
     ]
    },
    {
     "name": "stderr",
     "output_type": "stream",
     "text": [
      "C:\\Users\\Eddie\\anaconda3\\envs\\securities-analysis\\lib\\site-packages\\sklearn\\base.py:450: UserWarning: X does not have valid feature names, but AdaBoostClassifier was fitted with feature names\n",
      "  warnings.warn(\n"
     ]
    },
    {
     "name": "stdout",
     "output_type": "stream",
     "text": [
      "min_length is: 421      \n",
      "length of data is: 474\n",
      "                         bid      ask\n",
      "2022-03-28 02:41:56  1.09538  1.09552\n",
      "2022-03-28 02:41:57  1.09538  1.09552\n",
      "2022-03-28 02:41:58  1.09538  1.09552\n",
      "2022-03-28 02:41:59  1.09538  1.09552\n",
      "2022-03-28 02:42:00  1.09538  1.09552\n",
      "Signal is: 1\n",
      "*** NO TRADE PLACED ***\n",
      "*** END OF CYCLE ***\n",
      "\n",
      " False False\n"
     ]
    },
    {
     "name": "stderr",
     "output_type": "stream",
     "text": [
      "C:\\Users\\Eddie\\anaconda3\\envs\\securities-analysis\\lib\\site-packages\\sklearn\\base.py:450: UserWarning: X does not have valid feature names, but AdaBoostClassifier was fitted with feature names\n",
      "  warnings.warn(\n"
     ]
    },
    {
     "name": "stdout",
     "output_type": "stream",
     "text": [
      "min_length is: 422      \n",
      "length of data is: 475\n",
      "                         bid      ask\n",
      "2022-03-28 02:41:57  1.09538  1.09552\n",
      "2022-03-28 02:41:58  1.09538  1.09552\n",
      "2022-03-28 02:41:59  1.09538  1.09552\n",
      "2022-03-28 02:42:00  1.09538  1.09552\n",
      "2022-03-28 02:42:01  1.09538  1.09553\n",
      "Signal is: 1\n",
      "*** NO TRADE PLACED ***\n",
      "*** END OF CYCLE ***\n",
      "\n",
      " False False\n"
     ]
    },
    {
     "name": "stderr",
     "output_type": "stream",
     "text": [
      "C:\\Users\\Eddie\\anaconda3\\envs\\securities-analysis\\lib\\site-packages\\sklearn\\base.py:450: UserWarning: X does not have valid feature names, but AdaBoostClassifier was fitted with feature names\n",
      "  warnings.warn(\n"
     ]
    },
    {
     "name": "stdout",
     "output_type": "stream",
     "text": [
      "min_length is: 423      \n",
      "length of data is: 478\n",
      "                         bid      ask\n",
      "2022-03-28 02:42:00  1.09538  1.09552\n",
      "2022-03-28 02:42:01  1.09538  1.09553\n",
      "2022-03-28 02:42:02  1.09538  1.09554\n",
      "2022-03-28 02:42:03  1.09538  1.09554\n",
      "2022-03-28 02:42:04  1.09538  1.09554\n",
      "Signal is: 1\n",
      "*** NO TRADE PLACED ***\n",
      "*** END OF CYCLE ***\n",
      "\n",
      " False False\n"
     ]
    },
    {
     "name": "stderr",
     "output_type": "stream",
     "text": [
      "C:\\Users\\Eddie\\anaconda3\\envs\\securities-analysis\\lib\\site-packages\\sklearn\\base.py:450: UserWarning: X does not have valid feature names, but AdaBoostClassifier was fitted with feature names\n",
      "  warnings.warn(\n"
     ]
    },
    {
     "name": "stdout",
     "output_type": "stream",
     "text": [
      "min_length is: 424      \n",
      "length of data is: 481\n",
      "                         bid      ask\n",
      "2022-03-28 02:42:03  1.09538  1.09554\n",
      "2022-03-28 02:42:04  1.09538  1.09554\n",
      "2022-03-28 02:42:05  1.09537  1.09554\n",
      "2022-03-28 02:42:06  1.09537  1.09554\n",
      "2022-03-28 02:42:07  1.09537  1.09554\n",
      "Signal is: 1\n",
      "*** NO TRADE PLACED ***\n",
      "*** END OF CYCLE ***\n",
      "\n",
      " False False\n"
     ]
    },
    {
     "name": "stderr",
     "output_type": "stream",
     "text": [
      "C:\\Users\\Eddie\\anaconda3\\envs\\securities-analysis\\lib\\site-packages\\sklearn\\base.py:450: UserWarning: X does not have valid feature names, but AdaBoostClassifier was fitted with feature names\n",
      "  warnings.warn(\n"
     ]
    },
    {
     "name": "stdout",
     "output_type": "stream",
     "text": [
      "min_length is: 425      \n",
      "length of data is: 487\n",
      "                         bid      ask\n",
      "2022-03-28 02:42:09  1.09538  1.09554\n",
      "2022-03-28 02:42:10  1.09538  1.09554\n",
      "2022-03-28 02:42:11  1.09538  1.09554\n",
      "2022-03-28 02:42:12  1.09538  1.09554\n",
      "2022-03-28 02:42:13  1.09538  1.09554\n",
      "Signal is: 1\n",
      "*** NO TRADE PLACED ***\n",
      "*** END OF CYCLE ***\n",
      "\n",
      " False False\n"
     ]
    },
    {
     "name": "stderr",
     "output_type": "stream",
     "text": [
      "C:\\Users\\Eddie\\anaconda3\\envs\\securities-analysis\\lib\\site-packages\\sklearn\\base.py:450: UserWarning: X does not have valid feature names, but AdaBoostClassifier was fitted with feature names\n",
      "  warnings.warn(\n"
     ]
    },
    {
     "name": "stdout",
     "output_type": "stream",
     "text": [
      "min_length is: 426      \n",
      "length of data is: 491\n",
      "                         bid      ask\n",
      "2022-03-28 02:42:13  1.09538  1.09554\n",
      "2022-03-28 02:42:14  1.09540  1.09554\n",
      "2022-03-28 02:42:15  1.09540  1.09554\n",
      "2022-03-28 02:42:16  1.09540  1.09554\n",
      "2022-03-28 02:42:17  1.09540  1.09554\n",
      "Signal is: 1\n",
      "*** NO TRADE PLACED ***\n",
      "*** END OF CYCLE ***\n",
      "\n",
      " False False\n"
     ]
    },
    {
     "name": "stderr",
     "output_type": "stream",
     "text": [
      "C:\\Users\\Eddie\\anaconda3\\envs\\securities-analysis\\lib\\site-packages\\sklearn\\base.py:450: UserWarning: X does not have valid feature names, but AdaBoostClassifier was fitted with feature names\n",
      "  warnings.warn(\n"
     ]
    },
    {
     "name": "stdout",
     "output_type": "stream",
     "text": [
      "min_length is: 427      \n",
      "length of data is: 492\n",
      "                         bid      ask\n",
      "2022-03-28 02:42:14  1.09540  1.09554\n",
      "2022-03-28 02:42:15  1.09540  1.09554\n",
      "2022-03-28 02:42:16  1.09540  1.09554\n",
      "2022-03-28 02:42:17  1.09540  1.09554\n",
      "2022-03-28 02:42:18  1.09537  1.09554\n",
      "Signal is: 1\n",
      "*** NO TRADE PLACED ***\n",
      "*** END OF CYCLE ***\n",
      "\n",
      " False False\n"
     ]
    },
    {
     "name": "stderr",
     "output_type": "stream",
     "text": [
      "C:\\Users\\Eddie\\anaconda3\\envs\\securities-analysis\\lib\\site-packages\\sklearn\\base.py:450: UserWarning: X does not have valid feature names, but AdaBoostClassifier was fitted with feature names\n",
      "  warnings.warn(\n"
     ]
    },
    {
     "name": "stdout",
     "output_type": "stream",
     "text": [
      "min_length is: 428      \n",
      "length of data is: 493\n",
      "                         bid      ask\n",
      "2022-03-28 02:42:15  1.09540  1.09554\n",
      "2022-03-28 02:42:16  1.09540  1.09554\n",
      "2022-03-28 02:42:17  1.09540  1.09554\n",
      "2022-03-28 02:42:18  1.09537  1.09554\n",
      "2022-03-28 02:42:19  1.09538  1.09553\n",
      "Signal is: 1\n",
      "*** NO TRADE PLACED ***\n",
      "*** END OF CYCLE ***\n",
      "\n",
      " False False\n"
     ]
    },
    {
     "name": "stderr",
     "output_type": "stream",
     "text": [
      "C:\\Users\\Eddie\\anaconda3\\envs\\securities-analysis\\lib\\site-packages\\sklearn\\base.py:450: UserWarning: X does not have valid feature names, but AdaBoostClassifier was fitted with feature names\n",
      "  warnings.warn(\n"
     ]
    },
    {
     "name": "stdout",
     "output_type": "stream",
     "text": [
      "min_length is: 429      \n",
      "length of data is: 493\n",
      "                         bid      ask\n",
      "2022-03-28 02:42:15  1.09540  1.09554\n",
      "2022-03-28 02:42:16  1.09540  1.09554\n",
      "2022-03-28 02:42:17  1.09540  1.09554\n",
      "2022-03-28 02:42:18  1.09537  1.09554\n",
      "2022-03-28 02:42:19  1.09538  1.09553\n",
      "Signal is: 1\n",
      "*** NO TRADE PLACED ***\n",
      "*** END OF CYCLE ***\n",
      "\n",
      " False False\n"
     ]
    },
    {
     "name": "stderr",
     "output_type": "stream",
     "text": [
      "C:\\Users\\Eddie\\anaconda3\\envs\\securities-analysis\\lib\\site-packages\\sklearn\\base.py:450: UserWarning: X does not have valid feature names, but AdaBoostClassifier was fitted with feature names\n",
      "  warnings.warn(\n"
     ]
    },
    {
     "name": "stdout",
     "output_type": "stream",
     "text": [
      "min_length is: 430      \n",
      "length of data is: 494\n",
      "                         bid      ask\n",
      "2022-03-28 02:42:16  1.09540  1.09554\n",
      "2022-03-28 02:42:17  1.09540  1.09554\n",
      "2022-03-28 02:42:18  1.09537  1.09554\n",
      "2022-03-28 02:42:19  1.09538  1.09553\n",
      "2022-03-28 02:42:20  1.09536  1.09552\n",
      "Signal is: 1\n",
      "*** NO TRADE PLACED ***\n",
      "*** END OF CYCLE ***\n",
      "\n",
      " False False\n"
     ]
    },
    {
     "name": "stderr",
     "output_type": "stream",
     "text": [
      "C:\\Users\\Eddie\\anaconda3\\envs\\securities-analysis\\lib\\site-packages\\sklearn\\base.py:450: UserWarning: X does not have valid feature names, but AdaBoostClassifier was fitted with feature names\n",
      "  warnings.warn(\n"
     ]
    },
    {
     "name": "stdout",
     "output_type": "stream",
     "text": [
      "min_length is: 431      \n",
      "length of data is: 496\n",
      "                         bid      ask\n",
      "2022-03-28 02:42:18  1.09537  1.09554\n",
      "2022-03-28 02:42:19  1.09538  1.09553\n",
      "2022-03-28 02:42:20  1.09536  1.09552\n",
      "2022-03-28 02:42:21  1.09538  1.09552\n",
      "2022-03-28 02:42:22  1.09538  1.09552\n",
      "Signal is: 1\n",
      "*** NO TRADE PLACED ***\n",
      "*** END OF CYCLE ***\n",
      "\n",
      " False False\n"
     ]
    },
    {
     "name": "stderr",
     "output_type": "stream",
     "text": [
      "C:\\Users\\Eddie\\anaconda3\\envs\\securities-analysis\\lib\\site-packages\\sklearn\\base.py:450: UserWarning: X does not have valid feature names, but AdaBoostClassifier was fitted with feature names\n",
      "  warnings.warn(\n"
     ]
    },
    {
     "name": "stdout",
     "output_type": "stream",
     "text": [
      "min_length is: 432      \n",
      "length of data is: 496\n",
      "                         bid      ask\n",
      "2022-03-28 02:42:18  1.09537  1.09554\n",
      "2022-03-28 02:42:19  1.09538  1.09553\n",
      "2022-03-28 02:42:20  1.09536  1.09552\n",
      "2022-03-28 02:42:21  1.09538  1.09552\n",
      "2022-03-28 02:42:22  1.09538  1.09552\n",
      "Signal is: 1\n",
      "*** NO TRADE PLACED ***\n",
      "*** END OF CYCLE ***\n",
      "\n",
      " False False\n"
     ]
    },
    {
     "name": "stderr",
     "output_type": "stream",
     "text": [
      "C:\\Users\\Eddie\\anaconda3\\envs\\securities-analysis\\lib\\site-packages\\sklearn\\base.py:450: UserWarning: X does not have valid feature names, but AdaBoostClassifier was fitted with feature names\n",
      "  warnings.warn(\n"
     ]
    },
    {
     "name": "stdout",
     "output_type": "stream",
     "text": [
      "min_length is: 433      \n",
      "length of data is: 498\n",
      "                         bid      ask\n",
      "2022-03-28 02:42:20  1.09536  1.09552\n",
      "2022-03-28 02:42:21  1.09538  1.09552\n",
      "2022-03-28 02:42:22  1.09538  1.09552\n",
      "2022-03-28 02:42:23  1.09537  1.09551\n",
      "2022-03-28 02:42:24  1.09537  1.09551\n",
      "Signal is: 1\n",
      "*** NO TRADE PLACED ***\n",
      "*** END OF CYCLE ***\n",
      "\n",
      " False False\n"
     ]
    },
    {
     "name": "stderr",
     "output_type": "stream",
     "text": [
      "C:\\Users\\Eddie\\anaconda3\\envs\\securities-analysis\\lib\\site-packages\\sklearn\\base.py:450: UserWarning: X does not have valid feature names, but AdaBoostClassifier was fitted with feature names\n",
      "  warnings.warn(\n"
     ]
    },
    {
     "name": "stdout",
     "output_type": "stream",
     "text": [
      "min_length is: 434      \n",
      "length of data is: 498\n",
      "                         bid      ask\n",
      "2022-03-28 02:42:20  1.09536  1.09552\n",
      "2022-03-28 02:42:21  1.09538  1.09552\n",
      "2022-03-28 02:42:22  1.09538  1.09552\n",
      "2022-03-28 02:42:23  1.09537  1.09551\n",
      "2022-03-28 02:42:24  1.09537  1.09551\n",
      "Signal is: 1\n",
      "*** NO TRADE PLACED ***\n",
      "*** END OF CYCLE ***\n",
      "\n",
      " False False\n"
     ]
    },
    {
     "name": "stderr",
     "output_type": "stream",
     "text": [
      "C:\\Users\\Eddie\\anaconda3\\envs\\securities-analysis\\lib\\site-packages\\sklearn\\base.py:450: UserWarning: X does not have valid feature names, but AdaBoostClassifier was fitted with feature names\n",
      "  warnings.warn(\n"
     ]
    },
    {
     "name": "stdout",
     "output_type": "stream",
     "text": [
      "min_length is: 435      \n",
      "length of data is: 499\n",
      "                         bid      ask\n",
      "2022-03-28 02:42:21  1.09538  1.09552\n",
      "2022-03-28 02:42:22  1.09538  1.09552\n",
      "2022-03-28 02:42:23  1.09537  1.09551\n",
      "2022-03-28 02:42:24  1.09537  1.09551\n",
      "2022-03-28 02:42:25  1.09533  1.09549\n",
      "Signal is: 1\n",
      "*** NO TRADE PLACED ***\n",
      "*** END OF CYCLE ***\n",
      "\n",
      " False False\n"
     ]
    },
    {
     "name": "stderr",
     "output_type": "stream",
     "text": [
      "C:\\Users\\Eddie\\anaconda3\\envs\\securities-analysis\\lib\\site-packages\\sklearn\\base.py:450: UserWarning: X does not have valid feature names, but AdaBoostClassifier was fitted with feature names\n",
      "  warnings.warn(\n"
     ]
    },
    {
     "name": "stdout",
     "output_type": "stream",
     "text": [
      "min_length is: 436      \n",
      "length of data is: 500\n",
      "                         bid      ask\n",
      "2022-03-28 02:42:22  1.09538  1.09552\n",
      "2022-03-28 02:42:23  1.09537  1.09551\n",
      "2022-03-28 02:42:24  1.09537  1.09551\n",
      "2022-03-28 02:42:25  1.09533  1.09549\n",
      "2022-03-28 02:42:26  1.09533  1.09548\n",
      "Signal is: 1\n",
      "*** NO TRADE PLACED ***\n",
      "*** END OF CYCLE ***\n",
      "\n",
      " False False\n"
     ]
    },
    {
     "name": "stderr",
     "output_type": "stream",
     "text": [
      "C:\\Users\\Eddie\\anaconda3\\envs\\securities-analysis\\lib\\site-packages\\sklearn\\base.py:450: UserWarning: X does not have valid feature names, but AdaBoostClassifier was fitted with feature names\n",
      "  warnings.warn(\n"
     ]
    },
    {
     "name": "stdout",
     "output_type": "stream",
     "text": [
      "min_length is: 437      \n",
      "length of data is: 500\n",
      "                         bid      ask\n",
      "2022-03-28 02:42:22  1.09538  1.09552\n",
      "2022-03-28 02:42:23  1.09537  1.09551\n",
      "2022-03-28 02:42:24  1.09537  1.09551\n",
      "2022-03-28 02:42:25  1.09533  1.09549\n",
      "2022-03-28 02:42:26  1.09533  1.09548\n",
      "Signal is: 1\n",
      "*** NO TRADE PLACED ***\n",
      "*** END OF CYCLE ***\n",
      "\n",
      " False False\n"
     ]
    },
    {
     "name": "stderr",
     "output_type": "stream",
     "text": [
      "C:\\Users\\Eddie\\anaconda3\\envs\\securities-analysis\\lib\\site-packages\\sklearn\\base.py:450: UserWarning: X does not have valid feature names, but AdaBoostClassifier was fitted with feature names\n",
      "  warnings.warn(\n"
     ]
    },
    {
     "name": "stdout",
     "output_type": "stream",
     "text": [
      "min_length is: 438      \n",
      "length of data is: 500\n",
      "                         bid      ask\n",
      "2022-03-28 02:42:22  1.09538  1.09552\n",
      "2022-03-28 02:42:23  1.09537  1.09551\n",
      "2022-03-28 02:42:24  1.09537  1.09551\n",
      "2022-03-28 02:42:25  1.09533  1.09549\n",
      "2022-03-28 02:42:26  1.09533  1.09548\n",
      "Signal is: 1\n",
      "*** NO TRADE PLACED ***\n",
      "*** END OF CYCLE ***\n",
      "\n",
      " False False\n"
     ]
    },
    {
     "name": "stderr",
     "output_type": "stream",
     "text": [
      "C:\\Users\\Eddie\\anaconda3\\envs\\securities-analysis\\lib\\site-packages\\sklearn\\base.py:450: UserWarning: X does not have valid feature names, but AdaBoostClassifier was fitted with feature names\n",
      "  warnings.warn(\n"
     ]
    },
    {
     "name": "stdout",
     "output_type": "stream",
     "text": [
      "min_length is: 439      \n",
      "length of data is: 503\n",
      "                         bid      ask\n",
      "2022-03-28 02:42:25  1.09533  1.09549\n",
      "2022-03-28 02:42:26  1.09533  1.09548\n",
      "2022-03-28 02:42:27  1.09533  1.09547\n",
      "2022-03-28 02:42:28  1.09533  1.09547\n",
      "2022-03-28 02:42:29  1.09533  1.09547\n",
      "Signal is: 1\n",
      "*** NO TRADE PLACED ***\n",
      "*** END OF CYCLE ***\n",
      "\n",
      " False False\n"
     ]
    },
    {
     "name": "stderr",
     "output_type": "stream",
     "text": [
      "C:\\Users\\Eddie\\anaconda3\\envs\\securities-analysis\\lib\\site-packages\\sklearn\\base.py:450: UserWarning: X does not have valid feature names, but AdaBoostClassifier was fitted with feature names\n",
      "  warnings.warn(\n"
     ]
    },
    {
     "name": "stdout",
     "output_type": "stream",
     "text": [
      "min_length is: 440      \n",
      "length of data is: 503\n",
      "                         bid      ask\n",
      "2022-03-28 02:42:25  1.09533  1.09549\n",
      "2022-03-28 02:42:26  1.09533  1.09548\n",
      "2022-03-28 02:42:27  1.09533  1.09547\n",
      "2022-03-28 02:42:28  1.09533  1.09547\n",
      "2022-03-28 02:42:29  1.09533  1.09547\n",
      "Signal is: 1\n",
      "*** NO TRADE PLACED ***\n",
      "*** END OF CYCLE ***\n",
      "\n",
      " False False\n"
     ]
    },
    {
     "name": "stderr",
     "output_type": "stream",
     "text": [
      "C:\\Users\\Eddie\\anaconda3\\envs\\securities-analysis\\lib\\site-packages\\sklearn\\base.py:450: UserWarning: X does not have valid feature names, but AdaBoostClassifier was fitted with feature names\n",
      "  warnings.warn(\n"
     ]
    },
    {
     "name": "stdout",
     "output_type": "stream",
     "text": [
      "min_length is: 441      \n",
      "length of data is: 511\n",
      "                         bid      ask\n",
      "2022-03-28 02:42:33  1.09533  1.09547\n",
      "2022-03-28 02:42:34  1.09533  1.09547\n",
      "2022-03-28 02:42:35  1.09533  1.09547\n",
      "2022-03-28 02:42:36  1.09533  1.09547\n",
      "2022-03-28 02:42:37  1.09533  1.09547\n",
      "Signal is: 1\n",
      "*** NO TRADE PLACED ***\n",
      "*** END OF CYCLE ***\n",
      "\n",
      " False False\n"
     ]
    },
    {
     "name": "stderr",
     "output_type": "stream",
     "text": [
      "C:\\Users\\Eddie\\anaconda3\\envs\\securities-analysis\\lib\\site-packages\\sklearn\\base.py:450: UserWarning: X does not have valid feature names, but AdaBoostClassifier was fitted with feature names\n",
      "  warnings.warn(\n"
     ]
    },
    {
     "name": "stdout",
     "output_type": "stream",
     "text": [
      "min_length is: 442      \n",
      "length of data is: 512\n",
      "                         bid      ask\n",
      "2022-03-28 02:42:34  1.09533  1.09547\n",
      "2022-03-28 02:42:35  1.09533  1.09547\n",
      "2022-03-28 02:42:36  1.09533  1.09547\n",
      "2022-03-28 02:42:37  1.09533  1.09547\n",
      "2022-03-28 02:42:38  1.09531  1.09547\n",
      "Signal is: 1\n",
      "*** NO TRADE PLACED ***\n",
      "*** END OF CYCLE ***\n",
      "\n",
      " False False\n"
     ]
    },
    {
     "name": "stderr",
     "output_type": "stream",
     "text": [
      "C:\\Users\\Eddie\\anaconda3\\envs\\securities-analysis\\lib\\site-packages\\sklearn\\base.py:450: UserWarning: X does not have valid feature names, but AdaBoostClassifier was fitted with feature names\n",
      "  warnings.warn(\n"
     ]
    },
    {
     "name": "stdout",
     "output_type": "stream",
     "text": [
      "min_length is: 443      \n",
      "length of data is: 519\n",
      "                        bid      ask\n",
      "2022-03-28 02:42:41  1.0953  1.09548\n",
      "2022-03-28 02:42:42  1.0953  1.09548\n",
      "2022-03-28 02:42:43  1.0953  1.09548\n",
      "2022-03-28 02:42:44  1.0953  1.09548\n",
      "2022-03-28 02:42:45  1.0953  1.09548\n",
      "Signal is: 1\n",
      "*** NO TRADE PLACED ***\n",
      "*** END OF CYCLE ***\n",
      "\n",
      " False False\n"
     ]
    },
    {
     "name": "stderr",
     "output_type": "stream",
     "text": [
      "C:\\Users\\Eddie\\anaconda3\\envs\\securities-analysis\\lib\\site-packages\\sklearn\\base.py:450: UserWarning: X does not have valid feature names, but AdaBoostClassifier was fitted with feature names\n",
      "  warnings.warn(\n"
     ]
    },
    {
     "name": "stdout",
     "output_type": "stream",
     "text": [
      "min_length is: 444      \n",
      "length of data is: 528\n",
      "                         bid      ask\n",
      "2022-03-28 02:42:50  1.09531  1.09549\n",
      "2022-03-28 02:42:51  1.09531  1.09549\n",
      "2022-03-28 02:42:52  1.09531  1.09549\n",
      "2022-03-28 02:42:53  1.09531  1.09549\n",
      "2022-03-28 02:42:54  1.09531  1.09549\n",
      "Signal is: 1\n",
      "*** NO TRADE PLACED ***\n",
      "*** END OF CYCLE ***\n",
      "\n",
      " False False\n"
     ]
    },
    {
     "name": "stderr",
     "output_type": "stream",
     "text": [
      "C:\\Users\\Eddie\\anaconda3\\envs\\securities-analysis\\lib\\site-packages\\sklearn\\base.py:450: UserWarning: X does not have valid feature names, but AdaBoostClassifier was fitted with feature names\n",
      "  warnings.warn(\n"
     ]
    },
    {
     "name": "stdout",
     "output_type": "stream",
     "text": [
      "min_length is: 445      \n",
      "length of data is: 528\n",
      "                         bid      ask\n",
      "2022-03-28 02:42:50  1.09531  1.09549\n",
      "2022-03-28 02:42:51  1.09531  1.09549\n",
      "2022-03-28 02:42:52  1.09531  1.09549\n",
      "2022-03-28 02:42:53  1.09531  1.09549\n",
      "2022-03-28 02:42:54  1.09531  1.09549\n",
      "Signal is: 1\n",
      "*** NO TRADE PLACED ***\n",
      "*** END OF CYCLE ***\n",
      "\n",
      " False False\n"
     ]
    },
    {
     "name": "stderr",
     "output_type": "stream",
     "text": [
      "C:\\Users\\Eddie\\anaconda3\\envs\\securities-analysis\\lib\\site-packages\\sklearn\\base.py:450: UserWarning: X does not have valid feature names, but AdaBoostClassifier was fitted with feature names\n",
      "  warnings.warn(\n"
     ]
    },
    {
     "name": "stdout",
     "output_type": "stream",
     "text": [
      "min_length is: 446      \n",
      "length of data is: 531\n",
      "                         bid      ask\n",
      "2022-03-28 02:42:53  1.09531  1.09549\n",
      "2022-03-28 02:42:54  1.09531  1.09549\n",
      "2022-03-28 02:42:55  1.09532  1.09548\n",
      "2022-03-28 02:42:56  1.09532  1.09548\n",
      "2022-03-28 02:42:57  1.09532  1.09548\n",
      "Signal is: 1\n",
      "*** NO TRADE PLACED ***\n",
      "*** END OF CYCLE ***\n",
      "\n",
      " False False\n"
     ]
    },
    {
     "name": "stderr",
     "output_type": "stream",
     "text": [
      "C:\\Users\\Eddie\\anaconda3\\envs\\securities-analysis\\lib\\site-packages\\sklearn\\base.py:450: UserWarning: X does not have valid feature names, but AdaBoostClassifier was fitted with feature names\n",
      "  warnings.warn(\n"
     ]
    },
    {
     "name": "stdout",
     "output_type": "stream",
     "text": [
      "min_length is: 447      \n",
      "length of data is: 531\n",
      "                         bid      ask\n",
      "2022-03-28 02:42:53  1.09531  1.09549\n",
      "2022-03-28 02:42:54  1.09531  1.09549\n",
      "2022-03-28 02:42:55  1.09532  1.09548\n",
      "2022-03-28 02:42:56  1.09532  1.09548\n",
      "2022-03-28 02:42:57  1.09532  1.09548\n",
      "Signal is: 1\n",
      "*** NO TRADE PLACED ***\n",
      "*** END OF CYCLE ***\n",
      "\n",
      " False False\n"
     ]
    },
    {
     "name": "stderr",
     "output_type": "stream",
     "text": [
      "C:\\Users\\Eddie\\anaconda3\\envs\\securities-analysis\\lib\\site-packages\\sklearn\\base.py:450: UserWarning: X does not have valid feature names, but AdaBoostClassifier was fitted with feature names\n",
      "  warnings.warn(\n"
     ]
    },
    {
     "name": "stdout",
     "output_type": "stream",
     "text": [
      "min_length is: 448      \n",
      "length of data is: 533\n",
      "                         bid      ask\n",
      "2022-03-28 02:42:55  1.09532  1.09548\n",
      "2022-03-28 02:42:56  1.09532  1.09548\n",
      "2022-03-28 02:42:57  1.09532  1.09548\n",
      "2022-03-28 02:42:58  1.09530  1.09548\n",
      "2022-03-28 02:42:59  1.09530  1.09548\n",
      "Signal is: 1\n",
      "*** NO TRADE PLACED ***\n",
      "*** END OF CYCLE ***\n",
      "\n",
      " False False\n"
     ]
    },
    {
     "name": "stderr",
     "output_type": "stream",
     "text": [
      "C:\\Users\\Eddie\\anaconda3\\envs\\securities-analysis\\lib\\site-packages\\sklearn\\base.py:450: UserWarning: X does not have valid feature names, but AdaBoostClassifier was fitted with feature names\n",
      "  warnings.warn(\n"
     ]
    },
    {
     "name": "stdout",
     "output_type": "stream",
     "text": [
      "min_length is: 449      \n",
      "length of data is: 533\n",
      "                         bid      ask\n",
      "2022-03-28 02:42:55  1.09532  1.09548\n",
      "2022-03-28 02:42:56  1.09532  1.09548\n",
      "2022-03-28 02:42:57  1.09532  1.09548\n",
      "2022-03-28 02:42:58  1.09530  1.09548\n",
      "2022-03-28 02:42:59  1.09530  1.09548\n",
      "Signal is: 1\n",
      "*** NO TRADE PLACED ***\n",
      "*** END OF CYCLE ***\n",
      "\n",
      " False False\n"
     ]
    },
    {
     "name": "stderr",
     "output_type": "stream",
     "text": [
      "C:\\Users\\Eddie\\anaconda3\\envs\\securities-analysis\\lib\\site-packages\\sklearn\\base.py:450: UserWarning: X does not have valid feature names, but AdaBoostClassifier was fitted with feature names\n",
      "  warnings.warn(\n"
     ]
    },
    {
     "name": "stdout",
     "output_type": "stream",
     "text": [
      "min_length is: 450      \n",
      "length of data is: 535\n",
      "                         bid      ask\n",
      "2022-03-28 02:42:57  1.09532  1.09548\n",
      "2022-03-28 02:42:58  1.09530  1.09548\n",
      "2022-03-28 02:42:59  1.09530  1.09548\n",
      "2022-03-28 02:43:00  1.09531  1.09548\n",
      "2022-03-28 02:43:01  1.09531  1.09548\n",
      "Signal is: 1\n",
      "*** NO TRADE PLACED ***\n",
      "*** END OF CYCLE ***\n",
      "\n",
      " False False\n"
     ]
    },
    {
     "name": "stderr",
     "output_type": "stream",
     "text": [
      "C:\\Users\\Eddie\\anaconda3\\envs\\securities-analysis\\lib\\site-packages\\sklearn\\base.py:450: UserWarning: X does not have valid feature names, but AdaBoostClassifier was fitted with feature names\n",
      "  warnings.warn(\n"
     ]
    },
    {
     "name": "stdout",
     "output_type": "stream",
     "text": [
      "min_length is: 451      \n",
      "length of data is: 535\n",
      "                         bid      ask\n",
      "2022-03-28 02:42:57  1.09532  1.09548\n",
      "2022-03-28 02:42:58  1.09530  1.09548\n",
      "2022-03-28 02:42:59  1.09530  1.09548\n",
      "2022-03-28 02:43:00  1.09531  1.09548\n",
      "2022-03-28 02:43:01  1.09531  1.09548\n",
      "Signal is: 1\n",
      "*** NO TRADE PLACED ***\n",
      "*** END OF CYCLE ***\n",
      "\n",
      " False False\n"
     ]
    },
    {
     "name": "stderr",
     "output_type": "stream",
     "text": [
      "C:\\Users\\Eddie\\anaconda3\\envs\\securities-analysis\\lib\\site-packages\\sklearn\\base.py:450: UserWarning: X does not have valid feature names, but AdaBoostClassifier was fitted with feature names\n",
      "  warnings.warn(\n"
     ]
    },
    {
     "name": "stdout",
     "output_type": "stream",
     "text": [
      "min_length is: 452      \n",
      "length of data is: 535\n",
      "                         bid      ask\n",
      "2022-03-28 02:42:57  1.09532  1.09548\n",
      "2022-03-28 02:42:58  1.09530  1.09548\n",
      "2022-03-28 02:42:59  1.09530  1.09548\n",
      "2022-03-28 02:43:00  1.09531  1.09548\n",
      "2022-03-28 02:43:01  1.09531  1.09548\n",
      "Signal is: 1\n",
      "*** NO TRADE PLACED ***\n",
      "*** END OF CYCLE ***\n",
      "\n",
      " False False\n"
     ]
    },
    {
     "name": "stderr",
     "output_type": "stream",
     "text": [
      "C:\\Users\\Eddie\\anaconda3\\envs\\securities-analysis\\lib\\site-packages\\sklearn\\base.py:450: UserWarning: X does not have valid feature names, but AdaBoostClassifier was fitted with feature names\n",
      "  warnings.warn(\n"
     ]
    },
    {
     "name": "stdout",
     "output_type": "stream",
     "text": [
      "min_length is: 453      \n",
      "length of data is: 535\n",
      "                         bid      ask\n",
      "2022-03-28 02:42:57  1.09532  1.09548\n",
      "2022-03-28 02:42:58  1.09530  1.09548\n",
      "2022-03-28 02:42:59  1.09530  1.09548\n",
      "2022-03-28 02:43:00  1.09531  1.09548\n",
      "2022-03-28 02:43:01  1.09531  1.09548\n",
      "Signal is: 1\n",
      "*** NO TRADE PLACED ***\n",
      "*** END OF CYCLE ***\n",
      "\n",
      " False False\n"
     ]
    },
    {
     "name": "stderr",
     "output_type": "stream",
     "text": [
      "C:\\Users\\Eddie\\anaconda3\\envs\\securities-analysis\\lib\\site-packages\\sklearn\\base.py:450: UserWarning: X does not have valid feature names, but AdaBoostClassifier was fitted with feature names\n",
      "  warnings.warn(\n"
     ]
    },
    {
     "name": "stdout",
     "output_type": "stream",
     "text": [
      "min_length is: 454      \n",
      "length of data is: 536\n",
      "                         bid      ask\n",
      "2022-03-28 02:42:58  1.09530  1.09548\n",
      "2022-03-28 02:42:59  1.09530  1.09548\n",
      "2022-03-28 02:43:00  1.09531  1.09548\n",
      "2022-03-28 02:43:01  1.09531  1.09548\n",
      "2022-03-28 02:43:02  1.09531  1.09547\n",
      "Signal is: 1\n",
      "*** NO TRADE PLACED ***\n",
      "*** END OF CYCLE ***\n",
      "\n",
      " False False\n"
     ]
    },
    {
     "name": "stderr",
     "output_type": "stream",
     "text": [
      "C:\\Users\\Eddie\\anaconda3\\envs\\securities-analysis\\lib\\site-packages\\sklearn\\base.py:450: UserWarning: X does not have valid feature names, but AdaBoostClassifier was fitted with feature names\n",
      "  warnings.warn(\n"
     ]
    },
    {
     "name": "stdout",
     "output_type": "stream",
     "text": [
      "min_length is: 455      \n",
      "length of data is: 536\n",
      "                         bid      ask\n",
      "2022-03-28 02:42:58  1.09530  1.09548\n",
      "2022-03-28 02:42:59  1.09530  1.09548\n",
      "2022-03-28 02:43:00  1.09531  1.09548\n",
      "2022-03-28 02:43:01  1.09531  1.09548\n",
      "2022-03-28 02:43:02  1.09531  1.09547\n",
      "Signal is: 1\n",
      "*** NO TRADE PLACED ***\n",
      "*** END OF CYCLE ***\n",
      "\n",
      " False False\n"
     ]
    },
    {
     "name": "stderr",
     "output_type": "stream",
     "text": [
      "C:\\Users\\Eddie\\anaconda3\\envs\\securities-analysis\\lib\\site-packages\\sklearn\\base.py:450: UserWarning: X does not have valid feature names, but AdaBoostClassifier was fitted with feature names\n",
      "  warnings.warn(\n"
     ]
    },
    {
     "name": "stdout",
     "output_type": "stream",
     "text": [
      "min_length is: 456      \n",
      "length of data is: 537\n",
      "                         bid      ask\n",
      "2022-03-28 02:42:59  1.09530  1.09548\n",
      "2022-03-28 02:43:00  1.09531  1.09548\n",
      "2022-03-28 02:43:01  1.09531  1.09548\n",
      "2022-03-28 02:43:02  1.09531  1.09547\n",
      "2022-03-28 02:43:03  1.09530  1.09548\n",
      "Signal is: 1\n",
      "*** NO TRADE PLACED ***\n",
      "*** END OF CYCLE ***\n",
      "\n",
      " False False\n"
     ]
    },
    {
     "name": "stderr",
     "output_type": "stream",
     "text": [
      "C:\\Users\\Eddie\\anaconda3\\envs\\securities-analysis\\lib\\site-packages\\sklearn\\base.py:450: UserWarning: X does not have valid feature names, but AdaBoostClassifier was fitted with feature names\n",
      "  warnings.warn(\n"
     ]
    },
    {
     "name": "stdout",
     "output_type": "stream",
     "text": [
      "min_length is: 457      \n",
      "length of data is: 538\n",
      "                         bid      ask\n",
      "2022-03-28 02:43:00  1.09531  1.09548\n",
      "2022-03-28 02:43:01  1.09531  1.09548\n",
      "2022-03-28 02:43:02  1.09531  1.09547\n",
      "2022-03-28 02:43:03  1.09530  1.09548\n",
      "2022-03-28 02:43:04  1.09530  1.09547\n",
      "Signal is: 1\n",
      "*** NO TRADE PLACED ***\n",
      "*** END OF CYCLE ***\n",
      "\n",
      " False False\n"
     ]
    },
    {
     "name": "stderr",
     "output_type": "stream",
     "text": [
      "C:\\Users\\Eddie\\anaconda3\\envs\\securities-analysis\\lib\\site-packages\\sklearn\\base.py:450: UserWarning: X does not have valid feature names, but AdaBoostClassifier was fitted with feature names\n",
      "  warnings.warn(\n"
     ]
    },
    {
     "name": "stdout",
     "output_type": "stream",
     "text": [
      "min_length is: 458      \n",
      "length of data is: 538\n",
      "                         bid      ask\n",
      "2022-03-28 02:43:00  1.09531  1.09548\n",
      "2022-03-28 02:43:01  1.09531  1.09548\n",
      "2022-03-28 02:43:02  1.09531  1.09547\n",
      "2022-03-28 02:43:03  1.09530  1.09548\n",
      "2022-03-28 02:43:04  1.09530  1.09547\n",
      "Signal is: 1\n",
      "*** NO TRADE PLACED ***\n",
      "*** END OF CYCLE ***\n",
      "\n",
      " False False\n"
     ]
    },
    {
     "name": "stderr",
     "output_type": "stream",
     "text": [
      "C:\\Users\\Eddie\\anaconda3\\envs\\securities-analysis\\lib\\site-packages\\sklearn\\base.py:450: UserWarning: X does not have valid feature names, but AdaBoostClassifier was fitted with feature names\n",
      "  warnings.warn(\n"
     ]
    },
    {
     "name": "stdout",
     "output_type": "stream",
     "text": [
      "min_length is: 459      \n",
      "length of data is: 539\n",
      "                         bid      ask\n",
      "2022-03-28 02:43:01  1.09531  1.09548\n",
      "2022-03-28 02:43:02  1.09531  1.09547\n",
      "2022-03-28 02:43:03  1.09530  1.09548\n",
      "2022-03-28 02:43:04  1.09530  1.09547\n",
      "2022-03-28 02:43:05  1.09530  1.09547\n",
      "Signal is: 1\n",
      "*** NO TRADE PLACED ***\n",
      "*** END OF CYCLE ***\n",
      "\n",
      " False False\n"
     ]
    },
    {
     "name": "stderr",
     "output_type": "stream",
     "text": [
      "C:\\Users\\Eddie\\anaconda3\\envs\\securities-analysis\\lib\\site-packages\\sklearn\\base.py:450: UserWarning: X does not have valid feature names, but AdaBoostClassifier was fitted with feature names\n",
      "  warnings.warn(\n"
     ]
    },
    {
     "name": "stdout",
     "output_type": "stream",
     "text": [
      "min_length is: 460      \n",
      "length of data is: 540\n",
      "                         bid      ask\n",
      "2022-03-28 02:43:02  1.09531  1.09547\n",
      "2022-03-28 02:43:03  1.09530  1.09548\n",
      "2022-03-28 02:43:04  1.09530  1.09547\n",
      "2022-03-28 02:43:05  1.09530  1.09547\n",
      "2022-03-28 02:43:06  1.09531  1.09547\n",
      "Signal is: 1\n",
      "*** NO TRADE PLACED ***\n",
      "*** END OF CYCLE ***\n",
      "\n",
      " False False\n"
     ]
    },
    {
     "name": "stderr",
     "output_type": "stream",
     "text": [
      "C:\\Users\\Eddie\\anaconda3\\envs\\securities-analysis\\lib\\site-packages\\sklearn\\base.py:450: UserWarning: X does not have valid feature names, but AdaBoostClassifier was fitted with feature names\n",
      "  warnings.warn(\n"
     ]
    },
    {
     "name": "stdout",
     "output_type": "stream",
     "text": [
      "min_length is: 461      \n",
      "length of data is: 540\n",
      "                         bid      ask\n",
      "2022-03-28 02:43:02  1.09531  1.09547\n",
      "2022-03-28 02:43:03  1.09530  1.09548\n",
      "2022-03-28 02:43:04  1.09530  1.09547\n",
      "2022-03-28 02:43:05  1.09530  1.09547\n",
      "2022-03-28 02:43:06  1.09531  1.09547\n",
      "Signal is: 1\n",
      "*** NO TRADE PLACED ***\n",
      "*** END OF CYCLE ***\n",
      "\n",
      " False False\n"
     ]
    },
    {
     "name": "stderr",
     "output_type": "stream",
     "text": [
      "C:\\Users\\Eddie\\anaconda3\\envs\\securities-analysis\\lib\\site-packages\\sklearn\\base.py:450: UserWarning: X does not have valid feature names, but AdaBoostClassifier was fitted with feature names\n",
      "  warnings.warn(\n"
     ]
    },
    {
     "name": "stdout",
     "output_type": "stream",
     "text": [
      "min_length is: 462      \n",
      "length of data is: 543\n",
      "                         bid      ask\n",
      "2022-03-28 02:43:05  1.09530  1.09547\n",
      "2022-03-28 02:43:06  1.09531  1.09547\n",
      "2022-03-28 02:43:07  1.09531  1.09547\n",
      "2022-03-28 02:43:08  1.09531  1.09547\n",
      "2022-03-28 02:43:09  1.09531  1.09547\n",
      "Signal is: 1\n",
      "*** NO TRADE PLACED ***\n",
      "*** END OF CYCLE ***\n",
      "\n",
      " False False\n"
     ]
    },
    {
     "name": "stderr",
     "output_type": "stream",
     "text": [
      "C:\\Users\\Eddie\\anaconda3\\envs\\securities-analysis\\lib\\site-packages\\sklearn\\base.py:450: UserWarning: X does not have valid feature names, but AdaBoostClassifier was fitted with feature names\n",
      "  warnings.warn(\n"
     ]
    },
    {
     "name": "stdout",
     "output_type": "stream",
     "text": [
      "min_length is: 463      \n",
      "length of data is: 544\n",
      "                         bid      ask\n",
      "2022-03-28 02:43:06  1.09531  1.09547\n",
      "2022-03-28 02:43:07  1.09531  1.09547\n",
      "2022-03-28 02:43:08  1.09531  1.09547\n",
      "2022-03-28 02:43:09  1.09531  1.09547\n",
      "2022-03-28 02:43:10  1.09530  1.09548\n",
      "Signal is: 1\n",
      "*** NO TRADE PLACED ***\n",
      "*** END OF CYCLE ***\n",
      "\n",
      " False False\n"
     ]
    },
    {
     "name": "stderr",
     "output_type": "stream",
     "text": [
      "C:\\Users\\Eddie\\anaconda3\\envs\\securities-analysis\\lib\\site-packages\\sklearn\\base.py:450: UserWarning: X does not have valid feature names, but AdaBoostClassifier was fitted with feature names\n",
      "  warnings.warn(\n"
     ]
    },
    {
     "name": "stdout",
     "output_type": "stream",
     "text": [
      "min_length is: 464      \n",
      "length of data is: 545\n",
      "                         bid      ask\n",
      "2022-03-28 02:43:07  1.09531  1.09547\n",
      "2022-03-28 02:43:08  1.09531  1.09547\n",
      "2022-03-28 02:43:09  1.09531  1.09547\n",
      "2022-03-28 02:43:10  1.09530  1.09548\n",
      "2022-03-28 02:43:11  1.09530  1.09547\n",
      "Signal is: 1\n",
      "*** NO TRADE PLACED ***\n",
      "*** END OF CYCLE ***\n",
      "\n",
      " False False\n"
     ]
    },
    {
     "name": "stderr",
     "output_type": "stream",
     "text": [
      "C:\\Users\\Eddie\\anaconda3\\envs\\securities-analysis\\lib\\site-packages\\sklearn\\base.py:450: UserWarning: X does not have valid feature names, but AdaBoostClassifier was fitted with feature names\n",
      "  warnings.warn(\n"
     ]
    },
    {
     "name": "stdout",
     "output_type": "stream",
     "text": [
      "min_length is: 465      \n",
      "length of data is: 546\n",
      "                         bid      ask\n",
      "2022-03-28 02:43:08  1.09531  1.09547\n",
      "2022-03-28 02:43:09  1.09531  1.09547\n",
      "2022-03-28 02:43:10  1.09530  1.09548\n",
      "2022-03-28 02:43:11  1.09530  1.09547\n",
      "2022-03-28 02:43:12  1.09529  1.09548\n",
      "Signal is: 1\n",
      "*** NO TRADE PLACED ***\n",
      "*** END OF CYCLE ***\n",
      "\n",
      " False False\n"
     ]
    },
    {
     "name": "stderr",
     "output_type": "stream",
     "text": [
      "C:\\Users\\Eddie\\anaconda3\\envs\\securities-analysis\\lib\\site-packages\\sklearn\\base.py:450: UserWarning: X does not have valid feature names, but AdaBoostClassifier was fitted with feature names\n",
      "  warnings.warn(\n"
     ]
    },
    {
     "name": "stdout",
     "output_type": "stream",
     "text": [
      "min_length is: 466      \n",
      "length of data is: 546\n",
      "                         bid      ask\n",
      "2022-03-28 02:43:08  1.09531  1.09547\n",
      "2022-03-28 02:43:09  1.09531  1.09547\n",
      "2022-03-28 02:43:10  1.09530  1.09548\n",
      "2022-03-28 02:43:11  1.09530  1.09547\n",
      "2022-03-28 02:43:12  1.09529  1.09548\n",
      "Signal is: 1\n",
      "*** NO TRADE PLACED ***\n",
      "*** END OF CYCLE ***\n",
      "\n",
      " False False\n"
     ]
    },
    {
     "name": "stderr",
     "output_type": "stream",
     "text": [
      "C:\\Users\\Eddie\\anaconda3\\envs\\securities-analysis\\lib\\site-packages\\sklearn\\base.py:450: UserWarning: X does not have valid feature names, but AdaBoostClassifier was fitted with feature names\n",
      "  warnings.warn(\n"
     ]
    },
    {
     "name": "stdout",
     "output_type": "stream",
     "text": [
      "min_length is: 467      \n",
      "length of data is: 549\n",
      "                         bid      ask\n",
      "2022-03-28 02:43:11  1.09530  1.09547\n",
      "2022-03-28 02:43:12  1.09529  1.09548\n",
      "2022-03-28 02:43:13  1.09532  1.09548\n",
      "2022-03-28 02:43:14  1.09532  1.09548\n",
      "2022-03-28 02:43:15  1.09532  1.09548\n",
      "Signal is: 1\n",
      "*** NO TRADE PLACED ***\n",
      "*** END OF CYCLE ***\n",
      "\n",
      " False False\n"
     ]
    },
    {
     "name": "stderr",
     "output_type": "stream",
     "text": [
      "C:\\Users\\Eddie\\anaconda3\\envs\\securities-analysis\\lib\\site-packages\\sklearn\\base.py:450: UserWarning: X does not have valid feature names, but AdaBoostClassifier was fitted with feature names\n",
      "  warnings.warn(\n"
     ]
    },
    {
     "name": "stdout",
     "output_type": "stream",
     "text": [
      "min_length is: 468      \n",
      "length of data is: 550\n",
      "                         bid      ask\n",
      "2022-03-28 02:43:12  1.09529  1.09548\n",
      "2022-03-28 02:43:13  1.09532  1.09548\n",
      "2022-03-28 02:43:14  1.09532  1.09548\n",
      "2022-03-28 02:43:15  1.09532  1.09548\n",
      "2022-03-28 02:43:16  1.09533  1.09548\n",
      "Signal is: 1\n",
      "*** NO TRADE PLACED ***\n",
      "*** END OF CYCLE ***\n",
      "\n",
      " False False\n"
     ]
    },
    {
     "name": "stderr",
     "output_type": "stream",
     "text": [
      "C:\\Users\\Eddie\\anaconda3\\envs\\securities-analysis\\lib\\site-packages\\sklearn\\base.py:450: UserWarning: X does not have valid feature names, but AdaBoostClassifier was fitted with feature names\n",
      "  warnings.warn(\n"
     ]
    },
    {
     "name": "stdout",
     "output_type": "stream",
     "text": [
      "min_length is: 469      \n",
      "length of data is: 550\n",
      "                         bid      ask\n",
      "2022-03-28 02:43:12  1.09529  1.09548\n",
      "2022-03-28 02:43:13  1.09532  1.09548\n",
      "2022-03-28 02:43:14  1.09532  1.09548\n",
      "2022-03-28 02:43:15  1.09532  1.09548\n",
      "2022-03-28 02:43:16  1.09533  1.09548\n",
      "Signal is: 1\n",
      "*** NO TRADE PLACED ***\n",
      "*** END OF CYCLE ***\n",
      "\n",
      " False False\n"
     ]
    },
    {
     "name": "stderr",
     "output_type": "stream",
     "text": [
      "C:\\Users\\Eddie\\anaconda3\\envs\\securities-analysis\\lib\\site-packages\\sklearn\\base.py:450: UserWarning: X does not have valid feature names, but AdaBoostClassifier was fitted with feature names\n",
      "  warnings.warn(\n"
     ]
    },
    {
     "name": "stdout",
     "output_type": "stream",
     "text": [
      "min_length is: 470      \n",
      "length of data is: 551\n",
      "                         bid      ask\n",
      "2022-03-28 02:43:13  1.09532  1.09548\n",
      "2022-03-28 02:43:14  1.09532  1.09548\n",
      "2022-03-28 02:43:15  1.09532  1.09548\n",
      "2022-03-28 02:43:16  1.09533  1.09548\n",
      "2022-03-28 02:43:17  1.09533  1.09548\n",
      "Signal is: 1\n",
      "*** NO TRADE PLACED ***\n",
      "*** END OF CYCLE ***\n",
      "\n",
      " False False\n"
     ]
    },
    {
     "name": "stderr",
     "output_type": "stream",
     "text": [
      "C:\\Users\\Eddie\\anaconda3\\envs\\securities-analysis\\lib\\site-packages\\sklearn\\base.py:450: UserWarning: X does not have valid feature names, but AdaBoostClassifier was fitted with feature names\n",
      "  warnings.warn(\n"
     ]
    },
    {
     "name": "stdout",
     "output_type": "stream",
     "text": [
      "min_length is: 471      \n",
      "length of data is: 552\n",
      "                         bid      ask\n",
      "2022-03-28 02:43:14  1.09532  1.09548\n",
      "2022-03-28 02:43:15  1.09532  1.09548\n",
      "2022-03-28 02:43:16  1.09533  1.09548\n",
      "2022-03-28 02:43:17  1.09533  1.09548\n",
      "2022-03-28 02:43:18  1.09534  1.09548\n",
      "Signal is: 1\n",
      "*** NO TRADE PLACED ***\n",
      "*** END OF CYCLE ***\n",
      "\n",
      " False False\n"
     ]
    },
    {
     "name": "stderr",
     "output_type": "stream",
     "text": [
      "C:\\Users\\Eddie\\anaconda3\\envs\\securities-analysis\\lib\\site-packages\\sklearn\\base.py:450: UserWarning: X does not have valid feature names, but AdaBoostClassifier was fitted with feature names\n",
      "  warnings.warn(\n"
     ]
    },
    {
     "name": "stdout",
     "output_type": "stream",
     "text": [
      "min_length is: 472      \n",
      "length of data is: 557\n",
      "                         bid      ask\n",
      "2022-03-28 02:43:19  1.09533  1.09549\n",
      "2022-03-28 02:43:20  1.09533  1.09549\n",
      "2022-03-28 02:43:21  1.09533  1.09549\n",
      "2022-03-28 02:43:22  1.09533  1.09549\n",
      "2022-03-28 02:43:23  1.09533  1.09549\n",
      "Signal is: 1\n",
      "*** NO TRADE PLACED ***\n",
      "*** END OF CYCLE ***\n",
      "\n",
      " False False\n"
     ]
    },
    {
     "name": "stderr",
     "output_type": "stream",
     "text": [
      "C:\\Users\\Eddie\\anaconda3\\envs\\securities-analysis\\lib\\site-packages\\sklearn\\base.py:450: UserWarning: X does not have valid feature names, but AdaBoostClassifier was fitted with feature names\n",
      "  warnings.warn(\n"
     ]
    },
    {
     "name": "stdout",
     "output_type": "stream",
     "text": [
      "min_length is: 473      \n",
      "length of data is: 560\n",
      "                         bid      ask\n",
      "2022-03-28 02:43:22  1.09533  1.09549\n",
      "2022-03-28 02:43:23  1.09533  1.09549\n",
      "2022-03-28 02:43:24  1.09533  1.09548\n",
      "2022-03-28 02:43:25  1.09533  1.09548\n",
      "2022-03-28 02:43:26  1.09533  1.09548\n",
      "Signal is: 1\n",
      "*** NO TRADE PLACED ***\n",
      "*** END OF CYCLE ***\n",
      "\n",
      " False False\n"
     ]
    },
    {
     "name": "stderr",
     "output_type": "stream",
     "text": [
      "C:\\Users\\Eddie\\anaconda3\\envs\\securities-analysis\\lib\\site-packages\\sklearn\\base.py:450: UserWarning: X does not have valid feature names, but AdaBoostClassifier was fitted with feature names\n",
      "  warnings.warn(\n"
     ]
    },
    {
     "name": "stdout",
     "output_type": "stream",
     "text": [
      "min_length is: 474      \n",
      "length of data is: 561\n",
      "                         bid      ask\n",
      "2022-03-28 02:43:23  1.09533  1.09549\n",
      "2022-03-28 02:43:24  1.09533  1.09548\n",
      "2022-03-28 02:43:25  1.09533  1.09548\n",
      "2022-03-28 02:43:26  1.09533  1.09548\n",
      "2022-03-28 02:43:27  1.09532  1.09549\n",
      "Signal is: 1\n",
      "*** NO TRADE PLACED ***\n",
      "*** END OF CYCLE ***\n",
      "\n",
      " False False\n"
     ]
    },
    {
     "name": "stderr",
     "output_type": "stream",
     "text": [
      "C:\\Users\\Eddie\\anaconda3\\envs\\securities-analysis\\lib\\site-packages\\sklearn\\base.py:450: UserWarning: X does not have valid feature names, but AdaBoostClassifier was fitted with feature names\n",
      "  warnings.warn(\n"
     ]
    },
    {
     "name": "stdout",
     "output_type": "stream",
     "text": [
      "min_length is: 475      \n",
      "length of data is: 561\n",
      "                         bid      ask\n",
      "2022-03-28 02:43:23  1.09533  1.09549\n",
      "2022-03-28 02:43:24  1.09533  1.09548\n",
      "2022-03-28 02:43:25  1.09533  1.09548\n",
      "2022-03-28 02:43:26  1.09533  1.09548\n",
      "2022-03-28 02:43:27  1.09532  1.09549\n",
      "Signal is: 1\n",
      "*** NO TRADE PLACED ***\n",
      "*** END OF CYCLE ***\n",
      "\n",
      " False False\n"
     ]
    },
    {
     "name": "stderr",
     "output_type": "stream",
     "text": [
      "C:\\Users\\Eddie\\anaconda3\\envs\\securities-analysis\\lib\\site-packages\\sklearn\\base.py:450: UserWarning: X does not have valid feature names, but AdaBoostClassifier was fitted with feature names\n",
      "  warnings.warn(\n"
     ]
    },
    {
     "name": "stdout",
     "output_type": "stream",
     "text": [
      "min_length is: 476      \n",
      "length of data is: 561\n",
      "                         bid      ask\n",
      "2022-03-28 02:43:23  1.09533  1.09549\n",
      "2022-03-28 02:43:24  1.09533  1.09548\n",
      "2022-03-28 02:43:25  1.09533  1.09548\n",
      "2022-03-28 02:43:26  1.09533  1.09548\n",
      "2022-03-28 02:43:27  1.09532  1.09549\n",
      "Signal is: 1\n",
      "*** NO TRADE PLACED ***\n",
      "*** END OF CYCLE ***\n",
      "\n",
      " False False\n"
     ]
    },
    {
     "name": "stderr",
     "output_type": "stream",
     "text": [
      "C:\\Users\\Eddie\\anaconda3\\envs\\securities-analysis\\lib\\site-packages\\sklearn\\base.py:450: UserWarning: X does not have valid feature names, but AdaBoostClassifier was fitted with feature names\n",
      "  warnings.warn(\n"
     ]
    },
    {
     "name": "stdout",
     "output_type": "stream",
     "text": [
      "min_length is: 477      \n",
      "length of data is: 562\n",
      "                         bid      ask\n",
      "2022-03-28 02:43:24  1.09533  1.09548\n",
      "2022-03-28 02:43:25  1.09533  1.09548\n",
      "2022-03-28 02:43:26  1.09533  1.09548\n",
      "2022-03-28 02:43:27  1.09532  1.09549\n",
      "2022-03-28 02:43:28  1.09537  1.09554\n",
      "Signal is: 1\n",
      "*** NO TRADE PLACED ***\n",
      "*** END OF CYCLE ***\n",
      "\n",
      " False False\n"
     ]
    },
    {
     "name": "stderr",
     "output_type": "stream",
     "text": [
      "C:\\Users\\Eddie\\anaconda3\\envs\\securities-analysis\\lib\\site-packages\\sklearn\\base.py:450: UserWarning: X does not have valid feature names, but AdaBoostClassifier was fitted with feature names\n",
      "  warnings.warn(\n"
     ]
    },
    {
     "name": "stdout",
     "output_type": "stream",
     "text": [
      "min_length is: 478      \n",
      "length of data is: 562\n",
      "                         bid      ask\n",
      "2022-03-28 02:43:24  1.09533  1.09548\n",
      "2022-03-28 02:43:25  1.09533  1.09548\n",
      "2022-03-28 02:43:26  1.09533  1.09548\n",
      "2022-03-28 02:43:27  1.09532  1.09549\n",
      "2022-03-28 02:43:28  1.09537  1.09554\n",
      "Signal is: 1\n",
      "*** NO TRADE PLACED ***\n",
      "*** END OF CYCLE ***\n",
      "\n",
      " False False\n"
     ]
    },
    {
     "name": "stderr",
     "output_type": "stream",
     "text": [
      "C:\\Users\\Eddie\\anaconda3\\envs\\securities-analysis\\lib\\site-packages\\sklearn\\base.py:450: UserWarning: X does not have valid feature names, but AdaBoostClassifier was fitted with feature names\n",
      "  warnings.warn(\n"
     ]
    },
    {
     "name": "stdout",
     "output_type": "stream",
     "text": [
      "min_length is: 479      \n",
      "length of data is: 564\n",
      "                         bid      ask\n",
      "2022-03-28 02:43:26  1.09533  1.09548\n",
      "2022-03-28 02:43:27  1.09532  1.09549\n",
      "2022-03-28 02:43:28  1.09537  1.09554\n",
      "2022-03-28 02:43:29  1.09541  1.09556\n",
      "2022-03-28 02:43:30  1.09541  1.09556\n",
      "Signal is: 1\n",
      "*** NO TRADE PLACED ***\n",
      "*** END OF CYCLE ***\n",
      "\n",
      " False False\n"
     ]
    },
    {
     "name": "stderr",
     "output_type": "stream",
     "text": [
      "C:\\Users\\Eddie\\anaconda3\\envs\\securities-analysis\\lib\\site-packages\\sklearn\\base.py:450: UserWarning: X does not have valid feature names, but AdaBoostClassifier was fitted with feature names\n",
      "  warnings.warn(\n"
     ]
    },
    {
     "name": "stdout",
     "output_type": "stream",
     "text": [
      "min_length is: 480      \n",
      "length of data is: 565\n",
      "                         bid      ask\n",
      "2022-03-28 02:43:27  1.09532  1.09549\n",
      "2022-03-28 02:43:28  1.09537  1.09554\n",
      "2022-03-28 02:43:29  1.09541  1.09556\n",
      "2022-03-28 02:43:30  1.09541  1.09556\n",
      "2022-03-28 02:43:31  1.09539  1.09555\n",
      "Signal is: 1\n",
      "*** NO TRADE PLACED ***\n",
      "*** END OF CYCLE ***\n",
      "\n",
      " False False\n"
     ]
    },
    {
     "name": "stderr",
     "output_type": "stream",
     "text": [
      "C:\\Users\\Eddie\\anaconda3\\envs\\securities-analysis\\lib\\site-packages\\sklearn\\base.py:450: UserWarning: X does not have valid feature names, but AdaBoostClassifier was fitted with feature names\n",
      "  warnings.warn(\n"
     ]
    },
    {
     "name": "stdout",
     "output_type": "stream",
     "text": [
      "min_length is: 481      \n",
      "length of data is: 565\n",
      "                         bid      ask\n",
      "2022-03-28 02:43:27  1.09532  1.09549\n",
      "2022-03-28 02:43:28  1.09537  1.09554\n",
      "2022-03-28 02:43:29  1.09541  1.09556\n",
      "2022-03-28 02:43:30  1.09541  1.09556\n",
      "2022-03-28 02:43:31  1.09539  1.09555\n",
      "Signal is: 1\n",
      "*** NO TRADE PLACED ***\n",
      "*** END OF CYCLE ***\n",
      "\n",
      " False False\n"
     ]
    },
    {
     "name": "stderr",
     "output_type": "stream",
     "text": [
      "C:\\Users\\Eddie\\anaconda3\\envs\\securities-analysis\\lib\\site-packages\\sklearn\\base.py:450: UserWarning: X does not have valid feature names, but AdaBoostClassifier was fitted with feature names\n",
      "  warnings.warn(\n"
     ]
    },
    {
     "name": "stdout",
     "output_type": "stream",
     "text": [
      "min_length is: 482      \n",
      "length of data is: 567\n",
      "                         bid      ask\n",
      "2022-03-28 02:43:29  1.09541  1.09556\n",
      "2022-03-28 02:43:30  1.09541  1.09556\n",
      "2022-03-28 02:43:31  1.09539  1.09555\n",
      "2022-03-28 02:43:32  1.09539  1.09556\n",
      "2022-03-28 02:43:33  1.09539  1.09556\n",
      "Signal is: 1\n",
      "*** NO TRADE PLACED ***\n",
      "*** END OF CYCLE ***\n",
      "\n",
      " False False\n"
     ]
    },
    {
     "name": "stderr",
     "output_type": "stream",
     "text": [
      "C:\\Users\\Eddie\\anaconda3\\envs\\securities-analysis\\lib\\site-packages\\sklearn\\base.py:450: UserWarning: X does not have valid feature names, but AdaBoostClassifier was fitted with feature names\n",
      "  warnings.warn(\n"
     ]
    },
    {
     "name": "stdout",
     "output_type": "stream",
     "text": [
      "min_length is: 483      \n",
      "length of data is: 568\n",
      "                         bid      ask\n",
      "2022-03-28 02:43:30  1.09541  1.09556\n",
      "2022-03-28 02:43:31  1.09539  1.09555\n",
      "2022-03-28 02:43:32  1.09539  1.09556\n",
      "2022-03-28 02:43:33  1.09539  1.09556\n",
      "2022-03-28 02:43:34  1.09540  1.09555\n",
      "Signal is: 1\n",
      "*** NO TRADE PLACED ***\n",
      "*** END OF CYCLE ***\n",
      "\n",
      " False False\n"
     ]
    },
    {
     "name": "stderr",
     "output_type": "stream",
     "text": [
      "C:\\Users\\Eddie\\anaconda3\\envs\\securities-analysis\\lib\\site-packages\\sklearn\\base.py:450: UserWarning: X does not have valid feature names, but AdaBoostClassifier was fitted with feature names\n",
      "  warnings.warn(\n"
     ]
    },
    {
     "name": "stdout",
     "output_type": "stream",
     "text": [
      "min_length is: 484      \n",
      "length of data is: 569\n",
      "                         bid      ask\n",
      "2022-03-28 02:43:31  1.09539  1.09555\n",
      "2022-03-28 02:43:32  1.09539  1.09556\n",
      "2022-03-28 02:43:33  1.09539  1.09556\n",
      "2022-03-28 02:43:34  1.09540  1.09555\n",
      "2022-03-28 02:43:35  1.09538  1.09553\n",
      "Signal is: 1\n",
      "*** NO TRADE PLACED ***\n",
      "*** END OF CYCLE ***\n",
      "\n",
      " False False\n"
     ]
    },
    {
     "name": "stderr",
     "output_type": "stream",
     "text": [
      "C:\\Users\\Eddie\\anaconda3\\envs\\securities-analysis\\lib\\site-packages\\sklearn\\base.py:450: UserWarning: X does not have valid feature names, but AdaBoostClassifier was fitted with feature names\n",
      "  warnings.warn(\n"
     ]
    },
    {
     "name": "stdout",
     "output_type": "stream",
     "text": [
      "min_length is: 485      \n",
      "length of data is: 569\n",
      "                         bid      ask\n",
      "2022-03-28 02:43:31  1.09539  1.09555\n",
      "2022-03-28 02:43:32  1.09539  1.09556\n",
      "2022-03-28 02:43:33  1.09539  1.09556\n",
      "2022-03-28 02:43:34  1.09540  1.09555\n",
      "2022-03-28 02:43:35  1.09538  1.09553\n",
      "Signal is: 1\n",
      "*** NO TRADE PLACED ***\n",
      "*** END OF CYCLE ***\n",
      "\n",
      " False False\n"
     ]
    },
    {
     "name": "stderr",
     "output_type": "stream",
     "text": [
      "C:\\Users\\Eddie\\anaconda3\\envs\\securities-analysis\\lib\\site-packages\\sklearn\\base.py:450: UserWarning: X does not have valid feature names, but AdaBoostClassifier was fitted with feature names\n",
      "  warnings.warn(\n"
     ]
    },
    {
     "name": "stdout",
     "output_type": "stream",
     "text": [
      "min_length is: 486      \n",
      "length of data is: 570\n",
      "                         bid      ask\n",
      "2022-03-28 02:43:32  1.09539  1.09556\n",
      "2022-03-28 02:43:33  1.09539  1.09556\n",
      "2022-03-28 02:43:34  1.09540  1.09555\n",
      "2022-03-28 02:43:35  1.09538  1.09553\n",
      "2022-03-28 02:43:36  1.09540  1.09554\n",
      "Signal is: 1\n",
      "*** NO TRADE PLACED ***\n",
      "*** END OF CYCLE ***\n",
      "\n",
      " False False\n"
     ]
    },
    {
     "name": "stderr",
     "output_type": "stream",
     "text": [
      "C:\\Users\\Eddie\\anaconda3\\envs\\securities-analysis\\lib\\site-packages\\sklearn\\base.py:450: UserWarning: X does not have valid feature names, but AdaBoostClassifier was fitted with feature names\n",
      "  warnings.warn(\n"
     ]
    },
    {
     "name": "stdout",
     "output_type": "stream",
     "text": [
      "min_length is: 487      \n",
      "length of data is: 571\n",
      "                         bid      ask\n",
      "2022-03-28 02:43:33  1.09539  1.09556\n",
      "2022-03-28 02:43:34  1.09540  1.09555\n",
      "2022-03-28 02:43:35  1.09538  1.09553\n",
      "2022-03-28 02:43:36  1.09540  1.09554\n",
      "2022-03-28 02:43:37  1.09538  1.09555\n",
      "Signal is: 1\n",
      "*** NO TRADE PLACED ***\n",
      "*** END OF CYCLE ***\n",
      "\n",
      " False False\n"
     ]
    },
    {
     "name": "stderr",
     "output_type": "stream",
     "text": [
      "C:\\Users\\Eddie\\anaconda3\\envs\\securities-analysis\\lib\\site-packages\\sklearn\\base.py:450: UserWarning: X does not have valid feature names, but AdaBoostClassifier was fitted with feature names\n",
      "  warnings.warn(\n"
     ]
    },
    {
     "name": "stdout",
     "output_type": "stream",
     "text": [
      "min_length is: 488      \n",
      "length of data is: 571\n",
      "                         bid      ask\n",
      "2022-03-28 02:43:33  1.09539  1.09556\n",
      "2022-03-28 02:43:34  1.09540  1.09555\n",
      "2022-03-28 02:43:35  1.09538  1.09553\n",
      "2022-03-28 02:43:36  1.09540  1.09554\n",
      "2022-03-28 02:43:37  1.09538  1.09555\n",
      "Signal is: 1\n",
      "*** NO TRADE PLACED ***\n",
      "*** END OF CYCLE ***\n",
      "\n",
      " False False\n"
     ]
    },
    {
     "name": "stderr",
     "output_type": "stream",
     "text": [
      "C:\\Users\\Eddie\\anaconda3\\envs\\securities-analysis\\lib\\site-packages\\sklearn\\base.py:450: UserWarning: X does not have valid feature names, but AdaBoostClassifier was fitted with feature names\n",
      "  warnings.warn(\n"
     ]
    },
    {
     "name": "stdout",
     "output_type": "stream",
     "text": [
      "min_length is: 489      \n",
      "length of data is: 572\n",
      "                         bid      ask\n",
      "2022-03-28 02:43:34  1.09540  1.09555\n",
      "2022-03-28 02:43:35  1.09538  1.09553\n",
      "2022-03-28 02:43:36  1.09540  1.09554\n",
      "2022-03-28 02:43:37  1.09538  1.09555\n",
      "2022-03-28 02:43:38  1.09539  1.09555\n",
      "Signal is: 1\n",
      "*** NO TRADE PLACED ***\n",
      "*** END OF CYCLE ***\n",
      "\n",
      " False False\n"
     ]
    },
    {
     "name": "stderr",
     "output_type": "stream",
     "text": [
      "C:\\Users\\Eddie\\anaconda3\\envs\\securities-analysis\\lib\\site-packages\\sklearn\\base.py:450: UserWarning: X does not have valid feature names, but AdaBoostClassifier was fitted with feature names\n",
      "  warnings.warn(\n"
     ]
    },
    {
     "name": "stdout",
     "output_type": "stream",
     "text": [
      "min_length is: 490      \n",
      "length of data is: 572\n",
      "                         bid      ask\n",
      "2022-03-28 02:43:34  1.09540  1.09555\n",
      "2022-03-28 02:43:35  1.09538  1.09553\n",
      "2022-03-28 02:43:36  1.09540  1.09554\n",
      "2022-03-28 02:43:37  1.09538  1.09555\n",
      "2022-03-28 02:43:38  1.09539  1.09555\n",
      "Signal is: 1\n",
      "*** NO TRADE PLACED ***\n",
      "*** END OF CYCLE ***\n",
      "\n",
      " False False\n"
     ]
    },
    {
     "name": "stderr",
     "output_type": "stream",
     "text": [
      "C:\\Users\\Eddie\\anaconda3\\envs\\securities-analysis\\lib\\site-packages\\sklearn\\base.py:450: UserWarning: X does not have valid feature names, but AdaBoostClassifier was fitted with feature names\n",
      "  warnings.warn(\n"
     ]
    },
    {
     "name": "stdout",
     "output_type": "stream",
     "text": [
      "min_length is: 491      \n",
      "length of data is: 572\n",
      "                         bid      ask\n",
      "2022-03-28 02:43:34  1.09540  1.09555\n",
      "2022-03-28 02:43:35  1.09538  1.09553\n",
      "2022-03-28 02:43:36  1.09540  1.09554\n",
      "2022-03-28 02:43:37  1.09538  1.09555\n",
      "2022-03-28 02:43:38  1.09539  1.09555\n",
      "Signal is: 1\n",
      "*** NO TRADE PLACED ***\n",
      "*** END OF CYCLE ***\n",
      "\n",
      " False False\n"
     ]
    },
    {
     "name": "stderr",
     "output_type": "stream",
     "text": [
      "C:\\Users\\Eddie\\anaconda3\\envs\\securities-analysis\\lib\\site-packages\\sklearn\\base.py:450: UserWarning: X does not have valid feature names, but AdaBoostClassifier was fitted with feature names\n",
      "  warnings.warn(\n"
     ]
    },
    {
     "name": "stdout",
     "output_type": "stream",
     "text": [
      "min_length is: 492      \n",
      "length of data is: 573\n",
      "                         bid      ask\n",
      "2022-03-28 02:43:35  1.09538  1.09553\n",
      "2022-03-28 02:43:36  1.09540  1.09554\n",
      "2022-03-28 02:43:37  1.09538  1.09555\n",
      "2022-03-28 02:43:38  1.09539  1.09555\n",
      "2022-03-28 02:43:39  1.09541  1.09557\n",
      "Signal is: 1\n",
      "*** NO TRADE PLACED ***\n",
      "*** END OF CYCLE ***\n",
      "\n",
      " False False\n"
     ]
    },
    {
     "name": "stderr",
     "output_type": "stream",
     "text": [
      "C:\\Users\\Eddie\\anaconda3\\envs\\securities-analysis\\lib\\site-packages\\sklearn\\base.py:450: UserWarning: X does not have valid feature names, but AdaBoostClassifier was fitted with feature names\n",
      "  warnings.warn(\n"
     ]
    },
    {
     "name": "stdout",
     "output_type": "stream",
     "text": [
      "min_length is: 493      \n",
      "length of data is: 576\n",
      "                         bid      ask\n",
      "2022-03-28 02:43:38  1.09539  1.09555\n",
      "2022-03-28 02:43:39  1.09541  1.09557\n",
      "2022-03-28 02:43:40  1.09540  1.09557\n",
      "2022-03-28 02:43:41  1.09540  1.09557\n",
      "2022-03-28 02:43:42  1.09540  1.09557\n",
      "Signal is: 1\n",
      "*** NO TRADE PLACED ***\n",
      "*** END OF CYCLE ***\n",
      "\n",
      " False False\n"
     ]
    },
    {
     "name": "stderr",
     "output_type": "stream",
     "text": [
      "C:\\Users\\Eddie\\anaconda3\\envs\\securities-analysis\\lib\\site-packages\\sklearn\\base.py:450: UserWarning: X does not have valid feature names, but AdaBoostClassifier was fitted with feature names\n",
      "  warnings.warn(\n"
     ]
    },
    {
     "name": "stdout",
     "output_type": "stream",
     "text": [
      "min_length is: 494      \n",
      "length of data is: 582\n",
      "                         bid      ask\n",
      "2022-03-28 02:43:44  1.09542  1.09558\n",
      "2022-03-28 02:43:45  1.09542  1.09558\n",
      "2022-03-28 02:43:46  1.09542  1.09558\n",
      "2022-03-28 02:43:47  1.09542  1.09558\n",
      "2022-03-28 02:43:48  1.09542  1.09558\n",
      "Signal is: 1\n",
      "*** NO TRADE PLACED ***\n",
      "*** END OF CYCLE ***\n",
      "\n",
      " False False\n"
     ]
    },
    {
     "name": "stderr",
     "output_type": "stream",
     "text": [
      "C:\\Users\\Eddie\\anaconda3\\envs\\securities-analysis\\lib\\site-packages\\sklearn\\base.py:450: UserWarning: X does not have valid feature names, but AdaBoostClassifier was fitted with feature names\n",
      "  warnings.warn(\n"
     ]
    },
    {
     "name": "stdout",
     "output_type": "stream",
     "text": [
      "min_length is: 495      \n",
      "length of data is: 582\n",
      "                         bid      ask\n",
      "2022-03-28 02:43:44  1.09542  1.09558\n",
      "2022-03-28 02:43:45  1.09542  1.09558\n",
      "2022-03-28 02:43:46  1.09542  1.09558\n",
      "2022-03-28 02:43:47  1.09542  1.09558\n",
      "2022-03-28 02:43:48  1.09542  1.09558\n",
      "Signal is: 1\n",
      "*** NO TRADE PLACED ***\n",
      "*** END OF CYCLE ***\n",
      "\n",
      " False False\n"
     ]
    },
    {
     "name": "stderr",
     "output_type": "stream",
     "text": [
      "C:\\Users\\Eddie\\anaconda3\\envs\\securities-analysis\\lib\\site-packages\\sklearn\\base.py:450: UserWarning: X does not have valid feature names, but AdaBoostClassifier was fitted with feature names\n",
      "  warnings.warn(\n"
     ]
    },
    {
     "name": "stdout",
     "output_type": "stream",
     "text": [
      "min_length is: 496      \n",
      "length of data is: 585\n",
      "                         bid      ask\n",
      "2022-03-28 02:43:47  1.09542  1.09558\n",
      "2022-03-28 02:43:48  1.09542  1.09558\n",
      "2022-03-28 02:43:49  1.09542  1.09559\n",
      "2022-03-28 02:43:50  1.09542  1.09559\n",
      "2022-03-28 02:43:51  1.09542  1.09559\n",
      "Signal is: 1\n",
      "*** NO TRADE PLACED ***\n",
      "*** END OF CYCLE ***\n",
      "\n",
      " False False\n"
     ]
    },
    {
     "name": "stderr",
     "output_type": "stream",
     "text": [
      "C:\\Users\\Eddie\\anaconda3\\envs\\securities-analysis\\lib\\site-packages\\sklearn\\base.py:450: UserWarning: X does not have valid feature names, but AdaBoostClassifier was fitted with feature names\n",
      "  warnings.warn(\n"
     ]
    },
    {
     "name": "stdout",
     "output_type": "stream",
     "text": [
      "min_length is: 497      \n",
      "length of data is: 593\n",
      "                        bid      ask\n",
      "2022-03-28 02:43:55  1.0954  1.09559\n",
      "2022-03-28 02:43:56  1.0954  1.09559\n",
      "2022-03-28 02:43:57  1.0954  1.09559\n",
      "2022-03-28 02:43:58  1.0954  1.09559\n",
      "2022-03-28 02:43:59  1.0954  1.09559\n",
      "Signal is: 1\n",
      "*** NO TRADE PLACED ***\n",
      "*** END OF CYCLE ***\n",
      "\n",
      " False False\n"
     ]
    },
    {
     "name": "stderr",
     "output_type": "stream",
     "text": [
      "C:\\Users\\Eddie\\anaconda3\\envs\\securities-analysis\\lib\\site-packages\\sklearn\\base.py:450: UserWarning: X does not have valid feature names, but AdaBoostClassifier was fitted with feature names\n",
      "  warnings.warn(\n"
     ]
    },
    {
     "name": "stdout",
     "output_type": "stream",
     "text": [
      "min_length is: 498      \n",
      "length of data is: 593\n",
      "                        bid      ask\n",
      "2022-03-28 02:43:55  1.0954  1.09559\n",
      "2022-03-28 02:43:56  1.0954  1.09559\n",
      "2022-03-28 02:43:57  1.0954  1.09559\n",
      "2022-03-28 02:43:58  1.0954  1.09559\n",
      "2022-03-28 02:43:59  1.0954  1.09559\n",
      "Signal is: 1\n",
      "*** NO TRADE PLACED ***\n",
      "*** END OF CYCLE ***\n",
      "\n",
      " False False\n"
     ]
    },
    {
     "name": "stderr",
     "output_type": "stream",
     "text": [
      "C:\\Users\\Eddie\\anaconda3\\envs\\securities-analysis\\lib\\site-packages\\sklearn\\base.py:450: UserWarning: X does not have valid feature names, but AdaBoostClassifier was fitted with feature names\n",
      "  warnings.warn(\n"
     ]
    },
    {
     "name": "stdout",
     "output_type": "stream",
     "text": [
      "min_length is: 499      \n",
      "length of data is: 598\n",
      "                        bid      ask\n",
      "2022-03-28 02:44:00  1.0954  1.09559\n",
      "2022-03-28 02:44:01  1.0954  1.09559\n",
      "2022-03-28 02:44:02  1.0954  1.09559\n",
      "2022-03-28 02:44:03  1.0954  1.09559\n",
      "2022-03-28 02:44:04  1.0954  1.09559\n",
      "Signal is: 1\n",
      "*** NO TRADE PLACED ***\n",
      "*** END OF CYCLE ***\n",
      "\n",
      " False False\n"
     ]
    },
    {
     "name": "stderr",
     "output_type": "stream",
     "text": [
      "C:\\Users\\Eddie\\anaconda3\\envs\\securities-analysis\\lib\\site-packages\\sklearn\\base.py:450: UserWarning: X does not have valid feature names, but AdaBoostClassifier was fitted with feature names\n",
      "  warnings.warn(\n"
     ]
    },
    {
     "name": "stdout",
     "output_type": "stream",
     "text": [
      "min_length is: 500      \n",
      "length of data is: 604\n",
      "                         bid     ask\n",
      "2022-03-28 02:44:06  1.09541  1.0956\n",
      "2022-03-28 02:44:07  1.09541  1.0956\n",
      "2022-03-28 02:44:08  1.09541  1.0956\n",
      "2022-03-28 02:44:09  1.09541  1.0956\n",
      "2022-03-28 02:44:10  1.09541  1.0956\n",
      "Signal is: 1\n",
      "*** NO TRADE PLACED ***\n",
      "*** END OF CYCLE ***\n",
      "\n",
      " False False\n"
     ]
    },
    {
     "name": "stderr",
     "output_type": "stream",
     "text": [
      "C:\\Users\\Eddie\\anaconda3\\envs\\securities-analysis\\lib\\site-packages\\sklearn\\base.py:450: UserWarning: X does not have valid feature names, but AdaBoostClassifier was fitted with feature names\n",
      "  warnings.warn(\n"
     ]
    },
    {
     "name": "stdout",
     "output_type": "stream",
     "text": [
      "min_length is: 501      \n",
      "length of data is: 604\n",
      "                         bid     ask\n",
      "2022-03-28 02:44:06  1.09541  1.0956\n",
      "2022-03-28 02:44:07  1.09541  1.0956\n",
      "2022-03-28 02:44:08  1.09541  1.0956\n",
      "2022-03-28 02:44:09  1.09541  1.0956\n",
      "2022-03-28 02:44:10  1.09541  1.0956\n",
      "Signal is: 1\n",
      "*** NO TRADE PLACED ***\n",
      "*** END OF CYCLE ***\n",
      "\n",
      " False False\n"
     ]
    },
    {
     "name": "stderr",
     "output_type": "stream",
     "text": [
      "C:\\Users\\Eddie\\anaconda3\\envs\\securities-analysis\\lib\\site-packages\\sklearn\\base.py:450: UserWarning: X does not have valid feature names, but AdaBoostClassifier was fitted with feature names\n",
      "  warnings.warn(\n"
     ]
    },
    {
     "name": "stdout",
     "output_type": "stream",
     "text": [
      "min_length is: 502      \n",
      "length of data is: 604\n",
      "                         bid     ask\n",
      "2022-03-28 02:44:06  1.09541  1.0956\n",
      "2022-03-28 02:44:07  1.09541  1.0956\n",
      "2022-03-28 02:44:08  1.09541  1.0956\n",
      "2022-03-28 02:44:09  1.09541  1.0956\n",
      "2022-03-28 02:44:10  1.09541  1.0956\n",
      "Signal is: 1\n",
      "*** NO TRADE PLACED ***\n",
      "*** END OF CYCLE ***\n",
      "\n",
      " False False\n"
     ]
    },
    {
     "name": "stderr",
     "output_type": "stream",
     "text": [
      "C:\\Users\\Eddie\\anaconda3\\envs\\securities-analysis\\lib\\site-packages\\sklearn\\base.py:450: UserWarning: X does not have valid feature names, but AdaBoostClassifier was fitted with feature names\n",
      "  warnings.warn(\n"
     ]
    }
   ],
   "source": [
    "# stop after 500 bars!\n",
    "mlt.stream_data(instrument, stop=500)\n",
    "print('*** CLOSING OUT ***')\n",
    "mlt.create_order(mlt.stream_instrument,units=-mlt.position * mlt.units)"
   ]
  },
  {
   "cell_type": "code",
   "execution_count": null,
   "metadata": {},
   "outputs": [],
   "source": []
  }
 ],
 "metadata": {
  "kernelspec": {
   "display_name": "Python 3.7.3 ('base')",
   "language": "python",
   "name": "python3"
  },
  "language_info": {
   "codemirror_mode": {
    "name": "ipython",
    "version": 3
   },
   "file_extension": ".py",
   "mimetype": "text/x-python",
   "name": "python",
   "nbconvert_exporter": "python",
   "pygments_lexer": "ipython3",
   "version": "3.7.3"
  },
  "orig_nbformat": 4,
  "vscode": {
   "interpreter": {
    "hash": "ad2bdc8ecc057115af97d19610ffacc2b4e99fae6737bb82f5d7fb13d2f2c186"
   }
  }
 },
 "nbformat": 4,
 "nbformat_minor": 2
}
