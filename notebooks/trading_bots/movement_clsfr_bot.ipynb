{
 "cells": [
  {
   "cell_type": "markdown",
   "metadata": {},
   "source": [
    "### **Pricing Movement Classifier Bot**"
   ]
  },
  {
   "cell_type": "code",
   "execution_count": 1,
   "metadata": {},
   "outputs": [],
   "source": [
    "import pandas as pd\n",
    "import numpy as np\n",
    "from tradeAlpaca import tradeAlpaca\n",
    "import random\n",
    "import numpy as np\n",
    "import yfinance as yf\n",
    "import pandas as pd\n",
    "from statsmodels.graphics.tsaplots import plot_acf, plot_pacf\n",
    "#import tensorflow as tf\n",
    "#from keras.models import Sequential\n",
    "#from keras.layers import Dense \n",
    "#from tensorflow.keras.optimizers import Adam, RMSprop\n",
    "import xgboost as xgb\n",
    "from xgboost.sklearn import XGBClassifier\n",
    "from catboost import Pool, CatBoostClassifier, cv, CatBoostRegressor\n",
    "from sklearn import metrics\n",
    "from sklearn.model_selection import RandomizedSearchCV, train_test_split\n",
    "from sklearn.feature_selection import SelectFromModel\n",
    "from matplotlib import style\n",
    "import plotly.express as px \n",
    "import plotly.io as pio\n",
    "# add this to yaml (coinbase pro library)\n",
    "import cbpro\n",
    "from datetime import datetime, timedelta\n",
    "pio.renderers.default = \"notebook_connected\"\n",
    "style.use('dark_background')\n",
    "pd.set_option('display.max_columns', None)"
   ]
  },
  {
   "cell_type": "code",
   "execution_count": 2,
   "metadata": {},
   "outputs": [],
   "source": [
    "# get historical data\n",
    "trade_inst = tradeAlpaca(keys_file=\"../../data/alpaca_keys.cfg\")\n",
    "#trade_inst.get_current_price('SPY')"
   ]
  },
  {
   "cell_type": "code",
   "execution_count": 3,
   "metadata": {},
   "outputs": [],
   "source": [
    "#!pip install cbpro --user"
   ]
  },
  {
   "cell_type": "code",
   "execution_count": 4,
   "metadata": {},
   "outputs": [
    {
     "data": {
      "text/plain": [
       "['REQ-USD', 'GHST-USD', 'QNT-USD', 'RLY-USD', 'C98-USDT']"
      ]
     },
     "execution_count": 4,
     "metadata": {},
     "output_type": "execute_result"
    }
   ],
   "source": [
    "c = cbpro.PublicClient()\n",
    "data_ = pd.DataFrame(c.get_products())\n",
    "crypto_pairs = list(data_['id'].values)\n",
    "crypto_pairs[:5]"
   ]
  },
  {
   "cell_type": "code",
   "execution_count": 61,
   "metadata": {},
   "outputs": [
    {
     "data": {
      "text/html": [
       "<div>\n",
       "<style scoped>\n",
       "    .dataframe tbody tr th:only-of-type {\n",
       "        vertical-align: middle;\n",
       "    }\n",
       "\n",
       "    .dataframe tbody tr th {\n",
       "        vertical-align: top;\n",
       "    }\n",
       "\n",
       "    .dataframe thead th {\n",
       "        text-align: right;\n",
       "    }\n",
       "</style>\n",
       "<table border=\"1\" class=\"dataframe\">\n",
       "  <thead>\n",
       "    <tr style=\"text-align: right;\">\n",
       "      <th></th>\n",
       "      <th></th>\n",
       "      <th>open</th>\n",
       "      <th>high</th>\n",
       "      <th>low</th>\n",
       "      <th>close</th>\n",
       "      <th>volume</th>\n",
       "      <th>trade_count</th>\n",
       "      <th>vwap</th>\n",
       "    </tr>\n",
       "    <tr>\n",
       "      <th>symbol</th>\n",
       "      <th>timestamp</th>\n",
       "      <th></th>\n",
       "      <th></th>\n",
       "      <th></th>\n",
       "      <th></th>\n",
       "      <th></th>\n",
       "      <th></th>\n",
       "      <th></th>\n",
       "    </tr>\n",
       "  </thead>\n",
       "  <tbody>\n",
       "    <tr>\n",
       "      <th rowspan=\"11\" valign=\"top\">SPY</th>\n",
       "      <th>2023-08-11 08:00:00+00:00</th>\n",
       "      <td>446.25</td>\n",
       "      <td>446.31</td>\n",
       "      <td>446.25</td>\n",
       "      <td>446.31</td>\n",
       "      <td>957.0</td>\n",
       "      <td>14.0</td>\n",
       "      <td>446.278433</td>\n",
       "    </tr>\n",
       "    <tr>\n",
       "      <th>2023-08-11 08:01:00+00:00</th>\n",
       "      <td>446.17</td>\n",
       "      <td>446.25</td>\n",
       "      <td>446.17</td>\n",
       "      <td>446.24</td>\n",
       "      <td>1141.0</td>\n",
       "      <td>10.0</td>\n",
       "      <td>446.212866</td>\n",
       "    </tr>\n",
       "    <tr>\n",
       "      <th>2023-08-11 08:02:00+00:00</th>\n",
       "      <td>446.23</td>\n",
       "      <td>446.23</td>\n",
       "      <td>446.22</td>\n",
       "      <td>446.22</td>\n",
       "      <td>361.0</td>\n",
       "      <td>7.0</td>\n",
       "      <td>446.219418</td>\n",
       "    </tr>\n",
       "    <tr>\n",
       "      <th>2023-08-11 08:03:00+00:00</th>\n",
       "      <td>446.19</td>\n",
       "      <td>446.19</td>\n",
       "      <td>446.19</td>\n",
       "      <td>446.19</td>\n",
       "      <td>176.0</td>\n",
       "      <td>2.0</td>\n",
       "      <td>446.172727</td>\n",
       "    </tr>\n",
       "    <tr>\n",
       "      <th>2023-08-11 08:04:00+00:00</th>\n",
       "      <td>446.23</td>\n",
       "      <td>446.23</td>\n",
       "      <td>446.21</td>\n",
       "      <td>446.22</td>\n",
       "      <td>713.0</td>\n",
       "      <td>4.0</td>\n",
       "      <td>446.224208</td>\n",
       "    </tr>\n",
       "    <tr>\n",
       "      <th>...</th>\n",
       "      <td>...</td>\n",
       "      <td>...</td>\n",
       "      <td>...</td>\n",
       "      <td>...</td>\n",
       "      <td>...</td>\n",
       "      <td>...</td>\n",
       "      <td>...</td>\n",
       "    </tr>\n",
       "    <tr>\n",
       "      <th>2023-09-07 23:55:00+00:00</th>\n",
       "      <td>445.12</td>\n",
       "      <td>445.12</td>\n",
       "      <td>445.08</td>\n",
       "      <td>445.08</td>\n",
       "      <td>711.0</td>\n",
       "      <td>9.0</td>\n",
       "      <td>445.109339</td>\n",
       "    </tr>\n",
       "    <tr>\n",
       "      <th>2023-09-07 23:56:00+00:00</th>\n",
       "      <td>445.12</td>\n",
       "      <td>445.12</td>\n",
       "      <td>445.12</td>\n",
       "      <td>445.12</td>\n",
       "      <td>254.0</td>\n",
       "      <td>20.0</td>\n",
       "      <td>445.104409</td>\n",
       "    </tr>\n",
       "    <tr>\n",
       "      <th>2023-09-07 23:57:00+00:00</th>\n",
       "      <td>445.05</td>\n",
       "      <td>445.05</td>\n",
       "      <td>445.05</td>\n",
       "      <td>445.05</td>\n",
       "      <td>326.0</td>\n",
       "      <td>11.0</td>\n",
       "      <td>445.052454</td>\n",
       "    </tr>\n",
       "    <tr>\n",
       "      <th>2023-09-07 23:58:00+00:00</th>\n",
       "      <td>445.05</td>\n",
       "      <td>445.05</td>\n",
       "      <td>445.05</td>\n",
       "      <td>445.05</td>\n",
       "      <td>1195.0</td>\n",
       "      <td>20.0</td>\n",
       "      <td>445.049701</td>\n",
       "    </tr>\n",
       "    <tr>\n",
       "      <th>2023-09-07 23:59:00+00:00</th>\n",
       "      <td>445.03</td>\n",
       "      <td>445.03</td>\n",
       "      <td>445.03</td>\n",
       "      <td>445.03</td>\n",
       "      <td>1670.0</td>\n",
       "      <td>25.0</td>\n",
       "      <td>445.029964</td>\n",
       "    </tr>\n",
       "  </tbody>\n",
       "</table>\n",
       "<p>15203 rows × 7 columns</p>\n",
       "</div>"
      ],
      "text/plain": [
       "                                    open    high     low   close  volume  \\\n",
       "symbol timestamp                                                           \n",
       "SPY    2023-08-11 08:00:00+00:00  446.25  446.31  446.25  446.31   957.0   \n",
       "       2023-08-11 08:01:00+00:00  446.17  446.25  446.17  446.24  1141.0   \n",
       "       2023-08-11 08:02:00+00:00  446.23  446.23  446.22  446.22   361.0   \n",
       "       2023-08-11 08:03:00+00:00  446.19  446.19  446.19  446.19   176.0   \n",
       "       2023-08-11 08:04:00+00:00  446.23  446.23  446.21  446.22   713.0   \n",
       "...                                  ...     ...     ...     ...     ...   \n",
       "       2023-09-07 23:55:00+00:00  445.12  445.12  445.08  445.08   711.0   \n",
       "       2023-09-07 23:56:00+00:00  445.12  445.12  445.12  445.12   254.0   \n",
       "       2023-09-07 23:57:00+00:00  445.05  445.05  445.05  445.05   326.0   \n",
       "       2023-09-07 23:58:00+00:00  445.05  445.05  445.05  445.05  1195.0   \n",
       "       2023-09-07 23:59:00+00:00  445.03  445.03  445.03  445.03  1670.0   \n",
       "\n",
       "                                  trade_count        vwap  \n",
       "symbol timestamp                                           \n",
       "SPY    2023-08-11 08:00:00+00:00         14.0  446.278433  \n",
       "       2023-08-11 08:01:00+00:00         10.0  446.212866  \n",
       "       2023-08-11 08:02:00+00:00          7.0  446.219418  \n",
       "       2023-08-11 08:03:00+00:00          2.0  446.172727  \n",
       "       2023-08-11 08:04:00+00:00          4.0  446.224208  \n",
       "...                                       ...         ...  \n",
       "       2023-09-07 23:55:00+00:00          9.0  445.109339  \n",
       "       2023-09-07 23:56:00+00:00         20.0  445.104409  \n",
       "       2023-09-07 23:57:00+00:00         11.0  445.052454  \n",
       "       2023-09-07 23:58:00+00:00         20.0  445.049701  \n",
       "       2023-09-07 23:59:00+00:00         25.0  445.029964  \n",
       "\n",
       "[15203 rows x 7 columns]"
      ]
     },
     "execution_count": 61,
     "metadata": {},
     "output_type": "execute_result"
    }
   ],
   "source": [
    "trade_inst.get_historical_prices('SPY', start=start_date, end=end_date, freq='minute')"
   ]
  },
  {
   "cell_type": "code",
   "execution_count": 46,
   "metadata": {},
   "outputs": [
    {
     "name": "stdout",
     "output_type": "stream",
     "text": [
      "Start Date: 2023-08-11, End Date: 2023-08-17\n",
      "Start Date: 2023-08-18, End Date: 2023-08-24\n",
      "Start Date: 2023-08-25, End Date: 2023-08-31\n",
      "Start Date: 2023-09-01, End Date: 2023-09-07\n",
      "Start Date: 2023-09-08, End Date: 2023-09-08\n"
     ]
    },
    {
     "data": {
      "text/html": [
       "<div>\n",
       "<style scoped>\n",
       "    .dataframe tbody tr th:only-of-type {\n",
       "        vertical-align: middle;\n",
       "    }\n",
       "\n",
       "    .dataframe tbody tr th {\n",
       "        vertical-align: top;\n",
       "    }\n",
       "\n",
       "    .dataframe thead th {\n",
       "        text-align: right;\n",
       "    }\n",
       "</style>\n",
       "<table border=\"1\" class=\"dataframe\">\n",
       "  <thead>\n",
       "    <tr style=\"text-align: right;\">\n",
       "      <th></th>\n",
       "      <th>Open</th>\n",
       "      <th>High</th>\n",
       "      <th>Low</th>\n",
       "      <th>Close</th>\n",
       "      <th>Adj Close</th>\n",
       "      <th>Volume</th>\n",
       "    </tr>\n",
       "    <tr>\n",
       "      <th>Datetime</th>\n",
       "      <th></th>\n",
       "      <th></th>\n",
       "      <th></th>\n",
       "      <th></th>\n",
       "      <th></th>\n",
       "      <th></th>\n",
       "    </tr>\n",
       "  </thead>\n",
       "  <tbody>\n",
       "    <tr>\n",
       "      <th>2023-08-11 09:30:00-04:00</th>\n",
       "      <td>443.970001</td>\n",
       "      <td>444.160004</td>\n",
       "      <td>443.739990</td>\n",
       "      <td>443.778992</td>\n",
       "      <td>443.778992</td>\n",
       "      <td>2185318</td>\n",
       "    </tr>\n",
       "    <tr>\n",
       "      <th>2023-08-11 09:31:00-04:00</th>\n",
       "      <td>443.769989</td>\n",
       "      <td>443.850098</td>\n",
       "      <td>443.390015</td>\n",
       "      <td>443.459991</td>\n",
       "      <td>443.459991</td>\n",
       "      <td>401451</td>\n",
       "    </tr>\n",
       "    <tr>\n",
       "      <th>2023-08-11 09:32:00-04:00</th>\n",
       "      <td>443.434998</td>\n",
       "      <td>443.649994</td>\n",
       "      <td>443.345001</td>\n",
       "      <td>443.625000</td>\n",
       "      <td>443.625000</td>\n",
       "      <td>262763</td>\n",
       "    </tr>\n",
       "    <tr>\n",
       "      <th>2023-08-11 09:33:00-04:00</th>\n",
       "      <td>443.625000</td>\n",
       "      <td>443.940002</td>\n",
       "      <td>443.570007</td>\n",
       "      <td>443.829987</td>\n",
       "      <td>443.829987</td>\n",
       "      <td>203539</td>\n",
       "    </tr>\n",
       "    <tr>\n",
       "      <th>2023-08-11 09:34:00-04:00</th>\n",
       "      <td>443.850006</td>\n",
       "      <td>444.160004</td>\n",
       "      <td>443.840088</td>\n",
       "      <td>444.079987</td>\n",
       "      <td>444.079987</td>\n",
       "      <td>242445</td>\n",
       "    </tr>\n",
       "  </tbody>\n",
       "</table>\n",
       "</div>"
      ],
      "text/plain": [
       "                                 Open        High         Low       Close  \\\n",
       "Datetime                                                                    \n",
       "2023-08-11 09:30:00-04:00  443.970001  444.160004  443.739990  443.778992   \n",
       "2023-08-11 09:31:00-04:00  443.769989  443.850098  443.390015  443.459991   \n",
       "2023-08-11 09:32:00-04:00  443.434998  443.649994  443.345001  443.625000   \n",
       "2023-08-11 09:33:00-04:00  443.625000  443.940002  443.570007  443.829987   \n",
       "2023-08-11 09:34:00-04:00  443.850006  444.160004  443.840088  444.079987   \n",
       "\n",
       "                            Adj Close   Volume  \n",
       "Datetime                                        \n",
       "2023-08-11 09:30:00-04:00  443.778992  2185318  \n",
       "2023-08-11 09:31:00-04:00  443.459991   401451  \n",
       "2023-08-11 09:32:00-04:00  443.625000   262763  \n",
       "2023-08-11 09:33:00-04:00  443.829987   203539  \n",
       "2023-08-11 09:34:00-04:00  444.079987   242445  "
      ]
     },
     "execution_count": 46,
     "metadata": {},
     "output_type": "execute_result"
    }
   ],
   "source": [
    "# start_date = '2023-08-11'\n",
    "# end_date = '2023-09-08'\n",
    "# interval = '1m'\n",
    "# tickers = ['SPY']\n",
    "\n",
    "# crypto_data_df = pd.DataFrame()\n",
    "# # check if end_date - start_date is greater than 7 days and if interval == '1m'\n",
    "# # if it is, then loop through 7 dates at a time and download that data\n",
    "# if (pd.to_datetime(end_date) - pd.to_datetime(start_date)).days > 7 and interval == '1m':\n",
    "#     # Define the interval size (7 days)\n",
    "#     interval = timedelta(days=7)\n",
    "\n",
    "#     # Initialize the current_start_date to the initial start_date\n",
    "#     current_start_date = pd.to_datetime(start_date)\n",
    "\n",
    "#     # Loop through the date range in 7-day intervals\n",
    "#     while current_start_date <= pd.to_datetime(end_date):\n",
    "#         # Calculate the end_date_i for the current chunk\n",
    "#         current_end_date = current_start_date + interval - timedelta(days=1)\n",
    "        \n",
    "#         # If the current_end_date is beyond the specified end_date, adjust it\n",
    "#         if current_end_date > pd.to_datetime(end_date):\n",
    "#             current_end_date = pd.to_datetime(end_date)\n",
    "        \n",
    "#         # Print the start_date_i and end_date_i for the current chunk\n",
    "#         print(f\"Start Date: {current_start_date.strftime('%Y-%m-%d')}, End Date: {current_end_date.strftime('%Y-%m-%d')}\")\n",
    "        \n",
    "#         start_date_i = current_start_date.strftime('%Y-%m-%d')\n",
    "#         end_date_i = current_end_date.strftime('%Y-%m-%d')\n",
    "\n",
    "#         if start_date_i != end_date_i:\n",
    "#             crypto_data = yf.download(tickers, start=start_date_i,\n",
    "#                                 end=end_date_i, interval='1m', progress=False)\n",
    "#         else:\n",
    "#             crypto_data = yf.download(tickers, start=start_date_i,\n",
    "#                                  interval='1m', progress=False)\n",
    "#         if len(tickers) > 1:\n",
    "#             crypto_data = crypto_data.stack(1).reset_index().rename(columns = {'level_1':'Ticker'})\n",
    "\n",
    "#         crypto_data_df = pd.concat([crypto_data_df, crypto_data])\n",
    "#         # Move the current_start_date to the next interval\n",
    "#         current_start_date += interval\n",
    "    \n",
    "# crypto_data_df.head()"
   ]
  },
  {
   "cell_type": "code",
   "execution_count": 56,
   "metadata": {},
   "outputs": [],
   "source": [
    "# pd.set_option('display.max_rows', 100)  # Set the maximum number of rows to 100\n",
    "\n",
    "# crypto_data_df.head(100)"
   ]
  },
  {
   "cell_type": "code",
   "execution_count": 57,
   "metadata": {},
   "outputs": [
    {
     "data": {
      "text/plain": [
       "11700.0"
      ]
     },
     "execution_count": 57,
     "metadata": {},
     "output_type": "execute_result"
    }
   ],
   "source": [
    "\n",
    "# 60*6.5*30 - crypto_data_df.shape[0]\n",
    "\n",
    "# 60*6.5*30"
   ]
  },
  {
   "cell_type": "code",
   "execution_count": 38,
   "metadata": {},
   "outputs": [
    {
     "data": {
      "text/plain": [
       "Timestamp('2023-08-11 00:00:00+0000', tz='UTC')"
      ]
     },
     "execution_count": 38,
     "metadata": {},
     "output_type": "execute_result"
    }
   ],
   "source": [
    "# expected_timestamps[0]\n",
    "\n",
    "\n",
    "# pd.to_datetime(crypto_data_df['Datetime']).iloc[0]"
   ]
  },
  {
   "cell_type": "code",
   "execution_count": 39,
   "metadata": {},
   "outputs": [
    {
     "name": "stdout",
     "output_type": "stream",
     "text": [
      "Missing timestamps:\n",
      "DatetimeIndex(['2023-08-11 00:02:00+00:00', '2023-08-11 00:07:00+00:00',\n",
      "               '2023-08-11 00:12:00+00:00', '2023-08-11 01:03:00+00:00',\n",
      "               '2023-08-11 01:08:00+00:00', '2023-08-11 01:22:00+00:00',\n",
      "               '2023-08-11 01:52:00+00:00', '2023-08-11 01:58:00+00:00',\n",
      "               '2023-08-11 02:08:00+00:00', '2023-08-11 02:17:00+00:00',\n",
      "               ...\n",
      "               '2023-09-07 23:50:00+00:00', '2023-09-07 23:51:00+00:00',\n",
      "               '2023-09-07 23:52:00+00:00', '2023-09-07 23:53:00+00:00',\n",
      "               '2023-09-07 23:54:00+00:00', '2023-09-07 23:55:00+00:00',\n",
      "               '2023-09-07 23:56:00+00:00', '2023-09-07 23:57:00+00:00',\n",
      "               '2023-09-07 23:58:00+00:00', '2023-09-07 23:59:00+00:00'],\n",
      "              dtype='datetime64[ns, UTC]', length=6855, freq=None)\n"
     ]
    }
   ],
   "source": [
    "# # Create a list of expected timestamps for the entire month\n",
    "# # start_date = datetime(2023, 5, 1)\n",
    "# # end_date = datetime(2023, 5, 31, 23, 59)\n",
    "# expected_timestamps = pd.date_range(start=pd.to_datetime(start_date), end=pd.to_datetime(end_date), freq='T', tz='UTC')\n",
    "# # Identify gaps by comparing expected timestamps with actual timestamps\n",
    "# missing_timestamps = expected_timestamps[~expected_timestamps.isin(pd.to_datetime(crypto_data_df['Datetime']))]\n",
    "\n",
    "# # Display the missing timestamps\n",
    "# print(\"Missing timestamps:\")\n",
    "# print(missing_timestamps)"
   ]
  },
  {
   "cell_type": "code",
   "execution_count": 26,
   "metadata": {},
   "outputs": [
    {
     "data": {
      "text/plain": [
       "pandas._libs.tslibs.timestamps.Timestamp"
      ]
     },
     "execution_count": 26,
     "metadata": {},
     "output_type": "execute_result"
    }
   ],
   "source": [
    "# type(crypto_data_df.Datetime.iloc[0])"
   ]
  },
  {
   "cell_type": "code",
   "execution_count": 22,
   "metadata": {},
   "outputs": [
    {
     "data": {
      "text/plain": [
       "71737"
      ]
     },
     "execution_count": 22,
     "metadata": {},
     "output_type": "execute_result"
    }
   ],
   "source": [
    "# crypto_data_df.shape[0]"
   ]
  },
  {
   "cell_type": "code",
   "execution_count": null,
   "metadata": {},
   "outputs": [],
   "source": [
    "# !pip install --upgrade six"
   ]
  },
  {
   "cell_type": "code",
   "execution_count": null,
   "metadata": {},
   "outputs": [],
   "source": [
    "import yfinance as yf\n",
    "import pandas as pd\n",
    "from hurst import compute_Hc\n",
    "\n",
    "def theil_sen_slope(x, y):\n",
    "    n = len(x)\n",
    "    slopes = []\n",
    "\n",
    "    for i in range(n):\n",
    "        for j in range(i + 1, n):\n",
    "            if x[i] != x[j]:\n",
    "                slopes.append((y[j] - y[i]) / (x[j] - x[i]))\n",
    "\n",
    "    median_slope = np.median(slopes)\n",
    "    return median_slope\n",
    "\n",
    "c = cbpro.PublicClient()\n",
    "data_ = pd.DataFrame(c.get_products())\n",
    "crypto_pairs = list(data_['id'].values)\n",
    "crypto_pairs[:5]\n",
    "\n",
    "# List of cryptocurrencies to analyze (you can add more as needed)\n",
    "cryptos = crypto_pairs\n",
    "\n",
    "# Initialize an empty DataFrame to store results\n",
    "#results = pd.DataFrame(columns=[\"Symbol\", \"Hurst_Exponent\"])\n",
    "results = []\n",
    "no_data = []\n",
    "\n",
    "# Define the time frame (1 week) and resolution (1 minute)\n",
    "# start_date = \"2023-08-01\"\n",
    "# end_date = \"2023-09-02\"\n",
    "interval = \"1m\"\n",
    "\n",
    "for crypto_symbol in cryptos:\n",
    "    \n",
    "    try:\n",
    "        # Fetch historical minute-level data\n",
    "        crypto_data = yf.download(crypto_symbol, period=\"5d\", interval=interval, progress=False)\n",
    "\n",
    "        if not crypto_data.empty:\n",
    "            # Calculate the Hurst exponent\n",
    "            H, c, data = compute_Hc(crypto_data[\"Close\"].dropna(), simplified=True)\n",
    "\n",
    "            # Extract the Hurst exponent value\n",
    "            hurst_exponent = H\n",
    "\n",
    "             # Calculate the Theil-Sen slope\n",
    "            theil_sen = theil_sen_slope(np.arange(len(crypto_data)), crypto_data[\"Close\"].values)\n",
    "\n",
    "            # Determine the trend based on the Theil-Sen slope\n",
    "            if theil_sen > 0:\n",
    "                trend = \"Upward\"\n",
    "            elif theil_sen < 0:\n",
    "                trend = \"Downward\"\n",
    "            else:\n",
    "                trend = \"Sideways\"\n",
    "            #crypto_data[\"SMA\"] = crypto_data[\"Close\"].rolling(window=50).mean()\n",
    "\n",
    "            # Calculate the MACD line\n",
    "            # short_window = 12\n",
    "            # long_window = 26\n",
    "            # crypto_data[\"Short_EMA\"] = crypto_data[\"Close\"].ewm(span=short_window, adjust=False).mean()\n",
    "            # crypto_data[\"Long_EMA\"] = crypto_data[\"Close\"].ewm(span=long_window, adjust=False).mean()\n",
    "            # crypto_data[\"MACD\"] = crypto_data[\"Short_EMA\"] - crypto_data[\"Long_EMA\"]\n",
    "\n",
    "            # # Determine the trend based on SMA and MACD\n",
    "            # if crypto_data[\"Close\"].iloc[-1] > crypto_data[\"SMA\"].iloc[-1] and crypto_data[\"MACD\"].iloc[-1] > 0:\n",
    "            #     trend = \"Upward\"\n",
    "            # elif crypto_data[\"Close\"].iloc[-1] < crypto_data[\"SMA\"].iloc[-1] and crypto_data[\"MACD\"].iloc[-1] < 0:\n",
    "            #     trend = \"Downward\"\n",
    "            # else:\n",
    "            #     trend = \"Sideways\"\n",
    "\n",
    "            # Append the result to the DataFrame\n",
    "            results.append({\"Symbol\": crypto_symbol, \"Hurst_Exponent\": hurst_exponent, \"Trend\": trend, \"Theil-Sen\": theil_sen})\n",
    "        else:\n",
    "            #print(f\"No data found for {crypto_symbol}\")\n",
    "            no_data.append({\"Symbol\": crypto_symbol, \"reason\": \"No data found\"})\n",
    "    except Exception as e:\n",
    "        #print(f\"Error encountered while processing {crypto_symbol}: {e}\")\n",
    "        no_data.append({\"Symbol\": crypto_symbol, \"reason\": e})\n",
    "\n",
    "results_df = pd.DataFrame(results)\n",
    "# Print the results\n",
    "results_df.head()"
   ]
  },
  {
   "cell_type": "code",
   "execution_count": null,
   "metadata": {},
   "outputs": [],
   "source": [
    "results_df.to_csv(\"20230902_last_week_crypto_trends.csv\", index=False)"
   ]
  },
  {
   "cell_type": "code",
   "execution_count": null,
   "metadata": {},
   "outputs": [],
   "source": [
    "results_df.query(\"Trend == 'Upward'\").sort_values(['Hurst_Exponent','Theil-Sen'], ascending=False)"
   ]
  },
  {
   "cell_type": "code",
   "execution_count": null,
   "metadata": {},
   "outputs": [],
   "source": [
    "# Lets analyze Nvidia. We know from quick lookup of Nvidia news\n",
    "# that Intel performance is connected to its performance, in addition to AMD.\n",
    "# (source: https://www.barrons.com/articles/nvidia-intels-report-is-a-great-leading-indicator-says-raymond-james-1525724415)\n",
    "# NDX is the index for the technology sector.\n",
    "tickers = ['^NDX', 'INTC', 'AMD', 'NVDA']\n",
    "data = (yf.download(tickers, start='2010-01-01', end='2022-02-18')\n",
    "            .drop(columns = ['Close','Open','High','Low','Volume'])\n",
    ")\n",
    "data.columns = data.columns.droplevel()\n",
    "\n",
    "for i in tickers:\n",
    "    data[f'{i}_log_returns'] = (data[i].pct_change() + 1).apply(np.log)\n",
    "data.tail()\n",
    "data.plot(y=['NVDA_log_returns','AMD_log_returns','INTC_log_returns','^NDX_log_returns'], \n",
    "        use_index=True, figsize=(10,6))\n",
    "# log returns quickly and efficiently detrends the pricing history"
   ]
  },
  {
   "cell_type": "code",
   "execution_count": null,
   "metadata": {},
   "outputs": [],
   "source": [
    "# lets define a direction column which is essentially 1 if the log return is positive and 0 if\n",
    "# it is negative (classification tasks typically have a target variable which is 1 or 0)\n",
    "for i in tickers:\n",
    "    data[f'{i}_direction'] = np.where(data[f'{i}_log_returns'] > 0, 1, 0)\n",
    "\n",
    "data.tail()"
   ]
  },
  {
   "cell_type": "code",
   "execution_count": null,
   "metadata": {},
   "outputs": [],
   "source": [
    "# traditionally to determine optimal lags of the target variable, we look at the autocorrelation \n",
    "# and partial autocorrelation of the target variable\n",
    "plot_acf(data['NVDA_direction'], lags=10)\n",
    "plot_pacf(data['NVDA_direction'], lags=10)\n",
    "\n",
    "# looking at these plots, lagging the target variable probably won't help us"
   ]
  },
  {
   "cell_type": "code",
   "execution_count": null,
   "metadata": {},
   "outputs": [],
   "source": [
    "def series_to_supervised(data, n_in=1, n_out=1, dropnan=True):\n",
    "\t\"\"\"\n",
    "\tFrame a time series as a supervised learning dataset.\n",
    "\tArguments:\n",
    "\t\tdata: Sequence of observations as a list or NumPy array.\n",
    "\t\tn_in: Number of lag observations as input (X).\n",
    "\t\tn_out: Number of observations as output (y).\n",
    "\t\tdropnan: Boolean whether or not to drop rows with NaN values.\n",
    "\tReturns:\n",
    "\t\tPandas DataFrame of series framed for supervised learning.\n",
    "\t\"\"\"\n",
    "\tfeatures = data.columns\n",
    "\tdf = data\n",
    "\tcols, names = list(), list()\n",
    "\t# input sequence (t-n, ... t-1)\n",
    "\tfor i in range(n_in, 0, -1):\n",
    "\t\tcols.append(df.shift(i))\n",
    "\t\tnames += [(f'{j}(t-{i})') for j in features]\n",
    "\t# forecast sequence (t, t+1, ... t+n)\n",
    "\tfor i in range(0, n_out):\n",
    "\t\tcols.append(df.shift(-i))\n",
    "\t\tif i == 0:\n",
    "\t\t\tnames += [(f'{j}') for j in features]\n",
    "\t\telse:\n",
    "\t\t\tnames += [(f'{j}(t+{i})') for j in features]\n",
    "\t# put it all together\n",
    "\tagg = pd.concat(cols, axis=1)\n",
    "\tagg.columns = names\n",
    "\t# drop rows with NaN values\n",
    "\tif dropnan:\n",
    "\t\tagg.dropna(inplace=True)\n",
    "\treturn agg\n",
    "\n",
    "# essentially build a forecast which predicts tomorrow. Excessive lagging of features but its fine because we can \n",
    "# examine the feature importance after modelling.\n",
    "data = series_to_supervised(data)\n",
    "data.tail()"
   ]
  },
  {
   "cell_type": "code",
   "execution_count": null,
   "metadata": {},
   "outputs": [],
   "source": [
    "data.reset_index(inplace=True)\n",
    "data['year'] = data.Date.dt.year\n",
    "data['month'] = data.Date.dt.month \n",
    "data['day'] = data.Date.dt.day\n",
    "data['week'] = data.Date.dt.isocalendar().week\n",
    "data['quarterstart'] = data.Date.dt.is_quarter_start.astype(int)\n",
    "data['quarterend'] = data.Date.dt.is_quarter_end.astype(int)\n",
    "data['dow'] = data.Date.dt.dayofweek\n",
    "data['quarter'] = data.Date.dt.quarter\n",
    "data.set_index('Date', inplace=True)\n",
    "data.head()"
   ]
  },
  {
   "cell_type": "code",
   "execution_count": null,
   "metadata": {},
   "outputs": [],
   "source": [
    "trade_inst.get_historical_prices(\"SPY\", start=\"2023-08-20\", end=\"2023-09-02\").head()"
   ]
  }
 ],
 "metadata": {
  "kernelspec": {
   "display_name": "base",
   "language": "python",
   "name": "python3"
  },
  "language_info": {
   "codemirror_mode": {
    "name": "ipython",
    "version": 3
   },
   "file_extension": ".py",
   "mimetype": "text/x-python",
   "name": "python",
   "nbconvert_exporter": "python",
   "pygments_lexer": "ipython3",
   "version": "3.9.18"
  },
  "orig_nbformat": 4
 },
 "nbformat": 4,
 "nbformat_minor": 2
}
