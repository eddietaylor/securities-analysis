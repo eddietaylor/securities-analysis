{
 "cells": [
  {
   "cell_type": "markdown",
   "metadata": {},
   "source": [
    "### **Alpaca API Python Wrapper**"
   ]
  },
  {
   "cell_type": "code",
   "execution_count": 79,
   "metadata": {},
   "outputs": [],
   "source": [
    "import configparser\n",
    "from datetime import datetime\n",
    "import time\n",
    "from alpaca.data import CryptoHistoricalDataClient, StockHistoricalDataClient\n",
    "from alpaca.data import CryptoDataStream, StockDataStream\n",
    "from alpaca.data.requests import StockLatestQuoteRequest, CryptoLatestQuoteRequest\n",
    "from alpaca.data.requests import StockBarsRequest, CryptoBarsRequest\n",
    "from alpaca.data.timeframe import TimeFrame"
   ]
  },
  {
   "cell_type": "code",
   "execution_count": 80,
   "metadata": {},
   "outputs": [],
   "source": [
    "#!pip install alpaca-py --user"
   ]
  },
  {
   "cell_type": "code",
   "execution_count": 97,
   "metadata": {},
   "outputs": [],
   "source": [
    "from typing import Any\n",
    "\n",
    "\n",
    "class tradeAlpaca(object):\n",
    "    '''python wrapper class for alpaca trading API'''\n",
    "\n",
    "    def __init__(self, keys_file):\n",
    "        '''\n",
    "        Parameters\n",
    "        ----------\n",
    "        keys_file: configuration .cfg file path\n",
    "        with the following text contained within\n",
    "        that file:\n",
    "\n",
    "        [alpaca]\n",
    "        api_key = laskdflasdkf\n",
    "        secret_key = lskdfja;lskdfjalskdj\n",
    "        endpoint = https://yoyoyoyoyoy.com\n",
    "        '''\n",
    "        # api key attributes\n",
    "        self.config = configparser.ConfigParser()\n",
    "        self.config.read(keys_file)\n",
    "        self.api_key = self.config['alpaca']['api_key']\n",
    "        self.secret_key = self.config['alpaca']['secret_key']\n",
    "        self.endpoint = self.config['alpaca']['endpoint']\n",
    "        # alpaca data clients\n",
    "        self.crypto_client = CryptoHistoricalDataClient()\n",
    "        self.stock_client = StockHistoricalDataClient(self.api_key, self.secret_key)\n",
    "        # streaming clients\n",
    "        self.crypto_stream = CryptoDataStream(self.api_key, self.secret_key)\n",
    "        self.stock_stream = StockDataStream(self.api_key, self.secret_key)\n",
    "\n",
    "    def get_current_price(self, ticker):\n",
    "        '''\n",
    "        gets current price of specified instrument\n",
    "        Parameters\n",
    "        ----------\n",
    "        ticker (str): ticker symbol of stock or crypto\n",
    "        '''\n",
    "        try:\n",
    "            request_params = StockLatestQuoteRequest(symbol_or_symbols=[ticker])\n",
    "            latest_quote = self.stock_client.get_stock_latest_quote(request_params)\n",
    "            ask = latest_quote[ticker].ask_price\n",
    "            bid = latest_quote[ticker].bid_price\n",
    "            time = latest_quote[ticker].timestamp\n",
    "            return time, float(bid), float(ask)\n",
    "        except:\n",
    "            request_params = CryptoLatestQuoteRequest(symbol_or_symbols=[ticker])\n",
    "            latest_quote = self.crypto_client.get_crypto_latest_quote(request_params)\n",
    "            ask = latest_quote[ticker].ask_price\n",
    "            bid = latest_quote[ticker].bid_price\n",
    "            time = latest_quote[ticker].timestamp\n",
    "            return time, float(bid), float(ask)\n",
    "\n",
    "    def get_historical_prices(self, ticker, start, end, freq='day'):\n",
    "        '''\n",
    "        gets historical prices of specified instrument\n",
    "        parameters\n",
    "        ----------\n",
    "        ticker (str): ticker symbol of stock or crypto\n",
    "        start (str): start date, e.g. \"2022-06-01\"\n",
    "        end (str): end date, e.g. \"2022-06-04\"\n",
    "        freq (str): frequency (e.g. \"day\", \"hour\",\"minute\", \"month\", \"week\")\n",
    "        '''\n",
    "        timeframe_dict = {'day':TimeFrame.Day, 'hour':TimeFrame.Hour, 'minute':TimeFrame.Minute, 'month':TimeFrame.Month, 'week':TimeFrame.Week}\n",
    "        try:\n",
    "            request_params = StockBarsRequest(\n",
    "                        symbol_or_symbols=[ticker],\n",
    "                        timeframe=timeframe_dict[freq],\n",
    "                        start=datetime.strptime(start, '%Y-%m-%d'),\n",
    "                        end=datetime.strptime(end, '%Y-%m-%d')\n",
    "                 )\n",
    "            bars = self.stock_client.get_stock_bars(request_params)\n",
    "            bars_df = bars.df\n",
    "            return bars_df\n",
    "        except:\n",
    "            request_params = CryptoBarsRequest(\n",
    "                        symbol_or_symbols=[ticker],\n",
    "                        timeframe=timeframe_dict[freq],\n",
    "                        start=datetime.strptime(start, '%Y-%m-%d'),\n",
    "                        end=datetime.strptime(end, '%Y-%m-%d')\n",
    "                 )\n",
    "            bars = self.crypto_client.get_crypto_bars(request_params)\n",
    "            bars_df = bars.df\n",
    "            return bars_df\n",
    "\n",
    "    async def quote_data_handler(self, data: Any):\n",
    "        print(data)\n",
    "\n",
    "    def stream_data(self, ticker):\n",
    "        '''\n",
    "        stream the data\n",
    "        '''\n",
    "        \n",
    "        try:\n",
    "            # wss_client = StockDataStream(self.api_key, self.secret_key)\n",
    "            # wss_client.subscribe_quotes(self.quote_data_handler, ticker)\n",
    "            # wss_client.run()\n",
    "            print(rtherht)\n",
    "        except:\n",
    "            wss_client = CryptoDataStream(self.api_key, self.secret_key)\n",
    "            wss_client.subscribe_quotes(self.quote_data_handler, ticker)\n",
    "            wss_client.run()\n"
   ]
  },
  {
   "cell_type": "code",
   "execution_count": 98,
   "metadata": {},
   "outputs": [],
   "source": [
    "trade_inst = tradeAlpaca(keys_file=\"../../data/alpaca_keys.cfg\")"
   ]
  },
  {
   "cell_type": "code",
   "execution_count": 99,
   "metadata": {},
   "outputs": [
    {
     "data": {
      "text/plain": [
       "(datetime.datetime(2022, 10, 28, 20, 58, 0, 695, tzinfo=datetime.timezone.utc),\n",
       " 390.12,\n",
       " 390.25)"
      ]
     },
     "execution_count": 99,
     "metadata": {},
     "output_type": "execute_result"
    }
   ],
   "source": [
    "trade_inst.get_current_price('SPY')"
   ]
  },
  {
   "cell_type": "code",
   "execution_count": 100,
   "metadata": {},
   "outputs": [
    {
     "data": {
      "text/html": [
       "<div>\n",
       "<style scoped>\n",
       "    .dataframe tbody tr th:only-of-type {\n",
       "        vertical-align: middle;\n",
       "    }\n",
       "\n",
       "    .dataframe tbody tr th {\n",
       "        vertical-align: top;\n",
       "    }\n",
       "\n",
       "    .dataframe thead th {\n",
       "        text-align: right;\n",
       "    }\n",
       "</style>\n",
       "<table border=\"1\" class=\"dataframe\">\n",
       "  <thead>\n",
       "    <tr style=\"text-align: right;\">\n",
       "      <th></th>\n",
       "      <th></th>\n",
       "      <th>open</th>\n",
       "      <th>high</th>\n",
       "      <th>low</th>\n",
       "      <th>close</th>\n",
       "      <th>volume</th>\n",
       "      <th>trade_count</th>\n",
       "      <th>vwap</th>\n",
       "    </tr>\n",
       "    <tr>\n",
       "      <th>symbol</th>\n",
       "      <th>timestamp</th>\n",
       "      <th></th>\n",
       "      <th></th>\n",
       "      <th></th>\n",
       "      <th></th>\n",
       "      <th></th>\n",
       "      <th></th>\n",
       "      <th></th>\n",
       "    </tr>\n",
       "  </thead>\n",
       "  <tbody>\n",
       "    <tr>\n",
       "      <th rowspan=\"5\" valign=\"top\">BTC/USD</th>\n",
       "      <th>2022-01-01 06:00:00+00:00</th>\n",
       "      <td>47218.0</td>\n",
       "      <td>47933.0</td>\n",
       "      <td>46733.0</td>\n",
       "      <td>47033.0</td>\n",
       "      <td>654.7013</td>\n",
       "      <td>3435.0</td>\n",
       "      <td>47287.231933</td>\n",
       "    </tr>\n",
       "    <tr>\n",
       "      <th>2022-01-02 06:00:00+00:00</th>\n",
       "      <td>47087.0</td>\n",
       "      <td>47985.0</td>\n",
       "      <td>46684.0</td>\n",
       "      <td>47086.0</td>\n",
       "      <td>782.8290</td>\n",
       "      <td>3839.0</td>\n",
       "      <td>47211.628791</td>\n",
       "    </tr>\n",
       "    <tr>\n",
       "      <th>2022-01-03 06:00:00+00:00</th>\n",
       "      <td>47107.0</td>\n",
       "      <td>47555.0</td>\n",
       "      <td>45709.0</td>\n",
       "      <td>46139.0</td>\n",
       "      <td>956.3265</td>\n",
       "      <td>3784.0</td>\n",
       "      <td>46519.493025</td>\n",
       "    </tr>\n",
       "    <tr>\n",
       "      <th>2022-01-04 06:00:00+00:00</th>\n",
       "      <td>46191.0</td>\n",
       "      <td>47522.0</td>\n",
       "      <td>45552.0</td>\n",
       "      <td>46310.0</td>\n",
       "      <td>821.2758</td>\n",
       "      <td>4670.0</td>\n",
       "      <td>46416.927260</td>\n",
       "    </tr>\n",
       "    <tr>\n",
       "      <th>2022-01-05 06:00:00+00:00</th>\n",
       "      <td>46310.0</td>\n",
       "      <td>47053.0</td>\n",
       "      <td>42500.0</td>\n",
       "      <td>43026.0</td>\n",
       "      <td>2212.1333</td>\n",
       "      <td>9279.0</td>\n",
       "      <td>44489.282863</td>\n",
       "    </tr>\n",
       "  </tbody>\n",
       "</table>\n",
       "</div>"
      ],
      "text/plain": [
       "                                      open     high      low    close  \\\n",
       "symbol  timestamp                                                       \n",
       "BTC/USD 2022-01-01 06:00:00+00:00  47218.0  47933.0  46733.0  47033.0   \n",
       "        2022-01-02 06:00:00+00:00  47087.0  47985.0  46684.0  47086.0   \n",
       "        2022-01-03 06:00:00+00:00  47107.0  47555.0  45709.0  46139.0   \n",
       "        2022-01-04 06:00:00+00:00  46191.0  47522.0  45552.0  46310.0   \n",
       "        2022-01-05 06:00:00+00:00  46310.0  47053.0  42500.0  43026.0   \n",
       "\n",
       "                                      volume  trade_count          vwap  \n",
       "symbol  timestamp                                                        \n",
       "BTC/USD 2022-01-01 06:00:00+00:00   654.7013       3435.0  47287.231933  \n",
       "        2022-01-02 06:00:00+00:00   782.8290       3839.0  47211.628791  \n",
       "        2022-01-03 06:00:00+00:00   956.3265       3784.0  46519.493025  \n",
       "        2022-01-04 06:00:00+00:00   821.2758       4670.0  46416.927260  \n",
       "        2022-01-05 06:00:00+00:00  2212.1333       9279.0  44489.282863  "
      ]
     },
     "execution_count": 100,
     "metadata": {},
     "output_type": "execute_result"
    }
   ],
   "source": [
    "trade_inst.get_historical_prices(\"BTC/USD\", start=\"2022-01-01\", end=\"2022-10-28\").head()"
   ]
  },
  {
   "cell_type": "code",
   "execution_count": 101,
   "metadata": {},
   "outputs": [
    {
     "ename": "RuntimeError",
     "evalue": "asyncio.run() cannot be called from a running event loop",
     "output_type": "error",
     "traceback": [
      "\u001b[1;31m---------------------------------------------------------------------------\u001b[0m",
      "\u001b[1;31mNameError\u001b[0m                                 Traceback (most recent call last)",
      "\u001b[1;32m~\\AppData\\Local\\Temp/ipykernel_2436/1279694429.py\u001b[0m in \u001b[0;36mstream_data\u001b[1;34m(self, ticker)\u001b[0m\n\u001b[0;32m     98\u001b[0m             \u001b[1;31m# wss_client.run()\u001b[0m\u001b[1;33m\u001b[0m\u001b[1;33m\u001b[0m\u001b[1;33m\u001b[0m\u001b[0m\n\u001b[1;32m---> 99\u001b[1;33m             \u001b[0mprint\u001b[0m\u001b[1;33m(\u001b[0m\u001b[0mrtherht\u001b[0m\u001b[1;33m)\u001b[0m\u001b[1;33m\u001b[0m\u001b[1;33m\u001b[0m\u001b[0m\n\u001b[0m\u001b[0;32m    100\u001b[0m         \u001b[1;32mexcept\u001b[0m\u001b[1;33m:\u001b[0m\u001b[1;33m\u001b[0m\u001b[1;33m\u001b[0m\u001b[0m\n",
      "\u001b[1;31mNameError\u001b[0m: name 'rtherht' is not defined",
      "\nDuring handling of the above exception, another exception occurred:\n",
      "\u001b[1;31mRuntimeError\u001b[0m                              Traceback (most recent call last)",
      "\u001b[1;32m~\\AppData\\Local\\Temp/ipykernel_2436/112948603.py\u001b[0m in \u001b[0;36m<module>\u001b[1;34m\u001b[0m\n\u001b[1;32m----> 1\u001b[1;33m \u001b[0mtrade_inst\u001b[0m\u001b[1;33m.\u001b[0m\u001b[0mstream_data\u001b[0m\u001b[1;33m(\u001b[0m\u001b[1;34m\"BTC/USD\"\u001b[0m\u001b[1;33m)\u001b[0m\u001b[1;33m\u001b[0m\u001b[1;33m\u001b[0m\u001b[0m\n\u001b[0m",
      "\u001b[1;32m~\\AppData\\Local\\Temp/ipykernel_2436/1279694429.py\u001b[0m in \u001b[0;36mstream_data\u001b[1;34m(self, ticker)\u001b[0m\n\u001b[0;32m    101\u001b[0m             \u001b[0mwss_client\u001b[0m \u001b[1;33m=\u001b[0m \u001b[0mCryptoDataStream\u001b[0m\u001b[1;33m(\u001b[0m\u001b[0mself\u001b[0m\u001b[1;33m.\u001b[0m\u001b[0mapi_key\u001b[0m\u001b[1;33m,\u001b[0m \u001b[0mself\u001b[0m\u001b[1;33m.\u001b[0m\u001b[0msecret_key\u001b[0m\u001b[1;33m)\u001b[0m\u001b[1;33m\u001b[0m\u001b[1;33m\u001b[0m\u001b[0m\n\u001b[0;32m    102\u001b[0m             \u001b[0mwss_client\u001b[0m\u001b[1;33m.\u001b[0m\u001b[0msubscribe_quotes\u001b[0m\u001b[1;33m(\u001b[0m\u001b[0mself\u001b[0m\u001b[1;33m.\u001b[0m\u001b[0mquote_data_handler\u001b[0m\u001b[1;33m,\u001b[0m \u001b[0mticker\u001b[0m\u001b[1;33m)\u001b[0m\u001b[1;33m\u001b[0m\u001b[1;33m\u001b[0m\u001b[0m\n\u001b[1;32m--> 103\u001b[1;33m             \u001b[0mwss_client\u001b[0m\u001b[1;33m.\u001b[0m\u001b[0mrun\u001b[0m\u001b[1;33m(\u001b[0m\u001b[1;33m)\u001b[0m\u001b[1;33m\u001b[0m\u001b[1;33m\u001b[0m\u001b[0m\n\u001b[0m",
      "\u001b[1;32m~\\AppData\\Roaming\\Python\\Python37\\site-packages\\alpaca\\common\\websocket.py\u001b[0m in \u001b[0;36mrun\u001b[1;34m(self)\u001b[0m\n\u001b[0;32m    430\u001b[0m         \u001b[1;34m\"\"\"Starts up the websocket connection's event loop\"\"\"\u001b[0m\u001b[1;33m\u001b[0m\u001b[1;33m\u001b[0m\u001b[0m\n\u001b[0;32m    431\u001b[0m         \u001b[1;32mtry\u001b[0m\u001b[1;33m:\u001b[0m\u001b[1;33m\u001b[0m\u001b[1;33m\u001b[0m\u001b[0m\n\u001b[1;32m--> 432\u001b[1;33m             \u001b[0masyncio\u001b[0m\u001b[1;33m.\u001b[0m\u001b[0mrun\u001b[0m\u001b[1;33m(\u001b[0m\u001b[0mself\u001b[0m\u001b[1;33m.\u001b[0m\u001b[0m_run_forever\u001b[0m\u001b[1;33m(\u001b[0m\u001b[1;33m)\u001b[0m\u001b[1;33m)\u001b[0m\u001b[1;33m\u001b[0m\u001b[1;33m\u001b[0m\u001b[0m\n\u001b[0m\u001b[0;32m    433\u001b[0m         \u001b[1;32mexcept\u001b[0m \u001b[0mKeyboardInterrupt\u001b[0m\u001b[1;33m:\u001b[0m\u001b[1;33m\u001b[0m\u001b[1;33m\u001b[0m\u001b[0m\n\u001b[0;32m    434\u001b[0m             \u001b[0mprint\u001b[0m\u001b[1;33m(\u001b[0m\u001b[1;34m\"keyboard interrupt, bye\"\u001b[0m\u001b[1;33m)\u001b[0m\u001b[1;33m\u001b[0m\u001b[1;33m\u001b[0m\u001b[0m\n",
      "\u001b[1;32mc:\\ProgramData\\Anaconda3\\lib\\asyncio\\runners.py\u001b[0m in \u001b[0;36mrun\u001b[1;34m(main, debug)\u001b[0m\n\u001b[0;32m     32\u001b[0m     \u001b[1;32mif\u001b[0m \u001b[0mevents\u001b[0m\u001b[1;33m.\u001b[0m\u001b[0m_get_running_loop\u001b[0m\u001b[1;33m(\u001b[0m\u001b[1;33m)\u001b[0m \u001b[1;32mis\u001b[0m \u001b[1;32mnot\u001b[0m \u001b[1;32mNone\u001b[0m\u001b[1;33m:\u001b[0m\u001b[1;33m\u001b[0m\u001b[1;33m\u001b[0m\u001b[0m\n\u001b[0;32m     33\u001b[0m         raise RuntimeError(\n\u001b[1;32m---> 34\u001b[1;33m             \"asyncio.run() cannot be called from a running event loop\")\n\u001b[0m\u001b[0;32m     35\u001b[0m \u001b[1;33m\u001b[0m\u001b[0m\n\u001b[0;32m     36\u001b[0m     \u001b[1;32mif\u001b[0m \u001b[1;32mnot\u001b[0m \u001b[0mcoroutines\u001b[0m\u001b[1;33m.\u001b[0m\u001b[0miscoroutine\u001b[0m\u001b[1;33m(\u001b[0m\u001b[0mmain\u001b[0m\u001b[1;33m)\u001b[0m\u001b[1;33m:\u001b[0m\u001b[1;33m\u001b[0m\u001b[1;33m\u001b[0m\u001b[0m\n",
      "\u001b[1;31mRuntimeError\u001b[0m: asyncio.run() cannot be called from a running event loop"
     ]
    }
   ],
   "source": [
    "trade_inst.stream_data(\"BTC/USD\")"
   ]
  },
  {
   "cell_type": "code",
   "execution_count": 102,
   "metadata": {},
   "outputs": [
    {
     "ename": "RuntimeError",
     "evalue": "asyncio.run() cannot be called from a running event loop",
     "output_type": "error",
     "traceback": [
      "\u001b[1;31m---------------------------------------------------------------------------\u001b[0m",
      "\u001b[1;31mRuntimeError\u001b[0m                              Traceback (most recent call last)",
      "\u001b[1;32m~\\AppData\\Local\\Temp/ipykernel_2436/2322884209.py\u001b[0m in \u001b[0;36m<module>\u001b[1;34m\u001b[0m\n\u001b[0;32m      8\u001b[0m \u001b[0mwss_client\u001b[0m\u001b[1;33m.\u001b[0m\u001b[0msubscribe_quotes\u001b[0m\u001b[1;33m(\u001b[0m\u001b[0mquote_data_handler\u001b[0m\u001b[1;33m,\u001b[0m \u001b[1;34m\"SPY\"\u001b[0m\u001b[1;33m)\u001b[0m\u001b[1;33m\u001b[0m\u001b[1;33m\u001b[0m\u001b[0m\n\u001b[0;32m      9\u001b[0m \u001b[1;33m\u001b[0m\u001b[0m\n\u001b[1;32m---> 10\u001b[1;33m \u001b[0mwss_client\u001b[0m\u001b[1;33m.\u001b[0m\u001b[0mrun\u001b[0m\u001b[1;33m(\u001b[0m\u001b[1;33m)\u001b[0m\u001b[1;33m\u001b[0m\u001b[1;33m\u001b[0m\u001b[0m\n\u001b[0m",
      "\u001b[1;32m~\\AppData\\Roaming\\Python\\Python37\\site-packages\\alpaca\\common\\websocket.py\u001b[0m in \u001b[0;36mrun\u001b[1;34m(self)\u001b[0m\n\u001b[0;32m    430\u001b[0m         \u001b[1;34m\"\"\"Starts up the websocket connection's event loop\"\"\"\u001b[0m\u001b[1;33m\u001b[0m\u001b[1;33m\u001b[0m\u001b[0m\n\u001b[0;32m    431\u001b[0m         \u001b[1;32mtry\u001b[0m\u001b[1;33m:\u001b[0m\u001b[1;33m\u001b[0m\u001b[1;33m\u001b[0m\u001b[0m\n\u001b[1;32m--> 432\u001b[1;33m             \u001b[0masyncio\u001b[0m\u001b[1;33m.\u001b[0m\u001b[0mrun\u001b[0m\u001b[1;33m(\u001b[0m\u001b[0mself\u001b[0m\u001b[1;33m.\u001b[0m\u001b[0m_run_forever\u001b[0m\u001b[1;33m(\u001b[0m\u001b[1;33m)\u001b[0m\u001b[1;33m)\u001b[0m\u001b[1;33m\u001b[0m\u001b[1;33m\u001b[0m\u001b[0m\n\u001b[0m\u001b[0;32m    433\u001b[0m         \u001b[1;32mexcept\u001b[0m \u001b[0mKeyboardInterrupt\u001b[0m\u001b[1;33m:\u001b[0m\u001b[1;33m\u001b[0m\u001b[1;33m\u001b[0m\u001b[0m\n\u001b[0;32m    434\u001b[0m             \u001b[0mprint\u001b[0m\u001b[1;33m(\u001b[0m\u001b[1;34m\"keyboard interrupt, bye\"\u001b[0m\u001b[1;33m)\u001b[0m\u001b[1;33m\u001b[0m\u001b[1;33m\u001b[0m\u001b[0m\n",
      "\u001b[1;32mc:\\ProgramData\\Anaconda3\\lib\\asyncio\\runners.py\u001b[0m in \u001b[0;36mrun\u001b[1;34m(main, debug)\u001b[0m\n\u001b[0;32m     32\u001b[0m     \u001b[1;32mif\u001b[0m \u001b[0mevents\u001b[0m\u001b[1;33m.\u001b[0m\u001b[0m_get_running_loop\u001b[0m\u001b[1;33m(\u001b[0m\u001b[1;33m)\u001b[0m \u001b[1;32mis\u001b[0m \u001b[1;32mnot\u001b[0m \u001b[1;32mNone\u001b[0m\u001b[1;33m:\u001b[0m\u001b[1;33m\u001b[0m\u001b[1;33m\u001b[0m\u001b[0m\n\u001b[0;32m     33\u001b[0m         raise RuntimeError(\n\u001b[1;32m---> 34\u001b[1;33m             \"asyncio.run() cannot be called from a running event loop\")\n\u001b[0m\u001b[0;32m     35\u001b[0m \u001b[1;33m\u001b[0m\u001b[0m\n\u001b[0;32m     36\u001b[0m     \u001b[1;32mif\u001b[0m \u001b[1;32mnot\u001b[0m \u001b[0mcoroutines\u001b[0m\u001b[1;33m.\u001b[0m\u001b[0miscoroutine\u001b[0m\u001b[1;33m(\u001b[0m\u001b[0mmain\u001b[0m\u001b[1;33m)\u001b[0m\u001b[1;33m:\u001b[0m\u001b[1;33m\u001b[0m\u001b[1;33m\u001b[0m\u001b[0m\n",
      "\u001b[1;31mRuntimeError\u001b[0m: asyncio.run() cannot be called from a running event loop"
     ]
    }
   ],
   "source": [
    "wss_client = StockDataStream(trade_inst.api_key, trade_inst.secret_key)\n",
    "\n",
    "# async handler\n",
    "async def quote_data_handler(data: Any):\n",
    "    # quote data will arrive here\n",
    "    print(data)\n",
    "\n",
    "wss_client.subscribe_quotes(quote_data_handler, \"SPY\")\n",
    "\n",
    "wss_client.run()"
   ]
  },
  {
   "cell_type": "code",
   "execution_count": null,
   "metadata": {},
   "outputs": [],
   "source": []
  }
 ],
 "metadata": {
  "kernelspec": {
   "display_name": "Python 3.7.3 ('base')",
   "language": "python",
   "name": "python3"
  },
  "language_info": {
   "codemirror_mode": {
    "name": "ipython",
    "version": 3
   },
   "file_extension": ".py",
   "mimetype": "text/x-python",
   "name": "python",
   "nbconvert_exporter": "python",
   "pygments_lexer": "ipython3",
   "version": "3.7.3"
  },
  "orig_nbformat": 4,
  "vscode": {
   "interpreter": {
    "hash": "ad2bdc8ecc057115af97d19610ffacc2b4e99fae6737bb82f5d7fb13d2f2c186"
   }
  }
 },
 "nbformat": 4,
 "nbformat_minor": 2
}
