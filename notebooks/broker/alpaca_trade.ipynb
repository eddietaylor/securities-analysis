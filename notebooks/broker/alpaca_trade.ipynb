{
 "cells": [
  {
   "cell_type": "code",
   "execution_count": 1,
   "metadata": {},
   "outputs": [],
   "source": [
    "import alpaca_trade_api as tradeapi\n",
    "import os\n",
    "\n",
    "api_key = os.environ.get(\"APCA_API_KEY_ID\")\n",
    "api_secret = os.environ.get(\"APCA_API_SECRET_KEY\")\n",
    "\n",
    "api = tradeapi.REST(\n",
    "    api_key,\n",
    "    api_secret,\n",
    "    'https://paper-api.alpaca.markets', api_version='v2'\n",
    ")"
   ]
  },
  {
   "cell_type": "code",
   "execution_count": null,
   "metadata": {},
   "outputs": [],
   "source": []
  }
 ],
 "metadata": {
  "interpreter": {
   "hash": "6dda54454340abd40f0288c42e1d635740614f012c954b233596b79edb36b52c"
  },
  "kernelspec": {
   "display_name": "Python 3.9.5 64-bit ('securities-analysis': conda)",
   "language": "python",
   "name": "python3"
  },
  "language_info": {
   "codemirror_mode": {
    "name": "ipython",
    "version": 3
   },
   "file_extension": ".py",
   "mimetype": "text/x-python",
   "name": "python",
   "nbconvert_exporter": "python",
   "pygments_lexer": "ipython3",
   "version": "3.10.2"
  },
  "orig_nbformat": 4
 },
 "nbformat": 4,
 "nbformat_minor": 2
}
