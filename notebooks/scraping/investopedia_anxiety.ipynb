{
 "cells": [
  {
   "cell_type": "code",
   "execution_count": 17,
   "metadata": {},
   "outputs": [],
   "source": [
    "from selenium import webdriver\n",
    "from selenium.webdriver.chrome.options import Options\n",
    "from selenium.webdriver.common.by import By\n",
    "import time\n",
    "import os"
   ]
  },
  {
   "cell_type": "code",
   "execution_count": 26,
   "metadata": {},
   "outputs": [
    {
     "name": "stderr",
     "output_type": "stream",
     "text": [
      "C:\\Users\\Eddie\\AppData\\Local\\Temp\\ipykernel_17704\\593547941.py:7: DeprecationWarning: executable_path has been deprecated, please pass in a Service object\n",
      "  driver = webdriver.Chrome(r\"C:\\Program Files (x86)\\Google\\Chrome\\Application\\chromedriver.exe\", chrome_options=op)\n",
      "C:\\Users\\Eddie\\AppData\\Local\\Temp\\ipykernel_17704\\593547941.py:7: DeprecationWarning: use options instead of chrome_options\n",
      "  driver = webdriver.Chrome(r\"C:\\Program Files (x86)\\Google\\Chrome\\Application\\chromedriver.exe\", chrome_options=op)\n",
      "C:\\Users\\Eddie\\AppData\\Local\\Temp\\ipykernel_17704\\593547941.py:9: DeprecationWarning: find_element_by_link_text is deprecated. Please use find_element(by=By.LINK_TEXT, value=link_text) instead\n",
      "  button = driver.find_element_by_link_text(\"dw-data-link\").click()\n"
     ]
    },
    {
     "ename": "NoSuchElementException",
     "evalue": "Message: no such element: Unable to locate element: {\"method\":\"link text\",\"selector\":\"dw-data-link\"}\n  (Session info: chrome=99.0.4844.51)\nStacktrace:\nBacktrace:\n\tOrdinal0 [0x00879943+2595139]\n\tOrdinal0 [0x0080C9F1+2148849]\n\tOrdinal0 [0x00704528+1066280]\n\tOrdinal0 [0x00730FD4+1249236]\n\tOrdinal0 [0x007311CB+1249739]\n\tOrdinal0 [0x0075D812+1431570]\n\tOrdinal0 [0x0074BA34+1358388]\n\tOrdinal0 [0x0075BAF2+1424114]\n\tOrdinal0 [0x0074B806+1357830]\n\tOrdinal0 [0x00726086+1204358]\n\tOrdinal0 [0x00726F96+1208214]\n\tGetHandleVerifier [0x00A1B232+1658114]\n\tGetHandleVerifier [0x00AD312C+2411516]\n\tGetHandleVerifier [0x0090F261+560433]\n\tGetHandleVerifier [0x0090E366+556598]\n\tOrdinal0 [0x0081286B+2173035]\n\tOrdinal0 [0x008175F8+2192888]\n\tOrdinal0 [0x008176E5+2193125]\n\tOrdinal0 [0x008211FC+2232828]\n\tBaseThreadInitThunk [0x760DFA29+25]\n\tRtlGetAppContainerNamedObjectPath [0x77A67A7E+286]\n\tRtlGetAppContainerNamedObjectPath [0x77A67A4E+238]\n",
     "output_type": "error",
     "traceback": [
      "\u001b[1;31m---------------------------------------------------------------------------\u001b[0m",
      "\u001b[1;31mNoSuchElementException\u001b[0m                    Traceback (most recent call last)",
      "\u001b[1;32mc:\\Users\\Eddie\\Programming\\securities-analysis\\notebooks\\scraping\\investopedia_anxiety.ipynb Cell 2'\u001b[0m in \u001b[0;36m<module>\u001b[1;34m\u001b[0m\n\u001b[0;32m      <a href='vscode-notebook-cell:/c%3A/Users/Eddie/Programming/securities-analysis/notebooks/scraping/investopedia_anxiety.ipynb#ch0000001?line=6'>7</a>\u001b[0m driver \u001b[39m=\u001b[39m webdriver\u001b[39m.\u001b[39mChrome(\u001b[39mr\u001b[39m\u001b[39m\"\u001b[39m\u001b[39mC:\u001b[39m\u001b[39m\\\u001b[39m\u001b[39mProgram Files (x86)\u001b[39m\u001b[39m\\\u001b[39m\u001b[39mGoogle\u001b[39m\u001b[39m\\\u001b[39m\u001b[39mChrome\u001b[39m\u001b[39m\\\u001b[39m\u001b[39mApplication\u001b[39m\u001b[39m\\\u001b[39m\u001b[39mchromedriver.exe\u001b[39m\u001b[39m\"\u001b[39m, chrome_options\u001b[39m=\u001b[39mop)\n\u001b[0;32m      <a href='vscode-notebook-cell:/c%3A/Users/Eddie/Programming/securities-analysis/notebooks/scraping/investopedia_anxiety.ipynb#ch0000001?line=7'>8</a>\u001b[0m driver\u001b[39m.\u001b[39mget(\u001b[39m\"\u001b[39m\u001b[39mhttps://www.investopedia.com/anxiety-index-explained/\u001b[39m\u001b[39m\"\u001b[39m)\n\u001b[1;32m----> <a href='vscode-notebook-cell:/c%3A/Users/Eddie/Programming/securities-analysis/notebooks/scraping/investopedia_anxiety.ipynb#ch0000001?line=8'>9</a>\u001b[0m button \u001b[39m=\u001b[39m driver\u001b[39m.\u001b[39;49mfind_element_by_link_text(\u001b[39m\"\u001b[39;49m\u001b[39mdw-data-link\u001b[39;49m\u001b[39m\"\u001b[39;49m)\u001b[39m.\u001b[39mclick()\n",
      "File \u001b[1;32m~\\anaconda3\\envs\\securities-analysis\\lib\\site-packages\\selenium\\webdriver\\remote\\webdriver.py:569\u001b[0m, in \u001b[0;36mWebDriver.find_element_by_link_text\u001b[1;34m(self, link_text)\u001b[0m\n\u001b[0;32m    <a href='file:///~/anaconda3/envs/securities-analysis/lib/site-packages/selenium/webdriver/remote/webdriver.py?line=546'>547</a>\u001b[0m \u001b[39m\"\"\"\u001b[39;00m\n\u001b[0;32m    <a href='file:///~/anaconda3/envs/securities-analysis/lib/site-packages/selenium/webdriver/remote/webdriver.py?line=547'>548</a>\u001b[0m \u001b[39mFinds an element by link text.\u001b[39;00m\n\u001b[0;32m    <a href='file:///~/anaconda3/envs/securities-analysis/lib/site-packages/selenium/webdriver/remote/webdriver.py?line=548'>549</a>\u001b[0m \n\u001b[1;32m   (...)\u001b[0m\n\u001b[0;32m    <a href='file:///~/anaconda3/envs/securities-analysis/lib/site-packages/selenium/webdriver/remote/webdriver.py?line=561'>562</a>\u001b[0m \u001b[39m        element = driver.find_element_by_link_text('Sign In')\u001b[39;00m\n\u001b[0;32m    <a href='file:///~/anaconda3/envs/securities-analysis/lib/site-packages/selenium/webdriver/remote/webdriver.py?line=562'>563</a>\u001b[0m \u001b[39m\"\"\"\u001b[39;00m\n\u001b[0;32m    <a href='file:///~/anaconda3/envs/securities-analysis/lib/site-packages/selenium/webdriver/remote/webdriver.py?line=563'>564</a>\u001b[0m warnings\u001b[39m.\u001b[39mwarn(\n\u001b[0;32m    <a href='file:///~/anaconda3/envs/securities-analysis/lib/site-packages/selenium/webdriver/remote/webdriver.py?line=564'>565</a>\u001b[0m     \u001b[39m\"\u001b[39m\u001b[39mfind_element_by_link_text is deprecated. Please use find_element(by=By.LINK_TEXT, value=link_text) instead\u001b[39m\u001b[39m\"\u001b[39m,\n\u001b[0;32m    <a href='file:///~/anaconda3/envs/securities-analysis/lib/site-packages/selenium/webdriver/remote/webdriver.py?line=565'>566</a>\u001b[0m     \u001b[39mDeprecationWarning\u001b[39;00m,\n\u001b[0;32m    <a href='file:///~/anaconda3/envs/securities-analysis/lib/site-packages/selenium/webdriver/remote/webdriver.py?line=566'>567</a>\u001b[0m     stacklevel\u001b[39m=\u001b[39m\u001b[39m2\u001b[39m,\n\u001b[0;32m    <a href='file:///~/anaconda3/envs/securities-analysis/lib/site-packages/selenium/webdriver/remote/webdriver.py?line=567'>568</a>\u001b[0m )\n\u001b[1;32m--> <a href='file:///~/anaconda3/envs/securities-analysis/lib/site-packages/selenium/webdriver/remote/webdriver.py?line=568'>569</a>\u001b[0m \u001b[39mreturn\u001b[39;00m \u001b[39mself\u001b[39;49m\u001b[39m.\u001b[39;49mfind_element(by\u001b[39m=\u001b[39;49mBy\u001b[39m.\u001b[39;49mLINK_TEXT, value\u001b[39m=\u001b[39;49mlink_text)\n",
      "File \u001b[1;32m~\\anaconda3\\envs\\securities-analysis\\lib\\site-packages\\selenium\\webdriver\\remote\\webdriver.py:1248\u001b[0m, in \u001b[0;36mWebDriver.find_element\u001b[1;34m(self, by, value)\u001b[0m\n\u001b[0;32m   <a href='file:///~/anaconda3/envs/securities-analysis/lib/site-packages/selenium/webdriver/remote/webdriver.py?line=1244'>1245</a>\u001b[0m     by \u001b[39m=\u001b[39m By\u001b[39m.\u001b[39mCSS_SELECTOR\n\u001b[0;32m   <a href='file:///~/anaconda3/envs/securities-analysis/lib/site-packages/selenium/webdriver/remote/webdriver.py?line=1245'>1246</a>\u001b[0m     value \u001b[39m=\u001b[39m \u001b[39m'\u001b[39m\u001b[39m[name=\u001b[39m\u001b[39m\"\u001b[39m\u001b[39m%s\u001b[39;00m\u001b[39m\"\u001b[39m\u001b[39m]\u001b[39m\u001b[39m'\u001b[39m \u001b[39m%\u001b[39m value\n\u001b[1;32m-> <a href='file:///~/anaconda3/envs/securities-analysis/lib/site-packages/selenium/webdriver/remote/webdriver.py?line=1247'>1248</a>\u001b[0m \u001b[39mreturn\u001b[39;00m \u001b[39mself\u001b[39;49m\u001b[39m.\u001b[39;49mexecute(Command\u001b[39m.\u001b[39;49mFIND_ELEMENT, {\n\u001b[0;32m   <a href='file:///~/anaconda3/envs/securities-analysis/lib/site-packages/selenium/webdriver/remote/webdriver.py?line=1248'>1249</a>\u001b[0m     \u001b[39m'\u001b[39;49m\u001b[39musing\u001b[39;49m\u001b[39m'\u001b[39;49m: by,\n\u001b[0;32m   <a href='file:///~/anaconda3/envs/securities-analysis/lib/site-packages/selenium/webdriver/remote/webdriver.py?line=1249'>1250</a>\u001b[0m     \u001b[39m'\u001b[39;49m\u001b[39mvalue\u001b[39;49m\u001b[39m'\u001b[39;49m: value})[\u001b[39m'\u001b[39m\u001b[39mvalue\u001b[39m\u001b[39m'\u001b[39m]\n",
      "File \u001b[1;32m~\\anaconda3\\envs\\securities-analysis\\lib\\site-packages\\selenium\\webdriver\\remote\\webdriver.py:425\u001b[0m, in \u001b[0;36mWebDriver.execute\u001b[1;34m(self, driver_command, params)\u001b[0m\n\u001b[0;32m    <a href='file:///~/anaconda3/envs/securities-analysis/lib/site-packages/selenium/webdriver/remote/webdriver.py?line=422'>423</a>\u001b[0m response \u001b[39m=\u001b[39m \u001b[39mself\u001b[39m\u001b[39m.\u001b[39mcommand_executor\u001b[39m.\u001b[39mexecute(driver_command, params)\n\u001b[0;32m    <a href='file:///~/anaconda3/envs/securities-analysis/lib/site-packages/selenium/webdriver/remote/webdriver.py?line=423'>424</a>\u001b[0m \u001b[39mif\u001b[39;00m response:\n\u001b[1;32m--> <a href='file:///~/anaconda3/envs/securities-analysis/lib/site-packages/selenium/webdriver/remote/webdriver.py?line=424'>425</a>\u001b[0m     \u001b[39mself\u001b[39;49m\u001b[39m.\u001b[39;49merror_handler\u001b[39m.\u001b[39;49mcheck_response(response)\n\u001b[0;32m    <a href='file:///~/anaconda3/envs/securities-analysis/lib/site-packages/selenium/webdriver/remote/webdriver.py?line=425'>426</a>\u001b[0m     response[\u001b[39m'\u001b[39m\u001b[39mvalue\u001b[39m\u001b[39m'\u001b[39m] \u001b[39m=\u001b[39m \u001b[39mself\u001b[39m\u001b[39m.\u001b[39m_unwrap_value(\n\u001b[0;32m    <a href='file:///~/anaconda3/envs/securities-analysis/lib/site-packages/selenium/webdriver/remote/webdriver.py?line=426'>427</a>\u001b[0m         response\u001b[39m.\u001b[39mget(\u001b[39m'\u001b[39m\u001b[39mvalue\u001b[39m\u001b[39m'\u001b[39m, \u001b[39mNone\u001b[39;00m))\n\u001b[0;32m    <a href='file:///~/anaconda3/envs/securities-analysis/lib/site-packages/selenium/webdriver/remote/webdriver.py?line=427'>428</a>\u001b[0m     \u001b[39mreturn\u001b[39;00m response\n",
      "File \u001b[1;32m~\\anaconda3\\envs\\securities-analysis\\lib\\site-packages\\selenium\\webdriver\\remote\\errorhandler.py:247\u001b[0m, in \u001b[0;36mErrorHandler.check_response\u001b[1;34m(self, response)\u001b[0m\n\u001b[0;32m    <a href='file:///~/anaconda3/envs/securities-analysis/lib/site-packages/selenium/webdriver/remote/errorhandler.py?line=244'>245</a>\u001b[0m         alert_text \u001b[39m=\u001b[39m value[\u001b[39m'\u001b[39m\u001b[39malert\u001b[39m\u001b[39m'\u001b[39m]\u001b[39m.\u001b[39mget(\u001b[39m'\u001b[39m\u001b[39mtext\u001b[39m\u001b[39m'\u001b[39m)\n\u001b[0;32m    <a href='file:///~/anaconda3/envs/securities-analysis/lib/site-packages/selenium/webdriver/remote/errorhandler.py?line=245'>246</a>\u001b[0m     \u001b[39mraise\u001b[39;00m exception_class(message, screen, stacktrace, alert_text)  \u001b[39m# type: ignore[call-arg]  # mypy is not smart enough here\u001b[39;00m\n\u001b[1;32m--> <a href='file:///~/anaconda3/envs/securities-analysis/lib/site-packages/selenium/webdriver/remote/errorhandler.py?line=246'>247</a>\u001b[0m \u001b[39mraise\u001b[39;00m exception_class(message, screen, stacktrace)\n",
      "\u001b[1;31mNoSuchElementException\u001b[0m: Message: no such element: Unable to locate element: {\"method\":\"link text\",\"selector\":\"dw-data-link\"}\n  (Session info: chrome=99.0.4844.51)\nStacktrace:\nBacktrace:\n\tOrdinal0 [0x00879943+2595139]\n\tOrdinal0 [0x0080C9F1+2148849]\n\tOrdinal0 [0x00704528+1066280]\n\tOrdinal0 [0x00730FD4+1249236]\n\tOrdinal0 [0x007311CB+1249739]\n\tOrdinal0 [0x0075D812+1431570]\n\tOrdinal0 [0x0074BA34+1358388]\n\tOrdinal0 [0x0075BAF2+1424114]\n\tOrdinal0 [0x0074B806+1357830]\n\tOrdinal0 [0x00726086+1204358]\n\tOrdinal0 [0x00726F96+1208214]\n\tGetHandleVerifier [0x00A1B232+1658114]\n\tGetHandleVerifier [0x00AD312C+2411516]\n\tGetHandleVerifier [0x0090F261+560433]\n\tGetHandleVerifier [0x0090E366+556598]\n\tOrdinal0 [0x0081286B+2173035]\n\tOrdinal0 [0x008175F8+2192888]\n\tOrdinal0 [0x008176E5+2193125]\n\tOrdinal0 [0x008211FC+2232828]\n\tBaseThreadInitThunk [0x760DFA29+25]\n\tRtlGetAppContainerNamedObjectPath [0x77A67A7E+286]\n\tRtlGetAppContainerNamedObjectPath [0x77A67A4E+238]\n"
     ]
    }
   ],
   "source": [
    "options = webdriver.ChromeOptions()\n",
    "p = {\"download.default_directory\": f\"{os.path.abspath('.')}\\..\\..\\data\", \n",
    "\"safebrowsing.enabled\":\"false\",\n",
    "\"browser.download.manager.showWhenStarting\": False}\n",
    "op = Options()\n",
    "op.add_experimental_option(\"prefs\", p)\n",
    "driver = webdriver.Chrome(r\"C:\\Program Files (x86)\\Google\\Chrome\\Application\\chromedriver.exe\", chrome_options=op)\n",
    "driver.get(\"https://www.investopedia.com/anxiety-index-explained/\")\n",
    "button = driver.find_element_by_link_text(\"dw-data-link\").click()"
   ]
  },
  {
   "cell_type": "code",
   "execution_count": 10,
   "metadata": {},
   "outputs": [
    {
     "name": "stdout",
     "output_type": "stream",
     "text": [
      "c:\\Users\\Eddie\\Programming\\securities-analysis\\notebooks\\scraping../../data/\n"
     ]
    }
   ],
   "source": [
    "print(f\"{os.path.abspath('.')}\\..\\..\\data\\\")"
   ]
  },
  {
   "cell_type": "code",
   "execution_count": null,
   "metadata": {},
   "outputs": [],
   "source": [
    "javascript:void(0)"
   ]
  }
 ],
 "metadata": {
  "interpreter": {
   "hash": "6dda54454340abd40f0288c42e1d635740614f012c954b233596b79edb36b52c"
  },
  "kernelspec": {
   "display_name": "Python 3.10.2 ('securities-analysis')",
   "language": "python",
   "name": "python3"
  },
  "language_info": {
   "codemirror_mode": {
    "name": "ipython",
    "version": 3
   },
   "file_extension": ".py",
   "mimetype": "text/x-python",
   "name": "python",
   "nbconvert_exporter": "python",
   "pygments_lexer": "ipython3",
   "version": "3.10.2"
  },
  "orig_nbformat": 4
 },
 "nbformat": 4,
 "nbformat_minor": 2
}
