{
 "cells": [
  {
   "cell_type": "markdown",
   "metadata": {},
   "source": [
    "### Socket Programming\n",
    "\n",
    "#### Using publisher-subscriber model, now we subscribe to the streaming host"
   ]
  },
  {
   "cell_type": "code",
   "execution_count": 2,
   "metadata": {},
   "outputs": [],
   "source": [
    "import zmq\n",
    "import pandas as pd\n",
    "import datetime\n",
    "import numpy as np\n",
    "import plotly.io as pio\n",
    "import plotly.graph_objects as go\n",
    "pio.renderers.default = \"notebook_connected\""
   ]
  },
  {
   "cell_type": "markdown",
   "metadata": {},
   "source": [
    "#### Note: For reading in the stream, you need to have the data_server.py running in a separate terminal"
   ]
  },
  {
   "cell_type": "code",
   "execution_count": null,
   "metadata": {},
   "outputs": [],
   "source": [
    "context = zmq.Context()\n",
    "socket = context.socket(zmq.SUB)\n",
    "socket.connect('tcp://0.0.0.0:5555')\n",
    "socket.setsockopt_string(zmq.SUBSCRIBE, 'ET')\n",
    "\n",
    "while True:\n",
    "    data = socket.recv_string()\n",
    "    print(data)"
   ]
  },
  {
   "cell_type": "markdown",
   "metadata": {},
   "source": [
    "### Online Algorithm example"
   ]
  },
  {
   "cell_type": "code",
   "execution_count": null,
   "metadata": {},
   "outputs": [],
   "source": [
    "df = pd.DataFrame()\n",
    "mom = 3\n",
    "min_length = mom + 1\n",
    "\n",
    "context = zmq.Context()\n",
    "socket = context.socket(zmq.SUB)\n",
    "socket.connect('tcp://0.0.0.0:5555')\n",
    "socket.setsockopt_string(zmq.SUBSCRIBE, 'ET')\n",
    "\n",
    "while True:\n",
    "    data = socket.recv_string()\n",
    "    t = datetime.datetime.now()\n",
    "    sym, value = data.split()\n",
    "    df = pd.concat([df, pd.DataFrame({sym: float(value)}, index=[t])])\n",
    "    # return last number of 5 second intervals\n",
    "    dr = df.resample('5s', label='right').last()\n",
    "    dr['log_returns'] = np.log(dr / dr.shift(1))\n",
    "    if len(dr) > min_length:\n",
    "        min_length += 1\n",
    "        dr['momentum'] = np.sign(dr['log_returns'].rolling(mom).mean())\n",
    "        print('\\n' + '=' * 51)\n",
    "        print('NEW SIGNAL | {}'.format(datetime.datetime.now()))\n",
    "        print('=' * 51)\n",
    "        print(dr.tail())\n",
    "        # you signal off of the second to last because \n",
    "        # the resampling is labelled with the right timestamp\n",
    "        # so the last datapoint has not completed its 5s interval yet\n",
    "        if dr['momentum'].iloc[-2] == 1.0:\n",
    "            print(\"\\n Go Long\")\n",
    "        elif dr['momentum'].iloc[-2] == -1.0:\n",
    "            print(\"\\n Go Short\")"
   ]
  },
  {
   "cell_type": "markdown",
   "metadata": {},
   "source": [
    "### Real-Time Plotting"
   ]
  },
  {
   "cell_type": "code",
   "execution_count": 8,
   "metadata": {},
   "outputs": [
    {
     "data": {
      "application/vnd.jupyter.widget-view+json": {
       "model_id": "ad80bd04744148d79779a56c1bd68cf3",
       "version_major": 2,
       "version_minor": 0
      },
      "text/plain": [
       "FigureWidget({\n",
       "    'data': [{'type': 'scatter', 'uid': 'be28f77c-722b-4a71-9911-08a59a8071e7'}], 'layout': {'t…"
      ]
     },
     "metadata": {},
     "output_type": "display_data"
    }
   ],
   "source": [
    "symbol = 'ET'\n",
    "\n",
    "# you have to separately instantiate the widget\n",
    "# before populating it. \n",
    "fig = go.FigureWidget()\n",
    "fig.add_scatter()\n",
    "fig"
   ]
  },
  {
   "cell_type": "code",
   "execution_count": 10,
   "metadata": {},
   "outputs": [
    {
     "name": "stderr",
     "output_type": "stream",
     "text": [
      "Exception ignored in: <function Context.__del__ at 0x7f67b19cf9a0>\n",
      "Traceback (most recent call last):\n",
      "  File \"/home/eddie/miniconda3/envs/securities-analysis/lib/python3.10/site-packages/zmq/sugar/context.py\", line 71, in __del__\n",
      "    self.term()\n",
      "  File \"/home/eddie/miniconda3/envs/securities-analysis/lib/python3.10/site-packages/zmq/sugar/context.py\", line 190, in term\n",
      "    return super(Context, self).term()\n",
      "  File \"zmq/backend/cython/context.pyx\", line 82, in zmq.backend.cython.context.Context.term\n",
      "  File \"zmq/backend/cython/checkrc.pxd\", line 13, in zmq.backend.cython.checkrc._check_rc\n",
      "KeyboardInterrupt: \n"
     ]
    },
    {
     "ename": "KeyboardInterrupt",
     "evalue": "",
     "output_type": "error",
     "traceback": [
      "\u001b[0;31m---------------------------------------------------------------------------\u001b[0m",
      "\u001b[0;31mKeyboardInterrupt\u001b[0m                         Traceback (most recent call last)",
      "\u001b[1;32m/home/eddie/Documents/projects/securities-analysis/notebooks/streaming/real_time_data.ipynb Cell 9'\u001b[0m in \u001b[0;36m<module>\u001b[0;34m\u001b[0m\n\u001b[1;32m      <a href='vscode-notebook-cell:/home/eddie/Documents/projects/securities-analysis/notebooks/streaming/real_time_data.ipynb#ch0000007?line=7'>8</a>\u001b[0m prices \u001b[39m=\u001b[39m \u001b[39mlist\u001b[39m()\n\u001b[1;32m     <a href='vscode-notebook-cell:/home/eddie/Documents/projects/securities-analysis/notebooks/streaming/real_time_data.ipynb#ch0000007?line=9'>10</a>\u001b[0m \u001b[39mfor\u001b[39;00m _ \u001b[39min\u001b[39;00m \u001b[39mrange\u001b[39m(\u001b[39m500\u001b[39m):\n\u001b[0;32m---> <a href='vscode-notebook-cell:/home/eddie/Documents/projects/securities-analysis/notebooks/streaming/real_time_data.ipynb#ch0000007?line=10'>11</a>\u001b[0m     msg \u001b[39m=\u001b[39m socket\u001b[39m.\u001b[39;49mrecv_string()\n\u001b[1;32m     <a href='vscode-notebook-cell:/home/eddie/Documents/projects/securities-analysis/notebooks/streaming/real_time_data.ipynb#ch0000007?line=11'>12</a>\u001b[0m     \u001b[39m#print(msg)\u001b[39;00m\n\u001b[1;32m     <a href='vscode-notebook-cell:/home/eddie/Documents/projects/securities-analysis/notebooks/streaming/real_time_data.ipynb#ch0000007?line=12'>13</a>\u001b[0m     t \u001b[39m=\u001b[39m datetime\u001b[39m.\u001b[39mdatetime\u001b[39m.\u001b[39mnow()\n",
      "File \u001b[0;32m~/miniconda3/envs/securities-analysis/lib/python3.10/site-packages/zmq/sugar/socket.py:742\u001b[0m, in \u001b[0;36mSocket.recv_string\u001b[0;34m(self, flags, encoding)\u001b[0m\n\u001b[1;32m    <a href='file:///~/miniconda3/envs/securities-analysis/lib/python3.10/site-packages/zmq/sugar/socket.py?line=721'>722</a>\u001b[0m \u001b[39mdef\u001b[39;00m \u001b[39mrecv_string\u001b[39m(\u001b[39mself\u001b[39m, flags\u001b[39m=\u001b[39m\u001b[39m0\u001b[39m, encoding\u001b[39m=\u001b[39m\u001b[39m'\u001b[39m\u001b[39mutf-8\u001b[39m\u001b[39m'\u001b[39m):\n\u001b[1;32m    <a href='file:///~/miniconda3/envs/securities-analysis/lib/python3.10/site-packages/zmq/sugar/socket.py?line=722'>723</a>\u001b[0m     \u001b[39m\"\"\"Receive a unicode string, as sent by send_string.\u001b[39;00m\n\u001b[1;32m    <a href='file:///~/miniconda3/envs/securities-analysis/lib/python3.10/site-packages/zmq/sugar/socket.py?line=723'>724</a>\u001b[0m \n\u001b[1;32m    <a href='file:///~/miniconda3/envs/securities-analysis/lib/python3.10/site-packages/zmq/sugar/socket.py?line=724'>725</a>\u001b[0m \u001b[39m    Parameters\u001b[39;00m\n\u001b[0;32m   (...)\u001b[0m\n\u001b[1;32m    <a href='file:///~/miniconda3/envs/securities-analysis/lib/python3.10/site-packages/zmq/sugar/socket.py?line=739'>740</a>\u001b[0m \u001b[39m        for any of the reasons :func:`~Socket.recv` might fail\u001b[39;00m\n\u001b[1;32m    <a href='file:///~/miniconda3/envs/securities-analysis/lib/python3.10/site-packages/zmq/sugar/socket.py?line=740'>741</a>\u001b[0m \u001b[39m    \"\"\"\u001b[39;00m\n\u001b[0;32m--> <a href='file:///~/miniconda3/envs/securities-analysis/lib/python3.10/site-packages/zmq/sugar/socket.py?line=741'>742</a>\u001b[0m     msg \u001b[39m=\u001b[39m \u001b[39mself\u001b[39;49m\u001b[39m.\u001b[39;49mrecv(flags\u001b[39m=\u001b[39;49mflags)\n\u001b[1;32m    <a href='file:///~/miniconda3/envs/securities-analysis/lib/python3.10/site-packages/zmq/sugar/socket.py?line=742'>743</a>\u001b[0m     \u001b[39mreturn\u001b[39;00m \u001b[39mself\u001b[39m\u001b[39m.\u001b[39m_deserialize(msg, \u001b[39mlambda\u001b[39;00m buf: buf\u001b[39m.\u001b[39mdecode(encoding))\n",
      "File \u001b[0;32mzmq/backend/cython/socket.pyx:781\u001b[0m, in \u001b[0;36mzmq.backend.cython.socket.Socket.recv\u001b[0;34m()\u001b[0m\n",
      "File \u001b[0;32mzmq/backend/cython/socket.pyx:817\u001b[0m, in \u001b[0;36mzmq.backend.cython.socket.Socket.recv\u001b[0;34m()\u001b[0m\n",
      "File \u001b[0;32mzmq/backend/cython/socket.pyx:186\u001b[0m, in \u001b[0;36mzmq.backend.cython.socket._recv_copy\u001b[0;34m()\u001b[0m\n",
      "File \u001b[0;32m~/miniconda3/envs/securities-analysis/lib/python3.10/site-packages/zmq/backend/cython/checkrc.pxd:13\u001b[0m, in \u001b[0;36mzmq.backend.cython.checkrc._check_rc\u001b[0;34m()\u001b[0m\n",
      "\u001b[0;31mKeyboardInterrupt\u001b[0m: "
     ]
    }
   ],
   "source": [
    "context = zmq.Context()\n",
    "socket = context.socket(zmq.SUB)\n",
    "socket.connect('tcp://0.0.0.0:5555')\n",
    "socket.setsockopt_string(zmq.SUBSCRIBE, 'ET')\n",
    "\n",
    "# update these lists to update the data objects of figure widgets\n",
    "times = list()\n",
    "prices = list()\n",
    "\n",
    "for _ in range(500):\n",
    "    msg = socket.recv_string()\n",
    "    #print(msg)\n",
    "    t = datetime.datetime.now()\n",
    "    times.append(t)\n",
    "    _, price = msg.split()\n",
    "    prices.append(float(price))\n",
    "    fig.data[0].x = times\n",
    "    fig.data[0].y = prices"
   ]
  },
  {
   "cell_type": "markdown",
   "metadata": {},
   "source": [
    "### Streaming subplots"
   ]
  },
  {
   "cell_type": "code",
   "execution_count": 7,
   "metadata": {},
   "outputs": [
    {
     "data": {
      "application/vnd.jupyter.widget-view+json": {
       "model_id": "934d125bd7b843f3901155342e3c9f7b",
       "version_major": 2,
       "version_minor": 0
      },
      "text/plain": [
       "FigureWidget({\n",
       "    'data': [{'name': 'ET', 'type': 'scatter', 'uid': '7dc6c3c7-2e9f-4d8e-9029-01b77cb7d293', '…"
      ]
     },
     "metadata": {},
     "output_type": "display_data"
    }
   ],
   "source": [
    "from plotly.subplots import make_subplots\n",
    "\n",
    "f = make_subplots(rows=3, cols=1, shared_xaxes=True)\n",
    "f.append_trace(go.Scatter(name='ET'), row=1, col=1)\n",
    "f.append_trace(go.Scatter(name='RETURN', line=dict(width=1, dash='dot'),\n",
    "mode='lines+markers', marker={'symbol':'triangle-up'}),\n",
    "row=2, col=1)\n",
    "f.append_trace(go.Scatter(name='MOMENTUM', line=dict(width=1, dash='dash'),\n",
    "mode='lines+markers', marker={'symbol': 'x'}), row=3, col=1)\n",
    "\n",
    "fig = go.FigureWidget(f)\n",
    "fig"
   ]
  },
  {
   "cell_type": "code",
   "execution_count": 11,
   "metadata": {},
   "outputs": [
    {
     "ename": "KeyboardInterrupt",
     "evalue": "",
     "output_type": "error",
     "traceback": [
      "\u001b[0;31m---------------------------------------------------------------------------\u001b[0m",
      "\u001b[0;31mKeyboardInterrupt\u001b[0m                         Traceback (most recent call last)",
      "\u001b[1;32m/home/eddie/Documents/projects/securities-analysis/notebooks/streaming/real_time_data.ipynb Cell 12'\u001b[0m in \u001b[0;36m<module>\u001b[0;34m\u001b[0m\n\u001b[1;32m      <a href='vscode-notebook-cell:/home/eddie/Documents/projects/securities-analysis/notebooks/streaming/real_time_data.ipynb#ch0000014?line=5'>6</a>\u001b[0m socket\u001b[39m.\u001b[39msetsockopt_string(zmq\u001b[39m.\u001b[39mSUBSCRIBE, \u001b[39m'\u001b[39m\u001b[39mET\u001b[39m\u001b[39m'\u001b[39m)\n\u001b[1;32m      <a href='vscode-notebook-cell:/home/eddie/Documents/projects/securities-analysis/notebooks/streaming/real_time_data.ipynb#ch0000014?line=7'>8</a>\u001b[0m \u001b[39mfor\u001b[39;00m _ \u001b[39min\u001b[39;00m \u001b[39mrange\u001b[39m(\u001b[39m75\u001b[39m):\n\u001b[0;32m----> <a href='vscode-notebook-cell:/home/eddie/Documents/projects/securities-analysis/notebooks/streaming/real_time_data.ipynb#ch0000014?line=8'>9</a>\u001b[0m     msg \u001b[39m=\u001b[39m socket\u001b[39m.\u001b[39;49mrecv_string()\n\u001b[1;32m     <a href='vscode-notebook-cell:/home/eddie/Documents/projects/securities-analysis/notebooks/streaming/real_time_data.ipynb#ch0000014?line=9'>10</a>\u001b[0m     t \u001b[39m=\u001b[39m datetime\u001b[39m.\u001b[39mdatetime\u001b[39m.\u001b[39mnow()\n\u001b[1;32m     <a href='vscode-notebook-cell:/home/eddie/Documents/projects/securities-analysis/notebooks/streaming/real_time_data.ipynb#ch0000014?line=10'>11</a>\u001b[0m     \u001b[39m# split into list and assign each element to var\u001b[39;00m\n",
      "File \u001b[0;32m~/miniconda3/envs/securities-analysis/lib/python3.10/site-packages/zmq/sugar/socket.py:742\u001b[0m, in \u001b[0;36mSocket.recv_string\u001b[0;34m(self, flags, encoding)\u001b[0m\n\u001b[1;32m    <a href='file:///~/miniconda3/envs/securities-analysis/lib/python3.10/site-packages/zmq/sugar/socket.py?line=721'>722</a>\u001b[0m \u001b[39mdef\u001b[39;00m \u001b[39mrecv_string\u001b[39m(\u001b[39mself\u001b[39m, flags\u001b[39m=\u001b[39m\u001b[39m0\u001b[39m, encoding\u001b[39m=\u001b[39m\u001b[39m'\u001b[39m\u001b[39mutf-8\u001b[39m\u001b[39m'\u001b[39m):\n\u001b[1;32m    <a href='file:///~/miniconda3/envs/securities-analysis/lib/python3.10/site-packages/zmq/sugar/socket.py?line=722'>723</a>\u001b[0m     \u001b[39m\"\"\"Receive a unicode string, as sent by send_string.\u001b[39;00m\n\u001b[1;32m    <a href='file:///~/miniconda3/envs/securities-analysis/lib/python3.10/site-packages/zmq/sugar/socket.py?line=723'>724</a>\u001b[0m \n\u001b[1;32m    <a href='file:///~/miniconda3/envs/securities-analysis/lib/python3.10/site-packages/zmq/sugar/socket.py?line=724'>725</a>\u001b[0m \u001b[39m    Parameters\u001b[39;00m\n\u001b[0;32m   (...)\u001b[0m\n\u001b[1;32m    <a href='file:///~/miniconda3/envs/securities-analysis/lib/python3.10/site-packages/zmq/sugar/socket.py?line=739'>740</a>\u001b[0m \u001b[39m        for any of the reasons :func:`~Socket.recv` might fail\u001b[39;00m\n\u001b[1;32m    <a href='file:///~/miniconda3/envs/securities-analysis/lib/python3.10/site-packages/zmq/sugar/socket.py?line=740'>741</a>\u001b[0m \u001b[39m    \"\"\"\u001b[39;00m\n\u001b[0;32m--> <a href='file:///~/miniconda3/envs/securities-analysis/lib/python3.10/site-packages/zmq/sugar/socket.py?line=741'>742</a>\u001b[0m     msg \u001b[39m=\u001b[39m \u001b[39mself\u001b[39;49m\u001b[39m.\u001b[39;49mrecv(flags\u001b[39m=\u001b[39;49mflags)\n\u001b[1;32m    <a href='file:///~/miniconda3/envs/securities-analysis/lib/python3.10/site-packages/zmq/sugar/socket.py?line=742'>743</a>\u001b[0m     \u001b[39mreturn\u001b[39;00m \u001b[39mself\u001b[39m\u001b[39m.\u001b[39m_deserialize(msg, \u001b[39mlambda\u001b[39;00m buf: buf\u001b[39m.\u001b[39mdecode(encoding))\n",
      "File \u001b[0;32mzmq/backend/cython/socket.pyx:781\u001b[0m, in \u001b[0;36mzmq.backend.cython.socket.Socket.recv\u001b[0;34m()\u001b[0m\n",
      "File \u001b[0;32mzmq/backend/cython/socket.pyx:817\u001b[0m, in \u001b[0;36mzmq.backend.cython.socket.Socket.recv\u001b[0;34m()\u001b[0m\n",
      "File \u001b[0;32mzmq/backend/cython/socket.pyx:186\u001b[0m, in \u001b[0;36mzmq.backend.cython.socket._recv_copy\u001b[0;34m()\u001b[0m\n",
      "File \u001b[0;32m~/miniconda3/envs/securities-analysis/lib/python3.10/site-packages/zmq/backend/cython/checkrc.pxd:13\u001b[0m, in \u001b[0;36mzmq.backend.cython.checkrc._check_rc\u001b[0;34m()\u001b[0m\n",
      "\u001b[0;31mKeyboardInterrupt\u001b[0m: "
     ]
    }
   ],
   "source": [
    "df = pd.DataFrame()\n",
    "\n",
    "context = zmq.Context()\n",
    "socket = context.socket(zmq.SUB)\n",
    "socket.connect('tcp://0.0.0.0:5555')\n",
    "socket.setsockopt_string(zmq.SUBSCRIBE, 'ET')\n",
    "\n",
    "for _ in range(75):\n",
    "    msg = socket.recv_string()\n",
    "    t = datetime.datetime.now()\n",
    "    # split into list and assign each element to var\n",
    "    sym, price = msg.split()\n",
    "    df = pd.concat([df, pd.DataFrame({sym: float(price)}, index=[t])])\n",
    "    df['LOG_RET'] = np.log(df[sym] / df[sym].shift(1))\n",
    "    # you'll have NaN at the points where there is less than 10 trailing\n",
    "    # datapoints\n",
    "    df['MOM'] = df['LOG_RET'].rolling(10).mean()\n",
    "    fig.data[0].x = df.index\n",
    "    fig.data[1].x = df.index\n",
    "    fig.data[2].x = df.index\n",
    "    fig.data[0].y = df[sym]\n",
    "    fig.data[1].y = df['LOG_RET']\n",
    "    fig.data[2].y = df['MOM']\n"
   ]
  },
  {
   "cell_type": "code",
   "execution_count": null,
   "metadata": {},
   "outputs": [],
   "source": []
  }
 ],
 "metadata": {
  "interpreter": {
   "hash": "77d16b1fda1ebc0b4999fc08ffa72563791679db6f7be71491360f2e93bdef64"
  },
  "kernelspec": {
   "display_name": "Python 3.10.2 ('securities-analysis')",
   "language": "python",
   "name": "python3"
  },
  "language_info": {
   "codemirror_mode": {
    "name": "ipython",
    "version": 3
   },
   "file_extension": ".py",
   "mimetype": "text/x-python",
   "name": "python",
   "nbconvert_exporter": "python",
   "pygments_lexer": "ipython3",
   "version": "3.10.2"
  },
  "orig_nbformat": 4
 },
 "nbformat": 4,
 "nbformat_minor": 2
}
