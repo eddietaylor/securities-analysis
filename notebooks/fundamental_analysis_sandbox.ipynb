{
 "cells": [
  {
   "cell_type": "markdown",
   "metadata": {},
   "source": [
    "### Market Capitalization"
   ]
  },
  {
   "cell_type": "markdown",
   "metadata": {},
   "source": [
    "A measure to determine the size of a company and categorize into large cap, medium cap and small cap. It is simply the product of outstanding shares and the current price of a share: \n",
    " \\begin{equation}\n",
    " \\text{MC} = N \\times P \n",
    "\\end{equation}\n",
    "where ''MC'' is the market capitalization, ''N'' is the number of shares outstanding, and ''P'' is the closing price per share. Large-cap is greater than $\\$$10 billion, medium is between $\\$$2 billion and $\\$$10 billion, and small is less than $\\$$2 billion\n",
    "\n",
    "Opinion: Small cap stocks might be riskier and large cap have smaller returns but are less risky"
   ]
  },
  {
   "cell_type": "markdown",
   "metadata": {},
   "source": [
    "### Price to Earnings Ratio"
   ]
  },
  {
   "cell_type": "markdown",
   "metadata": {},
   "source": [
    "One of the most useful ratios. Can take the market capitalization and divide by the earnings or take the current share price and divide by the Earnings per Share:\n",
    "\n",
    "\\begin{equation}\n",
    "P/E=\\frac{\\text{Share Price}}{\\text{Earnings per Share}}\n",
    "\\end{equation}"
   ]
  },
  {
   "cell_type": "code",
   "execution_count": null,
   "metadata": {},
   "outputs": [],
   "source": []
  }
 ],
 "metadata": {
  "kernelspec": {
   "display_name": "Python 3",
   "language": "python",
   "name": "python3"
  },
  "language_info": {
   "codemirror_mode": {
    "name": "ipython",
    "version": 3
   },
   "file_extension": ".py",
   "mimetype": "text/x-python",
   "name": "python",
   "nbconvert_exporter": "python",
   "pygments_lexer": "ipython3",
   "version": "3.7.3"
  }
 },
 "nbformat": 4,
 "nbformat_minor": 2
}
