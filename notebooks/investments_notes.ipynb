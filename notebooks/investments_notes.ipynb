{
 "cells": [
  {
   "cell_type": "markdown",
   "id": "63d7aeaa",
   "metadata": {},
   "source": [
    "# INVESTMENTS"
   ]
  },
  {
   "cell_type": "markdown",
   "id": "5c043a34",
   "metadata": {},
   "source": [
    "# The Investment Environment"
   ]
  },
  {
   "cell_type": "markdown",
   "id": "e87a3f93",
   "metadata": {},
   "source": [
    "-Investment: Current commitment of money or other resources in the expectation of reaping future benefits \\\n",
    "-When buying stock, hopefully future benefits justify time money is tied up and the risk \\\n",
    "-Or this activity, sacrificing time that could be spent elsewhere \\\n",
    "-both instances involve sacrificing something of value now, expecting to benefit later"
   ]
  },
  {
   "cell_type": "markdown",
   "id": "562df7eb",
   "metadata": {},
   "source": [
    "-In this chapter consider: \\\n",
    "1.) The role of financial assets in the economy \\\n",
    "2.) discuss relationship between real assets (produce the goods and services) and securities/financial assets \\\n",
    "3.) why financial assets are important for a functioning economy\n",
    "\n",
    "-central themes to investing:\n",
    "1.) Risk-Return Tradeoff\n",
    "2.) Efficient Pricing of financial assets"
   ]
  },
  {
   "cell_type": "markdown",
   "id": "40496b72",
   "metadata": {},
   "source": [
    "### 1.1 Real Assets vs. Financial Assets"
   ]
  },
  {
   "cell_type": "markdown",
   "id": "6f52fdfd",
   "metadata": {},
   "source": [
    "-Wealth of a society is determined by the productive capacity of its economy aka the goods and services its member can create!\\\n",
    "-The capacity is a function of the **real assets** of the economy: the land, buildings, machines, and knowledge that can be used to produce goods and services\\\n",
    "-**Financial assets** do not contribute to the productive capacity of a society but they are claims on the real assets that do. They are claims on the income generated from these real assets!!! \\\n",
    "-Buy shares and share in the income generated from using said real assets! \\\n",
    "-Firms use this money to buy more real assets \\\n",
    "-When aggregating all of the balance sheets in the economy, the financial assets and liabilities cancel each other and the net wealth of the economy is all real assets! \\\n",
    "-Success or failure of financial assets ultimately depends on performance of underlying real assets!!!"
   ]
  },
  {
   "cell_type": "markdown",
   "id": "ec4a753d",
   "metadata": {},
   "source": [
    "### 1.2 Financial Assets"
   ]
  },
  {
   "cell_type": "markdown",
   "id": "69e84f42",
   "metadata": {},
   "source": [
    "-3 broad type of financial assets: \\\n",
    "1.) fixed income \\\n",
    "2.) equity \\\n",
    "3.) derivatives\n",
    "\n",
    "-**fixed income** (debt securities) promises fixed stream of income. e.g. corporate bond promises fixed interest. So least tied to performance of issuer (unless they go bankrupt!)\n",
    "\n",
    "-**Money Market** refers to debt securities that are short-term, highly marketable, and low-risk \\\n",
    "e.g. Treasury bills or Bank Certificate of Deposit (CDs) \\\n",
    "-fixed income **Captital Market**  inclueds long-term securities \\\n",
    "e.g. Treasury bonds as well as bonds issued by federal agencies, corporations, municipalities\n",
    "\n",
    "-**equity** represent ownership share in the corporation. Not promised any payment. Directly tied to success of the firm and it real assets and therefore its riskier\n",
    "\n",
    "-**derivative securities** such as options and futures contracts provide payoffs determined by prices of other assets such as bonds or stocks. Name because their value derives from value of other financial assets. \\\n",
    "One use of derivatives is to hedge risks, aka transfer them to other parties\n",
    "\n"
   ]
  },
  {
   "cell_type": "markdown",
   "id": "5eca4eca",
   "metadata": {},
   "source": [
    "### 1.3 Financial Markets and the Economy\n",
    "\n",
    "-Financial assets allow us to make the most of the economy's real assets \\\n",
    "\n",
    "-Informational Role of Financial Markets:\n",
    "\n",
    "Stock prices reflect investors' collective assessment of company's current performance and future potential!!! When price goes up, more investment capital will flow to those firms and in this way, the prices play a major role in the allocation of capital in market economies.\n",
    "\n",
    "But do capital markets channel resources to their more efficient use? Sometimes we have these bubbles and it appears rather wasteful. But depends on your standard. A huge amount of experts look at these companies and evaluate them based off of what appears at the time to be the case. \n",
    "\n",
    "-Consumption Timing\n",
    "\n",
    "-your earning will peak and then decline. investments are perfect way to meet your consumption needs later in life. \n",
    "\n",
    "-Allocation of Risk\n",
    "\n",
    "-When company buys real assets, it does not know whether this will return a profit. But financiers are willing to take that risk and furthermore, bonds and stocks exist for different risk profiles of investors. \n",
    "\n",
    "-This suitability for different risk personalities leads to the optimal price being found for securities. This facilitates the economy's building of real assets. \n",
    "\n",
    "-Separation of Ownership and Management\n",
    "\n"
   ]
  },
  {
   "cell_type": "markdown",
   "id": "b61b15ca",
   "metadata": {},
   "source": [
    "#### Corporate Governance\n",
    "\n",
    "Market signals efficiently allocate capital resources to their most productive use ONLY if they are acting on accurate information. We say that markets need to be transparent. "
   ]
  },
  {
   "cell_type": "markdown",
   "id": "05633b8e",
   "metadata": {},
   "source": [
    "### 1.4 The Investment Process"
   ]
  },
  {
   "cell_type": "markdown",
   "id": "374ee6a2",
   "metadata": {},
   "source": [
    "-The portfolio is simply the collection of investment assets. \n",
    "\n",
    "-These assets can be categorized into asset classes: stocks, bonds, real estate, commodities, etc.\n",
    "\n",
    "-In constructing a portfolio you decide on the **asset allocation** (choice of the asset classes) and the **security selection** (within each asset class, which securities to hold)\n",
    "\n",
    "-Top down starts with asset allocation\n",
    "\n",
    "-bottom up constructs with securities that seem attractively priced without care for asset allocation"
   ]
  },
  {
   "cell_type": "markdown",
   "id": "4f341532",
   "metadata": {},
   "source": [
    "### 1.5 Markets Are Competitive"
   ]
  },
  {
   "cell_type": "markdown",
   "id": "6282c711",
   "metadata": {},
   "source": [
    "-highly competitive markets means no free lunches! Implications:\n",
    "\n",
    "1.) The Risk-Return Trade-Off\n",
    "\n",
    "2.) Efficient Markets\n",
    "\n",
    "No free lunches means we should rarely find bargains. Markets process all available information about securities quickly and efficiently and this is reflected in the price. If it were true, there would neither be underprice nor overpriced securities. \n",
    "\n",
    "**Passive management** refers to diversified portfolios without attempting to improve performance through security analysis\n",
    "\n",
    "**Active managment** attempts to improve performance by identifying mispriced securities or by timing performance of broad asset classes\n",
    "\n",
    "If markets are efficient, it's probably better to do passive management. But if it were true, there would be no point in doing security analysis. "
   ]
  },
  {
   "cell_type": "markdown",
   "id": "9888a646",
   "metadata": {},
   "source": [
    "### 1.6 The Players"
   ]
  },
  {
   "cell_type": "markdown",
   "id": "b155beb4",
   "metadata": {},
   "source": [
    "1.) Firms are net demanders of capital\n",
    "\n",
    "2.) Households are net suppliers of capital\n",
    "\n",
    "3.) Governments can be borrowers or lenders. Our governement has operated on budget deficit since WWII\n",
    "\n",
    "\n",
    "-But corporations and governments do not sell their stock directly to individuals. Half of all stock is held by large financial institutions such as pension funds, mutual funds, insurance compoanies, and banks. They stand between the firm and the investor, therefore they are financial intermediaries. \n",
    "\n",
    "-Financial intermediaries bring the suppliers of capital together with the demanders of capital. Banks, investment companies, insurance companies, and credit unions. \n",
    "\n",
    "-Financial intermediaries issue their own securities to raise funds to purchase the securities of other corporations. \n",
    "\n",
    "-Banks raise funds by borrowing (taking deposits) and lending that money to borrows. The profit comes from the spread of interest rates paid to depositers and the rates charged to borrowers. \n",
    "\n",
    "-For intermediaries, both sides of their balance sheets are financial. Essentially, they're moving funds fromj one sector to another\n",
    "\n",
    "-The primary social function of commercial banks is to channel household savings to the business sector\n",
    "\n",
    "-Another intermediary is the **investment company** which simply pools investors money and creates a scaled, diversified portfolio which is exposed to many different sectors\n",
    "\n",
    "-Mutual funds offered to everyone, hedge funds for the rich kids. Hedge funds get a cut of the profit, while mutual funds charge a management fee. \n",
    "\n",
    "-investment bankers help corporations issue stocks and bonds. They charge a cost lower than that of maintaining an in-house securities division (underwriters) \n",
    "\n",
    "-investment banks and commercial banks used to be separate but after 2008, they were absorbed by the commercial banks or declared bankruptcy. \n",
    "\n",
    "-equity investment in small companies is venuture capital"
   ]
  },
  {
   "cell_type": "markdown",
   "id": "19115173",
   "metadata": {},
   "source": [
    "# Asset Classes and Financial Instruments"
   ]
  },
  {
   "cell_type": "code",
   "execution_count": null,
   "id": "d32c2479",
   "metadata": {},
   "outputs": [],
   "source": []
  }
 ],
 "metadata": {
  "kernelspec": {
   "display_name": "Python 3",
   "language": "python",
   "name": "python3"
  },
  "language_info": {
   "codemirror_mode": {
    "name": "ipython",
    "version": 3
   },
   "file_extension": ".py",
   "mimetype": "text/x-python",
   "name": "python",
   "nbconvert_exporter": "python",
   "pygments_lexer": "ipython3",
   "version": "3.7.6"
  }
 },
 "nbformat": 4,
 "nbformat_minor": 5
}
