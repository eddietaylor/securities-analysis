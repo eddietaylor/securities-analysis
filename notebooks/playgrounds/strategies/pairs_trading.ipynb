{
 "cells": [
  {
   "cell_type": "markdown",
   "id": "da822134",
   "metadata": {},
   "source": [
    "# Pairs Trading Example\n",
    "### Pairs trading essentially uses statistical arbitrage and mean reversion to bet on a pair of financial instruments reverting back to a correlated pattern. \n",
    "### If a pair is correlated and their spread widens enough, we can short the overpriced security and long the underpriced security. Then when the spread reverts back to the mean, we cash out. \n",
    "### To find similar pairs of stocks, use cointegration (for some reason more accurate than correlation in the long term)\n"
   ]
  },
  {
   "cell_type": "code",
   "execution_count": 1,
   "id": "a1663b95",
   "metadata": {},
   "outputs": [],
   "source": [
    "import yfinance as yf\n",
    "import numpy as np\n",
    "import pandas as pd\n",
    "import statsmodels\n",
    "import statsmodels.api as sm\n",
    "from statsmodels.tsa.stattools import coint, adfuller\n",
    "\n",
    "import datetime\n",
    "import matplotlib.pyplot as plt\n",
    "import seaborn as sns; sns.set(style=\"whitegrid\")\n",
    "\n",
    "pd.core.common.is_list_like = pd.api.types.is_list_like\n",
    "from pandas_datareader import data as pdr\n",
    "yf.pdr_override()"
   ]
  },
  {
   "cell_type": "code",
   "execution_count": null,
   "id": "b1e222c7",
   "metadata": {},
   "outputs": [],
   "source": [
    "# Get historical stock data from 2016-2020 for ETFs\n",
    "\n",
    "start = datetime.datetime(2016, 1, 1)\n",
    "end = datetime.datetime(2020, 1, 1)\n",
    "\n",
    "stockz=sorted([\"EEM\", \"SPY\", \"GDX\", \"XLF\", \"XOP\", \"AMLP\", \"FXI\", \"QQQ\", \"EWZ\", \"EFA\", \"USO\", \"HYG\", \"IAU\", \"IWM\", \"XLE\", \"XLU\", \"IEMG\", \"GDXJ\", \"SLV\", \"VWO\", \"XLP\", \"XLI\", \"OIH\", \"LQD\", \"XLK\", \"VEA\", \"TLT\", \"IEFA\", \"XLV\", \"EWJ\", \"GLD\", \"IYR\", \"BKLN\", \"EWH\", \"ASHR\", \"XLB\", \"RSX\", \"JNK\", \"KRE\", \"XBI\", \"AGG\", \"VNQ\", \"GOVT\", \"UNG\", \"IVV\", \"XLY\", \"EWT\", \"PFF\", \"XLRE\", \"MCHI\", \"INDA\", \"BND\", \"USMV\", \"EZU\", \"SMH\", \"XRT\", \"EWY\", \"IEF\", \"SPLV\", \"XLC\", \"IJR\", \"VIXY\", \"EWG\", \"EWW\", \"VTI\", \"VGK\", \"IBB\", \"PGX\", \"VOO\", \"EMB\", \"SCHF\", \"VEU\", \"SJNK\", \"EMLC\", \"XME\", \"DIA\", \"EWA\", \"VCSH\", \"JPST\", \"MLPA\", \"VCIT\", \"ITB\", \"ACWI\", \"KWEB\", \"EWC\", \"EWU\", \"BNDX\", \"SHY\", \"VT\", \"IWD\", \"VXUS\", \"MBB\", \"ACWX\", \"XHB\", \"BSV\", \"SHV\", \"FEZ\", \"IWF\", \"IGSB\", \"SPYV\", \"ITOT\", \"FPE\", \"FVD\", \"SHYG\", \"VYM\", \"BBJP\", \"DGRO\", \"KBE\", \"VTV\", \"SPAB\", \"SPIB\", \"IWR\", \"DBC\", \"BIL\", \"SPSB\", \"FLOT\", \"GLDM\", \"VIG\", \"XES\", \"SCHE\", \"TIP\", \"PDBC\", \"SPYG\", \"MINT\", \"SCZ\", \"SPDW\", \"PCY\", \"USHY\", \"IXUS\", \"NEAR\", \"EPI\", \"SPLG\", \"HYLB\", \"AAXJ\", \"SPEM\", \"VMBS\", \"BIV\", \"QUAL\", \"ILF\", \"EWP\"])\n",
    "\n",
    "df = pdr.get_data_yahoo(stockz, start, end)['Close']\n",
    "df.tail()"
   ]
  },
  {
   "cell_type": "code",
   "execution_count": null,
   "id": "a72d1525",
   "metadata": {},
   "outputs": [],
   "source": [
    "#Check for and remove null values\n",
    "for col in df.columns:\n",
    "    if df[col].isnull().any():\n",
    "        df.drop(col, axis = 1, inplace=True)\n",
    "\n",
    "# for col in df.columns:\n",
    "#     print(col, (df[col].isnull().sum()))\n",
    "\n",
    "print(len(df.columns))"
   ]
  },
  {
   "cell_type": "code",
   "execution_count": null,
   "id": "0bddeed9",
   "metadata": {},
   "outputs": [],
   "source": [
    "def find_cointegrated_pairs(data, threshold = 0.05):\n",
    "    n = data.shape[1]\n",
    "    score_matrix = np.zeros((n, n))\n",
    "    pvalue_matrix = np.ones((n, n))\n",
    "    keys = data.keys()\n",
    "    pairs = []\n",
    "    for i in range(n):\n",
    "        for j in range(i+1, n):\n",
    "            S1 = data[keys[i]]\n",
    "            S2 = data[keys[j]]\n",
    "            result = coint(S1, S2)\n",
    "            score = result[0]\n",
    "            pvalue = result[1]\n",
    "            score_matrix[i, j] = score\n",
    "            pvalue_matrix[i, j] = pvalue\n",
    "            if pvalue < threshold:\n",
    "                pairs.append((keys[i], keys[j], pvalue))\n",
    "    return score_matrix, pvalue_matrix, pairs"
   ]
  },
  {
   "cell_type": "code",
   "execution_count": null,
   "id": "ac98d870",
   "metadata": {},
   "outputs": [],
   "source": [
    "#scores, pvalues, pairs = find_cointegrated_pairs(df)\n",
    "\n",
    "#RUN HIDDEN CODE BELOW TO SAVE TIME"
   ]
  },
  {
   "cell_type": "code",
   "execution_count": null,
   "id": "c0fea9e6",
   "metadata": {},
   "outputs": [],
   "source": [
    "# import seaborn\n",
    "# fig, ax = plt.subplots(figsize=(100,100))\n",
    "# seaborn.heatmap(pvalues, xticklabels=stockz, yticklabels=stockz, cmap='RdYlGn_r' , mask = (pvalues >= 0.01))\n",
    "# fig = ax.get_figure()\n",
    "# #fig.savefig('heatmap.png')\n",
    "# print(len(pairs), pairs)"
   ]
  },
  {
   "cell_type": "code",
   "execution_count": null,
   "id": "61186b9d",
   "metadata": {},
   "outputs": [],
   "source": [
    "def total_pairs_under_threshold(threshold):\n",
    "    totalsum = 0\n",
    "    for i in range(len(pvalues)):\n",
    "        cursum = sum(pvalues[i] <= threshold)\n",
    "        totalsum += cursum\n",
    "        print(stockz[i], cursum)\n",
    "    return totalsum\n",
    "\n",
    "def pairs_under_threshold(pairs, threshold):\n",
    "    new_pairs = []\n",
    "    for pair in pairs:\n",
    "        if pair[2] <= threshold:\n",
    "            new_pairs.append(pair)\n",
    "    return new_pairs\n",
    "\n",
    "new_pairs = pairs_under_threshold(pairs, 0.01)\n",
    "new_pairs"
   ]
  },
  {
   "cell_type": "code",
   "execution_count": null,
   "id": "6e178b98",
   "metadata": {},
   "outputs": [],
   "source": [
    "def get_weights(pairs, max_allocation = .01):\n",
    "    weights = []\n",
    "    for p in pairs:\n",
    "        # print(p)\n",
    "        weights.append(1 / p[2])\n",
    "\n",
    "    weights = np.array(weights)\n",
    "    total = np.sum(weights)\n",
    "\n",
    "    normalized = weights / total\n",
    "\n",
    "    while any((normalized) > max_allocation):\n",
    "        #print(normalized.max())\n",
    "        normalized[normalized.argmax()] = max_allocation\n",
    "        normalized = normalized / sum(normalized)\n",
    "\n",
    "    scale_factor = 1 / normalized.min()\n",
    "    scaled = scale_factor * normalized\n",
    "    return scaled\n",
    "\n",
    "get_weights(pairs)"
   ]
  },
  {
   "cell_type": "code",
   "execution_count": null,
   "id": "7eda6e4e",
   "metadata": {},
   "outputs": [],
   "source": [
    "# Calculating Spread\n",
    "\n",
    "def spread_difference(s1, s2):\n",
    "    S1 = df[s1]\n",
    "    S2 = df[s2]\n",
    "\n",
    "    S1 = sm.add_constant(S1)\n",
    "    results = sm.OLS(S2, S1).fit()\n",
    "    S1 = S1[s1]\n",
    "    b = results.params[s1]\n",
    "\n",
    "    spread = S2 - b * S1\n",
    "    spread.plot(figsize=(12,6))\n",
    "    plt.axhline(spread.mean(), color='black')\n",
    "    plt.xlim('2016-01-01', '2020-01-01')\n",
    "    plt.legend(['Spread']);\n",
    "\n",
    "spread_difference('XLRE', 'XLU')"
   ]
  },
  {
   "cell_type": "code",
   "execution_count": null,
   "id": "64dc722f",
   "metadata": {},
   "outputs": [],
   "source": [
    "# Calculating Spread Ratio\n",
    "\n",
    "def spread_ratio(s1, s2):\n",
    "    S1 = df[s1]\n",
    "    S2 = df[s2]\n",
    "    ratio = S1/S2\n",
    "    ratio.plot(figsize=(12,6))\n",
    "    plt.axhline(ratio.mean(), color='black')\n",
    "    plt.xlim('2016-01-01', '2020-01-01')\n",
    "    plt.legend(['Price Ratio']);\n",
    "    return ratio\n",
    "\n",
    "ratio = spread_ratio('XLRE', 'XLU')\n",
    "ratio"
   ]
  },
  {
   "cell_type": "code",
   "execution_count": null,
   "id": "7f3687ba",
   "metadata": {},
   "outputs": [],
   "source": [
    "# Calculate z score\n",
    "def zscore(series):\n",
    "    return (series - series.mean()) / np.std(series)\n",
    "\n",
    "\n",
    "zscore(ratio).plot(figsize=(12,6))\n",
    "plt.axhline(zscore(ratio).mean())\n",
    "plt.axhline(1.0, color='red')\n",
    "plt.axhline(-1.0, color='green')\n",
    "plt.xlim('2016-01-01', '2020-01-01')\n",
    "plt.show()"
   ]
  },
  {
   "cell_type": "markdown",
   "id": "b2c8e31b",
   "metadata": {},
   "source": [
    "### Modeling"
   ]
  },
  {
   "cell_type": "code",
   "execution_count": null,
   "id": "2491d682",
   "metadata": {},
   "outputs": [],
   "source": [
    "# Create train and test data\n",
    "\n",
    "ratios = df['XLRE'] / df['XLU'] \n",
    "train_test_index = int(len(ratios) * .70)\n",
    "train = ratios[:train_test_index]\n",
    "test = ratios[train_test_index:]"
   ]
  },
  {
   "cell_type": "code",
   "execution_count": null,
   "id": "2462ca1e",
   "metadata": {},
   "outputs": [],
   "source": [
    "# Visualizing ratio and moving average parameters\n",
    "\n",
    "ratios_mavg5 = train.rolling(window=5, center=False).mean()\n",
    "ratios_mavg60 = train.rolling(window=60, center=False).mean()\n",
    "std_60 = train.rolling(window=60, center=False).std()\n",
    "zscore_60_5 = (ratios_mavg5 - ratios_mavg60)/std_60\n",
    "plt.figure(figsize=(12, 6))\n",
    "plt.plot(train.index, train.values)\n",
    "plt.plot(ratios_mavg5.index, ratios_mavg5.values)\n",
    "plt.plot(ratios_mavg60.index, ratios_mavg60.values)\n",
    "plt.legend(['Ratio', '5d Ratio MA', '60d Ratio MA'])\n",
    "\n",
    "plt.ylabel('Ratio')\n",
    "plt.show()"
   ]
  },
  {
   "cell_type": "code",
   "execution_count": null,
   "id": "d0c54ff5",
   "metadata": {},
   "outputs": [],
   "source": [
    "# Visualizing z score in comparison to mean: we can see that with a z-score over 1 it tends to revert back to the mean of 0, and same for a z-score under -1\n",
    "plt.figure(figsize=(12,6))\n",
    "zscore_60_5.plot()\n",
    "plt.xlim('2016-03-25', '2018-07-01')\n",
    "plt.axhline(0, color='black')\n",
    "plt.axhline(1.0, color='red', linestyle='--')\n",
    "plt.axhline(-1.0, color='green', linestyle='--')\n",
    "plt.legend(['Rolling Ratio z-Score', 'Mean', '+1', '-1'])\n",
    "plt.show()"
   ]
  },
  {
   "cell_type": "code",
   "execution_count": null,
   "id": "b168198d",
   "metadata": {},
   "outputs": [],
   "source": [
    "# Visualizing buy/sell signals in terms of spread ratio\n",
    "\n",
    "plt.figure(figsize=(12,6))\n",
    "\n",
    "train[160:].plot()\n",
    "buy = train.copy()\n",
    "sell = train.copy()\n",
    "buy[zscore_60_5>-1] = 0\n",
    "sell[zscore_60_5<1] = 0\n",
    "buy[160:].plot(color='g', linestyle='None', marker='^')\n",
    "sell[160:].plot(color='r', linestyle='None', marker='^')\n",
    "x1, x2, y1, y2 = plt.axis()\n",
    "plt.axis((x1, x2, ratios.min(), ratios.max()))\n",
    "plt.xlim('2016-08-15','2018-07-07')\n",
    "plt.legend(['Ratio', 'Buy Signal', 'Sell Signal'])\n",
    "plt.show()"
   ]
  },
  {
   "cell_type": "code",
   "execution_count": null,
   "id": "09c2553a",
   "metadata": {},
   "outputs": [],
   "source": [
    "# Visualizing buy/sell signals in terms of security prices\n",
    "\n",
    "plt.figure(figsize=(12,7))\n",
    "S1 = df['XLRE'].iloc[:train_test_index]\n",
    "S2 = df['XLU'].iloc[:train_test_index]\n",
    "\n",
    "S1[60:].plot(color='b')\n",
    "S2[60:].plot(color='c')\n",
    "buyR = 0*S1.copy()\n",
    "sellR = 0*S1.copy()\n",
    "\n",
    "# When you buy the ratio, you buy stock S1 and sell S2\n",
    "buyR[buy!=0] = S1[buy!=0]\n",
    "sellR[buy!=0] = S2[buy!=0]\n",
    "\n",
    "# When you sell the ratio, you sell stock S1 and buy S2\n",
    "buyR[sell!=0] = S2[sell!=0]\n",
    "sellR[sell!=0] = S1[sell!=0]\n",
    "\n",
    "buyR[60:].plot(color='g', linestyle='None', marker='^')\n",
    "sellR[60:].plot(color='r', linestyle='None', marker='^')\n",
    "x1, x2, y1, y2 = plt.axis()\n",
    "plt.axis((x1, x2, min(S1.min(), S2.min()), max(S1.max(), S2.max())))\n",
    "plt.ylim(25, 60)\n",
    "plt.xlim('2016-03-22', '2018-07-04')\n",
    "\n",
    "plt.legend(['XLRE', 'XLU', 'Buy Signal', 'Sell Signal'])\n",
    "plt.show()"
   ]
  },
  {
   "cell_type": "code",
   "execution_count": null,
   "id": "b22f3c65",
   "metadata": {},
   "outputs": [],
   "source": [
    "# Trade with moving average strategy\n",
    "def single_trade(s1, s2, window1, window2, w = 1, use_ratio = False):\n",
    "    \n",
    "    # If window length is 0, algorithm doesn't make sense, so exit\n",
    "    if (window1 == 0) or (window2 == 0):\n",
    "        return 0\n",
    "    \n",
    "    S1 = df[s1].iloc[train_test_index:]\n",
    "    S2 = df[s2].iloc[train_test_index:]\n",
    "    # Compute rolling mean and rolling standard deviation\n",
    "    ratios = S1/S2\n",
    "    ma1 = ratios.rolling(window=window1,\n",
    "                               center=False).mean()\n",
    "    ma2 = ratios.rolling(window=window2,\n",
    "                               center=False).mean()\n",
    "    std = ratios.rolling(window=window2,\n",
    "                        center=False).std()\n",
    "    zscore = (ma1 - ma2)/std\n",
    "    \n",
    "    # Simulate trading\n",
    "    # Start with no money and no positions\n",
    "    money = 0\n",
    "    countS1 = 0\n",
    "    countS2 = 0\n",
    "    for i in range(len(ratios)):\n",
    "        # Sell short if the z-score is > 1\n",
    "        if zscore[i] < -1:\n",
    "            if use_ratio:\n",
    "                countS1 -= 1 * ratios[i] * w\n",
    "                money += (S1[i] - S2[i]) * w * ratios[i]\n",
    "            else:\n",
    "                money += (S1[i] - S2[i]  * ratios[i]) * w\n",
    "                countS1 -= 1 * w\n",
    "            \n",
    "            countS2 += 1 * ratios[i] * w\n",
    "            #print('Selling Ratio %s %s %s %s'%(money, ratios[i], countS1,countS2))\n",
    "        # Buy long if the z-score is < -1\n",
    "        elif zscore[i] > 1:\n",
    "            if use_ratio:\n",
    "                money -= (S1[i] - S2[i]) * w * ratios[i]\n",
    "                countS1 += 1 * ratios[i] * w\n",
    "            else:\n",
    "                money -= (S1[i] - S2[i] * ratios[i]) * w \n",
    "                countS1 += 1 * w\n",
    "            \n",
    "            countS2 -= 1 * ratios[i] * w\n",
    "\n",
    "        # Clear positions if the z-score between -.5 and .5\n",
    "        elif abs(zscore[i]) < 0.75:\n",
    "            money += S1[i] * countS1 + S2[i] * countS2\n",
    "            countS1 = 0\n",
    "            countS2 = 0\n",
    "            #print('Exit pos %s %s %s %s'%(money,ratios[i], countS1,countS2))\n",
    "            \n",
    "            \n",
    "    return money"
   ]
  },
  {
   "cell_type": "code",
   "execution_count": null,
   "id": "e40bc9e0",
   "metadata": {},
   "outputs": [],
   "source": [
    "# Trades all pairs of ETFs\n",
    "def multiple_trades(pairs, window1, window2, weights, use_ratio = False, use_weight = False):\n",
    "    total_money = 0\n",
    "    negative_returns = 0\n",
    "    for i in range(len(pairs)):\n",
    "        pair = pairs[i]\n",
    "        if use_weight:\n",
    "            cur_weight = weights[i]\n",
    "        else:\n",
    "            cur_weight = 1\n",
    "        S1 = pair[0]\n",
    "        S2 = pair[1]\n",
    "        pair_money = single_trade(S1, S2, window1, window2, cur_weight, use_ratio)\n",
    "        total_money += pair_money\n",
    "        if pair_money < 0:\n",
    "            negative_returns += 1\n",
    "    \n",
    "    #print(\"Fraction of pairs with negative returns: \" + str(negative_returns) + \"/\" + str(len(pairs)))\n",
    "\n",
    "    if use_weight:\n",
    "        scale = sum(weights) / len(weights)\n",
    "    else:\n",
    "        scale = 1\n",
    "    #print(\"Scale: \", scale)\n",
    "    #print(\"Ratio for S1 Used: \", use_ratio)\n",
    "    avg_money = (total_money / (len(pairs) * scale))\n",
    "\n",
    "    #print(\"Average money made per pair scaled per unit : \" + str(avg_money))\n",
    "    return avg_money, negative_returns, len(pairs), scale"
   ]
  },
  {
   "cell_type": "markdown",
   "id": "178a7a2c",
   "metadata": {},
   "source": [
    "### Results"
   ]
  },
  {
   "cell_type": "code",
   "execution_count": null,
   "id": "f12187c0",
   "metadata": {},
   "outputs": [],
   "source": [
    "single_trade('XLRE', 'XLU', 60, 5, 1)"
   ]
  },
  {
   "cell_type": "code",
   "execution_count": null,
   "id": "9059e592",
   "metadata": {},
   "outputs": [],
   "source": [
    "# Pairs with p value < 0.05\n",
    "\n",
    "\n",
    "multiple_trades(pairs, 60, 5, get_weights(pairs, .01), use_ratio=True, use_weight=False)"
   ]
  },
  {
   "cell_type": "code",
   "execution_count": null,
   "id": "bad1cc52",
   "metadata": {},
   "outputs": [],
   "source": [
    "# Pairs with p value < 0.01\n",
    "pairs_1 = pairs_under_threshold(pairs, 0.01)\n",
    "\n",
    "multiple_trades(pairs_1, 60, 5, get_weights(pairs_1, .01), use_ratio=True, use_weight=True)"
   ]
  },
  {
   "cell_type": "markdown",
   "id": "1e70bb86",
   "metadata": {},
   "source": [
    "### Optimization"
   ]
  },
  {
   "cell_type": "code",
   "execution_count": null,
   "id": "13d996b9",
   "metadata": {},
   "outputs": [],
   "source": [
    "window_1_vals = [30, 60, 90]\n",
    "window_2_vals = [3, 5, 10]\n",
    "allocations = [.01, .05, .1]\n",
    "p_vals = [.05, .01, .005]\n",
    "use_r = [True, False]\n",
    "use_w = [True, False]"
   ]
  },
  {
   "cell_type": "code",
   "execution_count": null,
   "id": "eff147c9",
   "metadata": {},
   "outputs": [],
   "source": [
    "parameters = []\n",
    "results = []\n",
    "count = 1\n",
    "for w1 in window_1_vals:\n",
    "    for w2 in window_2_vals:\n",
    "        for a in allocations:\n",
    "            for p in p_vals:\n",
    "                cur_pairs = pairs_under_threshold(pairs, p)\n",
    "                if (p == .005):\n",
    "                    a = max(a, .025)\n",
    "                cur_w = get_weights(cur_pairs, a)\n",
    "                for r in use_r:\n",
    "                    for w in use_w:\n",
    "                        parameters.append((w1, w2, a, p, r, w))\n",
    "                        results.append(multiple_trades(cur_pairs, w1, w2, cur_w, use_ratio=r, use_weight=w))\n",
    "                        print(count, (w1, w2, a, p, r, w))\n",
    "                        count += 1"
   ]
  },
  {
   "cell_type": "code",
   "execution_count": null,
   "id": "c23a2739",
   "metadata": {},
   "outputs": [],
   "source": [
    "def get_results(p, pretty_print = False):\n",
    "    if p in parameters:\n",
    "        i = parameters.index(p)\n",
    "        cur_result = results[i]\n",
    " \n",
    "    else:\n",
    "        cur_pairs = pairs_under_threshold(pairs, p[3])\n",
    "        cur_w = get_weights(cur_pairs, p[2])\n",
    "        cur_result = multiple_trades(cur_pairs, p[0], p[1], cur_w, use_ratio=p[4], use_weight=p[5])\n",
    "    \n",
    "    if pretty_print:\n",
    "        print(\"Window 1 Length: \", p[0])\n",
    "        print(\"Window 2 Length: \", p[1])\n",
    "        print(\"Max Weightage to Pair: \", p[2])\n",
    "        print(\"P-Value Threshold for Pair: \", p[3])\n",
    "        print(\"Use Ratios to Scale Stock 1: \", p[4])\n",
    "        print(\"Use Weights to Scale Stocks: \", p[5])\n",
    "        print()\n",
    "        print(\"Average money made per pair scaled per unit: \", cur_result[0])\n",
    "        print(\"Fraction of pairs with negative returns: \", str(cur_result[1]), \"/\", str(cur_result[2]))\n",
    "        print(\"Scale Factor: \", cur_result[3])\n",
    "\n",
    "    return cur_result[0], cur_result[1] / cur_result[2]"
   ]
  },
  {
   "cell_type": "code",
   "execution_count": null,
   "id": "c18751b0",
   "metadata": {},
   "outputs": [],
   "source": [
    "get_results((60, 5, .01, .01, False, True), pretty_print=True)"
   ]
  },
  {
   "cell_type": "code",
   "execution_count": null,
   "id": "452bf03a",
   "metadata": {},
   "outputs": [],
   "source": [
    "optimized = sorted(parameters, key = lambda p: get_results(p)[0], reverse=True)\n",
    "safest = sorted(parameters, key = lambda p: get_results(p)[1])\n",
    "\n",
    "optimized"
   ]
  },
  {
   "cell_type": "code",
   "execution_count": null,
   "id": "a52c6d2f",
   "metadata": {},
   "outputs": [],
   "source": [
    "#Best Overall\n",
    "get_results(optimized[0], pretty_print=True)"
   ]
  },
  {
   "cell_type": "code",
   "execution_count": null,
   "id": "3d829527",
   "metadata": {},
   "outputs": [],
   "source": [
    "#Best Using Weights\n",
    "get_results((60, 3, 0.01, 0.01, True, True), pretty_print=True)"
   ]
  },
  {
   "cell_type": "code",
   "execution_count": null,
   "id": "f281231d",
   "metadata": {},
   "outputs": [],
   "source": [
    "#Most Consistent\n",
    "get_results((60, 3, 0.01, 0.01, False, False), pretty_print=True)"
   ]
  }
 ],
 "metadata": {
  "kernelspec": {
   "display_name": "Python 3 (ipykernel)",
   "language": "python",
   "name": "python3"
  },
  "language_info": {
   "codemirror_mode": {
    "name": "ipython",
    "version": 3
   },
   "file_extension": ".py",
   "mimetype": "text/x-python",
   "name": "python",
   "nbconvert_exporter": "python",
   "pygments_lexer": "ipython3",
   "version": "3.9.5"
  }
 },
 "nbformat": 4,
 "nbformat_minor": 5
}
