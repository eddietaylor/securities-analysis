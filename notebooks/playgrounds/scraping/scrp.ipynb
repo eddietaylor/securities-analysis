{
 "cells": [
  {
   "cell_type": "code",
   "execution_count": null,
   "id": "421dbb76",
   "metadata": {},
   "outputs": [],
   "source": [
    "# command+Alt+I or ctrl+shift+I\n",
    "# pip install requests\n",
    "# pip install beautifulsoup4\n",
    "# pip install html5lib\n",
    "# pip install -U selenium\n",
    "#ctrl+shift+ -  : split cell\n",
    "\n",
    "# https://www.bmwusa.com/vehicles/3-series/sedan/overview.html\n",
    "# User-agent: *\n",
    "# Disallow: /api\n",
    "# Disallow: /search-results.html\n",
    "# Disallow: /errors/\n",
    "# Disallow: /errors.html\n",
    "# Disallow: /cms.html\n",
    "# Sitemap: https://www.bmwusa.com/sitemap.xml"
   ]
  },
  {
   "cell_type": "code",
   "execution_count": null,
   "id": "4c1b4a8a",
   "metadata": {},
   "outputs": [],
   "source": [
    "import requests\n",
    "#from selenium import webdriver   #dynamic\n",
    "from bs4 import BeautifulSoup\n",
    "import pandas as pd\n",
    "import re\n",
    "from datetime import datetime"
   ]
  },
  {
   "cell_type": "code",
   "execution_count": null,
   "id": "59e82902",
   "metadata": {},
   "outputs": [],
   "source": [
    "URL = \"https://www.bmwusa.com/vehicles/3-series/sedan/overview.html/\"\n",
    "page = requests.get(URL)\n",
    "print(page.text)"
   ]
  },
  {
   "cell_type": "code",
   "execution_count": null,
   "id": "eea8a5dc",
   "metadata": {},
   "outputs": [],
   "source": [
    "soup = BeautifulSoup(page.content, \"html.parser\")"
   ]
  },
  {
   "cell_type": "code",
   "execution_count": null,
   "id": "53b8a73c",
   "metadata": {},
   "outputs": [],
   "source": [
    "# <div id=\"ResultsContainer\">\n",
    "#   <!-- all the job listings -->\n",
    "# </div>\n",
    "#results = soup.find(id=\"price-label label-2\")\n",
    "\n",
    "# results = soup.find(class_=\"price-value label-2\")\n",
    "# print(results.prettify())"
   ]
  },
  {
   "cell_type": "code",
   "execution_count": null,
   "id": "2ffe8a62",
   "metadata": {},
   "outputs": [],
   "source": [
    "job_elements = soup.find_all(class_=\"price-value label-2\")\n",
    "job_elements\n",
    "\n",
    "# python_jobs = results.find_all(\"h2\", string=lambda text: \"python\" in text.lower())\n",
    "# python_job_elements = [h2_element.parent.parent.parent for h2_element in python_jobs]"
   ]
  },
  {
   "cell_type": "code",
   "execution_count": null,
   "id": "1ce3ddbf",
   "metadata": {},
   "outputs": [],
   "source": [
    "job_elements[0].find()"
   ]
  },
  {
   "cell_type": "code",
   "execution_count": null,
   "id": "9708f253",
   "metadata": {},
   "outputs": [],
   "source": [
    "prices=[]\n",
    "for job_element in job_elements:\n",
    "    price_element = str(job_element)\n",
    "    #print(price_element)\n",
    "    regex = re.compile('\\$..,...')\n",
    "    match=re.findall(regex, price_element)\n",
    "    print(match)\n",
    "    # prices.append(match)\n",
    "    prices.extend(match)\n",
    "    # company_element = job_element.find(\"h3\", class_=\"company\")\n",
    "    # location_element = job_element.find(\"p\", class_=\"location\")\n",
    "    # print(price_element.text.strip())\n",
    "prices_list=list(set(prices))\n",
    "prices_list"
   ]
  },
  {
   "cell_type": "code",
   "execution_count": null,
   "id": "22ee0016",
   "metadata": {},
   "outputs": [],
   "source": [
    "# or selenium\n",
    "# driver = webdriver.Chrome(\"/usr/lib/chromium-browser/chromedriver\") # webdriver.Safari()\n",
    "# driver.get(\"url\")"
   ]
  },
  {
   "cell_type": "code",
   "execution_count": null,
   "id": "555cfb49",
   "metadata": {},
   "outputs": [],
   "source": [
    "d={'date': [datetime.now()], 'price_series3_new_USD': [int(min(prices_list)[1:].replace(',', ''))]}\n",
    "df=pd.DataFrame(d)\n",
    "df"
   ]
  },
  {
   "cell_type": "code",
   "execution_count": null,
   "id": "43e25532",
   "metadata": {},
   "outputs": [],
   "source": [
    "df.to_csv('series3_prices.csv', mode='a', index=False, header=False)"
   ]
  }
 ],
 "metadata": {
  "kernelspec": {
   "display_name": "Python 3",
   "language": "python",
   "name": "python3"
  },
  "language_info": {
   "codemirror_mode": {
    "name": "ipython",
    "version": 3
   },
   "file_extension": ".py",
   "mimetype": "text/x-python",
   "name": "python",
   "nbconvert_exporter": "python",
   "pygments_lexer": "ipython3",
   "version": "3.8.5"
  }
 },
 "nbformat": 4,
 "nbformat_minor": 5
}
