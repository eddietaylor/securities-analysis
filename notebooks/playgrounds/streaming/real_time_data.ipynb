{
 "cells": [
  {
   "cell_type": "markdown",
   "metadata": {},
   "source": [
    "### Socket Programming\n",
    "\n",
    "#### Using publisher-subscriber model, now we subscribe to the streaming host"
   ]
  },
  {
   "cell_type": "code",
   "execution_count": 1,
   "metadata": {},
   "outputs": [],
   "source": [
    "import zmq"
   ]
  },
  {
   "cell_type": "code",
   "execution_count": 4,
   "metadata": {},
   "outputs": [
    {
     "name": "stdout",
     "output_type": "stream",
     "text": [
      "ET, 100.118167683268\n",
      "ET, 100.10628068351024\n",
      "ET, 100.13260250654638\n",
      "ET, 100.12764077393328\n",
      "ET, 100.12287085777137\n",
      "ET, 100.11828840579265\n",
      "ET, 100.08648000997486\n",
      "ET, 100.1201419588361\n",
      "ET, 100.14360870916369\n",
      "ET, 100.14960789445416\n",
      "ET, 100.14892506401397\n",
      "ET, 100.15705356244342\n",
      "ET, 100.17200603414868\n",
      "ET, 100.17592299104024\n",
      "ET, 100.1450265746203\n",
      "ET, 100.15889871992971\n",
      "ET, 100.17967465264195\n",
      "ET, 100.18094307939371\n",
      "ET, 100.1771993383345\n",
      "ET, 100.17691107397647\n",
      "ET, 100.16588977847164\n",
      "ET, 100.18152175709986\n",
      "ET, 100.1718866877668\n",
      "ET, 100.17390174234406\n",
      "ET, 100.19007027783258\n",
      "ET, 100.19549584678013\n",
      "ET, 100.19432373298376\n",
      "ET, 100.19089725348874\n"
     ]
    },
    {
     "ename": "KeyboardInterrupt",
     "evalue": "",
     "output_type": "error",
     "traceback": [
      "\u001b[0;31m---------------------------------------------------------------------------\u001b[0m",
      "\u001b[0;31mKeyboardInterrupt\u001b[0m                         Traceback (most recent call last)",
      "\u001b[1;32m/home/eddie/Documents/projects/securities-analysis/notebooks/playgrounds/streaming/real_time_data.ipynb Cell 3'\u001b[0m in \u001b[0;36m<module>\u001b[0;34m\u001b[0m\n\u001b[1;32m      <a href='vscode-notebook-cell:/home/eddie/Documents/projects/securities-analysis/notebooks/playgrounds/streaming/real_time_data.ipynb#ch0000005?line=3'>4</a>\u001b[0m socket\u001b[39m.\u001b[39msetsockopt_string(zmq\u001b[39m.\u001b[39mSUBSCRIBE, \u001b[39m'\u001b[39m\u001b[39mET\u001b[39m\u001b[39m'\u001b[39m)\n\u001b[1;32m      <a href='vscode-notebook-cell:/home/eddie/Documents/projects/securities-analysis/notebooks/playgrounds/streaming/real_time_data.ipynb#ch0000005?line=5'>6</a>\u001b[0m \u001b[39mwhile\u001b[39;00m \u001b[39mTrue\u001b[39;00m:\n\u001b[0;32m----> <a href='vscode-notebook-cell:/home/eddie/Documents/projects/securities-analysis/notebooks/playgrounds/streaming/real_time_data.ipynb#ch0000005?line=6'>7</a>\u001b[0m     data \u001b[39m=\u001b[39m socket\u001b[39m.\u001b[39;49mrecv_string()\n\u001b[1;32m      <a href='vscode-notebook-cell:/home/eddie/Documents/projects/securities-analysis/notebooks/playgrounds/streaming/real_time_data.ipynb#ch0000005?line=7'>8</a>\u001b[0m     \u001b[39mprint\u001b[39m(data)\n",
      "File \u001b[0;32m~/miniconda3/envs/securities-analysis/lib/python3.10/site-packages/zmq/sugar/socket.py:742\u001b[0m, in \u001b[0;36mSocket.recv_string\u001b[0;34m(self, flags, encoding)\u001b[0m\n\u001b[1;32m    <a href='file:///~/miniconda3/envs/securities-analysis/lib/python3.10/site-packages/zmq/sugar/socket.py?line=721'>722</a>\u001b[0m \u001b[39mdef\u001b[39;00m \u001b[39mrecv_string\u001b[39m(\u001b[39mself\u001b[39m, flags\u001b[39m=\u001b[39m\u001b[39m0\u001b[39m, encoding\u001b[39m=\u001b[39m\u001b[39m'\u001b[39m\u001b[39mutf-8\u001b[39m\u001b[39m'\u001b[39m):\n\u001b[1;32m    <a href='file:///~/miniconda3/envs/securities-analysis/lib/python3.10/site-packages/zmq/sugar/socket.py?line=722'>723</a>\u001b[0m     \u001b[39m\"\"\"Receive a unicode string, as sent by send_string.\u001b[39;00m\n\u001b[1;32m    <a href='file:///~/miniconda3/envs/securities-analysis/lib/python3.10/site-packages/zmq/sugar/socket.py?line=723'>724</a>\u001b[0m \n\u001b[1;32m    <a href='file:///~/miniconda3/envs/securities-analysis/lib/python3.10/site-packages/zmq/sugar/socket.py?line=724'>725</a>\u001b[0m \u001b[39m    Parameters\u001b[39;00m\n\u001b[0;32m   (...)\u001b[0m\n\u001b[1;32m    <a href='file:///~/miniconda3/envs/securities-analysis/lib/python3.10/site-packages/zmq/sugar/socket.py?line=739'>740</a>\u001b[0m \u001b[39m        for any of the reasons :func:`~Socket.recv` might fail\u001b[39;00m\n\u001b[1;32m    <a href='file:///~/miniconda3/envs/securities-analysis/lib/python3.10/site-packages/zmq/sugar/socket.py?line=740'>741</a>\u001b[0m \u001b[39m    \"\"\"\u001b[39;00m\n\u001b[0;32m--> <a href='file:///~/miniconda3/envs/securities-analysis/lib/python3.10/site-packages/zmq/sugar/socket.py?line=741'>742</a>\u001b[0m     msg \u001b[39m=\u001b[39m \u001b[39mself\u001b[39;49m\u001b[39m.\u001b[39;49mrecv(flags\u001b[39m=\u001b[39;49mflags)\n\u001b[1;32m    <a href='file:///~/miniconda3/envs/securities-analysis/lib/python3.10/site-packages/zmq/sugar/socket.py?line=742'>743</a>\u001b[0m     \u001b[39mreturn\u001b[39;00m \u001b[39mself\u001b[39m\u001b[39m.\u001b[39m_deserialize(msg, \u001b[39mlambda\u001b[39;00m buf: buf\u001b[39m.\u001b[39mdecode(encoding))\n",
      "File \u001b[0;32mzmq/backend/cython/socket.pyx:781\u001b[0m, in \u001b[0;36mzmq.backend.cython.socket.Socket.recv\u001b[0;34m()\u001b[0m\n",
      "File \u001b[0;32mzmq/backend/cython/socket.pyx:817\u001b[0m, in \u001b[0;36mzmq.backend.cython.socket.Socket.recv\u001b[0;34m()\u001b[0m\n",
      "File \u001b[0;32mzmq/backend/cython/socket.pyx:186\u001b[0m, in \u001b[0;36mzmq.backend.cython.socket._recv_copy\u001b[0;34m()\u001b[0m\n",
      "File \u001b[0;32m~/miniconda3/envs/securities-analysis/lib/python3.10/site-packages/zmq/backend/cython/checkrc.pxd:13\u001b[0m, in \u001b[0;36mzmq.backend.cython.checkrc._check_rc\u001b[0;34m()\u001b[0m\n",
      "\u001b[0;31mKeyboardInterrupt\u001b[0m: "
     ]
    }
   ],
   "source": [
    "context = zmq.Context()\n",
    "socket = context.socket(zmq.SUB)\n",
    "socket.connect('tcp://0.0.0.0:5555')\n",
    "socket.setsockopt_string(zmq.SUBSCRIBE, 'ET')\n",
    "\n",
    "while True:\n",
    "    data = socket.recv_string()\n",
    "    print(data)"
   ]
  },
  {
   "cell_type": "code",
   "execution_count": null,
   "metadata": {},
   "outputs": [],
   "source": []
  }
 ],
 "metadata": {
  "interpreter": {
   "hash": "77d16b1fda1ebc0b4999fc08ffa72563791679db6f7be71491360f2e93bdef64"
  },
  "kernelspec": {
   "display_name": "Python 3.10.2 ('securities-analysis')",
   "language": "python",
   "name": "python3"
  },
  "language_info": {
   "codemirror_mode": {
    "name": "ipython",
    "version": 3
   },
   "file_extension": ".py",
   "mimetype": "text/x-python",
   "name": "python",
   "nbconvert_exporter": "python",
   "pygments_lexer": "ipython3",
   "version": "3.10.2"
  },
  "orig_nbformat": 4
 },
 "nbformat": 4,
 "nbformat_minor": 2
}
